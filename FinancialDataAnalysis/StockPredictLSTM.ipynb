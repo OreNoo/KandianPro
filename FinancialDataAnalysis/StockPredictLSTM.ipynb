{
 "cells": [
  {
   "cell_type": "markdown",
   "id": "f53e43a8",
   "metadata": {},
   "source": [
    "## 0. 实验介绍\n",
    "\n",
    "基于**LSTM**模型预测未来一个交易日的涨跌。"
   ]
  },
  {
   "cell_type": "markdown",
   "id": "fd0ebf25",
   "metadata": {},
   "source": [
    "## 1. 数据预处理\n",
    "### 1.1 根据股票代码划分数据\n",
    "* 训练集"
   ]
  },
  {
   "cell_type": "code",
   "execution_count": 1,
   "id": "a2a48415",
   "metadata": {},
   "outputs": [],
   "source": [
    "cols = [0,1,2,3,4,5,12]"
   ]
  },
  {
   "cell_type": "code",
   "execution_count": 2,
   "id": "cb20b758",
   "metadata": {},
   "outputs": [
    {
     "name": "stdout",
     "output_type": "stream",
     "text": [
      "['000001.SZ' '000157.SZ' '000333.SZ' '000568.SZ' '000703.SZ' '000768.SZ'\n",
      " '002024.SZ' '002044.SZ' '002049.SZ' '002120.SZ' '002230.SZ' '002271.SZ'\n",
      " '002311.SZ' '002371.SZ' '002456.SZ' '002602.SZ' '002607.SZ' '002714.SZ'\n",
      " '002773.SZ' '300003.SZ' '300033.SZ' '300124.SZ' '300144.SZ' '300628.SZ'\n",
      " '600000.SH' '600009.SH' '600016.SH' '600019.SH' '600025.SH' '600028.SH'\n",
      " '600030.SH' '600031.SH' '600036.SH' '600048.SH' '600050.SH' '600061.SH'\n",
      " '600104.SH' '600115.SH' '600196.SH' '600276.SH' '600309.SH' '600340.SH'\n",
      " '600383.SH' '600489.SH' '600519.SH' '600547.SH' '600570.SH' '600585.SH'\n",
      " '600588.SH' '600690.SH' '600703.SH' '600745.SH' '600809.SH' '600837.SH'\n",
      " '600848.SH' '600886.SH' '600887.SH' '600926.SH' '600958.SH' '601006.SH'\n",
      " '601088.SH' '601166.SH' '601169.SH' '601238.SH' '601318.SH' '601319.SH'\n",
      " '601336.SH' '601398.SH' '601555.SH' '601601.SH' '601628.SH' '601788.SH'\n",
      " '601838.SH' '601857.SH' '601872.SH' '601899.SH' '601919.SH' '601990.SH'\n",
      " '601998.SH' '603233.SH' '603799.SH' '603833.SH']\n"
     ]
    },
    {
     "data": {
      "text/plain": [
       "82"
      ]
     },
     "execution_count": 2,
     "metadata": {},
     "output_type": "execute_result"
    }
   ],
   "source": [
    "import pandas as pd\n",
    "\n",
    "df = pd.read_csv(\"./data/train.csv\", usecols=cols)\n",
    "stocks_code = df[\"kdcode\"].unique()\n",
    "stock_num = len(stocks_code)\n",
    "\n",
    "print(stocks_code)\n",
    "stock_num"
   ]
  },
  {
   "cell_type": "code",
   "execution_count": 3,
   "id": "fe1e6c6d",
   "metadata": {},
   "outputs": [],
   "source": [
    "# 根据股票代码划分数据\n",
    "for i, stock_i in enumerate(stocks_code):\n",
    "    stock_i_data = df[df['kdcode'].isin([stock_i])]\n",
    "    exec(\"train_df%s = stock_i_data\"%i)"
   ]
  },
  {
   "cell_type": "markdown",
   "id": "7bb933eb",
   "metadata": {},
   "source": [
    "* 测试集"
   ]
  },
  {
   "cell_type": "code",
   "execution_count": 4,
   "id": "c37ec969",
   "metadata": {},
   "outputs": [],
   "source": [
    "df2 = pd.read_csv(\"./data/test.csv\", usecols=cols)\n",
    "stocks_code2 = df2[\"kdcode\"].unique()\n",
    "\n",
    "# 根据股票代码划分数据\n",
    "for i, stock_i in enumerate(stocks_code2):\n",
    "    stock_i_data = df2[df2['kdcode'].isin([stock_i])]\n",
    "    exec(\"test_df%s = stock_i_data\" % i)"
   ]
  },
  {
   "cell_type": "markdown",
   "id": "11c81832",
   "metadata": {},
   "source": [
    "共82支股票\n",
    "\n",
    "训练集按股票分为`train_df0`~`train_df81`\n",
    "\n",
    "测试集按股票分为`test_df0`~`test_df81`\n",
    "\n",
    "### 1.2 将原始数据改造为LSTM网络的输入"
   ]
  },
  {
   "cell_type": "code",
   "execution_count": 5,
   "id": "b021a185",
   "metadata": {},
   "outputs": [],
   "source": [
    "feanum=4 # 一共有多少特征\n",
    "window=10 # 时间窗设置"
   ]
  },
  {
   "cell_type": "markdown",
   "id": "73c0c7cf",
   "metadata": {},
   "source": [
    "分割出window个时间窗的数据为输入的`X`\n",
    "\n",
    "紧接着的那条数据为标签`Y`\n",
    "\n",
    "因此需要将每只股票的数据按照时间(日期)分割成`window + 1`长度的数据"
   ]
  },
  {
   "cell_type": "code",
   "execution_count": 6,
   "id": "9f03e340",
   "metadata": {},
   "outputs": [
    {
     "data": {
      "text/plain": [
       "(73741, 11, 5)"
      ]
     },
     "execution_count": 6,
     "metadata": {},
     "output_type": "execute_result"
    }
   ],
   "source": [
    "import numpy as np\n",
    "\n",
    "trainResult = []\n",
    "for i in range(stock_num): # 遍历训练集所有股票的DataFrame\n",
    "    exec(\"trainData = train_df%s.values\" % i)\n",
    "    sequence_length = window + 1\n",
    "    trainData = trainData[:,2:] # 去除股票代码、日期两字段\n",
    "    for index in range(len(trainData) - sequence_length + 1):\n",
    "        trainResult.append(trainData[index: index + sequence_length])\n",
    "\n",
    "trainResult = np.array(trainResult)\n",
    "trainResult.shape"
   ]
  },
  {
   "cell_type": "code",
   "execution_count": 7,
   "id": "719a5344",
   "metadata": {},
   "outputs": [
    {
     "data": {
      "text/plain": [
       "(19085, 11, 5)"
      ]
     },
     "execution_count": 7,
     "metadata": {},
     "output_type": "execute_result"
    }
   ],
   "source": [
    "testResult = []\n",
    "for i in range(stock_num): # 遍历训练集所有股票的DataFrame\n",
    "    exec(\"testData = test_df%s.values\" % i)\n",
    "    sequence_length = window + 1\n",
    "    testData = testData[:,2:] # 去除股票代码、日期两字段\n",
    "    for index in range(len(testData) - sequence_length + 1):\n",
    "        testResult.append(testData[index: index + sequence_length])\n",
    "\n",
    "testResult = np.array(testResult)\n",
    "testResult.shape"
   ]
  },
  {
   "cell_type": "markdown",
   "id": "1585be56",
   "metadata": {},
   "source": [
    "分割`X`, `Y`"
   ]
  },
  {
   "cell_type": "code",
   "execution_count": 8,
   "id": "3ae7b5a3",
   "metadata": {},
   "outputs": [
    {
     "name": "stdout",
     "output_type": "stream",
     "text": [
      "训练集X：(73741, 10, 4)\n",
      "测试集X：(19085, 10, 4)\n"
     ]
    }
   ],
   "source": [
    "X_train = trainResult[:, :-1, :-1]\n",
    "X_test = testResult[:, :-1, :-1]\n",
    "\n",
    "X_train = X_train.astype('float64')\n",
    "X_test = X_test.astype('float64')\n",
    "\n",
    "print(\"训练集X：\" + str(X_train.shape))\n",
    "print(\"测试集X：\" + str(X_test.shape))\n",
    "\n",
    "# X_train[0: 5]"
   ]
  },
  {
   "cell_type": "markdown",
   "id": "ea92dc3a",
   "metadata": {},
   "source": [
    "处理数据的Y\n",
    "\n",
    "涨为`1`,跌为`0`"
   ]
  },
  {
   "cell_type": "code",
   "execution_count": 9,
   "id": "fb0aa7aa",
   "metadata": {},
   "outputs": [
    {
     "data": {
      "text/plain": [
       "(73741,)"
      ]
     },
     "execution_count": 9,
     "metadata": {},
     "output_type": "execute_result"
    }
   ],
   "source": [
    "Y_train = trainResult[:, window, -1]\n",
    "Y_train.shape"
   ]
  },
  {
   "cell_type": "code",
   "execution_count": 10,
   "id": "8496eee2",
   "metadata": {},
   "outputs": [
    {
     "data": {
      "text/plain": [
       "(19085,)"
      ]
     },
     "execution_count": 10,
     "metadata": {},
     "output_type": "execute_result"
    }
   ],
   "source": [
    "Y_test = testResult[:, window, -1]\n",
    "Y_test.shape"
   ]
  },
  {
   "cell_type": "code",
   "execution_count": 11,
   "id": "86e593a8",
   "metadata": {},
   "outputs": [],
   "source": [
    "Y_train = Y_train.astype('float64')\n",
    "Y_test = Y_test.astype('float64')\n",
    "# Y_train[0:5]\n",
    "# Y_test[0:5]"
   ]
  },
  {
   "cell_type": "markdown",
   "id": "bc22d320",
   "metadata": {},
   "source": [
    "## 2. 模型构建与训练"
   ]
  },
  {
   "cell_type": "code",
   "execution_count": null,
   "id": "44fef3c9",
   "metadata": {},
   "outputs": [
    {
     "name": "stdout",
     "output_type": "stream",
     "text": [
      "Epoch 1/160\n",
      "289/289 [==============================] - 3s 9ms/step - loss: 0.6930 - accuracy: 0.5103\n",
      "Epoch 2/160\n",
      "289/289 [==============================] - 2s 9ms/step - loss: 0.6929 - accuracy: 0.5106\n",
      "Epoch 3/160\n",
      "289/289 [==============================] - 3s 9ms/step - loss: 0.6929 - accuracy: 0.5106\n",
      "Epoch 4/160\n",
      "289/289 [==============================] - 3s 10ms/step - loss: 0.6929 - accuracy: 0.5106\n",
      "Epoch 5/160\n",
      "289/289 [==============================] - 3s 12ms/step - loss: 0.6929 - accuracy: 0.5106\n",
      "Epoch 6/160\n",
      "289/289 [==============================] - 3s 9ms/step - loss: 0.6929 - accuracy: 0.5106\n",
      "Epoch 7/160\n",
      "289/289 [==============================] - 2s 9ms/step - loss: 0.6929 - accuracy: 0.5106\n",
      "Epoch 8/160\n",
      "289/289 [==============================] - 3s 10ms/step - loss: 0.6929 - accuracy: 0.5106\n",
      "Epoch 9/160\n",
      "289/289 [==============================] - 2s 8ms/step - loss: 0.6929 - accuracy: 0.5106\n",
      "Epoch 10/160\n",
      "289/289 [==============================] - 3s 11ms/step - loss: 0.6929 - accuracy: 0.5106\n",
      "Epoch 11/160\n",
      "289/289 [==============================] - 4s 13ms/step - loss: 0.6929 - accuracy: 0.5106\n",
      "Epoch 12/160\n",
      "289/289 [==============================] - 3s 11ms/step - loss: 0.6929 - accuracy: 0.5106\n",
      "Epoch 13/160\n",
      "289/289 [==============================] - 3s 9ms/step - loss: 0.6929 - accuracy: 0.5106\n",
      "Epoch 14/160\n",
      "289/289 [==============================] - 3s 10ms/step - loss: 0.6929 - accuracy: 0.5106\n",
      "Epoch 15/160\n",
      "289/289 [==============================] - 2s 8ms/step - loss: 0.6929 - accuracy: 0.5106\n",
      "Epoch 16/160\n",
      "289/289 [==============================] - 3s 9ms/step - loss: 0.6929 - accuracy: 0.5106\n",
      "Epoch 17/160\n",
      "289/289 [==============================] - 3s 10ms/step - loss: 0.6929 - accuracy: 0.5106\n",
      "Epoch 18/160\n",
      "289/289 [==============================] - 4s 13ms/step - loss: 0.6929 - accuracy: 0.5106\n",
      "Epoch 19/160\n",
      "289/289 [==============================] - 3s 9ms/step - loss: 0.6929 - accuracy: 0.5106\n",
      "Epoch 20/160\n",
      "289/289 [==============================] - 3s 9ms/step - loss: 0.6929 - accuracy: 0.5106\n",
      "Epoch 21/160\n",
      "289/289 [==============================] - 3s 9ms/step - loss: 0.6930 - accuracy: 0.5107\n",
      "Epoch 22/160\n",
      "289/289 [==============================] - 2s 9ms/step - loss: 0.6929 - accuracy: 0.5106\n",
      "Epoch 23/160\n",
      "289/289 [==============================] - 2s 9ms/step - loss: 0.6929 - accuracy: 0.5106\n",
      "Epoch 24/160\n",
      "289/289 [==============================] - 3s 9ms/step - loss: 0.6929 - accuracy: 0.5106\n",
      "Epoch 25/160\n",
      "289/289 [==============================] - 2s 9ms/step - loss: 0.6929 - accuracy: 0.5106\n",
      "Epoch 26/160\n",
      "289/289 [==============================] - 2s 8ms/step - loss: 0.6929 - accuracy: 0.5106\n",
      "Epoch 27/160\n",
      "289/289 [==============================] - 3s 10ms/step - loss: 0.6929 - accuracy: 0.5109\n",
      "Epoch 28/160\n",
      "289/289 [==============================] - 2s 8ms/step - loss: 0.6929 - accuracy: 0.5107\n",
      "Epoch 29/160\n",
      "289/289 [==============================] - 2s 8ms/step - loss: 0.6928 - accuracy: 0.5094\n",
      "Epoch 30/160\n",
      "289/289 [==============================] - 3s 9ms/step - loss: 0.6928 - accuracy: 0.5091\n",
      "Epoch 31/160\n",
      "289/289 [==============================] - 3s 9ms/step - loss: 0.6927 - accuracy: 0.5109\n",
      "Epoch 32/160\n",
      "289/289 [==============================] - 3s 10ms/step - loss: 0.6927 - accuracy: 0.5106\n",
      "Epoch 33/160\n",
      "289/289 [==============================] - 3s 9ms/step - loss: 0.6927 - accuracy: 0.5102\n",
      "Epoch 34/160\n",
      "289/289 [==============================] - 3s 10ms/step - loss: 0.6926 - accuracy: 0.5123\n",
      "Epoch 35/160\n",
      "289/289 [==============================] - 3s 10ms/step - loss: 0.6927 - accuracy: 0.5097\n",
      "Epoch 36/160\n",
      "289/289 [==============================] - 3s 9ms/step - loss: 0.6926 - accuracy: 0.5095\n",
      "Epoch 37/160\n",
      "289/289 [==============================] - 3s 10ms/step - loss: 0.6925 - accuracy: 0.5123\n",
      "Epoch 38/160\n",
      "289/289 [==============================] - 3s 9ms/step - loss: 0.6926 - accuracy: 0.5106\n",
      "Epoch 39/160\n",
      "289/289 [==============================] - 2s 8ms/step - loss: 0.6926 - accuracy: 0.5107\n",
      "Epoch 40/160\n",
      "289/289 [==============================] - 2s 8ms/step - loss: 0.6926 - accuracy: 0.5125\n",
      "Epoch 41/160\n",
      "289/289 [==============================] - 2s 8ms/step - loss: 0.6926 - accuracy: 0.5124\n",
      "Epoch 42/160\n",
      "289/289 [==============================] - 2s 8ms/step - loss: 0.6926 - accuracy: 0.5120\n",
      "Epoch 43/160\n",
      "289/289 [==============================] - 2s 8ms/step - loss: 0.6926 - accuracy: 0.5119\n",
      "Epoch 44/160\n",
      "289/289 [==============================] - 4s 13ms/step - loss: 0.6925 - accuracy: 0.5134\n",
      "Epoch 45/160\n",
      "289/289 [==============================] - 3s 11ms/step - loss: 0.6925 - accuracy: 0.5129\n",
      "Epoch 46/160\n",
      "289/289 [==============================] - 3s 10ms/step - loss: 0.6925 - accuracy: 0.5132\n",
      "Epoch 47/160\n",
      "289/289 [==============================] - 3s 9ms/step - loss: 0.6925 - accuracy: 0.5133\n",
      "Epoch 48/160\n",
      "289/289 [==============================] - 3s 9ms/step - loss: 0.6925 - accuracy: 0.5130\n",
      "Epoch 49/160\n",
      "289/289 [==============================] - 3s 9ms/step - loss: 0.6925 - accuracy: 0.5143\n",
      "Epoch 50/160\n",
      "289/289 [==============================] - 2s 9ms/step - loss: 0.6925 - accuracy: 0.5119\n",
      "Epoch 51/160\n",
      "289/289 [==============================] - 2s 8ms/step - loss: 0.6926 - accuracy: 0.5136\n",
      "Epoch 52/160\n",
      "289/289 [==============================] - 3s 10ms/step - loss: 0.6925 - accuracy: 0.5143\n",
      "Epoch 53/160\n",
      "289/289 [==============================] - 3s 9ms/step - loss: 0.6925 - accuracy: 0.5127\n",
      "Epoch 54/160\n",
      "289/289 [==============================] - 3s 10ms/step - loss: 0.6925 - accuracy: 0.5151\n",
      "Epoch 55/160\n",
      "289/289 [==============================] - 3s 9ms/step - loss: 0.6924 - accuracy: 0.5144\n",
      "Epoch 56/160\n",
      "289/289 [==============================] - 2s 9ms/step - loss: 0.6924 - accuracy: 0.5145\n",
      "Epoch 57/160\n",
      "289/289 [==============================] - 2s 8ms/step - loss: 0.6924 - accuracy: 0.5144\n",
      "Epoch 58/160\n",
      "289/289 [==============================] - 2s 8ms/step - loss: 0.6924 - accuracy: 0.5149\n",
      "Epoch 59/160\n",
      "289/289 [==============================] - 2s 8ms/step - loss: 0.6924 - accuracy: 0.5145\n",
      "Epoch 60/160\n",
      "289/289 [==============================] - 2s 8ms/step - loss: 0.6924 - accuracy: 0.5158\n",
      "Epoch 61/160\n",
      "289/289 [==============================] - 2s 8ms/step - loss: 0.6923 - accuracy: 0.5155\n",
      "Epoch 62/160\n",
      "289/289 [==============================] - 3s 9ms/step - loss: 0.6922 - accuracy: 0.5176\n",
      "Epoch 63/160\n",
      "289/289 [==============================] - 2s 8ms/step - loss: 0.6923 - accuracy: 0.5165\n",
      "Epoch 64/160\n",
      "289/289 [==============================] - 3s 9ms/step - loss: 0.6922 - accuracy: 0.5176\n",
      "Epoch 65/160\n",
      "289/289 [==============================] - 2s 8ms/step - loss: 0.6922 - accuracy: 0.5176\n",
      "Epoch 66/160\n",
      "289/289 [==============================] - 3s 9ms/step - loss: 0.6920 - accuracy: 0.5179\n",
      "Epoch 67/160\n",
      "289/289 [==============================] - 2s 8ms/step - loss: 0.6919 - accuracy: 0.5203\n",
      "Epoch 68/160\n",
      "289/289 [==============================] - 3s 9ms/step - loss: 0.6918 - accuracy: 0.5205\n",
      "Epoch 69/160\n",
      "289/289 [==============================] - 2s 8ms/step - loss: 0.6917 - accuracy: 0.5226\n",
      "Epoch 70/160\n",
      "289/289 [==============================] - 2s 8ms/step - loss: 0.6916 - accuracy: 0.5238\n",
      "Epoch 71/160\n",
      "289/289 [==============================] - 3s 10ms/step - loss: 0.6914 - accuracy: 0.5256\n",
      "Epoch 72/160\n",
      "289/289 [==============================] - 2s 8ms/step - loss: 0.6913 - accuracy: 0.5257\n",
      "Epoch 73/160\n",
      "289/289 [==============================] - 3s 9ms/step - loss: 0.6911 - accuracy: 0.5264\n",
      "Epoch 74/160\n",
      "289/289 [==============================] - 3s 9ms/step - loss: 0.6910 - accuracy: 0.5268\n",
      "Epoch 75/160\n",
      "289/289 [==============================] - 2s 9ms/step - loss: 0.6910 - accuracy: 0.5269\n",
      "Epoch 76/160\n",
      "289/289 [==============================] - 3s 9ms/step - loss: 0.6909 - accuracy: 0.5260\n",
      "Epoch 77/160\n",
      "289/289 [==============================] - 3s 9ms/step - loss: 0.6910 - accuracy: 0.5267\n",
      "Epoch 78/160\n",
      "289/289 [==============================] - 3s 9ms/step - loss: 0.6908 - accuracy: 0.5286\n",
      "Epoch 79/160\n",
      "289/289 [==============================] - 3s 9ms/step - loss: 0.6910 - accuracy: 0.5258\n",
      "Epoch 80/160\n",
      "289/289 [==============================] - 2s 8ms/step - loss: 0.6908 - accuracy: 0.5265\n",
      "Epoch 81/160\n"
     ]
    },
    {
     "name": "stdout",
     "output_type": "stream",
     "text": [
      "289/289 [==============================] - 2s 8ms/step - loss: 0.6908 - accuracy: 0.5289\n",
      "Epoch 82/160\n",
      "289/289 [==============================] - 2s 8ms/step - loss: 0.6906 - accuracy: 0.5290\n",
      "Epoch 83/160\n",
      "289/289 [==============================] - 2s 8ms/step - loss: 0.6908 - accuracy: 0.5267\n",
      "Epoch 84/160\n",
      "289/289 [==============================] - 2s 8ms/step - loss: 0.6907 - accuracy: 0.5294\n",
      "Epoch 85/160\n",
      "289/289 [==============================] - 2s 8ms/step - loss: 0.6907 - accuracy: 0.5286\n",
      "Epoch 86/160\n",
      "289/289 [==============================] - 3s 10ms/step - loss: 0.6907 - accuracy: 0.5286\n",
      "Epoch 87/160\n",
      "289/289 [==============================] - 3s 9ms/step - loss: 0.6908 - accuracy: 0.5270\n",
      "Epoch 88/160\n",
      "289/289 [==============================] - 3s 9ms/step - loss: 0.6907 - accuracy: 0.5279\n",
      "Epoch 89/160\n",
      "289/289 [==============================] - 3s 9ms/step - loss: 0.6906 - accuracy: 0.5280\n",
      "Epoch 90/160\n",
      "289/289 [==============================] - 3s 9ms/step - loss: 0.6906 - accuracy: 0.5281\n",
      "Epoch 91/160\n",
      "289/289 [==============================] - 3s 10ms/step - loss: 0.6907 - accuracy: 0.5289\n",
      "Epoch 92/160\n",
      "289/289 [==============================] - 3s 10ms/step - loss: 0.6907 - accuracy: 0.5278\n",
      "Epoch 93/160\n",
      "289/289 [==============================] - 2s 8ms/step - loss: 0.6907 - accuracy: 0.5269\n",
      "Epoch 94/160\n",
      "289/289 [==============================] - 2s 8ms/step - loss: 0.6906 - accuracy: 0.5283\n",
      "Epoch 95/160\n",
      "289/289 [==============================] - 3s 9ms/step - loss: 0.6907 - accuracy: 0.5272\n",
      "Epoch 96/160\n",
      "289/289 [==============================] - 3s 11ms/step - loss: 0.6906 - accuracy: 0.5288\n",
      "Epoch 97/160\n",
      "289/289 [==============================] - 3s 11ms/step - loss: 0.6905 - accuracy: 0.5302\n",
      "Epoch 98/160\n",
      "289/289 [==============================] - 3s 9ms/step - loss: 0.6906 - accuracy: 0.5283\n",
      "Epoch 99/160\n",
      "289/289 [==============================] - 2s 9ms/step - loss: 0.6907 - accuracy: 0.5281\n",
      "Epoch 100/160\n",
      "289/289 [==============================] - 3s 9ms/step - loss: 0.6905 - accuracy: 0.5283\n",
      "Epoch 101/160\n",
      "289/289 [==============================] - 2s 8ms/step - loss: 0.6905 - accuracy: 0.5279\n",
      "Epoch 102/160\n",
      "289/289 [==============================] - 2s 9ms/step - loss: 0.6906 - accuracy: 0.5292\n",
      "Epoch 103/160\n",
      "289/289 [==============================] - 2s 8ms/step - loss: 0.6905 - accuracy: 0.5307\n",
      "Epoch 104/160\n",
      "289/289 [==============================] - 2s 8ms/step - loss: 0.6905 - accuracy: 0.5281\n",
      "Epoch 105/160\n",
      "289/289 [==============================] - 3s 9ms/step - loss: 0.6905 - accuracy: 0.5282\n",
      "Epoch 106/160\n",
      "289/289 [==============================] - 2s 8ms/step - loss: 0.6905 - accuracy: 0.5273\n",
      "Epoch 107/160\n",
      "138/289 [=============>................] - ETA: 1s - loss: 0.6906 - accuracy: 0.5269"
     ]
    }
   ],
   "source": [
    "from sklearn.metrics import mean_squared_error\n",
    "from math import sqrt\n",
    "from keras.models import Sequential\n",
    "from keras.layers.core import Dense, Dropout, Activation\n",
    "from keras.layers.recurrent import LSTM\n",
    "from keras.layers.recurrent import GRU\n",
    "from keras.callbacks import EarlyStopping\n",
    "\n",
    "#建立、训练模型过程\n",
    "d = 0.001\n",
    "model = Sequential()#建立层次模型\n",
    "model.add(LSTM(64, input_shape=(window, feanum), return_sequences=False, activation = \"relu\"))#建立LSTM层\n",
    "model.add(Dropout(d))#建立的遗忘层\n",
    "\n",
    "# model.add(LSTM(16, input_shape=(window, feanum), return_sequences=False, activation = \"relu\"))#建立LSTM层\n",
    "# model.add(Dropout(d))#建立的遗忘层\n",
    "\n",
    "model.add(Dense(16,kernel_initializer='uniform',activation='relu'))   #建立全连接层     \n",
    "model.add(Dense(1, kernel_initializer = \"uniform\", activation = \"sigmoid\"))\n",
    "model.compile(loss='binary_crossentropy',optimizer='adam',metrics=['accuracy'])\n",
    "\n",
    "# 使用Early stop\n",
    "# callbacks_list = [EarlyStopping(monitor='loss', patience=10)] #用early stopping 来防止过拟合\n",
    "# model.fit(X_train, Y_train, epochs = 150, batch_size = 256, callbacks=callbacks_list) #训练模型epochs次\n",
    "history = model.fit(X_train, Y_train, epochs = 160, batch_size = 256) #训练模型epochs次"
   ]
  },
  {
   "cell_type": "code",
   "execution_count": null,
   "id": "abf8f65a",
   "metadata": {},
   "outputs": [],
   "source": [
    "#总结模型\n",
    "model.summary()"
   ]
  },
  {
   "cell_type": "markdown",
   "id": "082194db",
   "metadata": {},
   "source": [
    "## 3. 模型训练结果\n",
    "* 训练集"
   ]
  },
  {
   "cell_type": "code",
   "execution_count": null,
   "id": "d7d73663",
   "metadata": {},
   "outputs": [],
   "source": [
    "#在训练集上的拟合结果\n",
    "Y_train_predict=model.predict(X_train)[:,0]\n",
    "Y_train = Y_train"
   ]
  },
  {
   "cell_type": "code",
   "execution_count": null,
   "id": "805073a7",
   "metadata": {},
   "outputs": [],
   "source": [
    "import matplotlib.pyplot as plt\n",
    "\n",
    "draw=pd.concat([pd.DataFrame(Y_train),pd.DataFrame(Y_train_predict)],axis=1)\n",
    "draw.iloc[:300,0].plot(figsize=(12,6))\n",
    "draw.iloc[:300,1].plot(figsize=(12,6))\n",
    "plt.legend(('real', 'predict'),loc='upper right',fontsize='15')\n",
    "plt.title(\"Train Data\",fontsize='30') #添加标题\n",
    "#展示在训练集上的表现 "
   ]
  },
  {
   "cell_type": "markdown",
   "id": "b7518878",
   "metadata": {},
   "source": [
    "* 测试集"
   ]
  },
  {
   "cell_type": "code",
   "execution_count": null,
   "id": "4c6e6df0",
   "metadata": {},
   "outputs": [],
   "source": [
    "#在测试集上的预测\n",
    "Y_test_predict=model.predict(X_test)[:,0]\n",
    "Y_test=Y_test"
   ]
  },
  {
   "cell_type": "code",
   "execution_count": null,
   "id": "5b08631f",
   "metadata": {},
   "outputs": [],
   "source": [
    "draw=pd.concat([pd.DataFrame(Y_test),pd.DataFrame(Y_test_predict)],axis=1);\n",
    "draw.iloc[:100,0].plot(figsize=(12,6))\n",
    "draw.iloc[:100,1].plot(figsize=(12,6))\n",
    "plt.legend(('real', 'predict'),loc='upper right',fontsize='15')\n",
    "plt.title(\"Test Data\",fontsize='30') #添加标题\n",
    "# 展示在测试集上的表现 "
   ]
  },
  {
   "cell_type": "code",
   "execution_count": null,
   "id": "bbb917fd",
   "metadata": {},
   "outputs": [],
   "source": [
    "type(Y_test_predict)"
   ]
  },
  {
   "cell_type": "code",
   "execution_count": null,
   "id": "e6e1e593",
   "metadata": {},
   "outputs": [],
   "source": [
    "txt = np.zeros(len(Y_test))\n",
    "test_predict = Y_test_predict.copy()\n",
    "test_predict[Y_test_predict > 0.5] = 1\n",
    "test_predict[Y_test_predict <= 0.5] = 0\n",
    "for i in range(len(Y_test)):\n",
    "    txt[i] = Y_test[i] == test_predict[i]\n",
    "\n",
    "result=sum(txt) / len(txt)\n",
    "print('预测涨跌正确:',result)"
   ]
  },
  {
   "cell_type": "markdown",
   "id": "b098fb75",
   "metadata": {},
   "source": [
    "* 训练过程Loss,Accuracy的变化"
   ]
  },
  {
   "cell_type": "code",
   "execution_count": null,
   "id": "885d0188",
   "metadata": {},
   "outputs": [],
   "source": [
    "acc = history.history['accuracy']\n",
    "loss = history.history['loss']\n",
    "epochs = range(1, len(acc) + 1)\n",
    "\n",
    "plt.plot(epochs, loss, 'g', label='Training loss')\n",
    "plt.plot(epochs, acc, 'r', label='Training acc')  \n",
    "plt.title('Training loss and  acc')\n",
    "plt.xlabel('Epochs')\n",
    "plt.ylabel('Acc/Loss')\n",
    "plt.legend()"
   ]
  },
  {
   "cell_type": "markdown",
   "id": "06951436",
   "metadata": {},
   "source": [
    "* ROC曲线以及AUC值"
   ]
  },
  {
   "cell_type": "code",
   "execution_count": null,
   "id": "1c58e230",
   "metadata": {},
   "outputs": [],
   "source": [
    "from sklearn import metrics\n",
    "\n",
    "Y_test\n",
    "Y_test_predict\n",
    "# fpr, tpr, thresholds = metrics.roc_curve(y, scores, pos_label=1)\n",
    "# print(\"fpr\",fpr)\n",
    "# print(\"tpr\",tpr)\n",
    "# print(\"thresholds\",thresholds)\n",
    "# auc = metrics.auc(fpr, tpr)"
   ]
  },
  {
   "cell_type": "markdown",
   "id": "97c48ff4",
   "metadata": {},
   "source": [
    "## 4. 分析模型"
   ]
  },
  {
   "cell_type": "markdown",
   "id": "e767c463",
   "metadata": {},
   "source": [
    "## 4.1 分析模型在各股票的预测准确率"
   ]
  },
  {
   "cell_type": "code",
   "execution_count": null,
   "id": "e3bdeb6c",
   "metadata": {},
   "outputs": [],
   "source": [
    "# AnalyData = []\n",
    "# for i in range(stock_num): # 遍历训练集所有股票的DataFrame\n",
    "#     exec(\"testData = test_df%s.values\" % i)\n",
    "#     exec(\"testData = test_df%s.values\" % i)\n",
    "#     sequence_length = window + 1\n",
    "#     testData = testData[:,2:] # 去除股票代码、日期两字段\n",
    "#     for index in range(len(testData) - sequence_length + 1):\n",
    "#         testResult.append(testData[index: index + sequence_length])\n",
    "\n",
    "# testResult = np.array(testResult)\n",
    "# testResult.shape"
   ]
  },
  {
   "cell_type": "markdown",
   "id": "d9a671f7",
   "metadata": {},
   "source": [
    "## 5. 实验记录"
   ]
  },
  {
   "cell_type": "markdown",
   "id": "a4c4813b",
   "metadata": {},
   "source": [
    "Epoch 150/150\n",
    "\n",
    "289/289 [==============================] - 3s 9ms/step - loss: 0.6889 - accuracy: 0.5342\n",
    "\n",
    "预测涨跌正确: 0.5297353942887084"
   ]
  },
  {
   "cell_type": "markdown",
   "id": "ea6ddb93",
   "metadata": {},
   "source": [
    "epoch100 0.516\n",
    "\n",
    "epoch120 0.526\n",
    "\n",
    "epoch150 0.5295\n",
    "\n",
    "epoch170 0.5258\n",
    "\n",
    "epoch200 0.5228"
   ]
  }
 ],
 "metadata": {
  "kernelspec": {
   "display_name": "Python [conda env:env4tiho]",
   "language": "python",
   "name": "conda-env-env4tiho-py"
  },
  "language_info": {
   "codemirror_mode": {
    "name": "ipython",
    "version": 3
   },
   "file_extension": ".py",
   "mimetype": "text/x-python",
   "name": "python",
   "nbconvert_exporter": "python",
   "pygments_lexer": "ipython3",
   "version": "3.8.10"
  }
 },
 "nbformat": 4,
 "nbformat_minor": 5
}
