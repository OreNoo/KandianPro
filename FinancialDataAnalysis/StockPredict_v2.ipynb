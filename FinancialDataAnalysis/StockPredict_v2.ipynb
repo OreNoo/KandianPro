{
 "cells": [
  {
   "cell_type": "markdown",
   "id": "f53e43a8",
   "metadata": {},
   "source": [
    "## 0. 实验介绍\n",
    "使用\n",
    "```\n",
    "-adj_close: 收盘价\n",
    "-close_mean5: 5日收盘均价\n",
    "-close_mean10: 10日收盘均价\n",
    "-close_mean20: 20日收盘均价\n",
    "```\n",
    "**四个数据属性**基于**LSTM**模型预测未来一个交易日的涨跌。"
   ]
  },
  {
   "cell_type": "markdown",
   "id": "fd0ebf25",
   "metadata": {},
   "source": [
    "## 1. 数据预处理\n",
    "### 1.1 根据股票代码划分数据\n",
    "* 训练集"
   ]
  },
  {
   "cell_type": "code",
   "execution_count": 1,
   "id": "cb20b758",
   "metadata": {},
   "outputs": [
    {
     "name": "stdout",
     "output_type": "stream",
     "text": [
      "['000001.SZ' '000157.SZ' '000333.SZ' '000568.SZ' '000703.SZ' '000768.SZ'\n",
      " '002024.SZ' '002044.SZ' '002049.SZ' '002120.SZ' '002230.SZ' '002271.SZ'\n",
      " '002311.SZ' '002371.SZ' '002456.SZ' '002602.SZ' '002607.SZ' '002714.SZ'\n",
      " '002773.SZ' '300003.SZ' '300033.SZ' '300124.SZ' '300144.SZ' '300628.SZ'\n",
      " '600000.SH' '600009.SH' '600016.SH' '600019.SH' '600025.SH' '600028.SH'\n",
      " '600030.SH' '600031.SH' '600036.SH' '600048.SH' '600050.SH' '600061.SH'\n",
      " '600104.SH' '600115.SH' '600196.SH' '600276.SH' '600309.SH' '600340.SH'\n",
      " '600383.SH' '600489.SH' '600519.SH' '600547.SH' '600570.SH' '600585.SH'\n",
      " '600588.SH' '600690.SH' '600703.SH' '600745.SH' '600809.SH' '600837.SH'\n",
      " '600848.SH' '600886.SH' '600887.SH' '600926.SH' '600958.SH' '601006.SH'\n",
      " '601088.SH' '601166.SH' '601169.SH' '601238.SH' '601318.SH' '601319.SH'\n",
      " '601336.SH' '601398.SH' '601555.SH' '601601.SH' '601628.SH' '601788.SH'\n",
      " '601838.SH' '601857.SH' '601872.SH' '601899.SH' '601919.SH' '601990.SH'\n",
      " '601998.SH' '603233.SH' '603799.SH' '603833.SH']\n"
     ]
    },
    {
     "data": {
      "text/plain": [
       "82"
      ]
     },
     "execution_count": 1,
     "metadata": {},
     "output_type": "execute_result"
    }
   ],
   "source": [
    "import pandas as pd\n",
    "\n",
    "df = pd.read_csv(\"./data/train.csv\", usecols=[0,1,10,11,12,13])\n",
    "stocks_code = df[\"kdcode\"].unique()\n",
    "stock_num = len(stocks_code)\n",
    "\n",
    "print(stocks_code)\n",
    "stock_num"
   ]
  },
  {
   "cell_type": "code",
   "execution_count": 2,
   "id": "fe1e6c6d",
   "metadata": {},
   "outputs": [],
   "source": [
    "# 根据股票代码划分数据\n",
    "for i, stock_i in enumerate(stocks_code):\n",
    "    stock_i_data = df[df['kdcode'].isin([stock_i])]\n",
    "    exec(\"train_df%s = stock_i_data\"%i)"
   ]
  },
  {
   "cell_type": "markdown",
   "id": "7bb933eb",
   "metadata": {},
   "source": [
    "* 测试集"
   ]
  },
  {
   "cell_type": "code",
   "execution_count": 3,
   "id": "c37ec969",
   "metadata": {},
   "outputs": [],
   "source": [
    "df2 = pd.read_csv(\"./data/test.csv\", usecols=[0,1,10,11,12,13])\n",
    "stocks_code2 = df2[\"kdcode\"].unique()\n",
    "\n",
    "# 根据股票代码划分数据\n",
    "for i, stock_i in enumerate(stocks_code2):\n",
    "    stock_i_data = df2[df2['kdcode'].isin([stock_i])]\n",
    "    exec(\"test_df%s = stock_i_data\" % i)"
   ]
  },
  {
   "cell_type": "markdown",
   "id": "11c81832",
   "metadata": {},
   "source": [
    "共82支股票\n",
    "\n",
    "训练集按股票分为`train_df0`~`train_df81`\n",
    "\n",
    "测试集按股票分为`test_df0`~`test_df81`\n",
    "\n",
    "### 1.2 将原始数据改造为LSTM网络的输入"
   ]
  },
  {
   "cell_type": "code",
   "execution_count": 4,
   "id": "b021a185",
   "metadata": {},
   "outputs": [],
   "source": [
    "feanum=4 # 一共有多少特征\n",
    "window=20 # 时间窗设置"
   ]
  },
  {
   "cell_type": "markdown",
   "id": "73c0c7cf",
   "metadata": {},
   "source": [
    "分割出window个时间窗的数据为输入的`X`\n",
    "\n",
    "紧接着的那条数据为标签`Y`\n",
    "\n",
    "因此需要将每只股票的数据按照时间(日期)分割成`window + 1`长度的数据"
   ]
  },
  {
   "cell_type": "code",
   "execution_count": 5,
   "id": "9f03e340",
   "metadata": {},
   "outputs": [
    {
     "data": {
      "text/plain": [
       "(79934, 21, 4)"
      ]
     },
     "execution_count": 5,
     "metadata": {},
     "output_type": "execute_result"
    }
   ],
   "source": [
    "import numpy as np\n",
    "\n",
    "trainResult = []\n",
    "for i in range(stock_num): # 遍历训练集所有股票的DataFrame\n",
    "    exec(\"trainData = train_df%s.values\" % i)\n",
    "    sequence_length = window + 1\n",
    "    trainData = trainData[:,2:] # 去除股票代码、日期两字段\n",
    "    for index in range(len(trainData) - sequence_length + 1):\n",
    "        trainResult.append(trainData[index: index + sequence_length])\n",
    "\n",
    "trainResult = np.array(trainResult)\n",
    "trainResult.shape"
   ]
  },
  {
   "cell_type": "code",
   "execution_count": 6,
   "id": "719a5344",
   "metadata": {},
   "outputs": [
    {
     "data": {
      "text/plain": [
       "(18265, 21, 4)"
      ]
     },
     "execution_count": 6,
     "metadata": {},
     "output_type": "execute_result"
    }
   ],
   "source": [
    "testResult = []\n",
    "for i in range(stock_num): # 遍历训练集所有股票的DataFrame\n",
    "    exec(\"testData = test_df%s.values\" % i)\n",
    "    sequence_length = window + 1\n",
    "    testData = testData[:,2:] # 去除股票代码、日期两字段\n",
    "    for index in range(len(testData) - sequence_length + 1):\n",
    "        testResult.append(testData[index: index + sequence_length])\n",
    "\n",
    "testResult = np.array(testResult)\n",
    "testResult.shape"
   ]
  },
  {
   "cell_type": "markdown",
   "id": "1585be56",
   "metadata": {},
   "source": [
    "分割`X`, `Y`"
   ]
  },
  {
   "cell_type": "code",
   "execution_count": 7,
   "id": "3ae7b5a3",
   "metadata": {},
   "outputs": [
    {
     "name": "stdout",
     "output_type": "stream",
     "text": [
      "训练集X：(79934, 20, 4)\n",
      "训练集Y：(79934,)\n",
      "测试集X：(18265, 20, 4)\n",
      "测试集Y：(18265,)\n"
     ]
    }
   ],
   "source": [
    "X_train = trainResult[:, :-1, :]\n",
    "Y_train = trainResult[:, -1, 0]\n",
    "X_test = testResult[:, :-1, :]\n",
    "Y_test = testResult[:, -1, 0]\n",
    "\n",
    "X_train = X_train.astype('float64')\n",
    "Y_train = Y_train.astype('float64')\n",
    "X_test = X_test.astype('float64')\n",
    "Y_test = Y_test.astype('float64')\n",
    "\n",
    "print(\"训练集X：\" + str(X_train.shape))\n",
    "print(\"训练集Y：\" + str(Y_train.shape))\n",
    "print(\"测试集X：\" + str(X_test.shape))\n",
    "print(\"测试集Y：\" + str(Y_test.shape))"
   ]
  },
  {
   "cell_type": "markdown",
   "id": "bc22d320",
   "metadata": {},
   "source": [
    "## 2. 模型构建与训练"
   ]
  },
  {
   "cell_type": "code",
   "execution_count": 8,
   "id": "44fef3c9",
   "metadata": {},
   "outputs": [
    {
     "name": "stdout",
     "output_type": "stream",
     "text": [
      "Epoch 1/100\n",
      "313/313 [==============================] - 10s 31ms/step - loss: 9.9343e-04 - accuracy: 2.5021e-05\n",
      "Epoch 2/100\n",
      "313/313 [==============================] - 10s 32ms/step - loss: 2.0635e-05 - accuracy: 2.5021e-05\n",
      "Epoch 3/100\n",
      "313/313 [==============================] - 10s 31ms/step - loss: 1.6193e-05 - accuracy: 2.5021e-05\n",
      "Epoch 4/100\n",
      "313/313 [==============================] - 10s 31ms/step - loss: 1.3142e-05 - accuracy: 2.5021e-05\n",
      "Epoch 5/100\n",
      "313/313 [==============================] - 10s 31ms/step - loss: 1.3027e-05 - accuracy: 2.5021e-05\n",
      "Epoch 6/100\n",
      "313/313 [==============================] - 10s 31ms/step - loss: 1.2276e-05 - accuracy: 2.5021e-05\n",
      "Epoch 7/100\n",
      "313/313 [==============================] - 10s 31ms/step - loss: 1.0866e-05 - accuracy: 2.5021e-05\n",
      "Epoch 8/100\n",
      "313/313 [==============================] - 10s 31ms/step - loss: 9.1077e-06 - accuracy: 2.5021e-05\n",
      "Epoch 9/100\n",
      "313/313 [==============================] - 10s 31ms/step - loss: 1.0025e-05 - accuracy: 2.5021e-05\n",
      "Epoch 10/100\n",
      "313/313 [==============================] - 10s 31ms/step - loss: 9.4108e-06 - accuracy: 2.5021e-05\n",
      "Epoch 11/100\n",
      "313/313 [==============================] - 10s 31ms/step - loss: 7.4186e-06 - accuracy: 2.5021e-05\n",
      "Epoch 12/100\n",
      "313/313 [==============================] - 10s 31ms/step - loss: 8.3455e-06 - accuracy: 2.5021e-05\n",
      "Epoch 13/100\n",
      "313/313 [==============================] - 10s 31ms/step - loss: 8.0549e-06 - accuracy: 2.5021e-05\n",
      "Epoch 14/100\n",
      "313/313 [==============================] - 10s 31ms/step - loss: 7.2643e-06 - accuracy: 2.5021e-05\n",
      "Epoch 15/100\n",
      "313/313 [==============================] - 10s 31ms/step - loss: 7.9347e-06 - accuracy: 2.5021e-05\n",
      "Epoch 16/100\n",
      "313/313 [==============================] - 10s 31ms/step - loss: 6.4618e-06 - accuracy: 2.5021e-05\n",
      "Epoch 17/100\n",
      "313/313 [==============================] - 10s 31ms/step - loss: 6.3724e-06 - accuracy: 2.5021e-05\n",
      "Epoch 18/100\n",
      "313/313 [==============================] - 10s 31ms/step - loss: 5.4469e-06 - accuracy: 2.5021e-05\n",
      "Epoch 19/100\n",
      "313/313 [==============================] - 10s 31ms/step - loss: 5.5304e-06 - accuracy: 2.5021e-05\n",
      "Epoch 20/100\n",
      "313/313 [==============================] - 10s 32ms/step - loss: 5.4473e-06 - accuracy: 2.5021e-05\n",
      "Epoch 21/100\n",
      "313/313 [==============================] - 11s 35ms/step - loss: 4.8956e-06 - accuracy: 2.5021e-05\n",
      "Epoch 22/100\n",
      "313/313 [==============================] - 10s 32ms/step - loss: 4.9619e-06 - accuracy: 2.5021e-05\n",
      "Epoch 23/100\n",
      "313/313 [==============================] - 11s 34ms/step - loss: 4.7051e-06 - accuracy: 2.5021e-05\n",
      "Epoch 24/100\n",
      "313/313 [==============================] - 11s 34ms/step - loss: 4.9657e-06 - accuracy: 2.5021e-05\n",
      "Epoch 25/100\n",
      "313/313 [==============================] - 10s 32ms/step - loss: 4.4967e-06 - accuracy: 2.5021e-05\n",
      "Epoch 26/100\n",
      "313/313 [==============================] - 10s 32ms/step - loss: 4.6527e-06 - accuracy: 2.5021e-05\n",
      "Epoch 27/100\n",
      "313/313 [==============================] - 10s 33ms/step - loss: 4.5772e-06 - accuracy: 2.5021e-05\n",
      "Epoch 28/100\n",
      "313/313 [==============================] - 11s 35ms/step - loss: 4.6358e-06 - accuracy: 2.5021e-05\n",
      "Epoch 29/100\n",
      "313/313 [==============================] - 10s 33ms/step - loss: 4.9499e-06 - accuracy: 2.5021e-05\n",
      "Epoch 30/100\n",
      "313/313 [==============================] - 10s 32ms/step - loss: 4.1219e-06 - accuracy: 2.5021e-05\n",
      "Epoch 31/100\n",
      "313/313 [==============================] - 10s 33ms/step - loss: 3.8112e-06 - accuracy: 2.5021e-05\n",
      "Epoch 32/100\n",
      "313/313 [==============================] - 10s 33ms/step - loss: 4.1954e-06 - accuracy: 2.5021e-05\n",
      "Epoch 33/100\n",
      "313/313 [==============================] - 11s 36ms/step - loss: 4.2137e-06 - accuracy: 2.5021e-05\n",
      "Epoch 34/100\n",
      "313/313 [==============================] - 10s 33ms/step - loss: 3.8004e-06 - accuracy: 2.5021e-05\n",
      "Epoch 35/100\n",
      "313/313 [==============================] - 10s 32ms/step - loss: 4.2328e-06 - accuracy: 2.5021e-05\n",
      "Epoch 36/100\n",
      "313/313 [==============================] - 10s 32ms/step - loss: 4.1165e-06 - accuracy: 2.5021e-05\n",
      "Epoch 37/100\n",
      "313/313 [==============================] - 10s 33ms/step - loss: 3.9604e-06 - accuracy: 2.5021e-05\n",
      "Epoch 38/100\n",
      "313/313 [==============================] - 10s 32ms/step - loss: 4.2938e-06 - accuracy: 2.5021e-05\n",
      "Epoch 39/100\n",
      "313/313 [==============================] - 10s 32ms/step - loss: 3.7783e-06 - accuracy: 2.5021e-05\n",
      "Epoch 40/100\n",
      "313/313 [==============================] - 10s 32ms/step - loss: 5.0047e-06 - accuracy: 2.5021e-05\n",
      "Epoch 41/100\n",
      "313/313 [==============================] - 10s 32ms/step - loss: 4.1857e-06 - accuracy: 2.5021e-05\n",
      "Epoch 42/100\n",
      "313/313 [==============================] - 10s 32ms/step - loss: 3.7279e-06 - accuracy: 2.5021e-05\n",
      "Epoch 43/100\n",
      "313/313 [==============================] - 10s 32ms/step - loss: 3.9034e-06 - accuracy: 2.5021e-05\n",
      "Epoch 44/100\n",
      "313/313 [==============================] - 10s 32ms/step - loss: 4.3753e-06 - accuracy: 2.5021e-05\n",
      "Epoch 45/100\n",
      "313/313 [==============================] - 10s 33ms/step - loss: 3.9098e-06 - accuracy: 2.5021e-05\n",
      "Epoch 46/100\n",
      "313/313 [==============================] - 10s 32ms/step - loss: 4.1369e-06 - accuracy: 2.5021e-05\n",
      "Epoch 47/100\n",
      "313/313 [==============================] - 11s 34ms/step - loss: 3.6919e-06 - accuracy: 2.5021e-05\n",
      "Epoch 48/100\n",
      "313/313 [==============================] - 10s 32ms/step - loss: 4.0793e-06 - accuracy: 2.5021e-05\n",
      "Epoch 49/100\n",
      "313/313 [==============================] - 10s 32ms/step - loss: 3.6857e-06 - accuracy: 2.5021e-05\n",
      "Epoch 50/100\n",
      "313/313 [==============================] - 10s 32ms/step - loss: 3.9099e-06 - accuracy: 2.5021e-05\n",
      "Epoch 51/100\n",
      "313/313 [==============================] - 10s 32ms/step - loss: 3.9597e-06 - accuracy: 2.5021e-05\n",
      "Epoch 52/100\n",
      "313/313 [==============================] - 10s 32ms/step - loss: 3.6229e-06 - accuracy: 2.5021e-05\n",
      "Epoch 53/100\n",
      "313/313 [==============================] - 10s 32ms/step - loss: 3.7688e-06 - accuracy: 2.5021e-05\n",
      "Epoch 54/100\n",
      "313/313 [==============================] - 10s 32ms/step - loss: 5.0210e-06 - accuracy: 2.5021e-05\n",
      "Epoch 55/100\n",
      "313/313 [==============================] - 10s 32ms/step - loss: 4.1362e-06 - accuracy: 2.5021e-05\n",
      "Epoch 56/100\n",
      "313/313 [==============================] - 10s 32ms/step - loss: 4.0095e-06 - accuracy: 2.5021e-05\n",
      "Epoch 57/100\n",
      "313/313 [==============================] - 11s 34ms/step - loss: 3.5689e-06 - accuracy: 2.5021e-05\n",
      "Epoch 58/100\n",
      "313/313 [==============================] - 11s 35ms/step - loss: 3.5840e-06 - accuracy: 2.5021e-05\n",
      "Epoch 59/100\n",
      "313/313 [==============================] - 10s 32ms/step - loss: 3.9115e-06 - accuracy: 2.5021e-05\n",
      "Epoch 60/100\n",
      "313/313 [==============================] - 10s 32ms/step - loss: 3.8997e-06 - accuracy: 2.5021e-05\n",
      "Epoch 61/100\n",
      "313/313 [==============================] - 10s 32ms/step - loss: 3.7617e-06 - accuracy: 2.5021e-05\n",
      "Epoch 62/100\n",
      "313/313 [==============================] - 10s 32ms/step - loss: 3.5964e-06 - accuracy: 2.5021e-05\n",
      "Epoch 63/100\n",
      "313/313 [==============================] - 10s 32ms/step - loss: 3.8756e-06 - accuracy: 2.5021e-05\n",
      "Epoch 64/100\n",
      "313/313 [==============================] - 10s 32ms/step - loss: 4.3292e-06 - accuracy: 2.5021e-05\n",
      "Epoch 65/100\n",
      "313/313 [==============================] - 10s 32ms/step - loss: 4.2009e-06 - accuracy: 2.5021e-05\n",
      "Epoch 66/100\n",
      "313/313 [==============================] - 10s 32ms/step - loss: 3.6191e-06 - accuracy: 2.5021e-05\n",
      "Epoch 67/100\n",
      "313/313 [==============================] - 10s 32ms/step - loss: 3.7181e-06 - accuracy: 2.5021e-05\n",
      "Epoch 68/100\n",
      "313/313 [==============================] - 10s 32ms/step - loss: 4.0950e-06 - accuracy: 2.5021e-05\n",
      "Epoch 69/100\n",
      "313/313 [==============================] - 10s 32ms/step - loss: 4.2122e-06 - accuracy: 2.5021e-05\n",
      "Epoch 70/100\n",
      "313/313 [==============================] - 10s 32ms/step - loss: 3.9686e-06 - accuracy: 2.5021e-05\n",
      "Epoch 71/100\n",
      "313/313 [==============================] - 10s 32ms/step - loss: 3.2997e-06 - accuracy: 2.5021e-05\n",
      "Epoch 72/100\n",
      "313/313 [==============================] - 10s 32ms/step - loss: 3.8601e-06 - accuracy: 2.5021e-05\n",
      "Epoch 73/100\n",
      "313/313 [==============================] - 10s 33ms/step - loss: 3.8066e-06 - accuracy: 2.5021e-05\n",
      "Epoch 74/100\n",
      "313/313 [==============================] - 11s 34ms/step - loss: 3.3985e-06 - accuracy: 2.5021e-05\n",
      "Epoch 75/100\n",
      "313/313 [==============================] - 10s 33ms/step - loss: 3.4414e-06 - accuracy: 2.5021e-05\n",
      "Epoch 76/100\n",
      "313/313 [==============================] - 11s 34ms/step - loss: 4.0588e-06 - accuracy: 2.5021e-05\n",
      "Epoch 77/100\n",
      "313/313 [==============================] - 11s 34ms/step - loss: 4.4914e-06 - accuracy: 2.5021e-05\n",
      "Epoch 78/100\n",
      "313/313 [==============================] - 10s 34ms/step - loss: 3.5741e-06 - accuracy: 2.5021e-05\n",
      "Epoch 79/100\n",
      "313/313 [==============================] - 10s 33ms/step - loss: 3.5656e-06 - accuracy: 2.5021e-05\n",
      "Epoch 80/100\n",
      "313/313 [==============================] - 10s 33ms/step - loss: 3.7675e-06 - accuracy: 2.5021e-05\n",
      "Epoch 81/100\n",
      "313/313 [==============================] - 10s 33ms/step - loss: 4.3100e-06 - accuracy: 2.5021e-05\n",
      "Epoch 82/100\n",
      "313/313 [==============================] - 10s 33ms/step - loss: 3.4201e-06 - accuracy: 2.5021e-05\n",
      "Epoch 83/100\n",
      "313/313 [==============================] - 10s 33ms/step - loss: 3.5605e-06 - accuracy: 2.5021e-05\n",
      "Epoch 84/100\n",
      "313/313 [==============================] - 10s 33ms/step - loss: 3.5467e-06 - accuracy: 2.5021e-05\n",
      "Epoch 85/100\n",
      "313/313 [==============================] - 10s 33ms/step - loss: 3.7147e-06 - accuracy: 2.5021e-05\n",
      "Epoch 86/100\n",
      "313/313 [==============================] - 10s 33ms/step - loss: 3.7633e-06 - accuracy: 2.5021e-05\n",
      "Epoch 87/100\n",
      "313/313 [==============================] - 10s 33ms/step - loss: 4.0405e-06 - accuracy: 2.5021e-05\n",
      "Epoch 88/100\n",
      "313/313 [==============================] - 11s 34ms/step - loss: 3.6573e-06 - accuracy: 2.5021e-05\n",
      "Epoch 89/100\n",
      "313/313 [==============================] - 11s 34ms/step - loss: 3.6385e-06 - accuracy: 2.5021e-05\n",
      "Epoch 90/100\n",
      "313/313 [==============================] - 11s 35ms/step - loss: 3.4433e-06 - accuracy: 2.5021e-05\n",
      "Epoch 91/100\n",
      "313/313 [==============================] - 11s 36ms/step - loss: 3.5057e-06 - accuracy: 2.5021e-05\n",
      "Epoch 92/100\n",
      "313/313 [==============================] - 11s 34ms/step - loss: 3.8812e-06 - accuracy: 2.5021e-05\n",
      "Epoch 93/100\n",
      "313/313 [==============================] - 10s 33ms/step - loss: 3.2615e-06 - accuracy: 2.5021e-05\n",
      "Epoch 94/100\n",
      "313/313 [==============================] - 11s 34ms/step - loss: 3.6515e-06 - accuracy: 2.5021e-05\n",
      "Epoch 95/100\n",
      "313/313 [==============================] - 10s 33ms/step - loss: 3.6806e-06 - accuracy: 2.5021e-05\n",
      "Epoch 96/100\n",
      "313/313 [==============================] - 10s 33ms/step - loss: 3.4963e-06 - accuracy: 2.5021e-05\n",
      "Epoch 97/100\n",
      "313/313 [==============================] - 11s 34ms/step - loss: 3.6105e-06 - accuracy: 2.5021e-05\n",
      "Epoch 98/100\n",
      "313/313 [==============================] - 11s 34ms/step - loss: 4.1598e-06 - accuracy: 2.5021e-05\n",
      "Epoch 99/100\n",
      "313/313 [==============================] - 10s 33ms/step - loss: 3.4214e-06 - accuracy: 2.5021e-05\n",
      "Epoch 100/100\n",
      "313/313 [==============================] - 11s 34ms/step - loss: 3.5366e-06 - accuracy: 2.5021e-05\n"
     ]
    },
    {
     "data": {
      "text/plain": [
       "<tensorflow.python.keras.callbacks.History at 0x181f6e4ea30>"
      ]
     },
     "execution_count": 8,
     "metadata": {},
     "output_type": "execute_result"
    }
   ],
   "source": [
    "from sklearn.metrics import mean_squared_error\n",
    "from math import sqrt\n",
    "from keras.models import Sequential\n",
    "from keras.layers.core import Dense, Dropout, Activation\n",
    "from keras.layers.recurrent import LSTM\n",
    "\n",
    "#建立、训练模型过程\n",
    "d = 0.0001\n",
    "model = Sequential()#建立层次模型\n",
    "model.add(LSTM(64, input_shape=(window, feanum), return_sequences=True))#建立LSTM层\n",
    "model.add(Dropout(d))#建立的遗忘层\n",
    "model.add(LSTM(16, input_shape=(window, feanum), return_sequences=False))#建立LSTM层\n",
    "model.add(Dropout(d))#建立的遗忘层\n",
    "model.add(Dense(4,kernel_initializer='uniform',activation='relu'))   #建立全连接层     \n",
    "model.add(Dense(1,kernel_initializer='uniform',activation='relu'))\n",
    "model.compile(loss='mse',optimizer='adam',metrics=['accuracy'])\n",
    "model.fit(X_train, Y_train, epochs =100, batch_size = 256) #训练模型epochs次"
   ]
  },
  {
   "cell_type": "code",
   "execution_count": 9,
   "id": "abf8f65a",
   "metadata": {},
   "outputs": [
    {
     "name": "stdout",
     "output_type": "stream",
     "text": [
      "Model: \"sequential\"\n",
      "_________________________________________________________________\n",
      "Layer (type)                 Output Shape              Param #   \n",
      "=================================================================\n",
      "lstm (LSTM)                  (None, 20, 64)            17664     \n",
      "_________________________________________________________________\n",
      "dropout (Dropout)            (None, 20, 64)            0         \n",
      "_________________________________________________________________\n",
      "lstm_1 (LSTM)                (None, 16)                5184      \n",
      "_________________________________________________________________\n",
      "dropout_1 (Dropout)          (None, 16)                0         \n",
      "_________________________________________________________________\n",
      "dense (Dense)                (None, 4)                 68        \n",
      "_________________________________________________________________\n",
      "dense_1 (Dense)              (None, 1)                 5         \n",
      "=================================================================\n",
      "Total params: 22,921\n",
      "Trainable params: 22,921\n",
      "Non-trainable params: 0\n",
      "_________________________________________________________________\n"
     ]
    }
   ],
   "source": [
    "#总结模型\n",
    "model.summary()"
   ]
  },
  {
   "cell_type": "markdown",
   "id": "082194db",
   "metadata": {},
   "source": [
    "## 3. 模型训练结果\n",
    "* 训练集"
   ]
  },
  {
   "cell_type": "code",
   "execution_count": 10,
   "id": "d7d73663",
   "metadata": {},
   "outputs": [],
   "source": [
    "#在训练集上的拟合结果\n",
    "Y_train_predict=model.predict(X_train)[:,0]\n",
    "Y_train = Y_train"
   ]
  },
  {
   "cell_type": "code",
   "execution_count": 11,
   "id": "805073a7",
   "metadata": {},
   "outputs": [
    {
     "data": {
      "text/plain": [
       "Text(0.5, 1.0, 'Train Data')"
      ]
     },
     "execution_count": 11,
     "metadata": {},
     "output_type": "execute_result"
    },
    {
     "data": {
      "image/png": "[encoded data removed]",
      "text/plain": [
       "<Figure size 864x432 with 1 Axes>"
      ]
     },
     "metadata": {
      "needs_background": "light"
     },
     "output_type": "display_data"
    }
   ],
   "source": [
    "import matplotlib.pyplot as plt\n",
    "\n",
    "draw=pd.concat([pd.DataFrame(Y_train),pd.DataFrame(Y_train_predict)],axis=1)\n",
    "draw.iloc[:300,0].plot(figsize=(12,6))\n",
    "draw.iloc[:300,1].plot(figsize=(12,6))\n",
    "plt.legend(('real', 'predict'),loc='upper right',fontsize='15')\n",
    "plt.title(\"Train Data\",fontsize='30') #添加标题\n",
    "#展示在训练集上的表现 "
   ]
  },
  {
   "cell_type": "code",
   "execution_count": 12,
   "id": "4c6e6df0",
   "metadata": {},
   "outputs": [],
   "source": [
    "#在测试集上的预测\n",
    "Y_test_predict=model.predict(X_test)[:,0]\n",
    "Y_test=Y_test"
   ]
  },
  {
   "cell_type": "code",
   "execution_count": 13,
   "id": "5b08631f",
   "metadata": {},
   "outputs": [
    {
     "data": {
      "text/plain": [
       "Text(0.5, 1.0, 'Test Data')"
      ]
     },
     "execution_count": 13,
     "metadata": {},
     "output_type": "execute_result"
    },
    {
     "data": {
      "image/png": "[encoded data removed]",
      "text/plain": [
       "<Figure size 864x432 with 1 Axes>"
      ]
     },
     "metadata": {
      "needs_background": "light"
     },
     "output_type": "display_data"
    }
   ],
   "source": [
    "draw=pd.concat([pd.DataFrame(Y_test),pd.DataFrame(Y_test_predict)],axis=1);\n",
    "draw.iloc[:100,0].plot(figsize=(12,6))\n",
    "draw.iloc[:100,1].plot(figsize=(12,6))\n",
    "plt.legend(('real', 'predict'),loc='upper right',fontsize='15')\n",
    "plt.title(\"Test Data\",fontsize='30') #添加标题\n",
    "# 展示在测试集上的表现 "
   ]
  },
  {
   "cell_type": "code",
   "execution_count": 14,
   "id": "e6e1e593",
   "metadata": {},
   "outputs": [
    {
     "name": "stdout",
     "output_type": "stream",
     "text": [
      "训练集上的MAE/MSE\n",
      "0.00091684899824\n",
      "3.05146119025952e-06\n",
      "测试集上的MAE/MSE\n",
      "0.0010688133898078059\n",
      "5.252745281409674e-06\n",
      "预测涨跌正确: 0.4033618046430136\n"
     ]
    }
   ],
   "source": [
    "#输出结果\n",
    "from sklearn.metrics import mean_absolute_error\n",
    "from sklearn.metrics import mean_squared_error\n",
    "import math\n",
    "\n",
    "print('训练集上的MAE/MSE')\n",
    "print(mean_absolute_error(Y_train_predict, Y_train))\n",
    "print(mean_squared_error(Y_train_predict, Y_train) )\n",
    "\n",
    "print('测试集上的MAE/MSE')\n",
    "print(mean_absolute_error(Y_test_predict, Y_test))\n",
    "print(mean_squared_error(Y_test_predict, Y_test) )\n",
    "\n",
    "# 做差转换为涨跌数据\n",
    "Y_var_test=Y_test[1:]-Y_test[:len(Y_test)-1]\n",
    "Y_var_predict=Y_test_predict[1:]-Y_test_predict[:len(Y_test_predict)-1]\n",
    "\n",
    "txt=np.zeros(len(Y_var_test))\n",
    "for i in range(len(Y_var_test-1)):\n",
    "    txt[i]=np.sign(Y_var_test[i])==np.sign(Y_var_predict[i]) # 判断符号是否相等\n",
    "result=sum(txt)/len(txt)\n",
    "print('预测涨跌正确:',result)"
   ]
  },
  {
   "cell_type": "markdown",
   "id": "c6ccf90c",
   "metadata": {},
   "source": [
    "> 结果汇总\n",
    "\n",
    "| 模型 | window | 训练集MAE             | 训练集MSE              | 测试集MAE             | 测试集MSE              | 预测涨跌准确率     |\n",
    "| ---- | ------ | --------------------- | ---------------------- | --------------------- | ---------------------- | ------------------ |\n",
    "| LSTM | 5      | 0.0011728267084450106 | 3.8141212405036153e-06 | 0.001295310474533392  | 6.1861634367502705e-06 | 0.4779419308505181 |\n",
    "| LSTM | 10     | 0.0007726309865856516 | 2.925683209640515e-06  | 0.000959968474900029  | 5.334122290676172e-06  | 0.4281597149444561 |\n",
    "| LSTM | 20     | 0.00091684899824      | 3.05146119025952e-06   | 0.0010688133898078059 | 5.252745281409674e-06  | 0.4033618046430136 |"
   ]
  }
 ],
 "metadata": {
  "kernelspec": {
   "display_name": "Python [conda env:env4tiho]",
   "language": "python",
   "name": "conda-env-env4tiho-py"
  },
  "language_info": {
   "codemirror_mode": {
    "name": "ipython",
    "version": 3
   },
   "file_extension": ".py",
   "mimetype": "text/x-python",
   "name": "python",
   "nbconvert_exporter": "python",
   "pygments_lexer": "ipython3",
   "version": "3.8.10"
  }
 },
 "nbformat": 4,
 "nbformat_minor": 5
}
