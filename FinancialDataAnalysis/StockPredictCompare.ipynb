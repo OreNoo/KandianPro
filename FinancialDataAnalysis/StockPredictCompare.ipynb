{
 "cells": [
  {
   "cell_type": "markdown",
   "id": "f53e43a8",
   "metadata": {},
   "source": [
    "# 使用未归一化的数据训练、对比"
   ]
  },
  {
   "cell_type": "markdown",
   "id": "fd0ebf25",
   "metadata": {},
   "source": [
    "## 1. 数据预处理\n",
    "### 1.1 根据股票代码划分数据\n",
    "* 训练集"
   ]
  },
  {
   "cell_type": "code",
   "execution_count": 1,
   "id": "99eed224",
   "metadata": {},
   "outputs": [],
   "source": [
    "cols = [0,1,2,3,4,6,7,9,13]"
   ]
  },
  {
   "cell_type": "code",
   "execution_count": 2,
   "id": "cb20b758",
   "metadata": {},
   "outputs": [
    {
     "name": "stdout",
     "output_type": "stream",
     "text": [
      "['000001.SZ' '000157.SZ' '000333.SZ' '000568.SZ' '000703.SZ' '000768.SZ'\n",
      " '002024.SZ' '002044.SZ' '002049.SZ' '002120.SZ' '002230.SZ' '002271.SZ'\n",
      " '002311.SZ' '002371.SZ' '002456.SZ' '002602.SZ' '002607.SZ' '002714.SZ'\n",
      " '002773.SZ' '300003.SZ' '300033.SZ' '300124.SZ' '300144.SZ' '300628.SZ'\n",
      " '600000.SH' '600009.SH' '600016.SH' '600019.SH' '600025.SH' '600028.SH'\n",
      " '600030.SH' '600031.SH' '600036.SH' '600048.SH' '600050.SH' '600061.SH'\n",
      " '600104.SH' '600115.SH' '600196.SH' '600276.SH' '600309.SH' '600340.SH'\n",
      " '600383.SH' '600489.SH' '600519.SH' '600547.SH' '600570.SH' '600585.SH'\n",
      " '600588.SH' '600690.SH' '600703.SH' '600745.SH' '600809.SH' '600837.SH'\n",
      " '600848.SH' '600886.SH' '600887.SH' '600926.SH' '600958.SH' '601006.SH'\n",
      " '601088.SH' '601166.SH' '601169.SH' '601238.SH' '601318.SH' '601319.SH'\n",
      " '601336.SH' '601398.SH' '601555.SH' '601601.SH' '601628.SH' '601788.SH'\n",
      " '601838.SH' '601857.SH' '601872.SH' '601899.SH' '601919.SH' '601990.SH'\n",
      " '601998.SH' '603233.SH' '603799.SH' '603833.SH']\n"
     ]
    },
    {
     "data": {
      "text/plain": [
       "82"
      ]
     },
     "execution_count": 2,
     "metadata": {},
     "output_type": "execute_result"
    }
   ],
   "source": [
    "import pandas as pd\n",
    "\n",
    "df = pd.read_csv(\"./data/train2.csv\", usecols=cols)\n",
    "stocks_code = df[\"kdcode\"].unique()\n",
    "stock_num = len(stocks_code)\n",
    "\n",
    "print(stocks_code)\n",
    "stock_num"
   ]
  },
  {
   "cell_type": "code",
   "execution_count": 3,
   "id": "fe1e6c6d",
   "metadata": {},
   "outputs": [],
   "source": [
    "# 根据股票代码划分数据\n",
    "for i, stock_i in enumerate(stocks_code):\n",
    "    stock_i_data = df[df['kdcode'].isin([stock_i])]\n",
    "    exec(\"train_df%s = stock_i_data\" % i)"
   ]
  },
  {
   "cell_type": "markdown",
   "id": "7bb933eb",
   "metadata": {},
   "source": [
    "* 测试集"
   ]
  },
  {
   "cell_type": "code",
   "execution_count": 4,
   "id": "c37ec969",
   "metadata": {},
   "outputs": [],
   "source": [
    "df2 = pd.read_csv(\"./data/test2.csv\", usecols=cols)\n",
    "stocks_code2 = df2[\"kdcode\"].unique()\n",
    "\n",
    "# 根据股票代码划分数据\n",
    "for i, stock_i in enumerate(stocks_code2):\n",
    "    stock_i_data = df2[df2['kdcode'].isin([stock_i])]\n",
    "    exec(\"test_df%s = stock_i_data\" % i)"
   ]
  },
  {
   "cell_type": "markdown",
   "id": "11c81832",
   "metadata": {},
   "source": [
    "共82支股票\n",
    "\n",
    "训练集按股票分为`train_df0`~`train_df81`\n",
    "\n",
    "测试集按股票分为`test_df0`~`test_df81`\n",
    "\n",
    "### 1.2 将原始数据改造为LSTM网络的输入"
   ]
  },
  {
   "cell_type": "code",
   "execution_count": 5,
   "id": "b021a185",
   "metadata": {},
   "outputs": [],
   "source": [
    "feanum=6 # 一共有多少特征\n",
    "window=7 # 时间窗设置"
   ]
  },
  {
   "cell_type": "markdown",
   "id": "73c0c7cf",
   "metadata": {},
   "source": [
    "分割出window个时间窗的数据为输入的`X`\n",
    "\n",
    "紧接着的那条数据为标签`Y`\n",
    "\n",
    "因此需要将每只股票的数据按照时间(日期)分割成`window + 1`长度的数据"
   ]
  },
  {
   "cell_type": "code",
   "execution_count": 6,
   "id": "9f03e340",
   "metadata": {},
   "outputs": [
    {
     "data": {
      "text/plain": [
       "(73987, 8, 7)"
      ]
     },
     "execution_count": 6,
     "metadata": {},
     "output_type": "execute_result"
    }
   ],
   "source": [
    "import numpy as np\n",
    "\n",
    "trainResult = []\n",
    "for i in range(stock_num): # 遍历训练集所有股票的DataFrame\n",
    "    exec(\"trainData = train_df%s.values\" % i)\n",
    "    sequence_length = window + 1\n",
    "    trainData = trainData[:,2:] # 去除股票代码、日期两字段\n",
    "    for index in range(len(trainData) - sequence_length + 1):\n",
    "        trainResult.append(trainData[index: index + sequence_length])\n",
    "\n",
    "trainResult = np.array(trainResult)\n",
    "trainResult.shape"
   ]
  },
  {
   "cell_type": "code",
   "execution_count": 7,
   "id": "719a5344",
   "metadata": {},
   "outputs": [
    {
     "data": {
      "text/plain": [
       "(19331, 8, 7)"
      ]
     },
     "execution_count": 7,
     "metadata": {},
     "output_type": "execute_result"
    }
   ],
   "source": [
    "testResult = []\n",
    "for i in range(stock_num): # 遍历训练集所有股票的DataFrame\n",
    "    exec(\"testData = test_df%s.values\" % i)\n",
    "    sequence_length = window + 1\n",
    "    testData = testData[:,2:] # 去除股票代码、日期两字段\n",
    "    for index in range(len(testData) - sequence_length + 1):\n",
    "        testResult.append(testData[index: index + sequence_length])\n",
    "\n",
    "testResult = np.array(testResult)\n",
    "testResult.shape"
   ]
  },
  {
   "cell_type": "markdown",
   "id": "1585be56",
   "metadata": {},
   "source": [
    "分割`X`, `Y`"
   ]
  },
  {
   "cell_type": "code",
   "execution_count": 8,
   "id": "3ae7b5a3",
   "metadata": {},
   "outputs": [
    {
     "name": "stdout",
     "output_type": "stream",
     "text": [
      "训练集X：(73987, 7, 6)\n",
      "测试集X：(19331, 7, 6)\n"
     ]
    }
   ],
   "source": [
    "X_train = trainResult[:, :-1, :-1]\n",
    "X_test = testResult[:, :-1, :-1]\n",
    "\n",
    "X_train = X_train.astype('float64')\n",
    "X_test = X_test.astype('float64')\n",
    "\n",
    "print(\"训练集X：\" + str(X_train.shape))\n",
    "print(\"测试集X：\" + str(X_test.shape))\n",
    "\n",
    "# X_train[0: 5]"
   ]
  },
  {
   "cell_type": "markdown",
   "id": "ea92dc3a",
   "metadata": {},
   "source": [
    "处理数据的Y\n",
    "\n",
    "涨为`1`,跌为`0`"
   ]
  },
  {
   "cell_type": "code",
   "execution_count": 9,
   "id": "fb0aa7aa",
   "metadata": {},
   "outputs": [
    {
     "data": {
      "text/plain": [
       "(73987,)"
      ]
     },
     "execution_count": 9,
     "metadata": {},
     "output_type": "execute_result"
    }
   ],
   "source": [
    "Y_train = trainResult[:, window, -1]\n",
    "Y_train.shape"
   ]
  },
  {
   "cell_type": "code",
   "execution_count": 10,
   "id": "8496eee2",
   "metadata": {},
   "outputs": [
    {
     "data": {
      "text/plain": [
       "(19331,)"
      ]
     },
     "execution_count": 10,
     "metadata": {},
     "output_type": "execute_result"
    }
   ],
   "source": [
    "Y_test = testResult[:, window, -1]\n",
    "Y_test.shape"
   ]
  },
  {
   "cell_type": "code",
   "execution_count": 11,
   "id": "86e593a8",
   "metadata": {},
   "outputs": [],
   "source": [
    "Y_train = Y_train.astype('float64')\n",
    "Y_test = Y_test.astype('float64')\n",
    "# Y_train[0:5]\n",
    "# Y_test[0:5]"
   ]
  },
  {
   "cell_type": "markdown",
   "id": "bc22d320",
   "metadata": {},
   "source": [
    "## 2. 模型构建与训练"
   ]
  },
  {
   "cell_type": "code",
   "execution_count": null,
   "id": "44fef3c9",
   "metadata": {},
   "outputs": [
    {
     "name": "stdout",
     "output_type": "stream",
     "text": [
      "Epoch 1/100\n",
      "290/290 [==============================] - 2s 7ms/step - loss: 0.6927 - accuracy: 0.5104\n",
      "Epoch 2/100\n",
      "290/290 [==============================] - 2s 7ms/step - loss: 0.6925 - accuracy: 0.5095\n",
      "Epoch 3/100\n",
      "290/290 [==============================] - 2s 6ms/step - loss: 0.6924 - accuracy: 0.5095\n",
      "Epoch 4/100\n",
      "290/290 [==============================] - 2s 7ms/step - loss: 0.6923 - accuracy: 0.5148\n",
      "Epoch 5/100\n",
      "290/290 [==============================] - 2s 6ms/step - loss: 0.6923 - accuracy: 0.5125\n",
      "Epoch 6/100\n",
      "290/290 [==============================] - 2s 6ms/step - loss: 0.6920 - accuracy: 0.5177\n",
      "Epoch 7/100\n",
      "290/290 [==============================] - 2s 6ms/step - loss: 0.6921 - accuracy: 0.5182\n",
      "Epoch 8/100\n",
      "290/290 [==============================] - 2s 6ms/step - loss: 0.6916 - accuracy: 0.5222\n",
      "Epoch 9/100\n",
      "290/290 [==============================] - 2s 6ms/step - loss: 0.6919 - accuracy: 0.5190\n",
      "Epoch 10/100\n",
      "290/290 [==============================] - 2s 7ms/step - loss: 0.6919 - accuracy: 0.5175\n",
      "Epoch 11/100\n",
      "290/290 [==============================] - 2s 7ms/step - loss: 0.6917 - accuracy: 0.5198\n",
      "Epoch 12/100\n",
      "290/290 [==============================] - 2s 7ms/step - loss: 0.6914 - accuracy: 0.5234\n",
      "Epoch 13/100\n",
      "290/290 [==============================] - 2s 7ms/step - loss: 0.6913 - accuracy: 0.5229\n",
      "Epoch 14/100\n",
      "290/290 [==============================] - 2s 7ms/step - loss: 0.6914 - accuracy: 0.5229\n",
      "Epoch 15/100\n",
      "290/290 [==============================] - 2s 7ms/step - loss: 0.6916 - accuracy: 0.5208\n",
      "Epoch 16/100\n",
      "290/290 [==============================] - 2s 7ms/step - loss: 0.6913 - accuracy: 0.5231\n",
      "Epoch 17/100\n",
      "290/290 [==============================] - 2s 7ms/step - loss: 0.6913 - accuracy: 0.5248\n",
      "Epoch 18/100\n",
      "290/290 [==============================] - 2s 7ms/step - loss: 0.6913 - accuracy: 0.5240\n",
      "Epoch 19/100\n",
      "290/290 [==============================] - 2s 7ms/step - loss: 0.6913 - accuracy: 0.5227\n",
      "Epoch 20/100\n",
      "290/290 [==============================] - 2s 7ms/step - loss: 0.6911 - accuracy: 0.5244\n",
      "Epoch 21/100\n",
      "290/290 [==============================] - 2s 7ms/step - loss: 0.6912 - accuracy: 0.5255\n",
      "Epoch 22/100\n",
      "290/290 [==============================] - 2s 7ms/step - loss: 0.6911 - accuracy: 0.5254\n",
      "Epoch 23/100\n",
      "290/290 [==============================] - 2s 6ms/step - loss: 0.6909 - accuracy: 0.5255\n",
      "Epoch 24/100\n",
      "290/290 [==============================] - 2s 7ms/step - loss: 0.6911 - accuracy: 0.5262\n",
      "Epoch 25/100\n",
      "290/290 [==============================] - 2s 7ms/step - loss: 0.6911 - accuracy: 0.5237\n",
      "Epoch 26/100\n",
      "290/290 [==============================] - 2s 7ms/step - loss: 0.6908 - accuracy: 0.5275\n",
      "Epoch 27/100\n",
      "290/290 [==============================] - 2s 7ms/step - loss: 0.6908 - accuracy: 0.5233\n",
      "Epoch 28/100\n",
      "290/290 [==============================] - 2s 7ms/step - loss: 0.6908 - accuracy: 0.5257\n",
      "Epoch 29/100\n",
      "290/290 [==============================] - 2s 7ms/step - loss: 0.6908 - accuracy: 0.5249\n",
      "Epoch 30/100\n",
      "290/290 [==============================] - 2s 6ms/step - loss: 0.6909 - accuracy: 0.5253\n",
      "Epoch 31/100\n",
      "290/290 [==============================] - 2s 7ms/step - loss: 0.6907 - accuracy: 0.5288\n",
      "Epoch 32/100\n",
      "290/290 [==============================] - 2s 7ms/step - loss: 0.6908 - accuracy: 0.5240\n",
      "Epoch 33/100\n",
      "258/290 [=========================>....] - ETA: 0s - loss: 0.6907 - accuracy: 0.5259"
     ]
    }
   ],
   "source": [
    "from sklearn.metrics import mean_squared_error\n",
    "from sklearn import metrics\n",
    "from math import sqrt\n",
    "from keras.models import Sequential\n",
    "from keras.layers.core import Dense, Dropout, Activation\n",
    "from keras.layers.recurrent import LSTM\n",
    "from keras.layers.recurrent import GRU\n",
    "from keras.callbacks import EarlyStopping\n",
    "\n",
    "#建立、训练模型过程\n",
    "d = 0.3\n",
    "model = Sequential()#建立层次模型\n",
    "model.add(LSTM(64, input_shape=(window, feanum), return_sequences=False))#建立LSTM层\n",
    "model.add(Dropout(d))#建立的遗忘层\n",
    "\n",
    "model.add(Dense(16,kernel_initializer='uniform',activation='relu'))   #建立全连接层     \n",
    "model.add(Dense(1, kernel_initializer = \"uniform\", activation = \"sigmoid\"))\n",
    "model.compile(loss='binary_crossentropy',optimizer='adam',metrics=['accuracy'])\n",
    "\n",
    "history = model.fit(X_train, Y_train, epochs = 100, batch_size = 256) #训练模型epochs次"
   ]
  },
  {
   "cell_type": "code",
   "execution_count": null,
   "id": "abf8f65a",
   "metadata": {},
   "outputs": [],
   "source": [
    "#总结模型\n",
    "model.summary()"
   ]
  },
  {
   "cell_type": "markdown",
   "id": "082194db",
   "metadata": {},
   "source": [
    "## 3. 模型训练结果\n",
    "* 训练集"
   ]
  },
  {
   "cell_type": "code",
   "execution_count": null,
   "id": "d7d73663",
   "metadata": {},
   "outputs": [],
   "source": [
    "#在训练集上的拟合结果\n",
    "Y_train_predict=model.predict(X_train)[:,0]\n",
    "Y_train = Y_train"
   ]
  },
  {
   "cell_type": "code",
   "execution_count": null,
   "id": "805073a7",
   "metadata": {},
   "outputs": [],
   "source": [
    "import matplotlib.pyplot as plt\n",
    "\n",
    "draw=pd.concat([pd.DataFrame(Y_train),pd.DataFrame(Y_train_predict)],axis=1)\n",
    "draw.iloc[:300,0].plot(figsize=(12,6))\n",
    "draw.iloc[:300,1].plot(figsize=(12,6))\n",
    "plt.legend(('real', 'predict'),loc='upper right',fontsize='15')\n",
    "plt.title(\"Train Data\",fontsize='30') #添加标题\n",
    "#展示在训练集上的表现 "
   ]
  },
  {
   "cell_type": "markdown",
   "id": "c0c8485d",
   "metadata": {},
   "source": [
    "* 测试集"
   ]
  },
  {
   "cell_type": "code",
   "execution_count": null,
   "id": "4c6e6df0",
   "metadata": {},
   "outputs": [],
   "source": [
    "#在测试集上的预测\n",
    "Y_test_predict=model.predict(X_test)[:,0]\n",
    "Y_test=Y_test"
   ]
  },
  {
   "cell_type": "code",
   "execution_count": null,
   "id": "5b08631f",
   "metadata": {},
   "outputs": [],
   "source": [
    "draw=pd.concat([pd.DataFrame(Y_test),pd.DataFrame(Y_test_predict)],axis=1);\n",
    "draw.iloc[:100,0].plot(figsize=(12,6))\n",
    "draw.iloc[:100,1].plot(figsize=(12,6))\n",
    "plt.legend(('real', 'predict'),loc='upper right',fontsize='15')\n",
    "plt.title(\"Test Data\",fontsize='30') #添加标题\n",
    "# 展示在测试集上的表现 "
   ]
  },
  {
   "cell_type": "code",
   "execution_count": null,
   "id": "e6e1e593",
   "metadata": {},
   "outputs": [],
   "source": [
    "txt = np.zeros(len(Y_test))\n",
    "test_predict = Y_test_predict.copy()\n",
    "test_predict[Y_test_predict > 0.5] = 1\n",
    "test_predict[Y_test_predict <= 0.5] = 0\n",
    "\n",
    "train_predict = Y_train_predict.copy()\n",
    "train_predict[Y_train_predict > 0.5] = 1\n",
    "train_predict[Y_train_predict <= 0.5] = 0\n",
    "\n",
    "result = metrics.accuracy_score(Y_test, test_predict)\n",
    "print('预测涨跌正确:',result)"
   ]
  },
  {
   "cell_type": "markdown",
   "id": "8f767783",
   "metadata": {},
   "source": [
    "* 训练过程Loss,Accuracy的变化"
   ]
  },
  {
   "cell_type": "code",
   "execution_count": null,
   "id": "36651b1f",
   "metadata": {},
   "outputs": [],
   "source": [
    "acc = history.history['accuracy']\n",
    "loss = history.history['loss']\n",
    "epochs = range(1, len(acc) + 1)\n",
    "\n",
    "plt.plot(epochs, loss, 'g', label='Training loss')\n",
    "plt.plot(epochs, acc, 'r', label='Training acc')  \n",
    "plt.title('Training loss and  acc')\n",
    "plt.xlabel('Epochs')\n",
    "plt.ylabel('Acc/Loss')\n",
    "plt.legend()"
   ]
  },
  {
   "cell_type": "markdown",
   "id": "22892038",
   "metadata": {},
   "source": [
    "* ROC曲线以及AUC值"
   ]
  },
  {
   "cell_type": "code",
   "execution_count": null,
   "id": "a0a85a8b",
   "metadata": {},
   "outputs": [],
   "source": [
    "# 测试集\n",
    "Y_test\n",
    "Y_test_predict\n",
    "fpr, tpr, thresholds = metrics.roc_curve(Y_test, Y_test_predict, pos_label=1)\n",
    "# print(\"fpr\",fpr)\n",
    "# print(\"tpr\",tpr)\n",
    "# print(\"thresholds\",thresholds)\n",
    "auc = metrics.auc(fpr, tpr)\n",
    "\n",
    "plt.figure()\n",
    "lw = 2\n",
    "plt.plot(fpr, tpr, color='darkorange',\n",
    "         lw=lw, label='ROC curve (area = %0.2f)' % auc)\n",
    "plt.plot([0, 1], [0, 1], color='navy', lw=lw, linestyle='--')\n",
    "plt.xlim([0.0, 1.0])\n",
    "plt.ylim([0.0, 1.05])\n",
    "plt.xlabel('False Positive Rate')\n",
    "plt.ylabel('True Positive Rate')\n",
    "plt.title('ROC of test set')\n",
    "plt.legend(loc=\"lower right\")\n",
    "plt.show()"
   ]
  },
  {
   "cell_type": "code",
   "execution_count": null,
   "id": "372eba7f",
   "metadata": {},
   "outputs": [],
   "source": [
    "# 训练集\n",
    "fpr, tpr, thresholds = metrics.roc_curve(Y_train, Y_train_predict, pos_label=1)\n",
    "# print(\"fpr\",fpr)\n",
    "# print(\"tpr\",tpr)\n",
    "# print(\"thresholds\",thresholds)\n",
    "auc = metrics.auc(fpr, tpr)\n",
    "\n",
    "plt.figure()\n",
    "lw = 2\n",
    "plt.plot(fpr, tpr, color='darkorange',\n",
    "         lw=lw, label='ROC curve (auc = %0.2f)' % auc)\n",
    "plt.plot([0, 1], [0, 1], color='navy', lw=lw, linestyle='--')\n",
    "plt.xlim([0.0, 1.0])\n",
    "plt.ylim([0.0, 1.05])\n",
    "plt.xlabel('False Positive Rate')\n",
    "plt.ylabel('True Positive Rate')\n",
    "plt.title('ROC of train set')\n",
    "plt.legend(loc=\"lower right\")\n",
    "plt.show()"
   ]
  },
  {
   "cell_type": "markdown",
   "id": "30104b6f",
   "metadata": {},
   "source": [
    "* f1-score"
   ]
  },
  {
   "cell_type": "code",
   "execution_count": null,
   "id": "36c13017",
   "metadata": {
    "scrolled": true
   },
   "outputs": [],
   "source": [
    "print(metrics.f1_score(Y_train, train_predict))\n",
    "print(metrics.f1_score(Y_test, test_predict))"
   ]
  },
  {
   "cell_type": "markdown",
   "id": "e66699a9",
   "metadata": {},
   "source": [
    "## 4. 保存模型"
   ]
  },
  {
   "cell_type": "code",
   "execution_count": null,
   "id": "911d0946",
   "metadata": {},
   "outputs": [],
   "source": [
    "model.save('./models/lstm_model_compare.h5')"
   ]
  },
  {
   "cell_type": "code",
   "execution_count": null,
   "id": "4f562f22",
   "metadata": {},
   "outputs": [],
   "source": [
    "# my_thresholds = [0.40, 0.41, 0.42, 0.43, 0.44, 0.45, 0.46, 0.47, 0.48, 0.49, 0.50, 0.51, 0.52, 0.53, 0.54, 0.55, 0.56, 0.57, 0.58, 0.59, 0.60]\n",
    "\n",
    "# for threshold in my_thresholds:\n",
    "#     Y_test_predict=model.predict(X_test, threshold = 0.52)[:,0]\n",
    "#     Y_test=Y_test\n",
    "#     test_predict = Y_test_predict.copy()\n",
    "#     test_predict[Y_test_predict > 0.5] = 1\n",
    "#     test_predict[Y_test_predict <= 0.5] = 0\n",
    "#     result = metrics.accuracy_score(Y_test, test_predict)\n",
    "#     print('threshold = ', threshold, '时预测涨跌正确率:',result)"
   ]
  }
 ],
 "metadata": {
  "kernelspec": {
   "display_name": "Python [conda env:env4tiho]",
   "language": "python",
   "name": "conda-env-env4tiho-py"
  },
  "language_info": {
   "codemirror_mode": {
    "name": "ipython",
    "version": 3
   },
   "file_extension": ".py",
   "mimetype": "text/x-python",
   "name": "python",
   "nbconvert_exporter": "python",
   "pygments_lexer": "ipython3",
   "version": "3.8.10"
  }
 },
 "nbformat": 4,
 "nbformat_minor": 5
}
