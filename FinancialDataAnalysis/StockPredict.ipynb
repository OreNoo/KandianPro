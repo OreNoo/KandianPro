{
 "cells": [
  {
   "cell_type": "markdown",
   "id": "34e59e98",
   "metadata": {},
   "source": [
    "## 1. 数据预处理"
   ]
  },
  {
   "cell_type": "markdown",
   "id": "1f2a53e4",
   "metadata": {},
   "source": [
    "### 1.1 根据股票代码划分数据\n",
    "* 训练集"
   ]
  },
  {
   "cell_type": "code",
   "execution_count": 1,
   "id": "915906df",
   "metadata": {},
   "outputs": [
    {
     "name": "stdout",
     "output_type": "stream",
     "text": [
      "['000001.SZ' '000157.SZ' '000333.SZ' '000568.SZ' '000703.SZ' '000768.SZ'\n",
      " '002024.SZ' '002044.SZ' '002049.SZ' '002120.SZ' '002230.SZ' '002271.SZ'\n",
      " '002311.SZ' '002371.SZ' '002456.SZ' '002602.SZ' '002607.SZ' '002714.SZ'\n",
      " '002773.SZ' '300003.SZ' '300033.SZ' '300124.SZ' '300144.SZ' '300628.SZ'\n",
      " '600000.SH' '600009.SH' '600016.SH' '600019.SH' '600025.SH' '600028.SH'\n",
      " '600030.SH' '600031.SH' '600036.SH' '600048.SH' '600050.SH' '600061.SH'\n",
      " '600104.SH' '600115.SH' '600196.SH' '600276.SH' '600309.SH' '600340.SH'\n",
      " '600383.SH' '600489.SH' '600519.SH' '600547.SH' '600570.SH' '600585.SH'\n",
      " '600588.SH' '600690.SH' '600703.SH' '600745.SH' '600809.SH' '600837.SH'\n",
      " '600848.SH' '600886.SH' '600887.SH' '600926.SH' '600958.SH' '601006.SH'\n",
      " '601088.SH' '601166.SH' '601169.SH' '601238.SH' '601318.SH' '601319.SH'\n",
      " '601336.SH' '601398.SH' '601555.SH' '601601.SH' '601628.SH' '601788.SH'\n",
      " '601838.SH' '601857.SH' '601872.SH' '601899.SH' '601919.SH' '601990.SH'\n",
      " '601998.SH' '603233.SH' '603799.SH' '603833.SH']\n"
     ]
    },
    {
     "data": {
      "text/plain": [
       "82"
      ]
     },
     "execution_count": 1,
     "metadata": {},
     "output_type": "execute_result"
    }
   ],
   "source": [
    "import pandas as pd\n",
    "\n",
    "df = pd.read_csv(\"./data/train.csv\")\n",
    "stocks_code = df[\"kdcode\"].unique()\n",
    "\n",
    "print(stocks_code)\n",
    "len(stocks_code)"
   ]
  },
  {
   "cell_type": "code",
   "execution_count": 2,
   "id": "efb37e2f",
   "metadata": {},
   "outputs": [
    {
     "name": "stdout",
     "output_type": "stream",
     "text": [
      "train_df0:\n",
      "      kdcode          dt    volume  turnover  adj_open  adj_high   adj_low  \\\n",
      "0  000001.SZ  2016-01-04  0.053897  0.029403  0.106737  0.106083  0.100116   \n",
      "1  000001.SZ  2016-01-05  0.063440  0.033641  0.100229  0.102017  0.099401   \n",
      "2  000001.SZ  2016-01-06  0.049326  0.026345  0.101566  0.101928  0.101546   \n",
      "3  000001.SZ  2016-01-07  0.016715  0.008673  0.101477  0.100603  0.097256   \n",
      "4  000001.SZ  2016-01-08  0.071499  0.037016  0.099694  0.099542  0.097167   \n",
      "\n",
      "   adj_downprice  adj_upprice   pct_chg  adj_close  \n",
      "0       0.106623     0.106641  0.084445   0.100536  \n",
      "1       0.100793     0.100739  0.197473   0.101159  \n",
      "2       0.101386     0.101386  0.207262   0.102315  \n",
      "3       0.102572     0.102518  0.091647   0.097067  \n",
      "4       0.097334     0.097263  0.216496   0.098668  \n",
      "###########################\n",
      "train_df81:\n",
      "          kdcode          dt    volume  turnover  adj_open  adj_high  \\\n",
      "80853  603833.SH  2017-03-28  0.000012  0.000038  0.007539  0.007467   \n",
      "80854  603833.SH  2017-03-29  0.000006  0.000019  0.008318  0.008239   \n",
      "80855  603833.SH  2017-03-30  0.000009  0.000032  0.009175  0.009089   \n",
      "80856  603833.SH  2017-03-31  0.000057  0.000253  0.010117  0.010023   \n",
      "80857  603833.SH  2017-04-03  0.000057  0.000253  0.010117  0.010023   \n",
      "\n",
      "        adj_low  adj_downprice  adj_upprice   pct_chg  adj_close  \n",
      "80853  0.007563       0.003837     0.007064  0.998831   0.007519  \n",
      "80854  0.008343       0.007771     0.007770  0.370710   0.008296  \n",
      "80855  0.009202       0.008548     0.008547  0.370710   0.009151  \n",
      "80856  0.010147       0.009401     0.009402  0.370894   0.010092  \n",
      "80857  0.010147       0.009401     0.009402  0.370894   0.010092  \n",
      "(1042, 11)\n",
      "(1042, 11)\n",
      "(1042, 11)\n",
      "(1042, 11)\n",
      "(1042, 11)\n",
      "(1042, 11)\n",
      "(1042, 11)\n",
      "(942, 11)\n",
      "(993, 11)\n",
      "(1042, 11)\n",
      "(1042, 11)\n",
      "(1042, 11)\n",
      "(1042, 11)\n",
      "(1037, 11)\n",
      "(1042, 11)\n",
      "(1042, 11)\n",
      "(1042, 11)\n",
      "(1042, 11)\n",
      "(1042, 11)\n",
      "(1042, 11)\n",
      "(1042, 11)\n",
      "(1042, 11)\n",
      "(1042, 11)\n",
      "(728, 11)\n",
      "(1042, 11)\n",
      "(1042, 11)\n",
      "(1042, 11)\n",
      "(1042, 11)\n",
      "(533, 11)\n",
      "(1042, 11)\n",
      "(1042, 11)\n",
      "(1042, 11)\n",
      "(1042, 11)\n",
      "(1042, 11)\n",
      "(1042, 11)\n",
      "(1042, 11)\n",
      "(1042, 11)\n",
      "(1042, 11)\n",
      "(1042, 11)\n",
      "(1042, 11)\n",
      "(1042, 11)\n",
      "(1042, 11)\n",
      "(1042, 11)\n",
      "(1042, 11)\n",
      "(1042, 11)\n",
      "(1042, 11)\n",
      "(1042, 11)\n",
      "(1042, 11)\n",
      "(1042, 11)\n",
      "(1022, 11)\n",
      "(1042, 11)\n",
      "(1042, 11)\n",
      "(1042, 11)\n",
      "(1042, 11)\n",
      "(1042, 11)\n",
      "(1042, 11)\n",
      "(1042, 11)\n",
      "(829, 11)\n",
      "(1042, 11)\n",
      "(1042, 11)\n",
      "(1042, 11)\n",
      "(1042, 11)\n",
      "(1042, 11)\n",
      "(1042, 11)\n",
      "(1042, 11)\n",
      "(293, 11)\n",
      "(1042, 11)\n",
      "(1042, 11)\n",
      "(1042, 11)\n",
      "(1042, 11)\n",
      "(1042, 11)\n",
      "(1042, 11)\n",
      "(500, 11)\n",
      "(1042, 11)\n",
      "(1042, 11)\n",
      "(1042, 11)\n",
      "(1042, 11)\n",
      "(405, 11)\n",
      "(1042, 11)\n",
      "(632, 11)\n",
      "(1041, 11)\n",
      "(721, 11)\n"
     ]
    }
   ],
   "source": [
    "# 根据股票代码划分数据\n",
    "for i, stock_i in enumerate(stocks_code):\n",
    "    stock_i_data = df[df['kdcode'].isin([stock_i])]\n",
    "    exec(\"train_df%s = stock_i_data\"%i)\n",
    "\n",
    "print(\"train_df0:\")\n",
    "print(train_df0.head())\n",
    "print(\"###########################\")\n",
    "print(\"train_df81:\")\n",
    "print(train_df81.head())\n",
    "\n",
    "for i in range(82):\n",
    "    exec(\"print(train_df%s.shape)\" % i)"
   ]
  },
  {
   "cell_type": "markdown",
   "id": "af020a51",
   "metadata": {},
   "source": [
    "* 测试集"
   ]
  },
  {
   "cell_type": "code",
   "execution_count": 3,
   "id": "cf48a074",
   "metadata": {},
   "outputs": [],
   "source": [
    "df2 = pd.read_csv(\"./data/test.csv\")\n",
    "stocks_code2 = df2[\"kdcode\"].unique()\n",
    "\n",
    "# 根据股票代码划分数据\n",
    "for i, stock_i in enumerate(stocks_code2):\n",
    "    stock_i_data = df2[df2['kdcode'].isin([stock_i])]\n",
    "    exec(\"test_df%s = stock_i_data\" % i)\n",
    "\n",
    "# print(\"test_df0:\")\n",
    "# print(test_df0.head())\n",
    "# print(\"###########################\")\n",
    "# print(\"test_df81:\")\n",
    "# print(test_df81.head())\n",
    "\n",
    "# for i in range(82):\n",
    "#     exec(\"print(test_df%s.shape)\" % i)"
   ]
  },
  {
   "cell_type": "markdown",
   "id": "066db5d2",
   "metadata": {},
   "source": [
    "共82支股票\n",
    "\n",
    "训练集按股票分为`train_df0`~`train_df81`\n",
    "\n",
    "测试集按股票分为`test_df0`~`test_df81`"
   ]
  },
  {
   "cell_type": "markdown",
   "id": "85560c24",
   "metadata": {},
   "source": [
    "## 2. "
   ]
  },
  {
   "cell_type": "code",
   "execution_count": null,
   "id": "4c45b420",
   "metadata": {},
   "outputs": [],
   "source": [
    "feanum=9 #一共有多少特征\n",
    "window=5 #时间窗设置"
   ]
  }
 ],
 "metadata": {
  "kernelspec": {
   "display_name": "Python 3",
   "language": "python",
   "name": "python3"
  },
  "language_info": {
   "codemirror_mode": {
    "name": "ipython",
    "version": 3
   },
   "file_extension": ".py",
   "mimetype": "text/x-python",
   "name": "python",
   "nbconvert_exporter": "python",
   "pygments_lexer": "ipython3",
   "version": "3.8.8"
  }
 },
 "nbformat": 4,
 "nbformat_minor": 5
}
