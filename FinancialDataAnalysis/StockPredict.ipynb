{
 "cells": [
  {
   "cell_type": "markdown",
   "id": "dd904e97",
   "metadata": {},
   "source": [
    "## 0. 实验介绍"
   ]
  },
  {
   "cell_type": "markdown",
   "id": "22d0929c",
   "metadata": {},
   "source": [
    "使用\n",
    "```\n",
    "-volume: 成交量\n",
    "-turnover: 成交金额\n",
    "-adj_open: 复权后的开盘价\n",
    "-adj_close: 复权后的收盘价\n",
    "-adj_high: 复权后的最高价\n",
    "-adj_low: 复权后的最低价\n",
    "-adj_downprice: 复权后的跌停价\n",
    "-adj_upprice: 复权后的涨停价\n",
    "-pct_chg: 当日涨跌幅\n",
    "```\n",
    "**九个数据属性**基于**LSTM**模型预测未来一个交易日的涨跌。"
   ]
  },
  {
   "cell_type": "markdown",
   "id": "280ed5dc",
   "metadata": {},
   "source": [
    "## 1. 数据预处理"
   ]
  },
  {
   "cell_type": "markdown",
   "id": "2f35e4b7",
   "metadata": {},
   "source": [
    "### 1.1 根据股票代码划分数据\n",
    "* 训练集"
   ]
  },
  {
   "cell_type": "code",
   "execution_count": 1,
   "id": "d46fae9c",
   "metadata": {},
   "outputs": [
    {
     "name": "stdout",
     "output_type": "stream",
     "text": [
      "['000001.SZ' '000157.SZ' '000333.SZ' '000568.SZ' '000703.SZ' '000768.SZ'\n",
      " '002024.SZ' '002044.SZ' '002049.SZ' '002120.SZ' '002230.SZ' '002271.SZ'\n",
      " '002311.SZ' '002371.SZ' '002456.SZ' '002602.SZ' '002607.SZ' '002714.SZ'\n",
      " '002773.SZ' '300003.SZ' '300033.SZ' '300124.SZ' '300144.SZ' '300628.SZ'\n",
      " '600000.SH' '600009.SH' '600016.SH' '600019.SH' '600025.SH' '600028.SH'\n",
      " '600030.SH' '600031.SH' '600036.SH' '600048.SH' '600050.SH' '600061.SH'\n",
      " '600104.SH' '600115.SH' '600196.SH' '600276.SH' '600309.SH' '600340.SH'\n",
      " '600383.SH' '600489.SH' '600519.SH' '600547.SH' '600570.SH' '600585.SH'\n",
      " '600588.SH' '600690.SH' '600703.SH' '600745.SH' '600809.SH' '600837.SH'\n",
      " '600848.SH' '600886.SH' '600887.SH' '600926.SH' '600958.SH' '601006.SH'\n",
      " '601088.SH' '601166.SH' '601169.SH' '601238.SH' '601318.SH' '601319.SH'\n",
      " '601336.SH' '601398.SH' '601555.SH' '601601.SH' '601628.SH' '601788.SH'\n",
      " '601838.SH' '601857.SH' '601872.SH' '601899.SH' '601919.SH' '601990.SH'\n",
      " '601998.SH' '603233.SH' '603799.SH' '603833.SH']\n"
     ]
    },
    {
     "data": {
      "text/plain": [
       "82"
      ]
     },
     "execution_count": 1,
     "metadata": {},
     "output_type": "execute_result"
    }
   ],
   "source": [
    "import pandas as pd\n",
    "\n",
    "df = pd.read_csv(\"./data/train.csv\", usecols=[0,1,2,3,4,5,6,7,8,9,10])\n",
    "stocks_code = df[\"kdcode\"].unique()\n",
    "stock_num = len(stocks_code)\n",
    "\n",
    "print(stocks_code)\n",
    "stock_num"
   ]
  },
  {
   "cell_type": "code",
   "execution_count": 2,
   "id": "39b598fc",
   "metadata": {},
   "outputs": [
    {
     "name": "stdout",
     "output_type": "stream",
     "text": [
      "train_df0:\n",
      "      kdcode          dt    volume  turnover  adj_open  adj_high   adj_low  \\\n",
      "0  000001.SZ  2016-01-04  0.053897  0.029403  0.106737  0.106083  0.100116   \n",
      "1  000001.SZ  2016-01-05  0.063440  0.033641  0.100229  0.102017  0.099401   \n",
      "2  000001.SZ  2016-01-06  0.049326  0.026345  0.101566  0.101928  0.101546   \n",
      "3  000001.SZ  2016-01-07  0.016715  0.008673  0.101477  0.100603  0.097256   \n",
      "4  000001.SZ  2016-01-08  0.071499  0.037016  0.099694  0.099542  0.097167   \n",
      "\n",
      "   adj_downprice  adj_upprice   pct_chg  adj_close  \n",
      "0       0.106623     0.106641  0.084445   0.100536  \n",
      "1       0.100793     0.100739  0.197473   0.101159  \n",
      "2       0.101386     0.101386  0.207262   0.102315  \n",
      "3       0.102572     0.102518  0.091647   0.097067  \n",
      "4       0.097334     0.097263  0.216496   0.098668  \n",
      "###########################\n",
      "train_df81:\n",
      "          kdcode          dt    volume  turnover  adj_open  adj_high  \\\n",
      "80853  603833.SH  2017-03-28  0.000012  0.000038  0.007539  0.007467   \n",
      "80854  603833.SH  2017-03-29  0.000006  0.000019  0.008318  0.008239   \n",
      "80855  603833.SH  2017-03-30  0.000009  0.000032  0.009175  0.009089   \n",
      "80856  603833.SH  2017-03-31  0.000057  0.000253  0.010117  0.010023   \n",
      "80857  603833.SH  2017-04-03  0.000057  0.000253  0.010117  0.010023   \n",
      "\n",
      "        adj_low  adj_downprice  adj_upprice   pct_chg  adj_close  \n",
      "80853  0.007563       0.003837     0.007064  0.998831   0.007519  \n",
      "80854  0.008343       0.007771     0.007770  0.370710   0.008296  \n",
      "80855  0.009202       0.008548     0.008547  0.370710   0.009151  \n",
      "80856  0.010147       0.009401     0.009402  0.370894   0.010092  \n",
      "80857  0.010147       0.009401     0.009402  0.370894   0.010092  \n",
      "(1042, 11)\n",
      "(1042, 11)\n",
      "(1042, 11)\n",
      "(1042, 11)\n",
      "(1042, 11)\n",
      "(1042, 11)\n",
      "(1042, 11)\n",
      "(942, 11)\n",
      "(993, 11)\n",
      "(1042, 11)\n",
      "(1042, 11)\n",
      "(1042, 11)\n",
      "(1042, 11)\n",
      "(1037, 11)\n",
      "(1042, 11)\n",
      "(1042, 11)\n",
      "(1042, 11)\n",
      "(1042, 11)\n",
      "(1042, 11)\n",
      "(1042, 11)\n",
      "(1042, 11)\n",
      "(1042, 11)\n",
      "(1042, 11)\n",
      "(728, 11)\n",
      "(1042, 11)\n",
      "(1042, 11)\n",
      "(1042, 11)\n",
      "(1042, 11)\n",
      "(533, 11)\n",
      "(1042, 11)\n",
      "(1042, 11)\n",
      "(1042, 11)\n",
      "(1042, 11)\n",
      "(1042, 11)\n",
      "(1042, 11)\n",
      "(1042, 11)\n",
      "(1042, 11)\n",
      "(1042, 11)\n",
      "(1042, 11)\n",
      "(1042, 11)\n",
      "(1042, 11)\n",
      "(1042, 11)\n",
      "(1042, 11)\n",
      "(1042, 11)\n",
      "(1042, 11)\n",
      "(1042, 11)\n",
      "(1042, 11)\n",
      "(1042, 11)\n",
      "(1042, 11)\n",
      "(1022, 11)\n",
      "(1042, 11)\n",
      "(1042, 11)\n",
      "(1042, 11)\n",
      "(1042, 11)\n",
      "(1042, 11)\n",
      "(1042, 11)\n",
      "(1042, 11)\n",
      "(829, 11)\n",
      "(1042, 11)\n",
      "(1042, 11)\n",
      "(1042, 11)\n",
      "(1042, 11)\n",
      "(1042, 11)\n",
      "(1042, 11)\n",
      "(1042, 11)\n",
      "(293, 11)\n",
      "(1042, 11)\n",
      "(1042, 11)\n",
      "(1042, 11)\n",
      "(1042, 11)\n",
      "(1042, 11)\n",
      "(1042, 11)\n",
      "(500, 11)\n",
      "(1042, 11)\n",
      "(1042, 11)\n",
      "(1042, 11)\n",
      "(1042, 11)\n",
      "(405, 11)\n",
      "(1042, 11)\n",
      "(632, 11)\n",
      "(1041, 11)\n",
      "(721, 11)\n"
     ]
    }
   ],
   "source": [
    "# 根据股票代码划分数据\n",
    "for i, stock_i in enumerate(stocks_code):\n",
    "    stock_i_data = df[df['kdcode'].isin([stock_i])]\n",
    "    exec(\"train_df%s = stock_i_data\"%i)\n",
    "\n",
    "print(\"train_df0:\")\n",
    "print(train_df0.head())\n",
    "print(\"###########################\")\n",
    "print(\"train_df81:\")\n",
    "print(train_df81.head())\n",
    "\n",
    "for i in range(stock_num):\n",
    "    exec(\"print(train_df%s.shape)\" % i)"
   ]
  },
  {
   "cell_type": "markdown",
   "id": "a5f2aa9f",
   "metadata": {},
   "source": [
    "* 测试集"
   ]
  },
  {
   "cell_type": "code",
   "execution_count": 3,
   "id": "b505e2f1",
   "metadata": {},
   "outputs": [],
   "source": [
    "df2 = pd.read_csv(\"./data/test.csv\", usecols=[0,1,2,3,4,5,6,7,8,9,10])\n",
    "stocks_code2 = df2[\"kdcode\"].unique()\n",
    "\n",
    "# 根据股票代码划分数据\n",
    "for i, stock_i in enumerate(stocks_code2):\n",
    "    stock_i_data = df2[df2['kdcode'].isin([stock_i])]\n",
    "    exec(\"test_df%s = stock_i_data\" % i)\n",
    "\n",
    "# print(\"test_df0:\")\n",
    "# print(test_df0.head())\n",
    "# print(\"###########################\")\n",
    "# print(\"test_df81:\")\n",
    "# print(test_df81.head())\n",
    "\n",
    "# for i in range(82):\n",
    "#     exec(\"print(test_df%s.shape)\" % i)"
   ]
  },
  {
   "cell_type": "markdown",
   "id": "d6d8b2d9",
   "metadata": {},
   "source": [
    "共82支股票\n",
    "\n",
    "训练集按股票分为`train_df0`~`train_df81`\n",
    "\n",
    "测试集按股票分为`test_df0`~`test_df81`"
   ]
  },
  {
   "cell_type": "markdown",
   "id": "ce69e08c",
   "metadata": {},
   "source": [
    "### 1.2 将原始数据改造为LSTM网络的输入"
   ]
  },
  {
   "cell_type": "code",
   "execution_count": 4,
   "id": "efbfabaa",
   "metadata": {},
   "outputs": [],
   "source": [
    "feanum=9 # 一共有多少特征\n",
    "window=5 # 时间窗设置"
   ]
  },
  {
   "cell_type": "markdown",
   "id": "0c602b7e",
   "metadata": {},
   "source": [
    "分割出window个时间窗的数据为输入的`X`\n",
    "\n",
    "紧接着的那条数据为标签`Y`\n",
    "\n",
    "因此需要将每只股票的数据按照时间(日期)分割成`window + 1`长度的数据"
   ]
  },
  {
   "cell_type": "code",
   "execution_count": 5,
   "id": "b266121b",
   "metadata": {},
   "outputs": [
    {
     "data": {
      "text/plain": [
       "(81082, 6, 9)"
      ]
     },
     "execution_count": 5,
     "metadata": {},
     "output_type": "execute_result"
    }
   ],
   "source": [
    "import numpy as np\n",
    "\n",
    "trainResult = []\n",
    "for i in range(stock_num): # 遍历训练集所有股票的DataFrame\n",
    "    exec(\"trainData = train_df%s.values\" % i)\n",
    "    sequence_length = window + 1\n",
    "    trainData = trainData[:,2:] # 去除股票代码、日期两字段\n",
    "    for index in range(len(trainData) - sequence_length):\n",
    "        trainResult.append(trainData[index: index + sequence_length])\n",
    "\n",
    "trainResult = np.array(trainResult)\n",
    "trainResult.shape"
   ]
  },
  {
   "cell_type": "code",
   "execution_count": 6,
   "id": "768dd269",
   "metadata": {},
   "outputs": [
    {
     "data": {
      "text/plain": [
       "(19413, 6, 9)"
      ]
     },
     "execution_count": 6,
     "metadata": {},
     "output_type": "execute_result"
    }
   ],
   "source": [
    "testResult = []\n",
    "for i in range(stock_num): # 遍历训练集所有股票的DataFrame\n",
    "    exec(\"testData = test_df%s.values\" % i)\n",
    "    sequence_length = window + 1\n",
    "    testData = testData[:,2:] # 去除股票代码、日期两字段\n",
    "    for index in range(len(testData) - sequence_length):\n",
    "        testResult.append(testData[index: index + sequence_length])\n",
    "\n",
    "testResult = np.array(testResult)\n",
    "testResult.shape"
   ]
  },
  {
   "cell_type": "markdown",
   "id": "0e8000e0",
   "metadata": {},
   "source": [
    "分割`X`, `Y`"
   ]
  },
  {
   "cell_type": "code",
   "execution_count": 9,
   "id": "0232f2a9",
   "metadata": {},
   "outputs": [
    {
     "name": "stdout",
     "output_type": "stream",
     "text": [
      "训练集X：(81082, 5, 9)\n",
      "训练集Y：(81082,)\n",
      "测试集X：(19413, 5, 9)\n",
      "测试集Y：(19413,)\n"
     ]
    }
   ],
   "source": [
    "X_train = trainResult[:, :-1]\n",
    "Y_train = trainResult[:, -1][:, -1]\n",
    "X_test = testResult[:, :-1]\n",
    "Y_test = testResult[:, -1][:, -1]\n",
    "\n",
    "X_train = X_train.astype('float64')\n",
    "Y_train = Y_train.astype('float64')\n",
    "X_test = X_test.astype('float64')\n",
    "Y_test = Y_test.astype('float64')\n",
    "\n",
    "print(\"训练集X：\" + str(X_train.shape))\n",
    "print(\"训练集Y：\" + str(Y_train.shape))\n",
    "print(\"测试集X：\" + str(X_test.shape))\n",
    "print(\"测试集Y：\" + str(Y_test.shape))"
   ]
  },
  {
   "cell_type": "markdown",
   "id": "13561a7f",
   "metadata": {},
   "source": [
    "## 2. 模型构建与训练"
   ]
  },
  {
   "cell_type": "code",
   "execution_count": 8,
   "id": "4e1cf850",
   "metadata": {},
   "outputs": [
    {
     "name": "stdout",
     "output_type": "stream",
     "text": [
      "Epoch 1/100\n",
      "317/317 [==============================] - 3s 8ms/step - loss: 0.0013 - accuracy: 1.2333e-05\n",
      "Epoch 2/100\n",
      "317/317 [==============================] - 3s 8ms/step - loss: 1.2818e-05 - accuracy: 2.4666e-05\n",
      "Epoch 3/100\n",
      "317/317 [==============================] - 2s 8ms/step - loss: 9.9900e-06 - accuracy: 2.4666e-05\n",
      "Epoch 4/100\n",
      "317/317 [==============================] - 2s 8ms/step - loss: 8.5395e-06 - accuracy: 2.4666e-05\n",
      "Epoch 5/100\n",
      "317/317 [==============================] - 2s 8ms/step - loss: 7.6598e-06 - accuracy: 2.4666e-05\n",
      "Epoch 6/100\n",
      "317/317 [==============================] - 2s 8ms/step - loss: 7.7052e-06 - accuracy: 2.4666e-05\n",
      "Epoch 7/100\n",
      "317/317 [==============================] - 2s 8ms/step - loss: 6.7050e-06 - accuracy: 2.4666e-05\n",
      "Epoch 8/100\n",
      "317/317 [==============================] - 2s 8ms/step - loss: 6.4589e-06 - accuracy: 2.4666e-05\n",
      "Epoch 9/100\n",
      "317/317 [==============================] - 3s 8ms/step - loss: 7.1784e-06 - accuracy: 2.4666e-05\n",
      "Epoch 10/100\n",
      "317/317 [==============================] - 3s 8ms/step - loss: 6.0342e-06 - accuracy: 2.4666e-05\n",
      "Epoch 11/100\n",
      "317/317 [==============================] - 2s 8ms/step - loss: 5.8396e-06 - accuracy: 2.4666e-05\n",
      "Epoch 12/100\n",
      "317/317 [==============================] - 2s 8ms/step - loss: 7.9512e-06 - accuracy: 2.4666e-05\n",
      "Epoch 13/100\n",
      "317/317 [==============================] - 2s 8ms/step - loss: 5.8898e-06 - accuracy: 2.4666e-05\n",
      "Epoch 14/100\n",
      "317/317 [==============================] - 2s 8ms/step - loss: 4.6588e-06 - accuracy: 2.4666e-05\n",
      "Epoch 15/100\n",
      "317/317 [==============================] - 2s 8ms/step - loss: 4.7585e-06 - accuracy: 2.4666e-05\n",
      "Epoch 16/100\n",
      "317/317 [==============================] - 2s 8ms/step - loss: 4.5531e-06 - accuracy: 2.4666e-05\n",
      "Epoch 17/100\n",
      "317/317 [==============================] - 2s 8ms/step - loss: 4.9642e-06 - accuracy: 2.4666e-05\n",
      "Epoch 18/100\n",
      "317/317 [==============================] - 2s 8ms/step - loss: 4.7119e-06 - accuracy: 2.4666e-05\n",
      "Epoch 19/100\n",
      "317/317 [==============================] - 3s 8ms/step - loss: 4.9522e-06 - accuracy: 2.4666e-05\n",
      "Epoch 20/100\n",
      "317/317 [==============================] - 2s 8ms/step - loss: 4.7287e-06 - accuracy: 2.4666e-05\n",
      "Epoch 21/100\n",
      "317/317 [==============================] - 2s 8ms/step - loss: 4.2595e-06 - accuracy: 2.4666e-05\n",
      "Epoch 22/100\n",
      "317/317 [==============================] - 2s 8ms/step - loss: 4.3696e-06 - accuracy: 2.4666e-05\n",
      "Epoch 23/100\n",
      "317/317 [==============================] - 3s 8ms/step - loss: 4.0638e-06 - accuracy: 2.4666e-05\n",
      "Epoch 24/100\n",
      "317/317 [==============================] - 3s 8ms/step - loss: 4.0985e-06 - accuracy: 2.4666e-05\n",
      "Epoch 25/100\n",
      "317/317 [==============================] - 3s 8ms/step - loss: 4.5254e-06 - accuracy: 2.4666e-05\n",
      "Epoch 26/100\n",
      "317/317 [==============================] - 2s 8ms/step - loss: 3.9693e-06 - accuracy: 2.4666e-05\n",
      "Epoch 27/100\n",
      "317/317 [==============================] - 2s 8ms/step - loss: 4.1741e-06 - accuracy: 2.4666e-05\n",
      "Epoch 28/100\n",
      "317/317 [==============================] - 3s 8ms/step - loss: 4.1115e-06 - accuracy: 2.4666e-05\n",
      "Epoch 29/100\n",
      "317/317 [==============================] - 3s 8ms/step - loss: 3.8073e-06 - accuracy: 2.4666e-05\n",
      "Epoch 30/100\n",
      "317/317 [==============================] - 3s 8ms/step - loss: 4.5612e-06 - accuracy: 2.4666e-05\n",
      "Epoch 31/100\n",
      "317/317 [==============================] - 3s 8ms/step - loss: 3.8649e-06 - accuracy: 2.4666e-05\n",
      "Epoch 32/100\n",
      "317/317 [==============================] - 3s 8ms/step - loss: 3.8313e-06 - accuracy: 2.4666e-05\n",
      "Epoch 33/100\n",
      "317/317 [==============================] - 2s 8ms/step - loss: 4.0602e-06 - accuracy: 2.4666e-05\n",
      "Epoch 34/100\n",
      "317/317 [==============================] - 2s 8ms/step - loss: 4.1441e-06 - accuracy: 2.4666e-05\n",
      "Epoch 35/100\n",
      "317/317 [==============================] - 2s 8ms/step - loss: 3.8113e-06 - accuracy: 2.4666e-05\n",
      "Epoch 36/100\n",
      "317/317 [==============================] - 2s 8ms/step - loss: 3.7525e-06 - accuracy: 2.4666e-05\n",
      "Epoch 37/100\n",
      "317/317 [==============================] - 2s 8ms/step - loss: 4.0127e-06 - accuracy: 2.4666e-05\n",
      "Epoch 38/100\n",
      "317/317 [==============================] - 2s 8ms/step - loss: 3.9340e-06 - accuracy: 2.4666e-05\n",
      "Epoch 39/100\n",
      "317/317 [==============================] - 2s 8ms/step - loss: 4.8814e-06 - accuracy: 2.4666e-05\n",
      "Epoch 40/100\n",
      "317/317 [==============================] - 2s 8ms/step - loss: 3.5659e-06 - accuracy: 2.4666e-05\n",
      "Epoch 41/100\n",
      "317/317 [==============================] - 2s 8ms/step - loss: 5.0902e-06 - accuracy: 2.4666e-05\n",
      "Epoch 42/100\n",
      "317/317 [==============================] - 2s 8ms/step - loss: 3.8469e-06 - accuracy: 2.4666e-05\n",
      "Epoch 43/100\n",
      "317/317 [==============================] - 2s 8ms/step - loss: 4.0036e-06 - accuracy: 2.4666e-05\n",
      "Epoch 44/100\n",
      "317/317 [==============================] - 2s 8ms/step - loss: 4.5177e-06 - accuracy: 2.4666e-05\n",
      "Epoch 45/100\n",
      "317/317 [==============================] - 2s 8ms/step - loss: 4.0408e-06 - accuracy: 2.4666e-05\n",
      "Epoch 46/100\n",
      "317/317 [==============================] - 2s 8ms/step - loss: 3.9193e-06 - accuracy: 2.4666e-05\n",
      "Epoch 47/100\n",
      "317/317 [==============================] - 2s 8ms/step - loss: 3.5419e-06 - accuracy: 2.4666e-05\n",
      "Epoch 48/100\n",
      "317/317 [==============================] - 2s 8ms/step - loss: 3.3837e-06 - accuracy: 2.4666e-05\n",
      "Epoch 49/100\n",
      "317/317 [==============================] - 2s 8ms/step - loss: 4.4400e-06 - accuracy: 2.4666e-05\n",
      "Epoch 50/100\n",
      "317/317 [==============================] - 2s 8ms/step - loss: 3.9573e-06 - accuracy: 2.4666e-05\n",
      "Epoch 51/100\n",
      "317/317 [==============================] - 2s 8ms/step - loss: 4.3816e-06 - accuracy: 2.4666e-05\n",
      "Epoch 52/100\n",
      "317/317 [==============================] - 2s 8ms/step - loss: 4.0915e-06 - accuracy: 2.4666e-05\n",
      "Epoch 53/100\n",
      "317/317 [==============================] - 3s 8ms/step - loss: 3.4342e-06 - accuracy: 2.4666e-05\n",
      "Epoch 54/100\n",
      "317/317 [==============================] - 3s 8ms/step - loss: 4.1661e-06 - accuracy: 2.4666e-05\n",
      "Epoch 55/100\n",
      "317/317 [==============================] - 3s 8ms/step - loss: 3.7598e-06 - accuracy: 2.4666e-05\n",
      "Epoch 56/100\n",
      "317/317 [==============================] - 2s 8ms/step - loss: 3.3297e-06 - accuracy: 2.4666e-05\n",
      "Epoch 57/100\n",
      "317/317 [==============================] - 2s 8ms/step - loss: 3.7902e-06 - accuracy: 2.4666e-05\n",
      "Epoch 58/100\n",
      "317/317 [==============================] - 3s 8ms/step - loss: 3.9004e-06 - accuracy: 2.4666e-05\n",
      "Epoch 59/100\n",
      "317/317 [==============================] - 3s 8ms/step - loss: 3.9300e-06 - accuracy: 2.4666e-05\n",
      "Epoch 60/100\n",
      "317/317 [==============================] - 3s 9ms/step - loss: 3.3678e-06 - accuracy: 2.4666e-05\n",
      "Epoch 61/100\n",
      "317/317 [==============================] - 3s 8ms/step - loss: 3.9221e-06 - accuracy: 2.4666e-05\n",
      "Epoch 62/100\n",
      "317/317 [==============================] - 3s 8ms/step - loss: 4.5292e-06 - accuracy: 2.4666e-05\n",
      "Epoch 63/100\n",
      "317/317 [==============================] - 2s 8ms/step - loss: 3.4367e-06 - accuracy: 2.4666e-05\n",
      "Epoch 64/100\n",
      "317/317 [==============================] - 2s 8ms/step - loss: 3.7187e-06 - accuracy: 2.4666e-05\n",
      "Epoch 65/100\n",
      "317/317 [==============================] - 3s 8ms/step - loss: 3.4833e-06 - accuracy: 2.4666e-05\n",
      "Epoch 66/100\n",
      "317/317 [==============================] - 3s 8ms/step - loss: 3.4817e-06 - accuracy: 2.4666e-05\n",
      "Epoch 67/100\n",
      "317/317 [==============================] - 2s 8ms/step - loss: 3.4355e-06 - accuracy: 2.4666e-05\n",
      "Epoch 68/100\n",
      "317/317 [==============================] - 2s 7ms/step - loss: 3.7021e-06 - accuracy: 2.4666e-05\n",
      "Epoch 69/100\n",
      "317/317 [==============================] - 2s 7ms/step - loss: 3.9164e-06 - accuracy: 2.4666e-05\n",
      "Epoch 70/100\n",
      "317/317 [==============================] - 2s 8ms/step - loss: 3.4902e-06 - accuracy: 2.4666e-05\n",
      "Epoch 71/100\n",
      "317/317 [==============================] - 2s 7ms/step - loss: 3.6826e-06 - accuracy: 2.4666e-05\n",
      "Epoch 72/100\n",
      "317/317 [==============================] - 2s 8ms/step - loss: 3.7612e-06 - accuracy: 2.4666e-05\n",
      "Epoch 73/100\n",
      "317/317 [==============================] - 2s 7ms/step - loss: 3.4638e-06 - accuracy: 2.4666e-05\n",
      "Epoch 74/100\n",
      "317/317 [==============================] - 2s 8ms/step - loss: 3.4588e-06 - accuracy: 2.4666e-05\n",
      "Epoch 75/100\n",
      "317/317 [==============================] - 3s 10ms/step - loss: 3.7832e-06 - accuracy: 2.4666e-05\n",
      "Epoch 76/100\n",
      "317/317 [==============================] - 3s 9ms/step - loss: 3.6777e-06 - accuracy: 2.4666e-05\n",
      "Epoch 77/100\n",
      "317/317 [==============================] - 3s 9ms/step - loss: 3.6013e-06 - accuracy: 2.4666e-05\n",
      "Epoch 78/100\n",
      "317/317 [==============================] - 3s 8ms/step - loss: 3.2818e-06 - accuracy: 2.4666e-05\n",
      "Epoch 79/100\n",
      "317/317 [==============================] - 3s 8ms/step - loss: 4.1180e-06 - accuracy: 2.4666e-05\n",
      "Epoch 80/100\n",
      "317/317 [==============================] - 2s 8ms/step - loss: 3.5293e-06 - accuracy: 2.4666e-05\n",
      "Epoch 81/100\n",
      "317/317 [==============================] - 2s 8ms/step - loss: 3.5618e-06 - accuracy: 2.4666e-05\n",
      "Epoch 82/100\n",
      "317/317 [==============================] - 3s 8ms/step - loss: 3.8270e-06 - accuracy: 2.4666e-05\n",
      "Epoch 83/100\n",
      "317/317 [==============================] - 3s 8ms/step - loss: 3.6705e-06 - accuracy: 2.4666e-05\n",
      "Epoch 84/100\n",
      "317/317 [==============================] - 3s 8ms/step - loss: 3.6763e-06 - accuracy: 2.4666e-05\n",
      "Epoch 85/100\n",
      "317/317 [==============================] - 2s 8ms/step - loss: 3.6100e-06 - accuracy: 2.4666e-05\n",
      "Epoch 86/100\n",
      "317/317 [==============================] - 2s 8ms/step - loss: 3.2465e-06 - accuracy: 2.4666e-05\n",
      "Epoch 87/100\n",
      "317/317 [==============================] - 3s 8ms/step - loss: 3.5099e-06 - accuracy: 2.4666e-05\n",
      "Epoch 88/100\n",
      "317/317 [==============================] - 2s 8ms/step - loss: 3.7691e-06 - accuracy: 2.4666e-05\n",
      "Epoch 89/100\n",
      "317/317 [==============================] - 2s 8ms/step - loss: 3.3586e-06 - accuracy: 2.4666e-05\n",
      "Epoch 90/100\n",
      "317/317 [==============================] - 2s 8ms/step - loss: 3.6102e-06 - accuracy: 2.4666e-05\n",
      "Epoch 91/100\n",
      "317/317 [==============================] - 3s 8ms/step - loss: 3.5064e-06 - accuracy: 2.4666e-05\n",
      "Epoch 92/100\n",
      "317/317 [==============================] - 2s 8ms/step - loss: 4.1057e-06 - accuracy: 2.4666e-05\n",
      "Epoch 93/100\n",
      "317/317 [==============================] - 2s 8ms/step - loss: 3.7289e-06 - accuracy: 2.4666e-05\n",
      "Epoch 94/100\n",
      "317/317 [==============================] - 3s 8ms/step - loss: 3.6691e-06 - accuracy: 2.4666e-05\n",
      "Epoch 95/100\n",
      "317/317 [==============================] - 3s 8ms/step - loss: 3.3871e-06 - accuracy: 2.4666e-05\n",
      "Epoch 96/100\n",
      "317/317 [==============================] - 2s 8ms/step - loss: 3.1966e-06 - accuracy: 2.4666e-05\n",
      "Epoch 97/100\n",
      "317/317 [==============================] - 2s 8ms/step - loss: 3.7805e-06 - accuracy: 2.4666e-05\n",
      "Epoch 98/100\n",
      "317/317 [==============================] - 3s 8ms/step - loss: 3.3309e-06 - accuracy: 2.4666e-05\n",
      "Epoch 99/100\n",
      "317/317 [==============================] - 2s 8ms/step - loss: 3.9477e-06 - accuracy: 2.4666e-05\n",
      "Epoch 100/100\n",
      "317/317 [==============================] - 3s 8ms/step - loss: 3.9310e-06 - accuracy: 2.4666e-05\n"
     ]
    },
    {
     "data": {
      "text/plain": [
       "<tensorflow.python.keras.callbacks.History at 0x21c64963b50>"
      ]
     },
     "execution_count": 8,
     "metadata": {},
     "output_type": "execute_result"
    }
   ],
   "source": [
    "from sklearn.metrics import mean_squared_error\n",
    "from math import sqrt\n",
    "from keras.models import Sequential\n",
    "from keras.layers.core import Dense, Dropout, Activation\n",
    "from keras.layers.recurrent import LSTM\n",
    "\n",
    "#建立、训练模型过程\n",
    "d = 0.0001\n",
    "model = Sequential()#建立层次模型\n",
    "model.add(LSTM(64, input_shape=(window, feanum), return_sequences=True))#建立LSTM层\n",
    "model.add(Dropout(d))#建立的遗忘层\n",
    "model.add(LSTM(16, input_shape=(window, feanum), return_sequences=False))#建立LSTM层\n",
    "model.add(Dropout(d))#建立的遗忘层\n",
    "model.add(Dense(4,kernel_initializer='uniform',activation='relu'))   #建立全连接层     \n",
    "model.add(Dense(1,kernel_initializer='uniform',activation='relu'))\n",
    "model.compile(loss='mse',optimizer='adam',metrics=['accuracy'])\n",
    "model.fit(X_train, Y_train, epochs =100, batch_size = 256) #训练模型epochs次"
   ]
  },
  {
   "cell_type": "code",
   "execution_count": 9,
   "id": "9b6a1555",
   "metadata": {},
   "outputs": [
    {
     "name": "stdout",
     "output_type": "stream",
     "text": [
      "Model: \"sequential\"\n",
      "_________________________________________________________________\n",
      "Layer (type)                 Output Shape              Param #   \n",
      "=================================================================\n",
      "lstm (LSTM)                  (None, 5, 64)             18944     \n",
      "_________________________________________________________________\n",
      "dropout (Dropout)            (None, 5, 64)             0         \n",
      "_________________________________________________________________\n",
      "lstm_1 (LSTM)                (None, 16)                5184      \n",
      "_________________________________________________________________\n",
      "dropout_1 (Dropout)          (None, 16)                0         \n",
      "_________________________________________________________________\n",
      "dense (Dense)                (None, 4)                 68        \n",
      "_________________________________________________________________\n",
      "dense_1 (Dense)              (None, 1)                 5         \n",
      "=================================================================\n",
      "Total params: 24,201\n",
      "Trainable params: 24,201\n",
      "Non-trainable params: 0\n",
      "_________________________________________________________________\n"
     ]
    }
   ],
   "source": [
    "#总结模型\n",
    "model.summary()"
   ]
  },
  {
   "cell_type": "markdown",
   "id": "c4c457c8",
   "metadata": {},
   "source": [
    "## 3. 模型训练结果\n",
    "* 训练集"
   ]
  },
  {
   "cell_type": "code",
   "execution_count": 10,
   "id": "986b4d0c",
   "metadata": {},
   "outputs": [],
   "source": [
    "#在训练集上的拟合结果\n",
    "Y_train_predict=model.predict(X_train)[:,0]\n",
    "Y_train = Y_train"
   ]
  },
  {
   "cell_type": "code",
   "execution_count": 11,
   "id": "feffba3b",
   "metadata": {},
   "outputs": [
    {
     "data": {
      "text/plain": [
       "Text(0.5, 1.0, 'Train Data')"
      ]
     },
     "execution_count": 11,
     "metadata": {},
     "output_type": "execute_result"
    },
    {
     "data": {
      "image/png": "[encoded data removed]",
      "text/plain": [
       "<Figure size 864x432 with 1 Axes>"
      ]
     },
     "metadata": {
      "needs_background": "light"
     },
     "output_type": "display_data"
    }
   ],
   "source": [
    "import matplotlib.pyplot as plt\n",
    "\n",
    "draw=pd.concat([pd.DataFrame(Y_train),pd.DataFrame(Y_train_predict)],axis=1)\n",
    "draw.iloc[:300,0].plot(figsize=(12,6))\n",
    "draw.iloc[:300,1].plot(figsize=(12,6))\n",
    "plt.legend(('real', 'predict'),loc='upper right',fontsize='15')\n",
    "plt.title(\"Train Data\",fontsize='30') #添加标题\n",
    "#展示在训练集上的表现 "
   ]
  },
  {
   "cell_type": "markdown",
   "id": "c15934a9",
   "metadata": {},
   "source": [
    "* 测试集"
   ]
  },
  {
   "cell_type": "code",
   "execution_count": 12,
   "id": "11b1294b",
   "metadata": {},
   "outputs": [],
   "source": [
    "#在测试集上的预测\n",
    "Y_test_predict=model.predict(X_test)[:,0]\n",
    "Y_test=Y_test"
   ]
  },
  {
   "cell_type": "code",
   "execution_count": 13,
   "id": "551c626f",
   "metadata": {},
   "outputs": [
    {
     "data": {
      "text/plain": [
       "Text(0.5, 1.0, 'Test Data')"
      ]
     },
     "execution_count": 13,
     "metadata": {},
     "output_type": "execute_result"
    },
    {
     "data": {
      "image/png": "[encoded data removed]",
      "text/plain": [
       "<Figure size 864x432 with 1 Axes>"
      ]
     },
     "metadata": {
      "needs_background": "light"
     },
     "output_type": "display_data"
    }
   ],
   "source": [
    "draw=pd.concat([pd.DataFrame(Y_test),pd.DataFrame(Y_test_predict)],axis=1);\n",
    "draw.iloc[:100,0].plot(figsize=(12,6))\n",
    "draw.iloc[:100,1].plot(figsize=(12,6))\n",
    "plt.legend(('real', 'predict'),loc='upper right',fontsize='15')\n",
    "plt.title(\"Test Data\",fontsize='30') #添加标题\n",
    "# 展示在测试集上的表现 "
   ]
  },
  {
   "cell_type": "code",
   "execution_count": 14,
   "id": "47073d4f",
   "metadata": {},
   "outputs": [
    {
     "name": "stdout",
     "output_type": "stream",
     "text": [
      "训练集上的MAE/MSE\n",
      "0.0006445342292388576\n",
      "2.9464627732471587e-06\n",
      "测试集上的MAE/MSE\n",
      "0.0032384829025533294\n",
      "5.304355413290364e-05\n",
      "预测涨跌正确: 0.4832062641664949\n"
     ]
    }
   ],
   "source": [
    "#输出结果\n",
    "from sklearn.metrics import mean_absolute_error\n",
    "from sklearn.metrics import mean_squared_error\n",
    "import math\n",
    "\n",
    "print('训练集上的MAE/MSE')\n",
    "print(mean_absolute_error(Y_train_predict, Y_train))\n",
    "print(mean_squared_error(Y_train_predict, Y_train) )\n",
    "\n",
    "print('测试集上的MAE/MSE')\n",
    "print(mean_absolute_error(Y_test_predict, Y_test))\n",
    "print(mean_squared_error(Y_test_predict, Y_test) )\n",
    "\n",
    "# 做差转换为涨跌数据\n",
    "Y_var_test=Y_test[1:]-Y_test[:len(Y_test)-1]\n",
    "Y_var_predict=Y_test_predict[1:]-Y_test_predict[:len(Y_test_predict)-1]\n",
    "\n",
    "txt=np.zeros(len(Y_var_test))\n",
    "for i in range(len(Y_var_test-1)):\n",
    "    txt[i]=np.sign(Y_var_test[i])==np.sign(Y_var_predict[i]) # 判断符号是否相等\n",
    "result=sum(txt)/len(txt)\n",
    "print('预测涨跌正确:',result)"
   ]
  },
  {
   "cell_type": "markdown",
   "id": "5ac5c15a",
   "metadata": {},
   "source": [
    "> 结果汇总\n",
    "```\n",
    "window = 5:\n",
    "训练集上的MAE/MSE\n",
    "0.0006445342292388576\n",
    "2.9464627732471587e-06\n",
    "测试集上的MAE/MSE\n",
    "0.0032384829025533294\n",
    "5.304355413290364e-05\n",
    "预测涨跌正确: 0.4832062641664949\n",
    "```\n",
    "---\n",
    "```\n",
    "window = 10:\n",
    "训练集上的MAE/MSE\n",
    "0.0007642331751244096\n",
    "3.2303928790861226e-06\n",
    "测试集上的MAE/MSE\n",
    "0.0031499472372448285\n",
    "3.837082256119153e-05\n",
    "预测涨跌正确: 0.48636985580465214\n",
    "```\n",
    "---\n",
    "```\n",
    "window = 20:\n",
    "训练集上的MAE/MSE\n",
    "0.0006664564811502398\n",
    "2.8199347922162156e-06\n",
    "测试集上的MAE/MSE\n",
    "0.0023606400851206816\n",
    "2.5514935391096915e-05\n",
    "预测涨跌正确: 0.43878561214387857\n",
    "```"
   ]
  }
 ],
 "metadata": {
  "kernelspec": {
   "display_name": "Python [conda env:env4tiho]",
   "language": "python",
   "name": "conda-env-env4tiho-py"
  },
  "language_info": {
   "codemirror_mode": {
    "name": "ipython",
    "version": 3
   },
   "file_extension": ".py",
   "mimetype": "text/x-python",
   "name": "python",
   "nbconvert_exporter": "python",
   "pygments_lexer": "ipython3",
   "version": "3.8.10"
  }
 },
 "nbformat": 4,
 "nbformat_minor": 5
}
