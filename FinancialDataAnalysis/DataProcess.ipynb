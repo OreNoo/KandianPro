{
 "cells": [
  {
   "cell_type": "markdown",
   "id": "8a611a00",
   "metadata": {},
   "source": [
    "## 数据预处理"
   ]
  },
  {
   "cell_type": "markdown",
   "id": "4670a5ea",
   "metadata": {},
   "source": [
    "## 1. 获取沪深300股票代码"
   ]
  },
  {
   "cell_type": "code",
   "execution_count": 1,
   "id": "7581ca0e",
   "metadata": {},
   "outputs": [
    {
     "name": "stdout",
     "output_type": "stream",
     "text": [
      "['688396', '688363', '688169', '688126', '688111', '688036', '688012', '688009', '688008', '603993', '603986', '603939', '603899', '603882', '603833', '603806', '603799', '603659', '603658', '603517', '603501', '603392', '603369', '603338', '603288', '603259', '603233', '603195', '603160', '603087', '603019', '601998', '601995', '601990', '601989', '601988', '601985', '601939', '601933', '601919', '601916', '601901', '601899', '601888', '601881', '601878', '601877', '601872', '601857', '601838', '601818', '601816', '601808', '601800', '601799', '601788', '601766', '601727', '601698', '601696', '601688', '601669', '601668', '601658', '601633', '601628', '601618', '601607', '601601', '601600', '601555', '601398', '601390', '601377', '601360', '601336', '601328', '601319', '601318', '601288', '601238', '601236', '601231', '601229', '601225', '601216', '601211', '601186', '601169', '601166', '601162', '601155', '601138', '601111', '601108', '601100', '601088', '601077', '601066', '601021', '601012', '601009', '601006', '600999', '600989', '600958', '600926', '600919', '600918', '600900', '600893', '600887', '600886', '600872', '600848', '600845', '600837', '600809', '600795', '600763', '600760', '600745', '600741', '600705', '600703', '600690', '600660', '600655', '600606', '600600', '600588', '600585', '600584', '600570', '600547', '600522', '600521', '600519', '600489', '600482', '600438', '600436', '600426', '600406', '600383', '600362', '600352', '600346', '600340', '600332', '600309', '600299', '600276', '600233', '600196', '600183', '600176', '600161', '600150', '600143', '600132', '600118', '600115', '600111', '600109', '600104', '600085', '600079', '600061', '600050', '600048', '600036', '600031', '600030', '600029', '600028', '600025', '600019', '600018', '600016', '600015', '600011', '600010', '600009', '600000', '300677', '300676', '300628', '300601', '300595', '300558', '300529', '300498', '300450', '300433', '300413', '300408', '300347', '300274', '300144', '300142', '300136', '300124', '300122', '300059', '300033', '300015', '300014', '300003', '003816', '002945', '002939', '002938', '002916', '002841', '002821', '002812', '002773', '002739', '002736', '002714', '002673', '002624', '002607', '002602', '002601', '002600', '002594', '002558', '002555', '002508', '002493', '002475', '002463', '002460', '002456', '002415', '002414', '002410', '002384', '002371', '002352', '002311', '002304', '002271', '002252', '002241', '002236', '002230', '002202', '002179', '002157', '002153', '002142', '002129', '002120', '002050', '002049', '002044', '002032', '002027', '002024', '002008', '002007', '002001', '001979', '000977', '000963', '000938', '000895', '000876', '000860', '000858', '000800', '000786', '000783', '000776', '000768', '000728', '000725', '000708', '000703', '000661', '000656', '000651', '000625', '000596', '000568', '000538', '000425', '000338', '000333', '000166', '000157', '000100', '000069', '000066', '000063', '000002', '000001']\n",
      "300\n"
     ]
    }
   ],
   "source": [
    "import requests\n",
    "\n",
    "#爬取沪深300股票代码\n",
    "def spider_for_hs300():\n",
    "    page=1\n",
    "    hs300=[]\n",
    "    while(page<=6):\n",
    "        url = 'https://datainterface.eastmoney.com/EM_DataCenter/js.aspx?'\n",
    "        key_dict = {\n",
    "            'cb': 'jQuery112305522721612895851_1626420027301',\n",
    "            'st': '1',\n",
    "            'sr': '-1',\n",
    "            'ps': '50',\n",
    "            'p': page,\n",
    "            'type': 'SHSZZS',\n",
    "            'sty': 'SHSZZS',\n",
    "            'code': '000300'\n",
    "        }\n",
    "        data = requests.get(url, params=key_dict)\n",
    "        res=data.text\n",
    "        for i in range(len(res)):\n",
    "            if((i>0)&(res[i-1]=='\"')&(res[i]>='0')&(res[i]<='9')):\n",
    "                cnt=0\n",
    "                ans=\"\"\n",
    "                while(cnt<6):\n",
    "                    ans=ans+res[i]\n",
    "                    cnt+=1\n",
    "                    i+=1\n",
    "                hs300.append(ans)\n",
    "        page+=1\n",
    "    return hs300\n",
    "\n",
    "res = spider_for_hs300()\n",
    "print(res)\n",
    "print(len(set(res)))"
   ]
  },
  {
   "cell_type": "markdown",
   "id": "57547042",
   "metadata": {},
   "source": [
    "## 2. 筛出沪深300成分的股票数据"
   ]
  },
  {
   "cell_type": "code",
   "execution_count": 2,
   "id": "53478200",
   "metadata": {},
   "outputs": [],
   "source": [
    "import pandas as pd\n",
    "\n",
    "#从所有数据中筛选沪深300股票数据\n",
    "data = pd.read_csv(\"./data/data.csv\")\n",
    "ans = pd.DataFrame(columns=('kdcode','dt','volume','turnover','adj_open','adj_close','adj_high','adj_low','adj_downprice','adj_upprice','pct_chg'))\n",
    "\n",
    "for i in range(300):\n",
    "    da = data.loc[data['kdcode']==res[i]+\".SZ\"]\n",
    "    if da.empty:\n",
    "        da = data.loc[data['kdcode']==res[i]+\".SH\"]\n",
    "    ans = pd.concat([da, ans])"
   ]
  },
  {
   "cell_type": "markdown",
   "id": "22de8ab6",
   "metadata": {},
   "source": [
    "* 没有重复数据 无需去重"
   ]
  },
  {
   "cell_type": "code",
   "execution_count": 3,
   "id": "58ca72dc",
   "metadata": {},
   "outputs": [
    {
     "name": "stdout",
     "output_type": "stream",
     "text": [
      "94466\n",
      "94466\n"
     ]
    }
   ],
   "source": [
    "# 去重\n",
    "print(len(ans))\n",
    "ans.drop_duplicates(subset=['kdcode', 'dt'],keep='first',inplace=True)\n",
    "print(len(ans))\n",
    "\n",
    "# ans.to_csv(\"./data/hs300.csv\", index=False)"
   ]
  },
  {
   "cell_type": "markdown",
   "id": "8cabbef1",
   "metadata": {},
   "source": [
    "## 3. 分割训练集、测试集"
   ]
  },
  {
   "cell_type": "code",
   "execution_count": 4,
   "id": "e87f6fdd",
   "metadata": {},
   "outputs": [
    {
     "name": "stdout",
     "output_type": "stream",
     "text": [
      "训练集共 74561 条\n",
      "测试集共 19905 条\n"
     ]
    }
   ],
   "source": [
    "import re\n",
    "\n",
    "datalist = ans.values.tolist()\n",
    "trainSet = []\n",
    "testSet = []\n",
    "\n",
    "for data_i in datalist:\n",
    "    if re.match('2020', data_i[1]) == None:\n",
    "        trainSet.append(data_i)\n",
    "    else:\n",
    "        testSet.append(data_i)\n",
    "        \n",
    "print(\"训练集共 \" + str(len(trainSet)) + \" 条\")\n",
    "print(\"测试集共 \" + str(len(testSet)) + \" 条\")\n",
    "\n",
    "# trainSet = pd.DataFrame(trainSet, columns=('kdcode','dt','volume','turnover','adj_open','adj_close','adj_high','adj_low','adj_downprice','adj_upprice','pct_chg'))\n",
    "# testSet = pd.DataFrame(testSet, columns=('kdcode','dt','volume','turnover','adj_open','adj_close','adj_high','adj_low','adj_downprice','adj_upprice','pct_chg'))\n",
    "# trainSet.to_csv(\"./data/train.csv\", index=False)\n",
    "# testSet.to_csv(\"./data/test.csv\", index=False)"
   ]
  },
  {
   "cell_type": "markdown",
   "id": "da7ac5ea",
   "metadata": {},
   "source": [
    "## 4. 填补训练集停牌数据"
   ]
  },
  {
   "cell_type": "code",
   "execution_count": 10,
   "id": "d1fae2a3",
   "metadata": {},
   "outputs": [
    {
     "name": "stdout",
     "output_type": "stream",
     "text": [
      "填充后训练集数据共 81574 条\n"
     ]
    }
   ],
   "source": [
    "import pandas as pd\n",
    "from datetime import datetime\n",
    "from datetime import timedelta\n",
    "\n",
    "\n",
    "# 判断闰年\n",
    "def isRunYear(year):\n",
    "    if year % 100 == 0:\n",
    "        if year % 400 == 0:\n",
    "            return 1\n",
    "    else:\n",
    "        if year % 4 == 0:\n",
    "            return 1\n",
    "    return 0\n",
    "\n",
    "\n",
    "# 判断是一年中的第几天\n",
    "def dayNum(year, month, day):\n",
    "    ret = 0\n",
    "    ping = [31, 28, 31, 30, 31, 30, 31, 31, 30, 31, 30, 31]\n",
    "    run = [31, 29, 31, 30, 31, 30, 31, 31, 30, 31, 30, 31]\n",
    "    if isRunYear(year):\n",
    "        for i in range(month - 1):\n",
    "            ret = ret + run[i]\n",
    "    else:\n",
    "        for i in range(month - 1):\n",
    "            ret = ret + ping[i]\n",
    "    return ret + day\n",
    "\n",
    "\n",
    "# 判断是否是周末\n",
    "def isSunOrSat(year, month, day):\n",
    "    S = (year + (year - 1) // 4 - (year - 1) // 100 + (year - 1) // 400) % 7  # 第year年第一天是周S\n",
    "    weekday = (dayNum(year, month, day) + S - 1) % 7\n",
    "    if weekday == 0 or weekday == 6:\n",
    "        return 1\n",
    "    else:\n",
    "        return 0\n",
    "\n",
    "\n",
    "# trainSet = pd.read_csv(\"train.csv\").values.tolist()\n",
    "datetime_tmp = pd.to_datetime('2022-01-01')\n",
    "date_tmp = datetime.date(datetime_tmp)\n",
    "data_tmp = []\n",
    "trainData = []\n",
    "\n",
    "for data_i in trainSet:\n",
    "    now_date = datetime.date(pd.to_datetime(data_i[1]))\n",
    "    if now_date < date_tmp:\n",
    "        trainData.append(data_i)\n",
    "        date_tmp = now_date\n",
    "        data_tmp = data_i.copy()\n",
    "    else:\n",
    "        daydelta = now_date - date_tmp\n",
    "        if daydelta.days != 1:\n",
    "            for i in range(1, daydelta.days):\n",
    "                add_day = date_tmp + timedelta(days=i)\n",
    "                if isSunOrSat(add_day.year, add_day.month, add_day.day) != 1:\n",
    "                    add_data = data_tmp.copy()\n",
    "                    add_data[1] = str(add_day)\n",
    "                    trainData.append(add_data)\n",
    "        date_tmp = now_date\n",
    "        data_tmp = data_i.copy()\n",
    "        trainData.append(data_i)\n",
    "\n",
    "print(\"填充后训练集数据共 \" + str(len(trainData)) + \" 条\")\n",
    "trainData = pd.DataFrame(trainData, columns=('kdcode', 'dt', 'volume', 'turnover', 'adj_open', 'adj_close', 'adj_high', 'adj_low', 'adj_downprice', 'adj_upprice','pct_chg'))\n",
    "trainData.to_csv(\"./data/trainData.csv\", index=False)"
   ]
  }
 ],
 "metadata": {
  "kernelspec": {
   "display_name": "env4kandian",
   "language": "python",
   "name": "env4kandian"
  },
  "language_info": {
   "codemirror_mode": {
    "name": "ipython",
    "version": 3
   },
   "file_extension": ".py",
   "mimetype": "text/x-python",
   "name": "python",
   "nbconvert_exporter": "python",
   "pygments_lexer": "ipython3",
   "version": "3.8.10"
  }
 },
 "nbformat": 4,
 "nbformat_minor": 5
}
