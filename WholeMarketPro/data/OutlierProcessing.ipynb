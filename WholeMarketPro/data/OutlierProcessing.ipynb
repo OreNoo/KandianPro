{
 "cells": [
  {
   "cell_type": "markdown",
   "metadata": {},
   "source": [
    "# 数据分析\n",
    "1. 异常值处理 删除异常值\n",
    "2. 删除数据量过少的股票的数据"
   ]
  },
  {
   "cell_type": "code",
   "execution_count": 1,
   "metadata": {
    "scrolled": true
   },
   "outputs": [
    {
     "name": "stderr",
     "output_type": "stream",
     "text": [
      "/home/tianhao/env4tiho_py36/lib/python3.6/site-packages/pandas/compat/__init__.py:85: UserWarning: Could not import the lzma module. Your installed Python is incomplete. Attempting to use lzma compression will result in a RuntimeError.\n",
      "  warnings.warn(msg)\n",
      "Duplicate key in file PosixPath('/home/tianhao/env4tiho_py36/lib/python3.6/site-packages/matplotlib/mpl-data/matplotlibrc'), line 400 ('axes.unicode_minus: True  # use Unicode for the minus symbol rather than hyphen.  See')\n",
      "/home/tianhao/env4tiho_py36/lib/python3.6/site-packages/pandas/compat/__init__.py:85: UserWarning: Could not import the lzma module. Your installed Python is incomplete. Attempting to use lzma compression will result in a RuntimeError.\n",
      "  warnings.warn(msg)\n"
     ]
    },
    {
     "data": {
      "text/html": [
       "<div>\n",
       "<style scoped>\n",
       "    .dataframe tbody tr th:only-of-type {\n",
       "        vertical-align: middle;\n",
       "    }\n",
       "\n",
       "    .dataframe tbody tr th {\n",
       "        vertical-align: top;\n",
       "    }\n",
       "\n",
       "    .dataframe thead th {\n",
       "        text-align: right;\n",
       "    }\n",
       "</style>\n",
       "<table border=\"1\" class=\"dataframe\">\n",
       "  <thead>\n",
       "    <tr style=\"text-align: right;\">\n",
       "      <th></th>\n",
       "      <th>dt</th>\n",
       "      <th>kdcode</th>\n",
       "      <th>volume</th>\n",
       "      <th>turnover</th>\n",
       "      <th>turn</th>\n",
       "      <th>pct_chg</th>\n",
       "      <th>vwap</th>\n",
       "      <th>trade_status</th>\n",
       "      <th>adj_close</th>\n",
       "      <th>adj_open</th>\n",
       "      <th>adj_high</th>\n",
       "      <th>adj_low</th>\n",
       "    </tr>\n",
       "  </thead>\n",
       "  <tbody>\n",
       "    <tr>\n",
       "      <th>0</th>\n",
       "      <td>2016-01-04</td>\n",
       "      <td>000001.SZ</td>\n",
       "      <td>56349787.0</td>\n",
       "      <td>6.603762e+08</td>\n",
       "      <td>0.4774</td>\n",
       "      <td>-5.51</td>\n",
       "      <td>11.719231</td>\n",
       "      <td>0</td>\n",
       "      <td>935.197763</td>\n",
       "      <td>990.500720</td>\n",
       "      <td>992.976972</td>\n",
       "      <td>926.943591</td>\n",
       "    </tr>\n",
       "    <tr>\n",
       "      <th>1</th>\n",
       "      <td>2016-01-05</td>\n",
       "      <td>000001.SZ</td>\n",
       "      <td>66326995.0</td>\n",
       "      <td>7.555314e+08</td>\n",
       "      <td>0.5619</td>\n",
       "      <td>0.61</td>\n",
       "      <td>11.391008</td>\n",
       "      <td>0</td>\n",
       "      <td>940.975684</td>\n",
       "      <td>930.245260</td>\n",
       "      <td>955.007778</td>\n",
       "      <td>920.340253</td>\n",
       "    </tr>\n",
       "    <tr>\n",
       "      <th>2</th>\n",
       "      <td>2016-01-06</td>\n",
       "      <td>000001.SZ</td>\n",
       "      <td>51570644.0</td>\n",
       "      <td>5.916985e+08</td>\n",
       "      <td>0.4369</td>\n",
       "      <td>1.14</td>\n",
       "      <td>11.473553</td>\n",
       "      <td>0</td>\n",
       "      <td>951.706109</td>\n",
       "      <td>942.626519</td>\n",
       "      <td>954.182361</td>\n",
       "      <td>940.150267</td>\n",
       "    </tr>\n",
       "    <tr>\n",
       "      <th>3</th>\n",
       "      <td>2016-01-07</td>\n",
       "      <td>000001.SZ</td>\n",
       "      <td>17476110.0</td>\n",
       "      <td>1.948695e+08</td>\n",
       "      <td>0.1481</td>\n",
       "      <td>-5.12</td>\n",
       "      <td>11.150622</td>\n",
       "      <td>0</td>\n",
       "      <td>903.006490</td>\n",
       "      <td>941.801102</td>\n",
       "      <td>941.801102</td>\n",
       "      <td>900.530238</td>\n",
       "    </tr>\n",
       "    <tr>\n",
       "      <th>4</th>\n",
       "      <td>2016-01-08</td>\n",
       "      <td>000001.SZ</td>\n",
       "      <td>74752758.0</td>\n",
       "      <td>8.313345e+08</td>\n",
       "      <td>0.6333</td>\n",
       "      <td>1.64</td>\n",
       "      <td>11.121122</td>\n",
       "      <td>0</td>\n",
       "      <td>917.864001</td>\n",
       "      <td>925.292756</td>\n",
       "      <td>931.896094</td>\n",
       "      <td>899.704821</td>\n",
       "    </tr>\n",
       "    <tr>\n",
       "      <th>...</th>\n",
       "      <td>...</td>\n",
       "      <td>...</td>\n",
       "      <td>...</td>\n",
       "      <td>...</td>\n",
       "      <td>...</td>\n",
       "      <td>...</td>\n",
       "      <td>...</td>\n",
       "      <td>...</td>\n",
       "      <td>...</td>\n",
       "      <td>...</td>\n",
       "      <td>...</td>\n",
       "      <td>...</td>\n",
       "    </tr>\n",
       "    <tr>\n",
       "      <th>4580328</th>\n",
       "      <td>2021-07-26</td>\n",
       "      <td>689009.SH</td>\n",
       "      <td>2008700.0</td>\n",
       "      <td>1.309806e+08</td>\n",
       "      <td>3.3200</td>\n",
       "      <td>-1.32</td>\n",
       "      <td>65.206660</td>\n",
       "      <td>0</td>\n",
       "      <td>67.180000</td>\n",
       "      <td>67.860000</td>\n",
       "      <td>67.860000</td>\n",
       "      <td>63.000000</td>\n",
       "    </tr>\n",
       "    <tr>\n",
       "      <th>4580329</th>\n",
       "      <td>2021-07-27</td>\n",
       "      <td>689009.SH</td>\n",
       "      <td>1835700.0</td>\n",
       "      <td>1.245621e+08</td>\n",
       "      <td>3.0300</td>\n",
       "      <td>-0.04</td>\n",
       "      <td>67.855344</td>\n",
       "      <td>0</td>\n",
       "      <td>67.150000</td>\n",
       "      <td>66.000000</td>\n",
       "      <td>70.970000</td>\n",
       "      <td>65.160000</td>\n",
       "    </tr>\n",
       "    <tr>\n",
       "      <th>4580330</th>\n",
       "      <td>2021-07-28</td>\n",
       "      <td>689009.SH</td>\n",
       "      <td>1741400.0</td>\n",
       "      <td>1.142330e+08</td>\n",
       "      <td>2.8800</td>\n",
       "      <td>0.48</td>\n",
       "      <td>65.598397</td>\n",
       "      <td>0</td>\n",
       "      <td>67.470000</td>\n",
       "      <td>66.010000</td>\n",
       "      <td>67.590000</td>\n",
       "      <td>63.010000</td>\n",
       "    </tr>\n",
       "    <tr>\n",
       "      <th>4580331</th>\n",
       "      <td>2021-07-29</td>\n",
       "      <td>689009.SH</td>\n",
       "      <td>1619800.0</td>\n",
       "      <td>1.121369e+08</td>\n",
       "      <td>2.6800</td>\n",
       "      <td>0.84</td>\n",
       "      <td>69.228825</td>\n",
       "      <td>0</td>\n",
       "      <td>68.040000</td>\n",
       "      <td>67.800000</td>\n",
       "      <td>70.550000</td>\n",
       "      <td>67.130000</td>\n",
       "    </tr>\n",
       "    <tr>\n",
       "      <th>4580332</th>\n",
       "      <td>2021-07-30</td>\n",
       "      <td>689009.SH</td>\n",
       "      <td>1438500.0</td>\n",
       "      <td>9.605356e+07</td>\n",
       "      <td>2.3800</td>\n",
       "      <td>0.53</td>\n",
       "      <td>66.773413</td>\n",
       "      <td>0</td>\n",
       "      <td>68.400000</td>\n",
       "      <td>67.520000</td>\n",
       "      <td>68.840000</td>\n",
       "      <td>65.500000</td>\n",
       "    </tr>\n",
       "  </tbody>\n",
       "</table>\n",
       "<p>4580333 rows × 12 columns</p>\n",
       "</div>"
      ],
      "text/plain": [
       "                 dt     kdcode      volume      turnover    turn  pct_chg  \\\n",
       "0        2016-01-04  000001.SZ  56349787.0  6.603762e+08  0.4774    -5.51   \n",
       "1        2016-01-05  000001.SZ  66326995.0  7.555314e+08  0.5619     0.61   \n",
       "2        2016-01-06  000001.SZ  51570644.0  5.916985e+08  0.4369     1.14   \n",
       "3        2016-01-07  000001.SZ  17476110.0  1.948695e+08  0.1481    -5.12   \n",
       "4        2016-01-08  000001.SZ  74752758.0  8.313345e+08  0.6333     1.64   \n",
       "...             ...        ...         ...           ...     ...      ...   \n",
       "4580328  2021-07-26  689009.SH   2008700.0  1.309806e+08  3.3200    -1.32   \n",
       "4580329  2021-07-27  689009.SH   1835700.0  1.245621e+08  3.0300    -0.04   \n",
       "4580330  2021-07-28  689009.SH   1741400.0  1.142330e+08  2.8800     0.48   \n",
       "4580331  2021-07-29  689009.SH   1619800.0  1.121369e+08  2.6800     0.84   \n",
       "4580332  2021-07-30  689009.SH   1438500.0  9.605356e+07  2.3800     0.53   \n",
       "\n",
       "              vwap  trade_status   adj_close    adj_open    adj_high  \\\n",
       "0        11.719231             0  935.197763  990.500720  992.976972   \n",
       "1        11.391008             0  940.975684  930.245260  955.007778   \n",
       "2        11.473553             0  951.706109  942.626519  954.182361   \n",
       "3        11.150622             0  903.006490  941.801102  941.801102   \n",
       "4        11.121122             0  917.864001  925.292756  931.896094   \n",
       "...            ...           ...         ...         ...         ...   \n",
       "4580328  65.206660             0   67.180000   67.860000   67.860000   \n",
       "4580329  67.855344             0   67.150000   66.000000   70.970000   \n",
       "4580330  65.598397             0   67.470000   66.010000   67.590000   \n",
       "4580331  69.228825             0   68.040000   67.800000   70.550000   \n",
       "4580332  66.773413             0   68.400000   67.520000   68.840000   \n",
       "\n",
       "            adj_low  \n",
       "0        926.943591  \n",
       "1        920.340253  \n",
       "2        940.150267  \n",
       "3        900.530238  \n",
       "4        899.704821  \n",
       "...             ...  \n",
       "4580328   63.000000  \n",
       "4580329   65.160000  \n",
       "4580330   63.010000  \n",
       "4580331   67.130000  \n",
       "4580332   65.500000  \n",
       "\n",
       "[4580333 rows x 12 columns]"
      ]
     },
     "execution_count": 1,
     "metadata": {},
     "output_type": "execute_result"
    }
   ],
   "source": [
    "# 读取文件\n",
    "import pandas as pd\n",
    "from tqdm import tqdm\n",
    "df = pd.read_csv('data.csv')\n",
    "df"
   ]
  },
  {
   "attachments": {
    "image-2.png": {
     "image/png": "[encoded data removed]"
    },
    "image.png": {
     "image/png": "[encoded data removed]"
    }
   },
   "cell_type": "markdown",
   "metadata": {},
   "source": [
    "## 1. 异常值处理\n",
    "\n",
    "这里使用了`线箱法`处理异常值\n",
    "![image.png](attachment:image.png)\n",
    "\n",
    "![image-2.png](attachment:image-2.png)\n",
    "\n",
    "这里我们使用筛去了`x > Q3 + 5(Q3 - Q1)`与`x < Q3 - 3(Q3 - Q1)`的数据\n",
    "\n",
    "### 1.1 对于`volume`的异常值处理"
   ]
  },
  {
   "cell_type": "code",
   "execution_count": 2,
   "metadata": {
    "scrolled": true
   },
   "outputs": [
    {
     "data": {
      "image/png": "[encoded data removed]",
      "text/plain": [
       "<Figure size 432x288 with 1 Axes>"
      ]
     },
     "metadata": {
      "needs_background": "light"
     },
     "output_type": "display_data"
    }
   ],
   "source": [
    "import seaborn as sns\n",
    "import matplotlib.pyplot as plt\n",
    "# 密度图\n",
    " \n",
    "# Draw Plot\n",
    "sns.kdeplot(df['volume'], shade=True, color=\"g\", label=\"volume\", alpha=.7)\n",
    "\n",
    "# Decoration\n",
    "plt.title('volume probability density distribution')\n",
    "plt.legend()\n",
    "plt.show()"
   ]
  },
  {
   "cell_type": "code",
   "execution_count": 3,
   "metadata": {},
   "outputs": [
    {
     "data": {
      "text/plain": [
       "count    4.580333e+06\n",
       "mean     1.402015e+07\n",
       "std      3.295045e+07\n",
       "min      1.000000e+02\n",
       "25%      2.463927e+06\n",
       "50%      5.755484e+06\n",
       "75%      1.384698e+07\n",
       "max      4.034860e+09\n",
       "Name: volume, dtype: float64"
      ]
     },
     "execution_count": 3,
     "metadata": {},
     "output_type": "execute_result"
    }
   ],
   "source": [
    "df['volume'].describe()"
   ]
  },
  {
   "cell_type": "code",
   "execution_count": 4,
   "metadata": {
    "scrolled": false
   },
   "outputs": [
    {
     "data": {
      "text/html": [
       "<div>\n",
       "<style scoped>\n",
       "    .dataframe tbody tr th:only-of-type {\n",
       "        vertical-align: middle;\n",
       "    }\n",
       "\n",
       "    .dataframe tbody tr th {\n",
       "        vertical-align: top;\n",
       "    }\n",
       "\n",
       "    .dataframe thead th {\n",
       "        text-align: right;\n",
       "    }\n",
       "</style>\n",
       "<table border=\"1\" class=\"dataframe\">\n",
       "  <thead>\n",
       "    <tr style=\"text-align: right;\">\n",
       "      <th></th>\n",
       "      <th>dt</th>\n",
       "      <th>kdcode</th>\n",
       "      <th>volume</th>\n",
       "      <th>turnover</th>\n",
       "      <th>turn</th>\n",
       "      <th>pct_chg</th>\n",
       "      <th>vwap</th>\n",
       "      <th>trade_status</th>\n",
       "      <th>adj_close</th>\n",
       "      <th>adj_open</th>\n",
       "      <th>adj_high</th>\n",
       "      <th>adj_low</th>\n",
       "    </tr>\n",
       "  </thead>\n",
       "  <tbody>\n",
       "    <tr>\n",
       "      <th>0</th>\n",
       "      <td>2016-01-04</td>\n",
       "      <td>000001.SZ</td>\n",
       "      <td>56349787.0</td>\n",
       "      <td>6.603762e+08</td>\n",
       "      <td>0.4774</td>\n",
       "      <td>-5.51</td>\n",
       "      <td>11.719231</td>\n",
       "      <td>0</td>\n",
       "      <td>935.197763</td>\n",
       "      <td>990.500720</td>\n",
       "      <td>992.976972</td>\n",
       "      <td>926.943591</td>\n",
       "    </tr>\n",
       "    <tr>\n",
       "      <th>1</th>\n",
       "      <td>2016-01-05</td>\n",
       "      <td>000001.SZ</td>\n",
       "      <td>66326995.0</td>\n",
       "      <td>7.555314e+08</td>\n",
       "      <td>0.5619</td>\n",
       "      <td>0.61</td>\n",
       "      <td>11.391008</td>\n",
       "      <td>0</td>\n",
       "      <td>940.975684</td>\n",
       "      <td>930.245260</td>\n",
       "      <td>955.007778</td>\n",
       "      <td>920.340253</td>\n",
       "    </tr>\n",
       "    <tr>\n",
       "      <th>2</th>\n",
       "      <td>2016-01-06</td>\n",
       "      <td>000001.SZ</td>\n",
       "      <td>51570644.0</td>\n",
       "      <td>5.916985e+08</td>\n",
       "      <td>0.4369</td>\n",
       "      <td>1.14</td>\n",
       "      <td>11.473553</td>\n",
       "      <td>0</td>\n",
       "      <td>951.706109</td>\n",
       "      <td>942.626519</td>\n",
       "      <td>954.182361</td>\n",
       "      <td>940.150267</td>\n",
       "    </tr>\n",
       "    <tr>\n",
       "      <th>3</th>\n",
       "      <td>2016-01-07</td>\n",
       "      <td>000001.SZ</td>\n",
       "      <td>17476110.0</td>\n",
       "      <td>1.948695e+08</td>\n",
       "      <td>0.1481</td>\n",
       "      <td>-5.12</td>\n",
       "      <td>11.150622</td>\n",
       "      <td>0</td>\n",
       "      <td>903.006490</td>\n",
       "      <td>941.801102</td>\n",
       "      <td>941.801102</td>\n",
       "      <td>900.530238</td>\n",
       "    </tr>\n",
       "    <tr>\n",
       "      <th>6</th>\n",
       "      <td>2016-01-12</td>\n",
       "      <td>000001.SZ</td>\n",
       "      <td>56164230.0</td>\n",
       "      <td>6.059708e+08</td>\n",
       "      <td>0.4758</td>\n",
       "      <td>0.46</td>\n",
       "      <td>10.789266</td>\n",
       "      <td>0</td>\n",
       "      <td>892.276066</td>\n",
       "      <td>893.926900</td>\n",
       "      <td>900.530238</td>\n",
       "      <td>878.243972</td>\n",
       "    </tr>\n",
       "    <tr>\n",
       "      <th>...</th>\n",
       "      <td>...</td>\n",
       "      <td>...</td>\n",
       "      <td>...</td>\n",
       "      <td>...</td>\n",
       "      <td>...</td>\n",
       "      <td>...</td>\n",
       "      <td>...</td>\n",
       "      <td>...</td>\n",
       "      <td>...</td>\n",
       "      <td>...</td>\n",
       "      <td>...</td>\n",
       "      <td>...</td>\n",
       "    </tr>\n",
       "    <tr>\n",
       "      <th>4580328</th>\n",
       "      <td>2021-07-26</td>\n",
       "      <td>689009.SH</td>\n",
       "      <td>2008700.0</td>\n",
       "      <td>1.309806e+08</td>\n",
       "      <td>3.3200</td>\n",
       "      <td>-1.32</td>\n",
       "      <td>65.206660</td>\n",
       "      <td>0</td>\n",
       "      <td>67.180000</td>\n",
       "      <td>67.860000</td>\n",
       "      <td>67.860000</td>\n",
       "      <td>63.000000</td>\n",
       "    </tr>\n",
       "    <tr>\n",
       "      <th>4580329</th>\n",
       "      <td>2021-07-27</td>\n",
       "      <td>689009.SH</td>\n",
       "      <td>1835700.0</td>\n",
       "      <td>1.245621e+08</td>\n",
       "      <td>3.0300</td>\n",
       "      <td>-0.04</td>\n",
       "      <td>67.855344</td>\n",
       "      <td>0</td>\n",
       "      <td>67.150000</td>\n",
       "      <td>66.000000</td>\n",
       "      <td>70.970000</td>\n",
       "      <td>65.160000</td>\n",
       "    </tr>\n",
       "    <tr>\n",
       "      <th>4580330</th>\n",
       "      <td>2021-07-28</td>\n",
       "      <td>689009.SH</td>\n",
       "      <td>1741400.0</td>\n",
       "      <td>1.142330e+08</td>\n",
       "      <td>2.8800</td>\n",
       "      <td>0.48</td>\n",
       "      <td>65.598397</td>\n",
       "      <td>0</td>\n",
       "      <td>67.470000</td>\n",
       "      <td>66.010000</td>\n",
       "      <td>67.590000</td>\n",
       "      <td>63.010000</td>\n",
       "    </tr>\n",
       "    <tr>\n",
       "      <th>4580331</th>\n",
       "      <td>2021-07-29</td>\n",
       "      <td>689009.SH</td>\n",
       "      <td>1619800.0</td>\n",
       "      <td>1.121369e+08</td>\n",
       "      <td>2.6800</td>\n",
       "      <td>0.84</td>\n",
       "      <td>69.228825</td>\n",
       "      <td>0</td>\n",
       "      <td>68.040000</td>\n",
       "      <td>67.800000</td>\n",
       "      <td>70.550000</td>\n",
       "      <td>67.130000</td>\n",
       "    </tr>\n",
       "    <tr>\n",
       "      <th>4580332</th>\n",
       "      <td>2021-07-30</td>\n",
       "      <td>689009.SH</td>\n",
       "      <td>1438500.0</td>\n",
       "      <td>9.605356e+07</td>\n",
       "      <td>2.3800</td>\n",
       "      <td>0.53</td>\n",
       "      <td>66.773413</td>\n",
       "      <td>0</td>\n",
       "      <td>68.400000</td>\n",
       "      <td>67.520000</td>\n",
       "      <td>68.840000</td>\n",
       "      <td>65.500000</td>\n",
       "    </tr>\n",
       "  </tbody>\n",
       "</table>\n",
       "<p>4443324 rows × 12 columns</p>\n",
       "</div>"
      ],
      "text/plain": [
       "                 dt     kdcode      volume      turnover    turn  pct_chg  \\\n",
       "0        2016-01-04  000001.SZ  56349787.0  6.603762e+08  0.4774    -5.51   \n",
       "1        2016-01-05  000001.SZ  66326995.0  7.555314e+08  0.5619     0.61   \n",
       "2        2016-01-06  000001.SZ  51570644.0  5.916985e+08  0.4369     1.14   \n",
       "3        2016-01-07  000001.SZ  17476110.0  1.948695e+08  0.1481    -5.12   \n",
       "6        2016-01-12  000001.SZ  56164230.0  6.059708e+08  0.4758     0.46   \n",
       "...             ...        ...         ...           ...     ...      ...   \n",
       "4580328  2021-07-26  689009.SH   2008700.0  1.309806e+08  3.3200    -1.32   \n",
       "4580329  2021-07-27  689009.SH   1835700.0  1.245621e+08  3.0300    -0.04   \n",
       "4580330  2021-07-28  689009.SH   1741400.0  1.142330e+08  2.8800     0.48   \n",
       "4580331  2021-07-29  689009.SH   1619800.0  1.121369e+08  2.6800     0.84   \n",
       "4580332  2021-07-30  689009.SH   1438500.0  9.605356e+07  2.3800     0.53   \n",
       "\n",
       "              vwap  trade_status   adj_close    adj_open    adj_high  \\\n",
       "0        11.719231             0  935.197763  990.500720  992.976972   \n",
       "1        11.391008             0  940.975684  930.245260  955.007778   \n",
       "2        11.473553             0  951.706109  942.626519  954.182361   \n",
       "3        11.150622             0  903.006490  941.801102  941.801102   \n",
       "6        10.789266             0  892.276066  893.926900  900.530238   \n",
       "...            ...           ...         ...         ...         ...   \n",
       "4580328  65.206660             0   67.180000   67.860000   67.860000   \n",
       "4580329  67.855344             0   67.150000   66.000000   70.970000   \n",
       "4580330  65.598397             0   67.470000   66.010000   67.590000   \n",
       "4580331  69.228825             0   68.040000   67.800000   70.550000   \n",
       "4580332  66.773413             0   68.400000   67.520000   68.840000   \n",
       "\n",
       "            adj_low  \n",
       "0        926.943591  \n",
       "1        920.340253  \n",
       "2        940.150267  \n",
       "3        900.530238  \n",
       "6        878.243972  \n",
       "...             ...  \n",
       "4580328   63.000000  \n",
       "4580329   65.160000  \n",
       "4580330   63.010000  \n",
       "4580331   67.130000  \n",
       "4580332   65.500000  \n",
       "\n",
       "[4443324 rows x 12 columns]"
      ]
     },
     "execution_count": 4,
     "metadata": {},
     "output_type": "execute_result"
    }
   ],
   "source": [
    "q1 = df['volume'].quantile(0.25)\n",
    "q2 = df['volume'].quantile()\n",
    "q3 = df['volume'].quantile(0.75)\n",
    "max_outlier = q3 + 5 * (q3 - q1)\n",
    "min_outlier = q1 - 3 * (q3 - q1)\n",
    "df = df[(df['volume'] <= max_outlier) & (df['volume'] >= min_outlier)]\n",
    "df"
   ]
  },
  {
   "cell_type": "code",
   "execution_count": 5,
   "metadata": {},
   "outputs": [
    {
     "data": {
      "image/png": "[encoded data removed]",
      "text/plain": [
       "<Figure size 432x288 with 1 Axes>"
      ]
     },
     "metadata": {
      "needs_background": "light"
     },
     "output_type": "display_data"
    }
   ],
   "source": [
    "# Draw Plot\n",
    "sns.kdeplot(df['volume'], shade=True, color=\"g\", label=\"volume\", alpha=.7)\n",
    "\n",
    "# Decoration\n",
    "plt.title('volume probability density distribution')\n",
    "plt.legend()\n",
    "plt.show()"
   ]
  },
  {
   "cell_type": "markdown",
   "metadata": {},
   "source": [
    "### 1.2 对于`turnover`的异常值处理"
   ]
  },
  {
   "cell_type": "code",
   "execution_count": 6,
   "metadata": {},
   "outputs": [
    {
     "data": {
      "image/png": "[encoded data removed]",
      "text/plain": [
       "<Figure size 432x288 with 1 Axes>"
      ]
     },
     "metadata": {
      "needs_background": "light"
     },
     "output_type": "display_data"
    }
   ],
   "source": [
    "# Draw Plot\n",
    "sns.kdeplot(df['turnover'], shade=True, color=\"b\", label=\"turnover\", alpha=.7)\n",
    "\n",
    "# Decoration\n",
    "plt.title('turnover probability density distribution')\n",
    "plt.legend()\n",
    "plt.show()"
   ]
  },
  {
   "cell_type": "code",
   "execution_count": 7,
   "metadata": {},
   "outputs": [
    {
     "data": {
      "text/plain": [
       "count    4.443324e+06\n",
       "mean     1.393150e+08\n",
       "std      2.695434e+08\n",
       "min      2.108000e+03\n",
       "25%      2.821006e+07\n",
       "50%      6.420317e+07\n",
       "75%      1.495593e+08\n",
       "max      1.849878e+10\n",
       "Name: turnover, dtype: float64"
      ]
     },
     "execution_count": 7,
     "metadata": {},
     "output_type": "execute_result"
    }
   ],
   "source": [
    "df['turnover'].describe()"
   ]
  },
  {
   "cell_type": "code",
   "execution_count": 8,
   "metadata": {},
   "outputs": [
    {
     "data": {
      "text/html": [
       "<div>\n",
       "<style scoped>\n",
       "    .dataframe tbody tr th:only-of-type {\n",
       "        vertical-align: middle;\n",
       "    }\n",
       "\n",
       "    .dataframe tbody tr th {\n",
       "        vertical-align: top;\n",
       "    }\n",
       "\n",
       "    .dataframe thead th {\n",
       "        text-align: right;\n",
       "    }\n",
       "</style>\n",
       "<table border=\"1\" class=\"dataframe\">\n",
       "  <thead>\n",
       "    <tr style=\"text-align: right;\">\n",
       "      <th></th>\n",
       "      <th>dt</th>\n",
       "      <th>kdcode</th>\n",
       "      <th>volume</th>\n",
       "      <th>turnover</th>\n",
       "      <th>turn</th>\n",
       "      <th>pct_chg</th>\n",
       "      <th>vwap</th>\n",
       "      <th>trade_status</th>\n",
       "      <th>adj_close</th>\n",
       "      <th>adj_open</th>\n",
       "      <th>adj_high</th>\n",
       "      <th>adj_low</th>\n",
       "    </tr>\n",
       "  </thead>\n",
       "  <tbody>\n",
       "    <tr>\n",
       "      <th>0</th>\n",
       "      <td>2016-01-04</td>\n",
       "      <td>000001.SZ</td>\n",
       "      <td>56349787.0</td>\n",
       "      <td>6.603762e+08</td>\n",
       "      <td>0.4774</td>\n",
       "      <td>-5.51</td>\n",
       "      <td>11.719231</td>\n",
       "      <td>0</td>\n",
       "      <td>935.197763</td>\n",
       "      <td>990.500720</td>\n",
       "      <td>992.976972</td>\n",
       "      <td>926.943591</td>\n",
       "    </tr>\n",
       "    <tr>\n",
       "      <th>1</th>\n",
       "      <td>2016-01-05</td>\n",
       "      <td>000001.SZ</td>\n",
       "      <td>66326995.0</td>\n",
       "      <td>7.555314e+08</td>\n",
       "      <td>0.5619</td>\n",
       "      <td>0.61</td>\n",
       "      <td>11.391008</td>\n",
       "      <td>0</td>\n",
       "      <td>940.975684</td>\n",
       "      <td>930.245260</td>\n",
       "      <td>955.007778</td>\n",
       "      <td>920.340253</td>\n",
       "    </tr>\n",
       "    <tr>\n",
       "      <th>2</th>\n",
       "      <td>2016-01-06</td>\n",
       "      <td>000001.SZ</td>\n",
       "      <td>51570644.0</td>\n",
       "      <td>5.916985e+08</td>\n",
       "      <td>0.4369</td>\n",
       "      <td>1.14</td>\n",
       "      <td>11.473553</td>\n",
       "      <td>0</td>\n",
       "      <td>951.706109</td>\n",
       "      <td>942.626519</td>\n",
       "      <td>954.182361</td>\n",
       "      <td>940.150267</td>\n",
       "    </tr>\n",
       "    <tr>\n",
       "      <th>3</th>\n",
       "      <td>2016-01-07</td>\n",
       "      <td>000001.SZ</td>\n",
       "      <td>17476110.0</td>\n",
       "      <td>1.948695e+08</td>\n",
       "      <td>0.1481</td>\n",
       "      <td>-5.12</td>\n",
       "      <td>11.150622</td>\n",
       "      <td>0</td>\n",
       "      <td>903.006490</td>\n",
       "      <td>941.801102</td>\n",
       "      <td>941.801102</td>\n",
       "      <td>900.530238</td>\n",
       "    </tr>\n",
       "    <tr>\n",
       "      <th>6</th>\n",
       "      <td>2016-01-12</td>\n",
       "      <td>000001.SZ</td>\n",
       "      <td>56164230.0</td>\n",
       "      <td>6.059708e+08</td>\n",
       "      <td>0.4758</td>\n",
       "      <td>0.46</td>\n",
       "      <td>10.789266</td>\n",
       "      <td>0</td>\n",
       "      <td>892.276066</td>\n",
       "      <td>893.926900</td>\n",
       "      <td>900.530238</td>\n",
       "      <td>878.243972</td>\n",
       "    </tr>\n",
       "    <tr>\n",
       "      <th>...</th>\n",
       "      <td>...</td>\n",
       "      <td>...</td>\n",
       "      <td>...</td>\n",
       "      <td>...</td>\n",
       "      <td>...</td>\n",
       "      <td>...</td>\n",
       "      <td>...</td>\n",
       "      <td>...</td>\n",
       "      <td>...</td>\n",
       "      <td>...</td>\n",
       "      <td>...</td>\n",
       "      <td>...</td>\n",
       "    </tr>\n",
       "    <tr>\n",
       "      <th>4580328</th>\n",
       "      <td>2021-07-26</td>\n",
       "      <td>689009.SH</td>\n",
       "      <td>2008700.0</td>\n",
       "      <td>1.309806e+08</td>\n",
       "      <td>3.3200</td>\n",
       "      <td>-1.32</td>\n",
       "      <td>65.206660</td>\n",
       "      <td>0</td>\n",
       "      <td>67.180000</td>\n",
       "      <td>67.860000</td>\n",
       "      <td>67.860000</td>\n",
       "      <td>63.000000</td>\n",
       "    </tr>\n",
       "    <tr>\n",
       "      <th>4580329</th>\n",
       "      <td>2021-07-27</td>\n",
       "      <td>689009.SH</td>\n",
       "      <td>1835700.0</td>\n",
       "      <td>1.245621e+08</td>\n",
       "      <td>3.0300</td>\n",
       "      <td>-0.04</td>\n",
       "      <td>67.855344</td>\n",
       "      <td>0</td>\n",
       "      <td>67.150000</td>\n",
       "      <td>66.000000</td>\n",
       "      <td>70.970000</td>\n",
       "      <td>65.160000</td>\n",
       "    </tr>\n",
       "    <tr>\n",
       "      <th>4580330</th>\n",
       "      <td>2021-07-28</td>\n",
       "      <td>689009.SH</td>\n",
       "      <td>1741400.0</td>\n",
       "      <td>1.142330e+08</td>\n",
       "      <td>2.8800</td>\n",
       "      <td>0.48</td>\n",
       "      <td>65.598397</td>\n",
       "      <td>0</td>\n",
       "      <td>67.470000</td>\n",
       "      <td>66.010000</td>\n",
       "      <td>67.590000</td>\n",
       "      <td>63.010000</td>\n",
       "    </tr>\n",
       "    <tr>\n",
       "      <th>4580331</th>\n",
       "      <td>2021-07-29</td>\n",
       "      <td>689009.SH</td>\n",
       "      <td>1619800.0</td>\n",
       "      <td>1.121369e+08</td>\n",
       "      <td>2.6800</td>\n",
       "      <td>0.84</td>\n",
       "      <td>69.228825</td>\n",
       "      <td>0</td>\n",
       "      <td>68.040000</td>\n",
       "      <td>67.800000</td>\n",
       "      <td>70.550000</td>\n",
       "      <td>67.130000</td>\n",
       "    </tr>\n",
       "    <tr>\n",
       "      <th>4580332</th>\n",
       "      <td>2021-07-30</td>\n",
       "      <td>689009.SH</td>\n",
       "      <td>1438500.0</td>\n",
       "      <td>9.605356e+07</td>\n",
       "      <td>2.3800</td>\n",
       "      <td>0.53</td>\n",
       "      <td>66.773413</td>\n",
       "      <td>0</td>\n",
       "      <td>68.400000</td>\n",
       "      <td>67.520000</td>\n",
       "      <td>68.840000</td>\n",
       "      <td>65.500000</td>\n",
       "    </tr>\n",
       "  </tbody>\n",
       "</table>\n",
       "<p>4343012 rows × 12 columns</p>\n",
       "</div>"
      ],
      "text/plain": [
       "                 dt     kdcode      volume      turnover    turn  pct_chg  \\\n",
       "0        2016-01-04  000001.SZ  56349787.0  6.603762e+08  0.4774    -5.51   \n",
       "1        2016-01-05  000001.SZ  66326995.0  7.555314e+08  0.5619     0.61   \n",
       "2        2016-01-06  000001.SZ  51570644.0  5.916985e+08  0.4369     1.14   \n",
       "3        2016-01-07  000001.SZ  17476110.0  1.948695e+08  0.1481    -5.12   \n",
       "6        2016-01-12  000001.SZ  56164230.0  6.059708e+08  0.4758     0.46   \n",
       "...             ...        ...         ...           ...     ...      ...   \n",
       "4580328  2021-07-26  689009.SH   2008700.0  1.309806e+08  3.3200    -1.32   \n",
       "4580329  2021-07-27  689009.SH   1835700.0  1.245621e+08  3.0300    -0.04   \n",
       "4580330  2021-07-28  689009.SH   1741400.0  1.142330e+08  2.8800     0.48   \n",
       "4580331  2021-07-29  689009.SH   1619800.0  1.121369e+08  2.6800     0.84   \n",
       "4580332  2021-07-30  689009.SH   1438500.0  9.605356e+07  2.3800     0.53   \n",
       "\n",
       "              vwap  trade_status   adj_close    adj_open    adj_high  \\\n",
       "0        11.719231             0  935.197763  990.500720  992.976972   \n",
       "1        11.391008             0  940.975684  930.245260  955.007778   \n",
       "2        11.473553             0  951.706109  942.626519  954.182361   \n",
       "3        11.150622             0  903.006490  941.801102  941.801102   \n",
       "6        10.789266             0  892.276066  893.926900  900.530238   \n",
       "...            ...           ...         ...         ...         ...   \n",
       "4580328  65.206660             0   67.180000   67.860000   67.860000   \n",
       "4580329  67.855344             0   67.150000   66.000000   70.970000   \n",
       "4580330  65.598397             0   67.470000   66.010000   67.590000   \n",
       "4580331  69.228825             0   68.040000   67.800000   70.550000   \n",
       "4580332  66.773413             0   68.400000   67.520000   68.840000   \n",
       "\n",
       "            adj_low  \n",
       "0        926.943591  \n",
       "1        920.340253  \n",
       "2        940.150267  \n",
       "3        900.530238  \n",
       "6        878.243972  \n",
       "...             ...  \n",
       "4580328   63.000000  \n",
       "4580329   65.160000  \n",
       "4580330   63.010000  \n",
       "4580331   67.130000  \n",
       "4580332   65.500000  \n",
       "\n",
       "[4343012 rows x 12 columns]"
      ]
     },
     "execution_count": 8,
     "metadata": {},
     "output_type": "execute_result"
    }
   ],
   "source": [
    "q1 = df['turnover'].quantile(0.25)\n",
    "q2 = df['turnover'].quantile()\n",
    "q3 = df['turnover'].quantile(0.75)\n",
    "max_outlier = q3 + 5 * (q3 - q1)\n",
    "min_outlier = q1 - 3 * (q3 - q1)\n",
    "df = df[(df['turnover'] <= max_outlier) & (df['turnover'] >= min_outlier)]\n",
    "df"
   ]
  },
  {
   "cell_type": "code",
   "execution_count": 9,
   "metadata": {},
   "outputs": [
    {
     "data": {
      "image/png": "[encoded data removed]",
      "text/plain": [
       "<Figure size 432x288 with 1 Axes>"
      ]
     },
     "metadata": {
      "needs_background": "light"
     },
     "output_type": "display_data"
    }
   ],
   "source": [
    "# Draw Plot\n",
    "sns.kdeplot(df['turnover'], shade=True, color=\"b\", label=\"turnover\", alpha=.7)\n",
    "\n",
    "# Decoration\n",
    "plt.title('turnover probability density distribution')\n",
    "plt.legend()\n",
    "plt.show()"
   ]
  },
  {
   "cell_type": "markdown",
   "metadata": {},
   "source": [
    "### 1.3 对于`vwap`的异常值处理"
   ]
  },
  {
   "cell_type": "code",
   "execution_count": 10,
   "metadata": {},
   "outputs": [
    {
     "data": {
      "image/png": "[encoded data removed]",
      "text/plain": [
       "<Figure size 432x288 with 1 Axes>"
      ]
     },
     "metadata": {
      "needs_background": "light"
     },
     "output_type": "display_data"
    }
   ],
   "source": [
    "# Draw Plot\n",
    "sns.kdeplot(df['vwap'], shade=True, color=\"y\", label=\"vwap\", alpha=.7)\n",
    "\n",
    "# Decoration\n",
    "plt.title('vwap probability density distribution')\n",
    "plt.legend()\n",
    "plt.show()"
   ]
  },
  {
   "cell_type": "code",
   "execution_count": 11,
   "metadata": {},
   "outputs": [
    {
     "data": {
      "text/plain": [
       "count    4.343012e+06\n",
       "mean     1.743910e+01\n",
       "std      2.370937e+01\n",
       "min      6.100000e-01\n",
       "25%      6.524328e+00\n",
       "50%      1.118978e+01\n",
       "75%      1.991053e+01\n",
       "max      1.421385e+03\n",
       "Name: vwap, dtype: float64"
      ]
     },
     "execution_count": 11,
     "metadata": {},
     "output_type": "execute_result"
    }
   ],
   "source": [
    "df['vwap'].describe()"
   ]
  },
  {
   "cell_type": "code",
   "execution_count": 12,
   "metadata": {},
   "outputs": [
    {
     "data": {
      "text/html": [
       "<div>\n",
       "<style scoped>\n",
       "    .dataframe tbody tr th:only-of-type {\n",
       "        vertical-align: middle;\n",
       "    }\n",
       "\n",
       "    .dataframe tbody tr th {\n",
       "        vertical-align: top;\n",
       "    }\n",
       "\n",
       "    .dataframe thead th {\n",
       "        text-align: right;\n",
       "    }\n",
       "</style>\n",
       "<table border=\"1\" class=\"dataframe\">\n",
       "  <thead>\n",
       "    <tr style=\"text-align: right;\">\n",
       "      <th></th>\n",
       "      <th>dt</th>\n",
       "      <th>kdcode</th>\n",
       "      <th>volume</th>\n",
       "      <th>turnover</th>\n",
       "      <th>turn</th>\n",
       "      <th>pct_chg</th>\n",
       "      <th>vwap</th>\n",
       "      <th>trade_status</th>\n",
       "      <th>adj_close</th>\n",
       "      <th>adj_open</th>\n",
       "      <th>adj_high</th>\n",
       "      <th>adj_low</th>\n",
       "    </tr>\n",
       "  </thead>\n",
       "  <tbody>\n",
       "    <tr>\n",
       "      <th>0</th>\n",
       "      <td>2016-01-04</td>\n",
       "      <td>000001.SZ</td>\n",
       "      <td>56349787.0</td>\n",
       "      <td>6.603762e+08</td>\n",
       "      <td>0.4774</td>\n",
       "      <td>-5.51</td>\n",
       "      <td>11.719231</td>\n",
       "      <td>0</td>\n",
       "      <td>935.197763</td>\n",
       "      <td>990.500720</td>\n",
       "      <td>992.976972</td>\n",
       "      <td>926.943591</td>\n",
       "    </tr>\n",
       "    <tr>\n",
       "      <th>1</th>\n",
       "      <td>2016-01-05</td>\n",
       "      <td>000001.SZ</td>\n",
       "      <td>66326995.0</td>\n",
       "      <td>7.555314e+08</td>\n",
       "      <td>0.5619</td>\n",
       "      <td>0.61</td>\n",
       "      <td>11.391008</td>\n",
       "      <td>0</td>\n",
       "      <td>940.975684</td>\n",
       "      <td>930.245260</td>\n",
       "      <td>955.007778</td>\n",
       "      <td>920.340253</td>\n",
       "    </tr>\n",
       "    <tr>\n",
       "      <th>2</th>\n",
       "      <td>2016-01-06</td>\n",
       "      <td>000001.SZ</td>\n",
       "      <td>51570644.0</td>\n",
       "      <td>5.916985e+08</td>\n",
       "      <td>0.4369</td>\n",
       "      <td>1.14</td>\n",
       "      <td>11.473553</td>\n",
       "      <td>0</td>\n",
       "      <td>951.706109</td>\n",
       "      <td>942.626519</td>\n",
       "      <td>954.182361</td>\n",
       "      <td>940.150267</td>\n",
       "    </tr>\n",
       "    <tr>\n",
       "      <th>3</th>\n",
       "      <td>2016-01-07</td>\n",
       "      <td>000001.SZ</td>\n",
       "      <td>17476110.0</td>\n",
       "      <td>1.948695e+08</td>\n",
       "      <td>0.1481</td>\n",
       "      <td>-5.12</td>\n",
       "      <td>11.150622</td>\n",
       "      <td>0</td>\n",
       "      <td>903.006490</td>\n",
       "      <td>941.801102</td>\n",
       "      <td>941.801102</td>\n",
       "      <td>900.530238</td>\n",
       "    </tr>\n",
       "    <tr>\n",
       "      <th>6</th>\n",
       "      <td>2016-01-12</td>\n",
       "      <td>000001.SZ</td>\n",
       "      <td>56164230.0</td>\n",
       "      <td>6.059708e+08</td>\n",
       "      <td>0.4758</td>\n",
       "      <td>0.46</td>\n",
       "      <td>10.789266</td>\n",
       "      <td>0</td>\n",
       "      <td>892.276066</td>\n",
       "      <td>893.926900</td>\n",
       "      <td>900.530238</td>\n",
       "      <td>878.243972</td>\n",
       "    </tr>\n",
       "    <tr>\n",
       "      <th>...</th>\n",
       "      <td>...</td>\n",
       "      <td>...</td>\n",
       "      <td>...</td>\n",
       "      <td>...</td>\n",
       "      <td>...</td>\n",
       "      <td>...</td>\n",
       "      <td>...</td>\n",
       "      <td>...</td>\n",
       "      <td>...</td>\n",
       "      <td>...</td>\n",
       "      <td>...</td>\n",
       "      <td>...</td>\n",
       "    </tr>\n",
       "    <tr>\n",
       "      <th>4580328</th>\n",
       "      <td>2021-07-26</td>\n",
       "      <td>689009.SH</td>\n",
       "      <td>2008700.0</td>\n",
       "      <td>1.309806e+08</td>\n",
       "      <td>3.3200</td>\n",
       "      <td>-1.32</td>\n",
       "      <td>65.206660</td>\n",
       "      <td>0</td>\n",
       "      <td>67.180000</td>\n",
       "      <td>67.860000</td>\n",
       "      <td>67.860000</td>\n",
       "      <td>63.000000</td>\n",
       "    </tr>\n",
       "    <tr>\n",
       "      <th>4580329</th>\n",
       "      <td>2021-07-27</td>\n",
       "      <td>689009.SH</td>\n",
       "      <td>1835700.0</td>\n",
       "      <td>1.245621e+08</td>\n",
       "      <td>3.0300</td>\n",
       "      <td>-0.04</td>\n",
       "      <td>67.855344</td>\n",
       "      <td>0</td>\n",
       "      <td>67.150000</td>\n",
       "      <td>66.000000</td>\n",
       "      <td>70.970000</td>\n",
       "      <td>65.160000</td>\n",
       "    </tr>\n",
       "    <tr>\n",
       "      <th>4580330</th>\n",
       "      <td>2021-07-28</td>\n",
       "      <td>689009.SH</td>\n",
       "      <td>1741400.0</td>\n",
       "      <td>1.142330e+08</td>\n",
       "      <td>2.8800</td>\n",
       "      <td>0.48</td>\n",
       "      <td>65.598397</td>\n",
       "      <td>0</td>\n",
       "      <td>67.470000</td>\n",
       "      <td>66.010000</td>\n",
       "      <td>67.590000</td>\n",
       "      <td>63.010000</td>\n",
       "    </tr>\n",
       "    <tr>\n",
       "      <th>4580331</th>\n",
       "      <td>2021-07-29</td>\n",
       "      <td>689009.SH</td>\n",
       "      <td>1619800.0</td>\n",
       "      <td>1.121369e+08</td>\n",
       "      <td>2.6800</td>\n",
       "      <td>0.84</td>\n",
       "      <td>69.228825</td>\n",
       "      <td>0</td>\n",
       "      <td>68.040000</td>\n",
       "      <td>67.800000</td>\n",
       "      <td>70.550000</td>\n",
       "      <td>67.130000</td>\n",
       "    </tr>\n",
       "    <tr>\n",
       "      <th>4580332</th>\n",
       "      <td>2021-07-30</td>\n",
       "      <td>689009.SH</td>\n",
       "      <td>1438500.0</td>\n",
       "      <td>9.605356e+07</td>\n",
       "      <td>2.3800</td>\n",
       "      <td>0.53</td>\n",
       "      <td>66.773413</td>\n",
       "      <td>0</td>\n",
       "      <td>68.400000</td>\n",
       "      <td>67.520000</td>\n",
       "      <td>68.840000</td>\n",
       "      <td>65.500000</td>\n",
       "    </tr>\n",
       "  </tbody>\n",
       "</table>\n",
       "<p>4279753 rows × 12 columns</p>\n",
       "</div>"
      ],
      "text/plain": [
       "                 dt     kdcode      volume      turnover    turn  pct_chg  \\\n",
       "0        2016-01-04  000001.SZ  56349787.0  6.603762e+08  0.4774    -5.51   \n",
       "1        2016-01-05  000001.SZ  66326995.0  7.555314e+08  0.5619     0.61   \n",
       "2        2016-01-06  000001.SZ  51570644.0  5.916985e+08  0.4369     1.14   \n",
       "3        2016-01-07  000001.SZ  17476110.0  1.948695e+08  0.1481    -5.12   \n",
       "6        2016-01-12  000001.SZ  56164230.0  6.059708e+08  0.4758     0.46   \n",
       "...             ...        ...         ...           ...     ...      ...   \n",
       "4580328  2021-07-26  689009.SH   2008700.0  1.309806e+08  3.3200    -1.32   \n",
       "4580329  2021-07-27  689009.SH   1835700.0  1.245621e+08  3.0300    -0.04   \n",
       "4580330  2021-07-28  689009.SH   1741400.0  1.142330e+08  2.8800     0.48   \n",
       "4580331  2021-07-29  689009.SH   1619800.0  1.121369e+08  2.6800     0.84   \n",
       "4580332  2021-07-30  689009.SH   1438500.0  9.605356e+07  2.3800     0.53   \n",
       "\n",
       "              vwap  trade_status   adj_close    adj_open    adj_high  \\\n",
       "0        11.719231             0  935.197763  990.500720  992.976972   \n",
       "1        11.391008             0  940.975684  930.245260  955.007778   \n",
       "2        11.473553             0  951.706109  942.626519  954.182361   \n",
       "3        11.150622             0  903.006490  941.801102  941.801102   \n",
       "6        10.789266             0  892.276066  893.926900  900.530238   \n",
       "...            ...           ...         ...         ...         ...   \n",
       "4580328  65.206660             0   67.180000   67.860000   67.860000   \n",
       "4580329  67.855344             0   67.150000   66.000000   70.970000   \n",
       "4580330  65.598397             0   67.470000   66.010000   67.590000   \n",
       "4580331  69.228825             0   68.040000   67.800000   70.550000   \n",
       "4580332  66.773413             0   68.400000   67.520000   68.840000   \n",
       "\n",
       "            adj_low  \n",
       "0        926.943591  \n",
       "1        920.340253  \n",
       "2        940.150267  \n",
       "3        900.530238  \n",
       "6        878.243972  \n",
       "...             ...  \n",
       "4580328   63.000000  \n",
       "4580329   65.160000  \n",
       "4580330   63.010000  \n",
       "4580331   67.130000  \n",
       "4580332   65.500000  \n",
       "\n",
       "[4279753 rows x 12 columns]"
      ]
     },
     "execution_count": 12,
     "metadata": {},
     "output_type": "execute_result"
    }
   ],
   "source": [
    "q1 = df['vwap'].quantile(0.25)\n",
    "q2 = df['vwap'].quantile()\n",
    "q3 = df['vwap'].quantile(0.75)\n",
    "max_outlier = q3 + 5 * (q3 - q1)\n",
    "min_outlier = q1 - 3 * (q3 - q1)\n",
    "df = df[(df['vwap'] <= max_outlier) & (df['vwap'] >= min_outlier)]\n",
    "df"
   ]
  },
  {
   "cell_type": "code",
   "execution_count": 13,
   "metadata": {
    "scrolled": true
   },
   "outputs": [
    {
     "data": {
      "image/png": "[encoded data removed]",
      "text/plain": [
       "<Figure size 432x288 with 1 Axes>"
      ]
     },
     "metadata": {
      "needs_background": "light"
     },
     "output_type": "display_data"
    }
   ],
   "source": [
    "# Draw Plot\n",
    "sns.kdeplot(df['vwap'], shade=True, color=\"y\", label=\"vwap\", alpha=.7)\n",
    "\n",
    "# Decoration\n",
    "plt.title('vwap probability density distribution')\n",
    "plt.legend()\n",
    "plt.show()"
   ]
  },
  {
   "cell_type": "markdown",
   "metadata": {},
   "source": [
    "### 1.4 对于`adj_open`的异常值处理"
   ]
  },
  {
   "cell_type": "code",
   "execution_count": 14,
   "metadata": {},
   "outputs": [
    {
     "data": {
      "image/png": "[encoded data removed]",
      "text/plain": [
       "<Figure size 432x288 with 1 Axes>"
      ]
     },
     "metadata": {
      "needs_background": "light"
     },
     "output_type": "display_data"
    }
   ],
   "source": [
    "# Draw Plot\n",
    "sns.kdeplot(df['adj_open'], shade=True, color=\"black\", label=\"adj_open\", alpha=.7)\n",
    "\n",
    "# Decoration\n",
    "plt.title('adj_open probability density distribution')\n",
    "plt.legend()\n",
    "plt.show()"
   ]
  },
  {
   "cell_type": "code",
   "execution_count": 15,
   "metadata": {},
   "outputs": [
    {
     "data": {
      "text/plain": [
       "count    4.279753e+06\n",
       "mean     1.208795e+02\n",
       "std      1.974108e+03\n",
       "min      1.082400e+00\n",
       "25%      2.163753e+01\n",
       "50%      3.786903e+01\n",
       "75%      6.610000e+01\n",
       "max      2.379521e+05\n",
       "Name: adj_open, dtype: float64"
      ]
     },
     "execution_count": 15,
     "metadata": {},
     "output_type": "execute_result"
    }
   ],
   "source": [
    "df['adj_open'].describe()"
   ]
  },
  {
   "cell_type": "code",
   "execution_count": 16,
   "metadata": {},
   "outputs": [
    {
     "data": {
      "text/html": [
       "<div>\n",
       "<style scoped>\n",
       "    .dataframe tbody tr th:only-of-type {\n",
       "        vertical-align: middle;\n",
       "    }\n",
       "\n",
       "    .dataframe tbody tr th {\n",
       "        vertical-align: top;\n",
       "    }\n",
       "\n",
       "    .dataframe thead th {\n",
       "        text-align: right;\n",
       "    }\n",
       "</style>\n",
       "<table border=\"1\" class=\"dataframe\">\n",
       "  <thead>\n",
       "    <tr style=\"text-align: right;\">\n",
       "      <th></th>\n",
       "      <th>dt</th>\n",
       "      <th>kdcode</th>\n",
       "      <th>volume</th>\n",
       "      <th>turnover</th>\n",
       "      <th>turn</th>\n",
       "      <th>pct_chg</th>\n",
       "      <th>vwap</th>\n",
       "      <th>trade_status</th>\n",
       "      <th>adj_close</th>\n",
       "      <th>adj_open</th>\n",
       "      <th>adj_high</th>\n",
       "      <th>adj_low</th>\n",
       "    </tr>\n",
       "  </thead>\n",
       "  <tbody>\n",
       "    <tr>\n",
       "      <th>2588</th>\n",
       "      <td>2016-01-04</td>\n",
       "      <td>000004.SZ</td>\n",
       "      <td>2283380.0</td>\n",
       "      <td>9.767487e+07</td>\n",
       "      <td>2.7223</td>\n",
       "      <td>-10.0000</td>\n",
       "      <td>42.776439</td>\n",
       "      <td>0</td>\n",
       "      <td>243.215104</td>\n",
       "      <td>270.239004</td>\n",
       "      <td>274.360296</td>\n",
       "      <td>243.215104</td>\n",
       "    </tr>\n",
       "    <tr>\n",
       "      <th>2589</th>\n",
       "      <td>2016-01-05</td>\n",
       "      <td>000004.SZ</td>\n",
       "      <td>3883664.0</td>\n",
       "      <td>1.505349e+08</td>\n",
       "      <td>4.6303</td>\n",
       "      <td>-6.3665</td>\n",
       "      <td>38.761049</td>\n",
       "      <td>0</td>\n",
       "      <td>227.730821</td>\n",
       "      <td>220.783500</td>\n",
       "      <td>240.742328</td>\n",
       "      <td>218.899481</td>\n",
       "    </tr>\n",
       "    <tr>\n",
       "      <th>2590</th>\n",
       "      <td>2016-01-06</td>\n",
       "      <td>000004.SZ</td>\n",
       "      <td>2114757.0</td>\n",
       "      <td>8.257999e+07</td>\n",
       "      <td>2.5213</td>\n",
       "      <td>1.2927</td>\n",
       "      <td>39.049400</td>\n",
       "      <td>0</td>\n",
       "      <td>230.674601</td>\n",
       "      <td>227.259816</td>\n",
       "      <td>235.502400</td>\n",
       "      <td>223.727280</td>\n",
       "    </tr>\n",
       "    <tr>\n",
       "      <th>2591</th>\n",
       "      <td>2016-01-07</td>\n",
       "      <td>000004.SZ</td>\n",
       "      <td>456900.0</td>\n",
       "      <td>1.651672e+07</td>\n",
       "      <td>0.5447</td>\n",
       "      <td>-10.0051</td>\n",
       "      <td>36.149518</td>\n",
       "      <td>0</td>\n",
       "      <td>207.595366</td>\n",
       "      <td>226.671060</td>\n",
       "      <td>226.671060</td>\n",
       "      <td>207.595366</td>\n",
       "    </tr>\n",
       "    <tr>\n",
       "      <th>2592</th>\n",
       "      <td>2016-01-08</td>\n",
       "      <td>000004.SZ</td>\n",
       "      <td>3077465.0</td>\n",
       "      <td>1.071972e+08</td>\n",
       "      <td>3.6691</td>\n",
       "      <td>0.6239</td>\n",
       "      <td>34.832959</td>\n",
       "      <td>0</td>\n",
       "      <td>208.890629</td>\n",
       "      <td>206.829983</td>\n",
       "      <td>214.895940</td>\n",
       "      <td>186.812279</td>\n",
       "    </tr>\n",
       "    <tr>\n",
       "      <th>...</th>\n",
       "      <td>...</td>\n",
       "      <td>...</td>\n",
       "      <td>...</td>\n",
       "      <td>...</td>\n",
       "      <td>...</td>\n",
       "      <td>...</td>\n",
       "      <td>...</td>\n",
       "      <td>...</td>\n",
       "      <td>...</td>\n",
       "      <td>...</td>\n",
       "      <td>...</td>\n",
       "      <td>...</td>\n",
       "    </tr>\n",
       "    <tr>\n",
       "      <th>4580328</th>\n",
       "      <td>2021-07-26</td>\n",
       "      <td>689009.SH</td>\n",
       "      <td>2008700.0</td>\n",
       "      <td>1.309806e+08</td>\n",
       "      <td>3.3200</td>\n",
       "      <td>-1.3200</td>\n",
       "      <td>65.206660</td>\n",
       "      <td>0</td>\n",
       "      <td>67.180000</td>\n",
       "      <td>67.860000</td>\n",
       "      <td>67.860000</td>\n",
       "      <td>63.000000</td>\n",
       "    </tr>\n",
       "    <tr>\n",
       "      <th>4580329</th>\n",
       "      <td>2021-07-27</td>\n",
       "      <td>689009.SH</td>\n",
       "      <td>1835700.0</td>\n",
       "      <td>1.245621e+08</td>\n",
       "      <td>3.0300</td>\n",
       "      <td>-0.0400</td>\n",
       "      <td>67.855344</td>\n",
       "      <td>0</td>\n",
       "      <td>67.150000</td>\n",
       "      <td>66.000000</td>\n",
       "      <td>70.970000</td>\n",
       "      <td>65.160000</td>\n",
       "    </tr>\n",
       "    <tr>\n",
       "      <th>4580330</th>\n",
       "      <td>2021-07-28</td>\n",
       "      <td>689009.SH</td>\n",
       "      <td>1741400.0</td>\n",
       "      <td>1.142330e+08</td>\n",
       "      <td>2.8800</td>\n",
       "      <td>0.4800</td>\n",
       "      <td>65.598397</td>\n",
       "      <td>0</td>\n",
       "      <td>67.470000</td>\n",
       "      <td>66.010000</td>\n",
       "      <td>67.590000</td>\n",
       "      <td>63.010000</td>\n",
       "    </tr>\n",
       "    <tr>\n",
       "      <th>4580331</th>\n",
       "      <td>2021-07-29</td>\n",
       "      <td>689009.SH</td>\n",
       "      <td>1619800.0</td>\n",
       "      <td>1.121369e+08</td>\n",
       "      <td>2.6800</td>\n",
       "      <td>0.8400</td>\n",
       "      <td>69.228825</td>\n",
       "      <td>0</td>\n",
       "      <td>68.040000</td>\n",
       "      <td>67.800000</td>\n",
       "      <td>70.550000</td>\n",
       "      <td>67.130000</td>\n",
       "    </tr>\n",
       "    <tr>\n",
       "      <th>4580332</th>\n",
       "      <td>2021-07-30</td>\n",
       "      <td>689009.SH</td>\n",
       "      <td>1438500.0</td>\n",
       "      <td>9.605356e+07</td>\n",
       "      <td>2.3800</td>\n",
       "      <td>0.5300</td>\n",
       "      <td>66.773413</td>\n",
       "      <td>0</td>\n",
       "      <td>68.400000</td>\n",
       "      <td>67.520000</td>\n",
       "      <td>68.840000</td>\n",
       "      <td>65.500000</td>\n",
       "    </tr>\n",
       "  </tbody>\n",
       "</table>\n",
       "<p>4165820 rows × 12 columns</p>\n",
       "</div>"
      ],
      "text/plain": [
       "                 dt     kdcode     volume      turnover    turn  pct_chg  \\\n",
       "2588     2016-01-04  000004.SZ  2283380.0  9.767487e+07  2.7223 -10.0000   \n",
       "2589     2016-01-05  000004.SZ  3883664.0  1.505349e+08  4.6303  -6.3665   \n",
       "2590     2016-01-06  000004.SZ  2114757.0  8.257999e+07  2.5213   1.2927   \n",
       "2591     2016-01-07  000004.SZ   456900.0  1.651672e+07  0.5447 -10.0051   \n",
       "2592     2016-01-08  000004.SZ  3077465.0  1.071972e+08  3.6691   0.6239   \n",
       "...             ...        ...        ...           ...     ...      ...   \n",
       "4580328  2021-07-26  689009.SH  2008700.0  1.309806e+08  3.3200  -1.3200   \n",
       "4580329  2021-07-27  689009.SH  1835700.0  1.245621e+08  3.0300  -0.0400   \n",
       "4580330  2021-07-28  689009.SH  1741400.0  1.142330e+08  2.8800   0.4800   \n",
       "4580331  2021-07-29  689009.SH  1619800.0  1.121369e+08  2.6800   0.8400   \n",
       "4580332  2021-07-30  689009.SH  1438500.0  9.605356e+07  2.3800   0.5300   \n",
       "\n",
       "              vwap  trade_status   adj_close    adj_open    adj_high  \\\n",
       "2588     42.776439             0  243.215104  270.239004  274.360296   \n",
       "2589     38.761049             0  227.730821  220.783500  240.742328   \n",
       "2590     39.049400             0  230.674601  227.259816  235.502400   \n",
       "2591     36.149518             0  207.595366  226.671060  226.671060   \n",
       "2592     34.832959             0  208.890629  206.829983  214.895940   \n",
       "...            ...           ...         ...         ...         ...   \n",
       "4580328  65.206660             0   67.180000   67.860000   67.860000   \n",
       "4580329  67.855344             0   67.150000   66.000000   70.970000   \n",
       "4580330  65.598397             0   67.470000   66.010000   67.590000   \n",
       "4580331  69.228825             0   68.040000   67.800000   70.550000   \n",
       "4580332  66.773413             0   68.400000   67.520000   68.840000   \n",
       "\n",
       "            adj_low  \n",
       "2588     243.215104  \n",
       "2589     218.899481  \n",
       "2590     223.727280  \n",
       "2591     207.595366  \n",
       "2592     186.812279  \n",
       "...             ...  \n",
       "4580328   63.000000  \n",
       "4580329   65.160000  \n",
       "4580330   63.010000  \n",
       "4580331   67.130000  \n",
       "4580332   65.500000  \n",
       "\n",
       "[4165820 rows x 12 columns]"
      ]
     },
     "execution_count": 16,
     "metadata": {},
     "output_type": "execute_result"
    }
   ],
   "source": [
    "q1 = df['adj_open'].quantile(0.25)\n",
    "q2 = df['adj_open'].quantile()\n",
    "q3 = df['adj_open'].quantile(0.75)\n",
    "max_outlier = q3 + 5 * (q3 - q1)\n",
    "min_outlier = q1 - 5 * (q3 - q1)\n",
    "df = df[(df['adj_open'] <= max_outlier) & (df['adj_open'] >= min_outlier)]\n",
    "df"
   ]
  },
  {
   "cell_type": "code",
   "execution_count": 17,
   "metadata": {
    "scrolled": true
   },
   "outputs": [
    {
     "data": {
      "image/png": "[encoded data removed]",
      "text/plain": [
       "<Figure size 432x288 with 1 Axes>"
      ]
     },
     "metadata": {
      "needs_background": "light"
     },
     "output_type": "display_data"
    }
   ],
   "source": [
    "# Draw Plot\n",
    "sns.kdeplot(df['adj_open'], shade=True, color=\"black\", label=\"adj_open\", alpha=.7)\n",
    "\n",
    "# Decoration\n",
    "plt.title('adj_open probability density distribution')\n",
    "plt.legend()\n",
    "plt.show()"
   ]
  },
  {
   "cell_type": "markdown",
   "metadata": {},
   "source": [
    "## 2. 查看异常值处理后各数据的`概率密度分布图`"
   ]
  },
  {
   "cell_type": "code",
   "execution_count": 18,
   "metadata": {},
   "outputs": [
    {
     "data": {
      "image/png": "[encoded data removed]",
      "text/plain": [
       "<Figure size 432x288 with 1 Axes>"
      ]
     },
     "metadata": {
      "needs_background": "light"
     },
     "output_type": "display_data"
    }
   ],
   "source": [
    "# 1. volume\n",
    "# Draw Plot\n",
    "sns.kdeplot(df['volume'], shade=True, color=\"g\", label=\"volume\", alpha=.7)\n",
    "\n",
    "# Decoration\n",
    "plt.title('volume probability density distribution')\n",
    "plt.legend()\n",
    "plt.show()"
   ]
  },
  {
   "cell_type": "code",
   "execution_count": 19,
   "metadata": {},
   "outputs": [
    {
     "data": {
      "image/png": "[encoded data removed]",
      "text/plain": [
       "<Figure size 432x288 with 1 Axes>"
      ]
     },
     "metadata": {
      "needs_background": "light"
     },
     "output_type": "display_data"
    }
   ],
   "source": [
    "# 2. turnover\n",
    "# Draw Plot\n",
    "sns.kdeplot(df['turnover'], shade=True, color=\"b\", label=\"turnover\", alpha=.7)\n",
    "\n",
    "# Decoration\n",
    "plt.title('turnover probability density distribution')\n",
    "plt.legend()\n",
    "plt.show()"
   ]
  },
  {
   "cell_type": "code",
   "execution_count": 20,
   "metadata": {},
   "outputs": [
    {
     "data": {
      "image/png": "[encoded data removed]",
      "text/plain": [
       "<Figure size 432x288 with 1 Axes>"
      ]
     },
     "metadata": {
      "needs_background": "light"
     },
     "output_type": "display_data"
    }
   ],
   "source": [
    "# 3. vwap\n",
    "# Draw Plot\n",
    "sns.kdeplot(df['vwap'], shade=True, color=\"y\", label=\"vwap\", alpha=.7)\n",
    "\n",
    "# Decoration\n",
    "plt.title('vwap probability density distribution')\n",
    "plt.legend()\n",
    "plt.show()"
   ]
  },
  {
   "cell_type": "code",
   "execution_count": 21,
   "metadata": {},
   "outputs": [
    {
     "data": {
      "image/png": "[encoded data removed]",
      "text/plain": [
       "<Figure size 432x288 with 1 Axes>"
      ]
     },
     "metadata": {
      "needs_background": "light"
     },
     "output_type": "display_data"
    }
   ],
   "source": [
    "# 4. adj_open\n",
    "# Draw Plot\n",
    "sns.kdeplot(df['adj_open'], shade=True, color=\"black\", label=\"adj_open\", alpha=.7)\n",
    "\n",
    "# Decoration\n",
    "plt.title('adj_open probability density distribution')\n",
    "plt.legend()\n",
    "plt.show()"
   ]
  },
  {
   "cell_type": "code",
   "execution_count": 22,
   "metadata": {},
   "outputs": [
    {
     "data": {
      "image/png": "[encoded data removed]",
      "text/plain": [
       "<Figure size 432x288 with 1 Axes>"
      ]
     },
     "metadata": {
      "needs_background": "light"
     },
     "output_type": "display_data"
    }
   ],
   "source": [
    "# 5. adj_open\n",
    "# Draw Plot\n",
    "sns.kdeplot(df['adj_close'], shade=True, color=\"purple\", label=\"adj_close\", alpha=.7)\n",
    "\n",
    "# Decoration\n",
    "plt.title('adj_close probability density distribution')\n",
    "plt.legend()\n",
    "plt.show()"
   ]
  },
  {
   "cell_type": "code",
   "execution_count": 23,
   "metadata": {},
   "outputs": [
    {
     "data": {
      "image/png": "[encoded data removed]",
      "text/plain": [
       "<Figure size 432x288 with 1 Axes>"
      ]
     },
     "metadata": {
      "needs_background": "light"
     },
     "output_type": "display_data"
    }
   ],
   "source": [
    "# 6. adj_high\n",
    "# Draw Plot\n",
    "sns.kdeplot(df['adj_high'], shade=True, color=\"orange\", label=\"adj_high\", alpha=.7)\n",
    "\n",
    "# Decoration\n",
    "plt.title('adj_high probability density distribution')\n",
    "plt.legend()\n",
    "plt.show()"
   ]
  },
  {
   "cell_type": "code",
   "execution_count": 24,
   "metadata": {},
   "outputs": [
    {
     "data": {
      "image/png": "[encoded data removed]",
      "text/plain": [
       "<Figure size 432x288 with 1 Axes>"
      ]
     },
     "metadata": {
      "needs_background": "light"
     },
     "output_type": "display_data"
    }
   ],
   "source": [
    "# 7. adj_low\n",
    "# Draw Plot\n",
    "sns.kdeplot(df['adj_low'], shade=True, color=\"red\", label=\"adj_low\", alpha=.7)\n",
    "\n",
    "# Decoration\n",
    "plt.title('adj_low probability density distribution')\n",
    "plt.legend()\n",
    "plt.show()"
   ]
  },
  {
   "cell_type": "markdown",
   "metadata": {},
   "source": [
    "## 3. 删除数量过少的股票的数据\n",
    "### 3.1 根据股票代码划分数据"
   ]
  },
  {
   "cell_type": "code",
   "execution_count": 25,
   "metadata": {},
   "outputs": [
    {
     "data": {
      "text/plain": [
       "('股票数量', 4315)"
      ]
     },
     "execution_count": 25,
     "metadata": {},
     "output_type": "execute_result"
    }
   ],
   "source": [
    "stocks_code = df['kdcode'].unique()\n",
    "stocks_num = len(stocks_code)\n",
    "\"股票数量\",stocks_num"
   ]
  },
  {
   "cell_type": "code",
   "execution_count": null,
   "metadata": {},
   "outputs": [
    {
     "name": "stderr",
     "output_type": "stream",
     "text": [
      " 88%|████████▊ | 3797/4315 [52:39<13:28,  1.56s/it]"
     ]
    }
   ],
   "source": [
    "# 根据股票代码划分数据\n",
    "df_ = pd.DataFrame(columns = df.columns)\n",
    "for i, stock_i in enumerate(tqdm(stocks_code)):\n",
    "    stock_i_data = df[df['kdcode'] == stock_i]\n",
    "    if stock_i_data.shape[0] > 200:\n",
    "        df_ = pd.concat([df_, stock_i_data])\n",
    "\n",
    "df_"
   ]
  },
  {
   "cell_type": "code",
   "execution_count": null,
   "metadata": {},
   "outputs": [],
   "source": [
    "stocks_code = df_['kdcode'].unique()\n",
    "stocks_num = len(stocks_code)\n",
    "\"去除后的股票数量\",stocks_num"
   ]
  },
  {
   "cell_type": "code",
   "execution_count": null,
   "metadata": {},
   "outputs": [],
   "source": [
    "# 按照kdcode,dt排序\n",
    "df_.sort_values(by=['kdcode', 'dt'],axis=0,ascending=True,inplace=True)\n",
    "df_"
   ]
  },
  {
   "cell_type": "code",
   "execution_count": null,
   "metadata": {},
   "outputs": [],
   "source": [
    "# 设置dt为下标\n",
    "df_.set_index(['dt'], inplace = True)\n",
    "df_.index = pd.to_datetime(clean_df.index)"
   ]
  },
  {
   "cell_type": "code",
   "execution_count": null,
   "metadata": {},
   "outputs": [],
   "source": [
    "df_.to_csv('data2.csv')"
   ]
  }
 ],
 "metadata": {
  "kernelspec": {
   "display_name": "env4tiho_py36",
   "language": "python",
   "name": "env4tiho_py36"
  },
  "language_info": {
   "codemirror_mode": {
    "name": "ipython",
    "version": 3
   },
   "file_extension": ".py",
   "mimetype": "text/x-python",
   "name": "python",
   "nbconvert_exporter": "python",
   "pygments_lexer": "ipython3",
   "version": "3.6.5"
  }
 },
 "nbformat": 4,
 "nbformat_minor": 4
}
