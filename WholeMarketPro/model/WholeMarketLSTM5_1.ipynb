{
 "cells": [
  {
   "cell_type": "markdown",
   "metadata": {},
   "source": [
    "# 基于`LSTM模型`预测未来一个交易日`开盘价的涨跌`"
   ]
  },
  {
   "cell_type": "markdown",
   "metadata": {},
   "source": [
    "## 1. 数据预处理\n",
    "### 1.1 根据股票代码划分数据"
   ]
  },
  {
   "cell_type": "code",
   "execution_count": 1,
   "metadata": {},
   "outputs": [
    {
     "name": "stderr",
     "output_type": "stream",
     "text": [
      "/home/tianhao/env4tiho_py36/lib/python3.6/site-packages/pandas/compat/__init__.py:85: UserWarning: Could not import the lzma module. Your installed Python is incomplete. Attempting to use lzma compression will result in a RuntimeError.\n",
      "  warnings.warn(msg)\n",
      "/home/tianhao/env4tiho_py36/lib/python3.6/site-packages/pandas/compat/__init__.py:85: UserWarning: Could not import the lzma module. Your installed Python is incomplete. Attempting to use lzma compression will result in a RuntimeError.\n",
      "  warnings.warn(msg)\n"
     ]
    }
   ],
   "source": [
    "import pandas as pd\n",
    "from tqdm import tqdm\n",
    "import numpy as np\n",
    "\n",
    "# 全局变量\n",
    "cols = [0,1,2,3,4,6,7,9,10,17,18,19,20] # 选取属性\n",
    "feanum= len(cols) - 3 # 特征数量\n",
    "window=5 # 时间窗设置"
   ]
  },
  {
   "cell_type": "markdown",
   "metadata": {},
   "source": [
    "* **训练集**"
   ]
  },
  {
   "cell_type": "code",
   "execution_count": 2,
   "metadata": {},
   "outputs": [
    {
     "data": {
      "text/plain": [
       "('训练集股票数量：', 3727)"
      ]
     },
     "execution_count": 2,
     "metadata": {},
     "output_type": "execute_result"
    }
   ],
   "source": [
    "train_df = pd.read_csv(\"../data/trainData.csv\", usecols=cols)\n",
    "# train_df = pd.read_csv(\"../data/trainData.csv\")\n",
    "train_stocks_code = train_df[\"kdcode\"].unique()\n",
    "train_stocks_num = len(train_stocks_code)\n",
    "\n",
    "\"训练集股票数量：\",train_stocks_num"
   ]
  },
  {
   "cell_type": "code",
   "execution_count": 3,
   "metadata": {},
   "outputs": [
    {
     "name": "stdout",
     "output_type": "stream",
     "text": [
      "Index(['dt', 'kdcode', 'vwap', 'vwap_mean5', 'vwap_mean10', 'chg_mean3',\n",
      "       'chg_mean5', 'open_mean3', 'open_mean5', 'EVM_3', 'EVM_5', 'EVM_10',\n",
      "       'label'],\n",
      "      dtype='object')\n"
     ]
    },
    {
     "data": {
      "text/html": [
       "<div>\n",
       "<style scoped>\n",
       "    .dataframe tbody tr th:only-of-type {\n",
       "        vertical-align: middle;\n",
       "    }\n",
       "\n",
       "    .dataframe tbody tr th {\n",
       "        vertical-align: top;\n",
       "    }\n",
       "\n",
       "    .dataframe thead th {\n",
       "        text-align: right;\n",
       "    }\n",
       "</style>\n",
       "<table border=\"1\" class=\"dataframe\">\n",
       "  <thead>\n",
       "    <tr style=\"text-align: right;\">\n",
       "      <th></th>\n",
       "      <th>dt</th>\n",
       "      <th>kdcode</th>\n",
       "      <th>vwap</th>\n",
       "      <th>vwap_mean5</th>\n",
       "      <th>vwap_mean10</th>\n",
       "      <th>chg_mean3</th>\n",
       "      <th>chg_mean5</th>\n",
       "      <th>open_mean3</th>\n",
       "      <th>open_mean5</th>\n",
       "      <th>EVM_3</th>\n",
       "      <th>EVM_5</th>\n",
       "      <th>EVM_10</th>\n",
       "      <th>label</th>\n",
       "    </tr>\n",
       "  </thead>\n",
       "  <tbody>\n",
       "    <tr>\n",
       "      <th>0</th>\n",
       "      <td>2016-01-04</td>\n",
       "      <td>000001.SZ</td>\n",
       "      <td>0.004588</td>\n",
       "      <td>0.004771</td>\n",
       "      <td>0.004929</td>\n",
       "      <td>0.016312</td>\n",
       "      <td>0.016312</td>\n",
       "      <td>0.004158</td>\n",
       "      <td>0.004158</td>\n",
       "      <td>0.000000</td>\n",
       "      <td>0.000000</td>\n",
       "      <td>0.000000</td>\n",
       "      <td>0.0</td>\n",
       "    </tr>\n",
       "    <tr>\n",
       "      <th>1</th>\n",
       "      <td>2016-01-05</td>\n",
       "      <td>000001.SZ</td>\n",
       "      <td>0.004460</td>\n",
       "      <td>0.004704</td>\n",
       "      <td>0.004860</td>\n",
       "      <td>0.019133</td>\n",
       "      <td>0.019133</td>\n",
       "      <td>0.004031</td>\n",
       "      <td>0.004031</td>\n",
       "      <td>0.000000</td>\n",
       "      <td>0.000000</td>\n",
       "      <td>0.000000</td>\n",
       "      <td>1.0</td>\n",
       "    </tr>\n",
       "    <tr>\n",
       "      <th>2</th>\n",
       "      <td>2016-01-06</td>\n",
       "      <td>000001.SZ</td>\n",
       "      <td>0.004492</td>\n",
       "      <td>0.004693</td>\n",
       "      <td>0.004849</td>\n",
       "      <td>0.020236</td>\n",
       "      <td>0.020236</td>\n",
       "      <td>0.004007</td>\n",
       "      <td>0.004007</td>\n",
       "      <td>0.000000</td>\n",
       "      <td>0.000000</td>\n",
       "      <td>0.000000</td>\n",
       "      <td>0.0</td>\n",
       "    </tr>\n",
       "    <tr>\n",
       "      <th>3</th>\n",
       "      <td>2016-01-07</td>\n",
       "      <td>000001.SZ</td>\n",
       "      <td>0.004365</td>\n",
       "      <td>0.004655</td>\n",
       "      <td>0.004809</td>\n",
       "      <td>0.020356</td>\n",
       "      <td>0.019345</td>\n",
       "      <td>0.003938</td>\n",
       "      <td>0.003993</td>\n",
       "      <td>0.686411</td>\n",
       "      <td>0.000000</td>\n",
       "      <td>0.000000</td>\n",
       "      <td>0.0</td>\n",
       "    </tr>\n",
       "    <tr>\n",
       "      <th>4</th>\n",
       "      <td>2016-01-08</td>\n",
       "      <td>000001.SZ</td>\n",
       "      <td>0.004354</td>\n",
       "      <td>0.004629</td>\n",
       "      <td>0.004783</td>\n",
       "      <td>0.020673</td>\n",
       "      <td>0.020057</td>\n",
       "      <td>0.003931</td>\n",
       "      <td>0.003971</td>\n",
       "      <td>0.686411</td>\n",
       "      <td>0.000000</td>\n",
       "      <td>0.000000</td>\n",
       "      <td>0.0</td>\n",
       "    </tr>\n",
       "    <tr>\n",
       "      <th>...</th>\n",
       "      <td>...</td>\n",
       "      <td>...</td>\n",
       "      <td>...</td>\n",
       "      <td>...</td>\n",
       "      <td>...</td>\n",
       "      <td>...</td>\n",
       "      <td>...</td>\n",
       "      <td>...</td>\n",
       "      <td>...</td>\n",
       "      <td>...</td>\n",
       "      <td>...</td>\n",
       "      <td>...</td>\n",
       "      <td>...</td>\n",
       "    </tr>\n",
       "    <tr>\n",
       "      <th>3180235</th>\n",
       "      <td>2019-12-25</td>\n",
       "      <td>688399.SH</td>\n",
       "      <td>0.023073</td>\n",
       "      <td>0.024004</td>\n",
       "      <td>0.024275</td>\n",
       "      <td>0.021490</td>\n",
       "      <td>0.020265</td>\n",
       "      <td>0.000243</td>\n",
       "      <td>0.000244</td>\n",
       "      <td>0.686412</td>\n",
       "      <td>0.771513</td>\n",
       "      <td>0.795505</td>\n",
       "      <td>1.0</td>\n",
       "    </tr>\n",
       "    <tr>\n",
       "      <th>3180236</th>\n",
       "      <td>2019-12-26</td>\n",
       "      <td>688399.SH</td>\n",
       "      <td>0.023324</td>\n",
       "      <td>0.024009</td>\n",
       "      <td>0.024414</td>\n",
       "      <td>0.021819</td>\n",
       "      <td>0.021620</td>\n",
       "      <td>0.000243</td>\n",
       "      <td>0.000243</td>\n",
       "      <td>0.686412</td>\n",
       "      <td>0.771513</td>\n",
       "      <td>0.795505</td>\n",
       "      <td>1.0</td>\n",
       "    </tr>\n",
       "    <tr>\n",
       "      <th>3180237</th>\n",
       "      <td>2019-12-27</td>\n",
       "      <td>688399.SH</td>\n",
       "      <td>0.022889</td>\n",
       "      <td>0.023941</td>\n",
       "      <td>0.024554</td>\n",
       "      <td>0.020470</td>\n",
       "      <td>0.020870</td>\n",
       "      <td>0.000245</td>\n",
       "      <td>0.000244</td>\n",
       "      <td>0.686412</td>\n",
       "      <td>0.771513</td>\n",
       "      <td>0.795505</td>\n",
       "      <td>0.0</td>\n",
       "    </tr>\n",
       "    <tr>\n",
       "      <th>3180238</th>\n",
       "      <td>2019-12-30</td>\n",
       "      <td>688399.SH</td>\n",
       "      <td>0.021950</td>\n",
       "      <td>0.023756</td>\n",
       "      <td>0.024559</td>\n",
       "      <td>0.020101</td>\n",
       "      <td>0.020704</td>\n",
       "      <td>0.000241</td>\n",
       "      <td>0.000242</td>\n",
       "      <td>0.686412</td>\n",
       "      <td>0.771513</td>\n",
       "      <td>0.795505</td>\n",
       "      <td>1.0</td>\n",
       "    </tr>\n",
       "    <tr>\n",
       "      <th>3180239</th>\n",
       "      <td>2019-12-31</td>\n",
       "      <td>688399.SH</td>\n",
       "      <td>0.022717</td>\n",
       "      <td>0.023699</td>\n",
       "      <td>0.024647</td>\n",
       "      <td>0.020648</td>\n",
       "      <td>0.021143</td>\n",
       "      <td>0.000237</td>\n",
       "      <td>0.000240</td>\n",
       "      <td>0.686412</td>\n",
       "      <td>0.771513</td>\n",
       "      <td>0.795505</td>\n",
       "      <td>1.0</td>\n",
       "    </tr>\n",
       "  </tbody>\n",
       "</table>\n",
       "<p>3180240 rows × 13 columns</p>\n",
       "</div>"
      ],
      "text/plain": [
       "                 dt     kdcode      vwap  vwap_mean5  vwap_mean10  chg_mean3  \\\n",
       "0        2016-01-04  000001.SZ  0.004588    0.004771     0.004929   0.016312   \n",
       "1        2016-01-05  000001.SZ  0.004460    0.004704     0.004860   0.019133   \n",
       "2        2016-01-06  000001.SZ  0.004492    0.004693     0.004849   0.020236   \n",
       "3        2016-01-07  000001.SZ  0.004365    0.004655     0.004809   0.020356   \n",
       "4        2016-01-08  000001.SZ  0.004354    0.004629     0.004783   0.020673   \n",
       "...             ...        ...       ...         ...          ...        ...   \n",
       "3180235  2019-12-25  688399.SH  0.023073    0.024004     0.024275   0.021490   \n",
       "3180236  2019-12-26  688399.SH  0.023324    0.024009     0.024414   0.021819   \n",
       "3180237  2019-12-27  688399.SH  0.022889    0.023941     0.024554   0.020470   \n",
       "3180238  2019-12-30  688399.SH  0.021950    0.023756     0.024559   0.020101   \n",
       "3180239  2019-12-31  688399.SH  0.022717    0.023699     0.024647   0.020648   \n",
       "\n",
       "         chg_mean5  open_mean3  open_mean5     EVM_3     EVM_5    EVM_10  \\\n",
       "0         0.016312    0.004158    0.004158  0.000000  0.000000  0.000000   \n",
       "1         0.019133    0.004031    0.004031  0.000000  0.000000  0.000000   \n",
       "2         0.020236    0.004007    0.004007  0.000000  0.000000  0.000000   \n",
       "3         0.019345    0.003938    0.003993  0.686411  0.000000  0.000000   \n",
       "4         0.020057    0.003931    0.003971  0.686411  0.000000  0.000000   \n",
       "...            ...         ...         ...       ...       ...       ...   \n",
       "3180235   0.020265    0.000243    0.000244  0.686412  0.771513  0.795505   \n",
       "3180236   0.021620    0.000243    0.000243  0.686412  0.771513  0.795505   \n",
       "3180237   0.020870    0.000245    0.000244  0.686412  0.771513  0.795505   \n",
       "3180238   0.020704    0.000241    0.000242  0.686412  0.771513  0.795505   \n",
       "3180239   0.021143    0.000237    0.000240  0.686412  0.771513  0.795505   \n",
       "\n",
       "         label  \n",
       "0          0.0  \n",
       "1          1.0  \n",
       "2          0.0  \n",
       "3          0.0  \n",
       "4          0.0  \n",
       "...        ...  \n",
       "3180235    1.0  \n",
       "3180236    1.0  \n",
       "3180237    0.0  \n",
       "3180238    1.0  \n",
       "3180239    1.0  \n",
       "\n",
       "[3180240 rows x 13 columns]"
      ]
     },
     "execution_count": 3,
     "metadata": {},
     "output_type": "execute_result"
    }
   ],
   "source": [
    "print(train_df.columns)\n",
    "train_df"
   ]
  },
  {
   "cell_type": "code",
   "execution_count": 4,
   "metadata": {},
   "outputs": [
    {
     "name": "stderr",
     "output_type": "stream",
     "text": [
      "100%|██████████| 3727/3727 [02:48<00:00, 22.08it/s]\n"
     ]
    }
   ],
   "source": [
    "# 根据股票代码划分数据\n",
    "for i, stock_i in enumerate(tqdm(train_stocks_code)):\n",
    "    stock_i_data = train_df[train_df['kdcode'].isin([stock_i])]\n",
    "    exec(\"train_df%s = stock_i_data\" % i)"
   ]
  },
  {
   "cell_type": "markdown",
   "metadata": {},
   "source": [
    "* **测试集**"
   ]
  },
  {
   "cell_type": "code",
   "execution_count": 5,
   "metadata": {},
   "outputs": [
    {
     "data": {
      "text/plain": [
       "('测试集股票数量：', 4022)"
      ]
     },
     "execution_count": 5,
     "metadata": {},
     "output_type": "execute_result"
    }
   ],
   "source": [
    "test_df = pd.read_csv(\"../data/testData.csv\", usecols=cols)\n",
    "# test_df = pd.read_csv(\"../data/testData.csv\")\n",
    "test_stocks_code = test_df[\"kdcode\"].unique()\n",
    "test_stocks_num = len(test_stocks_code)\n",
    "\n",
    "\"测试集股票数量：\",test_stocks_num"
   ]
  },
  {
   "cell_type": "code",
   "execution_count": 6,
   "metadata": {},
   "outputs": [
    {
     "name": "stderr",
     "output_type": "stream",
     "text": [
      "100%|██████████| 4022/4022 [01:30<00:00, 44.43it/s]\n"
     ]
    }
   ],
   "source": [
    "# 根据股票代码划分数据\n",
    "for i, stock_i in enumerate(tqdm(test_stocks_code)):\n",
    "    stock_i_data = test_df[test_df['kdcode'].isin([stock_i])]\n",
    "    exec(\"test_df%s = stock_i_data\" % i)"
   ]
  },
  {
   "cell_type": "markdown",
   "metadata": {},
   "source": [
    "### 1.2. 将原始数据改造为LSTM网络的输入\n",
    "分割出window个时间窗的数据为输入的`X`\n",
    "\n",
    "紧接着的那条数据为标签`Y`\n",
    "\n",
    "因此需要将每只股票的数据按照时间(日期)分割成`window + 1`长度的数据\n",
    "\n",
    "* **训练集**"
   ]
  },
  {
   "cell_type": "code",
   "execution_count": 7,
   "metadata": {},
   "outputs": [
    {
     "data": {
      "text/html": [
       "<div>\n",
       "<style scoped>\n",
       "    .dataframe tbody tr th:only-of-type {\n",
       "        vertical-align: middle;\n",
       "    }\n",
       "\n",
       "    .dataframe tbody tr th {\n",
       "        vertical-align: top;\n",
       "    }\n",
       "\n",
       "    .dataframe thead th {\n",
       "        text-align: right;\n",
       "    }\n",
       "</style>\n",
       "<table border=\"1\" class=\"dataframe\">\n",
       "  <thead>\n",
       "    <tr style=\"text-align: right;\">\n",
       "      <th></th>\n",
       "      <th>dt</th>\n",
       "      <th>kdcode</th>\n",
       "      <th>vwap</th>\n",
       "      <th>vwap_mean5</th>\n",
       "      <th>vwap_mean10</th>\n",
       "      <th>chg_mean3</th>\n",
       "      <th>chg_mean5</th>\n",
       "      <th>open_mean3</th>\n",
       "      <th>open_mean5</th>\n",
       "      <th>EVM_3</th>\n",
       "      <th>EVM_5</th>\n",
       "      <th>EVM_10</th>\n",
       "      <th>label</th>\n",
       "    </tr>\n",
       "  </thead>\n",
       "  <tbody>\n",
       "    <tr>\n",
       "      <th>0</th>\n",
       "      <td>2016-01-04</td>\n",
       "      <td>000001.SZ</td>\n",
       "      <td>0.004588</td>\n",
       "      <td>0.004771</td>\n",
       "      <td>0.004929</td>\n",
       "      <td>0.016312</td>\n",
       "      <td>0.016312</td>\n",
       "      <td>0.004158</td>\n",
       "      <td>0.004158</td>\n",
       "      <td>0.000000</td>\n",
       "      <td>0.000000</td>\n",
       "      <td>0.000000</td>\n",
       "      <td>0.0</td>\n",
       "    </tr>\n",
       "    <tr>\n",
       "      <th>1</th>\n",
       "      <td>2016-01-05</td>\n",
       "      <td>000001.SZ</td>\n",
       "      <td>0.004460</td>\n",
       "      <td>0.004704</td>\n",
       "      <td>0.004860</td>\n",
       "      <td>0.019133</td>\n",
       "      <td>0.019133</td>\n",
       "      <td>0.004031</td>\n",
       "      <td>0.004031</td>\n",
       "      <td>0.000000</td>\n",
       "      <td>0.000000</td>\n",
       "      <td>0.000000</td>\n",
       "      <td>1.0</td>\n",
       "    </tr>\n",
       "    <tr>\n",
       "      <th>2</th>\n",
       "      <td>2016-01-06</td>\n",
       "      <td>000001.SZ</td>\n",
       "      <td>0.004492</td>\n",
       "      <td>0.004693</td>\n",
       "      <td>0.004849</td>\n",
       "      <td>0.020236</td>\n",
       "      <td>0.020236</td>\n",
       "      <td>0.004007</td>\n",
       "      <td>0.004007</td>\n",
       "      <td>0.000000</td>\n",
       "      <td>0.000000</td>\n",
       "      <td>0.000000</td>\n",
       "      <td>0.0</td>\n",
       "    </tr>\n",
       "    <tr>\n",
       "      <th>3</th>\n",
       "      <td>2016-01-07</td>\n",
       "      <td>000001.SZ</td>\n",
       "      <td>0.004365</td>\n",
       "      <td>0.004655</td>\n",
       "      <td>0.004809</td>\n",
       "      <td>0.020356</td>\n",
       "      <td>0.019345</td>\n",
       "      <td>0.003938</td>\n",
       "      <td>0.003993</td>\n",
       "      <td>0.686411</td>\n",
       "      <td>0.000000</td>\n",
       "      <td>0.000000</td>\n",
       "      <td>0.0</td>\n",
       "    </tr>\n",
       "    <tr>\n",
       "      <th>4</th>\n",
       "      <td>2016-01-08</td>\n",
       "      <td>000001.SZ</td>\n",
       "      <td>0.004354</td>\n",
       "      <td>0.004629</td>\n",
       "      <td>0.004783</td>\n",
       "      <td>0.020673</td>\n",
       "      <td>0.020057</td>\n",
       "      <td>0.003931</td>\n",
       "      <td>0.003971</td>\n",
       "      <td>0.686411</td>\n",
       "      <td>0.000000</td>\n",
       "      <td>0.000000</td>\n",
       "      <td>0.0</td>\n",
       "    </tr>\n",
       "    <tr>\n",
       "      <th>...</th>\n",
       "      <td>...</td>\n",
       "      <td>...</td>\n",
       "      <td>...</td>\n",
       "      <td>...</td>\n",
       "      <td>...</td>\n",
       "      <td>...</td>\n",
       "      <td>...</td>\n",
       "      <td>...</td>\n",
       "      <td>...</td>\n",
       "      <td>...</td>\n",
       "      <td>...</td>\n",
       "      <td>...</td>\n",
       "      <td>...</td>\n",
       "    </tr>\n",
       "    <tr>\n",
       "      <th>3180235</th>\n",
       "      <td>2019-12-25</td>\n",
       "      <td>688399.SH</td>\n",
       "      <td>0.023073</td>\n",
       "      <td>0.024004</td>\n",
       "      <td>0.024275</td>\n",
       "      <td>0.021490</td>\n",
       "      <td>0.020265</td>\n",
       "      <td>0.000243</td>\n",
       "      <td>0.000244</td>\n",
       "      <td>0.686412</td>\n",
       "      <td>0.771513</td>\n",
       "      <td>0.795505</td>\n",
       "      <td>1.0</td>\n",
       "    </tr>\n",
       "    <tr>\n",
       "      <th>3180236</th>\n",
       "      <td>2019-12-26</td>\n",
       "      <td>688399.SH</td>\n",
       "      <td>0.023324</td>\n",
       "      <td>0.024009</td>\n",
       "      <td>0.024414</td>\n",
       "      <td>0.021819</td>\n",
       "      <td>0.021620</td>\n",
       "      <td>0.000243</td>\n",
       "      <td>0.000243</td>\n",
       "      <td>0.686412</td>\n",
       "      <td>0.771513</td>\n",
       "      <td>0.795505</td>\n",
       "      <td>1.0</td>\n",
       "    </tr>\n",
       "    <tr>\n",
       "      <th>3180237</th>\n",
       "      <td>2019-12-27</td>\n",
       "      <td>688399.SH</td>\n",
       "      <td>0.022889</td>\n",
       "      <td>0.023941</td>\n",
       "      <td>0.024554</td>\n",
       "      <td>0.020470</td>\n",
       "      <td>0.020870</td>\n",
       "      <td>0.000245</td>\n",
       "      <td>0.000244</td>\n",
       "      <td>0.686412</td>\n",
       "      <td>0.771513</td>\n",
       "      <td>0.795505</td>\n",
       "      <td>0.0</td>\n",
       "    </tr>\n",
       "    <tr>\n",
       "      <th>3180238</th>\n",
       "      <td>2019-12-30</td>\n",
       "      <td>688399.SH</td>\n",
       "      <td>0.021950</td>\n",
       "      <td>0.023756</td>\n",
       "      <td>0.024559</td>\n",
       "      <td>0.020101</td>\n",
       "      <td>0.020704</td>\n",
       "      <td>0.000241</td>\n",
       "      <td>0.000242</td>\n",
       "      <td>0.686412</td>\n",
       "      <td>0.771513</td>\n",
       "      <td>0.795505</td>\n",
       "      <td>1.0</td>\n",
       "    </tr>\n",
       "    <tr>\n",
       "      <th>3180239</th>\n",
       "      <td>2019-12-31</td>\n",
       "      <td>688399.SH</td>\n",
       "      <td>0.022717</td>\n",
       "      <td>0.023699</td>\n",
       "      <td>0.024647</td>\n",
       "      <td>0.020648</td>\n",
       "      <td>0.021143</td>\n",
       "      <td>0.000237</td>\n",
       "      <td>0.000240</td>\n",
       "      <td>0.686412</td>\n",
       "      <td>0.771513</td>\n",
       "      <td>0.795505</td>\n",
       "      <td>1.0</td>\n",
       "    </tr>\n",
       "  </tbody>\n",
       "</table>\n",
       "<p>3180240 rows × 13 columns</p>\n",
       "</div>"
      ],
      "text/plain": [
       "                 dt     kdcode      vwap  vwap_mean5  vwap_mean10  chg_mean3  \\\n",
       "0        2016-01-04  000001.SZ  0.004588    0.004771     0.004929   0.016312   \n",
       "1        2016-01-05  000001.SZ  0.004460    0.004704     0.004860   0.019133   \n",
       "2        2016-01-06  000001.SZ  0.004492    0.004693     0.004849   0.020236   \n",
       "3        2016-01-07  000001.SZ  0.004365    0.004655     0.004809   0.020356   \n",
       "4        2016-01-08  000001.SZ  0.004354    0.004629     0.004783   0.020673   \n",
       "...             ...        ...       ...         ...          ...        ...   \n",
       "3180235  2019-12-25  688399.SH  0.023073    0.024004     0.024275   0.021490   \n",
       "3180236  2019-12-26  688399.SH  0.023324    0.024009     0.024414   0.021819   \n",
       "3180237  2019-12-27  688399.SH  0.022889    0.023941     0.024554   0.020470   \n",
       "3180238  2019-12-30  688399.SH  0.021950    0.023756     0.024559   0.020101   \n",
       "3180239  2019-12-31  688399.SH  0.022717    0.023699     0.024647   0.020648   \n",
       "\n",
       "         chg_mean5  open_mean3  open_mean5     EVM_3     EVM_5    EVM_10  \\\n",
       "0         0.016312    0.004158    0.004158  0.000000  0.000000  0.000000   \n",
       "1         0.019133    0.004031    0.004031  0.000000  0.000000  0.000000   \n",
       "2         0.020236    0.004007    0.004007  0.000000  0.000000  0.000000   \n",
       "3         0.019345    0.003938    0.003993  0.686411  0.000000  0.000000   \n",
       "4         0.020057    0.003931    0.003971  0.686411  0.000000  0.000000   \n",
       "...            ...         ...         ...       ...       ...       ...   \n",
       "3180235   0.020265    0.000243    0.000244  0.686412  0.771513  0.795505   \n",
       "3180236   0.021620    0.000243    0.000243  0.686412  0.771513  0.795505   \n",
       "3180237   0.020870    0.000245    0.000244  0.686412  0.771513  0.795505   \n",
       "3180238   0.020704    0.000241    0.000242  0.686412  0.771513  0.795505   \n",
       "3180239   0.021143    0.000237    0.000240  0.686412  0.771513  0.795505   \n",
       "\n",
       "         label  \n",
       "0          0.0  \n",
       "1          1.0  \n",
       "2          0.0  \n",
       "3          0.0  \n",
       "4          0.0  \n",
       "...        ...  \n",
       "3180235    1.0  \n",
       "3180236    1.0  \n",
       "3180237    0.0  \n",
       "3180238    1.0  \n",
       "3180239    1.0  \n",
       "\n",
       "[3180240 rows x 13 columns]"
      ]
     },
     "execution_count": 7,
     "metadata": {},
     "output_type": "execute_result"
    }
   ],
   "source": [
    "train_df"
   ]
  },
  {
   "cell_type": "code",
   "execution_count": 8,
   "metadata": {},
   "outputs": [
    {
     "name": "stderr",
     "output_type": "stream",
     "text": [
      "100%|██████████| 3727/3727 [00:03<00:00, 1058.73it/s]\n"
     ]
    },
    {
     "data": {
      "text/plain": [
       "(3161618, 6, 13)"
      ]
     },
     "execution_count": 8,
     "metadata": {},
     "output_type": "execute_result"
    }
   ],
   "source": [
    "# 分割数据\n",
    "trainResult = []\n",
    "for i in tqdm(range(train_stocks_num)): # 遍历训练集所有股票的DataFrame\n",
    "    exec(\"trainData = train_df%s.values\" % i)\n",
    "    sequence_length = window + 1\n",
    "    for index in range(len(trainData) - sequence_length + 1):\n",
    "        trainResult.append(trainData[index: index + sequence_length])\n",
    "\n",
    "trainResult = np.array(trainResult)\n",
    "trainResult.shape"
   ]
  },
  {
   "cell_type": "code",
   "execution_count": 9,
   "metadata": {},
   "outputs": [
    {
     "data": {
      "text/plain": [
       "3161618"
      ]
     },
     "execution_count": 9,
     "metadata": {},
     "output_type": "execute_result"
    }
   ],
   "source": [
    "# 保存分割后每条数据的日期\n",
    "train_date = trainResult[:,-1,0]\n",
    "len(train_date)"
   ]
  },
  {
   "cell_type": "markdown",
   "metadata": {},
   "source": [
    "* **测试集**"
   ]
  },
  {
   "cell_type": "code",
   "execution_count": 10,
   "metadata": {},
   "outputs": [
    {
     "name": "stderr",
     "output_type": "stream",
     "text": [
      "100%|██████████| 4022/4022 [00:01<00:00, 2488.95it/s]\n"
     ]
    },
    {
     "data": {
      "text/plain": [
       "(1480414, 6, 13)"
      ]
     },
     "execution_count": 10,
     "metadata": {},
     "output_type": "execute_result"
    }
   ],
   "source": [
    "testResult = []\n",
    "for i in tqdm(range(test_stocks_num)): # 遍历训练集所有股票的DataFrame\n",
    "    exec(\"testData = test_df%s.values\" % i)\n",
    "    sequence_length = window + 1\n",
    "    for index in range(len(testData) - sequence_length + 1):\n",
    "        testResult.append(testData[index: index + sequence_length])\n",
    "\n",
    "testResult = np.array(testResult)\n",
    "testResult.shape"
   ]
  },
  {
   "cell_type": "code",
   "execution_count": 11,
   "metadata": {},
   "outputs": [
    {
     "data": {
      "text/plain": [
       "1480414"
      ]
     },
     "execution_count": 11,
     "metadata": {},
     "output_type": "execute_result"
    }
   ],
   "source": [
    "# 保存分割后每条数据的日期\n",
    "test_date = testResult[:,-1,0]\n",
    "len(test_date)"
   ]
  },
  {
   "cell_type": "markdown",
   "metadata": {},
   "source": [
    "**分割出X**"
   ]
  },
  {
   "cell_type": "code",
   "execution_count": 12,
   "metadata": {},
   "outputs": [
    {
     "name": "stdout",
     "output_type": "stream",
     "text": [
      "训练集X：(3161618, 5, 10)\n",
      "测试集X：(1480414, 5, 10)\n"
     ]
    }
   ],
   "source": [
    "X_train = trainResult[:, :-1, 2:-1]\n",
    "X_test = testResult[:, :-1, 2:-1]\n",
    "X_train = X_train.astype('float64')\n",
    "X_test = X_test.astype('float64')\n",
    "print(\"训练集X：\" + str(X_train.shape))\n",
    "print(\"测试集X：\" + str(X_test.shape))"
   ]
  },
  {
   "cell_type": "markdown",
   "metadata": {},
   "source": [
    "**分割出Y**"
   ]
  },
  {
   "cell_type": "code",
   "execution_count": 13,
   "metadata": {},
   "outputs": [
    {
     "data": {
      "text/plain": [
       "(3161618,)"
      ]
     },
     "execution_count": 13,
     "metadata": {},
     "output_type": "execute_result"
    }
   ],
   "source": [
    "Y_train = trainResult[:, window, -1]\n",
    "Y_train.shape"
   ]
  },
  {
   "cell_type": "code",
   "execution_count": 14,
   "metadata": {},
   "outputs": [
    {
     "data": {
      "text/plain": [
       "(1480414,)"
      ]
     },
     "execution_count": 14,
     "metadata": {},
     "output_type": "execute_result"
    }
   ],
   "source": [
    "Y_test = testResult[:, window, -1]\n",
    "Y_test.shape"
   ]
  },
  {
   "cell_type": "code",
   "execution_count": 15,
   "metadata": {},
   "outputs": [],
   "source": [
    "Y_train = Y_train.astype('float64')\n",
    "Y_test = Y_test.astype('float64')\n",
    "# Y_train[0:5]\n",
    "# Y_test[0:5]"
   ]
  },
  {
   "cell_type": "markdown",
   "metadata": {},
   "source": [
    "## 3. 模型构建与训练"
   ]
  },
  {
   "cell_type": "code",
   "execution_count": 16,
   "metadata": {},
   "outputs": [
    {
     "name": "stdout",
     "output_type": "stream",
     "text": [
      "Epoch 1/30\n",
      "6176/6176 [==============================] - 258s 37ms/step - loss: 0.6758 - accuracy: 0.5320\n",
      "Epoch 2/30\n",
      "6176/6176 [==============================] - 225s 36ms/step - loss: 0.6709 - accuracy: 0.5325\n",
      "Epoch 3/30\n",
      "6176/6176 [==============================] - 217s 35ms/step - loss: 0.6703 - accuracy: 0.5334\n",
      "Epoch 4/30\n",
      "6176/6176 [==============================] - 218s 35ms/step - loss: 0.6701 - accuracy: 0.5356\n",
      "Epoch 5/30\n",
      "6176/6176 [==============================] - 220s 36ms/step - loss: 0.6692 - accuracy: 0.5393\n",
      "Epoch 6/30\n",
      "6176/6176 [==============================] - 219s 35ms/step - loss: 0.6680 - accuracy: 0.5434\n",
      "Epoch 7/30\n",
      "6176/6176 [==============================] - 217s 35ms/step - loss: 0.6671 - accuracy: 0.5449\n",
      "Epoch 8/30\n",
      "6176/6176 [==============================] - 216s 35ms/step - loss: 0.6667 - accuracy: 0.5453\n",
      "Epoch 9/30\n",
      "6176/6176 [==============================] - 217s 35ms/step - loss: 0.6663 - accuracy: 0.5461\n",
      "Epoch 10/30\n",
      "6176/6176 [==============================] - 215s 35ms/step - loss: 0.6660 - accuracy: 0.5474\n",
      "Epoch 11/30\n",
      "6176/6176 [==============================] - 215s 35ms/step - loss: 0.6658 - accuracy: 0.5484\n",
      "Epoch 12/30\n",
      "6176/6176 [==============================] - 216s 35ms/step - loss: 0.6653 - accuracy: 0.5494\n",
      "Epoch 13/30\n",
      "6176/6176 [==============================] - 215s 35ms/step - loss: 0.6650 - accuracy: 0.5504\n",
      "Epoch 14/30\n",
      "6176/6176 [==============================] - 212s 34ms/step - loss: 0.6645 - accuracy: 0.5511\n",
      "Epoch 15/30\n",
      "6176/6176 [==============================] - 214s 35ms/step - loss: 0.6643 - accuracy: 0.5522\n",
      "Epoch 16/30\n",
      "6176/6176 [==============================] - 213s 35ms/step - loss: 0.6638 - accuracy: 0.5530\n",
      "Epoch 17/30\n",
      "6176/6176 [==============================] - 215s 35ms/step - loss: 0.6636 - accuracy: 0.5538\n",
      "Epoch 18/30\n",
      "6176/6176 [==============================] - 212s 34ms/step - loss: 0.6633 - accuracy: 0.5543\n",
      "Epoch 19/30\n",
      "6176/6176 [==============================] - 211s 34ms/step - loss: 0.6630 - accuracy: 0.5558\n",
      "Epoch 20/30\n",
      "6176/6176 [==============================] - 211s 34ms/step - loss: 0.6627 - accuracy: 0.5567\n",
      "Epoch 21/30\n",
      "6176/6176 [==============================] - 215s 35ms/step - loss: 0.6622 - accuracy: 0.5575\n",
      "Epoch 22/30\n",
      "6176/6176 [==============================] - 217s 35ms/step - loss: 0.6621 - accuracy: 0.5579\n",
      "Epoch 23/30\n",
      "6176/6176 [==============================] - 216s 35ms/step - loss: 0.6618 - accuracy: 0.5588\n",
      "Epoch 24/30\n",
      "6176/6176 [==============================] - 214s 35ms/step - loss: 0.6617 - accuracy: 0.5590\n",
      "Epoch 25/30\n",
      "6176/6176 [==============================] - 210s 34ms/step - loss: 0.6615 - accuracy: 0.5595\n",
      "Epoch 26/30\n",
      "6176/6176 [==============================] - 212s 34ms/step - loss: 0.6613 - accuracy: 0.5596\n",
      "Epoch 27/30\n",
      "6176/6176 [==============================] - 217s 35ms/step - loss: 0.6612 - accuracy: 0.5601\n",
      "Epoch 28/30\n",
      "6176/6176 [==============================] - 213s 35ms/step - loss: 0.6612 - accuracy: 0.5601\n",
      "Epoch 29/30\n",
      "6176/6176 [==============================] - 213s 34ms/step - loss: 0.6610 - accuracy: 0.5600\n",
      "Epoch 30/30\n",
      "6176/6176 [==============================] - 213s 34ms/step - loss: 0.6609 - accuracy: 0.5609\n"
     ]
    }
   ],
   "source": [
    "from sklearn.metrics import mean_squared_error\n",
    "from sklearn import metrics\n",
    "from math import sqrt\n",
    "from keras.models import Sequential\n",
    "from keras.layers.core import Dense, Dropout, Activation\n",
    "from keras.layers.recurrent import LSTM\n",
    "from keras.layers.recurrent import GRU\n",
    "from keras.callbacks import EarlyStopping\n",
    "import tensorflow as tf\n",
    "import os\n",
    "\n",
    "os.environ[\"CUDA_VISIBLE_DEVICES\"] = \"0\"\n",
    "for gpu in tf.config.experimental.list_physical_devices('GPU'):\n",
    "    tf.config.experimental.set_memory_growth(gpu, True)\n",
    "\n",
    "#建立、训练模型过程\n",
    "d = 0.002\n",
    "model = Sequential()#建立层次模型\n",
    "model.add(LSTM(72, input_shape=(window, feanum), return_sequences=True))#建立LSTM层\n",
    "model.add(Dropout(d))#建立的遗忘层\n",
    "model.add(LSTM(36, input_shape=(window, feanum), return_sequences=False))#建立LSTM层\n",
    "model.add(Dropout(d))#建立的遗忘层\n",
    "# model.add(LSTM(16, input_shape=(window, feanum), return_sequences=False))#建立LSTM层\n",
    "# model.add(Dropout(d))#建立的遗忘层\n",
    "\n",
    "model.add(Dense(16,kernel_initializer='uniform',activation='relu'))   #建立全连接层     \n",
    "model.add(Dense(1, kernel_initializer = \"uniform\", activation = \"sigmoid\"))\n",
    "model.compile(loss='binary_crossentropy',optimizer='adam',metrics=['accuracy'])\n",
    "\n",
    "history = model.fit(X_train, Y_train, epochs = 30, batch_size = 512) #训练模型epochs次\n",
    "\n",
    "# Todo add val_acc val_loss"
   ]
  },
  {
   "cell_type": "code",
   "execution_count": 17,
   "metadata": {},
   "outputs": [
    {
     "name": "stdout",
     "output_type": "stream",
     "text": [
      "Model: \"sequential\"\n",
      "_________________________________________________________________\n",
      "Layer (type)                 Output Shape              Param #   \n",
      "=================================================================\n",
      "lstm (LSTM)                  (None, 5, 72)             23904     \n",
      "_________________________________________________________________\n",
      "dropout (Dropout)            (None, 5, 72)             0         \n",
      "_________________________________________________________________\n",
      "lstm_1 (LSTM)                (None, 36)                15696     \n",
      "_________________________________________________________________\n",
      "dropout_1 (Dropout)          (None, 36)                0         \n",
      "_________________________________________________________________\n",
      "dense (Dense)                (None, 16)                592       \n",
      "_________________________________________________________________\n",
      "dense_1 (Dense)              (None, 1)                 17        \n",
      "=================================================================\n",
      "Total params: 40,209\n",
      "Trainable params: 40,209\n",
      "Non-trainable params: 0\n",
      "_________________________________________________________________\n"
     ]
    }
   ],
   "source": [
    "#总结模型\n",
    "model.summary()"
   ]
  },
  {
   "cell_type": "markdown",
   "metadata": {},
   "source": [
    "## 4. 模型训练结果\n",
    "* 训练集"
   ]
  },
  {
   "cell_type": "code",
   "execution_count": 18,
   "metadata": {},
   "outputs": [],
   "source": [
    "#在训练集上的拟合结果\n",
    "Y_train_predict = model.predict(X_train)[:,0]\n",
    "Y_train = Y_train"
   ]
  },
  {
   "cell_type": "code",
   "execution_count": 19,
   "metadata": {},
   "outputs": [
    {
     "data": {
      "text/plain": [
       "Text(0.5, 1.0, 'Train Data')"
      ]
     },
     "execution_count": 19,
     "metadata": {},
     "output_type": "execute_result"
    },
    {
     "data": {
      "image/png": "[encoded data removed]",
      "text/plain": [
       "<Figure size 864x432 with 1 Axes>"
      ]
     },
     "metadata": {
      "needs_background": "light"
     },
     "output_type": "display_data"
    }
   ],
   "source": [
    "import matplotlib.pyplot as plt\n",
    "\n",
    "draw=pd.concat([pd.DataFrame(Y_train),pd.DataFrame(Y_train_predict)],axis=1)\n",
    "draw.iloc[:300,0].plot(figsize=(12,6))\n",
    "draw.iloc[:300,1].plot(figsize=(12,6))\n",
    "plt.legend(('real', 'predict'),loc='upper right',fontsize='15')\n",
    "plt.title(\"Train Data\",fontsize='30') #添加标题\n",
    "#展示在训练集上的表现"
   ]
  },
  {
   "cell_type": "markdown",
   "metadata": {},
   "source": [
    "* 测试集"
   ]
  },
  {
   "cell_type": "code",
   "execution_count": 20,
   "metadata": {},
   "outputs": [],
   "source": [
    "#在测试集上的预测\n",
    "Y_test_predict=model.predict(X_test)[:,0]\n",
    "Y_test=Y_test"
   ]
  },
  {
   "cell_type": "code",
   "execution_count": 21,
   "metadata": {},
   "outputs": [
    {
     "data": {
      "text/plain": [
       "Text(0.5, 1.0, 'Test Data')"
      ]
     },
     "execution_count": 21,
     "metadata": {},
     "output_type": "execute_result"
    },
    {
     "data": {
      "image/png": "[encoded data removed]",
      "text/plain": [
       "<Figure size 864x432 with 1 Axes>"
      ]
     },
     "metadata": {
      "needs_background": "light"
     },
     "output_type": "display_data"
    }
   ],
   "source": [
    "draw=pd.concat([pd.DataFrame(Y_test),pd.DataFrame(Y_test_predict)],axis=1);\n",
    "draw.iloc[:100,0].plot(figsize=(12,6))\n",
    "draw.iloc[:100,1].plot(figsize=(12,6))\n",
    "plt.legend(('real', 'predict'),loc='upper right',fontsize='15')\n",
    "plt.title(\"Test Data\",fontsize='30') #添加标题\n",
    "# 展示在测试集上的表现"
   ]
  },
  {
   "cell_type": "code",
   "execution_count": 22,
   "metadata": {},
   "outputs": [
    {
     "data": {
      "text/plain": [
       "('测试集正确率:', 0.5232826763324313)"
      ]
     },
     "execution_count": 22,
     "metadata": {},
     "output_type": "execute_result"
    }
   ],
   "source": [
    "txt = np.zeros(len(Y_test))\n",
    "test_predict = Y_test_predict.copy()\n",
    "test_predict[Y_test_predict > 0.5] = 1\n",
    "test_predict[Y_test_predict <= 0.5] = 0\n",
    "\n",
    "train_predict = Y_train_predict.copy()\n",
    "train_predict[Y_train_predict > 0.5] = 1\n",
    "train_predict[Y_train_predict <= 0.5] = 0\n",
    "\n",
    "result = metrics.accuracy_score(Y_test, test_predict)\n",
    "'测试集正确率:',result"
   ]
  },
  {
   "cell_type": "markdown",
   "metadata": {},
   "source": [
    "* 训练过程Loss,Accuracy的变化"
   ]
  },
  {
   "cell_type": "code",
   "execution_count": 23,
   "metadata": {},
   "outputs": [
    {
     "data": {
      "text/plain": [
       "<matplotlib.legend.Legend at 0x7ff2783b15f8>"
      ]
     },
     "execution_count": 23,
     "metadata": {},
     "output_type": "execute_result"
    },
    {
     "data": {
      "image/png": "[encoded data removed]",
      "text/plain": [
       "<Figure size 432x288 with 1 Axes>"
      ]
     },
     "metadata": {
      "needs_background": "light"
     },
     "output_type": "display_data"
    }
   ],
   "source": [
    "acc = history.history['accuracy']\n",
    "loss = history.history['loss']\n",
    "epochs = range(1, len(acc) + 1)\n",
    "\n",
    "plt.plot(epochs, loss, 'g', label='Training loss')\n",
    "plt.plot(epochs, acc, 'r', label='Training acc')  \n",
    "plt.title('Training loss and  acc')\n",
    "plt.xlabel('Epochs')\n",
    "plt.ylabel('Acc/Loss')\n",
    "plt.legend()"
   ]
  },
  {
   "cell_type": "markdown",
   "metadata": {},
   "source": [
    "* ROC曲线以及AUC值"
   ]
  },
  {
   "cell_type": "code",
   "execution_count": 24,
   "metadata": {},
   "outputs": [
    {
     "data": {
      "image/png": "[encoded data removed]",
      "text/plain": [
       "<Figure size 432x288 with 1 Axes>"
      ]
     },
     "metadata": {
      "needs_background": "light"
     },
     "output_type": "display_data"
    }
   ],
   "source": [
    "# 测试集\n",
    "Y_test\n",
    "Y_test_predict\n",
    "fpr, tpr, thresholds = metrics.roc_curve(Y_test, Y_test_predict, pos_label=1)\n",
    "auc = metrics.auc(fpr, tpr)\n",
    "\n",
    "plt.figure()\n",
    "lw = 2\n",
    "plt.plot(fpr, tpr, color='darkorange',\n",
    "         lw=lw, label='ROC curve (area = %0.2f)' % auc)\n",
    "plt.plot([0, 1], [0, 1], color='navy', lw=lw, linestyle='--')\n",
    "plt.xlim([0.0, 1.0])\n",
    "plt.ylim([0.0, 1.05])\n",
    "plt.xlabel('False Positive Rate')\n",
    "plt.ylabel('True Positive Rate')\n",
    "plt.title('ROC of test set')\n",
    "plt.legend(loc=\"lower right\")\n",
    "plt.show()"
   ]
  },
  {
   "cell_type": "code",
   "execution_count": 25,
   "metadata": {},
   "outputs": [
    {
     "data": {
      "image/png": "[encoded data removed]",
      "text/plain": [
       "<Figure size 432x288 with 1 Axes>"
      ]
     },
     "metadata": {
      "needs_background": "light"
     },
     "output_type": "display_data"
    }
   ],
   "source": [
    "# 训练集\n",
    "fpr, tpr, thresholds = metrics.roc_curve(Y_train, Y_train_predict, pos_label=1)\n",
    "auc = metrics.auc(fpr, tpr)\n",
    "\n",
    "plt.figure()\n",
    "lw = 2\n",
    "plt.plot(fpr, tpr, color='darkorange',\n",
    "         lw=lw, label='ROC curve (auc = %0.2f)' % auc)\n",
    "plt.plot([0, 1], [0, 1], color='navy', lw=lw, linestyle='--')\n",
    "plt.xlim([0.0, 1.0])\n",
    "plt.ylim([0.0, 1.05])\n",
    "plt.xlabel('False Positive Rate')\n",
    "plt.ylabel('True Positive Rate')\n",
    "plt.title('ROC of train set')\n",
    "plt.legend(loc=\"lower right\")\n",
    "plt.show()"
   ]
  },
  {
   "cell_type": "markdown",
   "metadata": {},
   "source": [
    "* f1-score"
   ]
  },
  {
   "cell_type": "code",
   "execution_count": 26,
   "metadata": {},
   "outputs": [
    {
     "name": "stdout",
     "output_type": "stream",
     "text": [
      "0.6076991975245885\n",
      "0.5607336096465211\n"
     ]
    }
   ],
   "source": [
    "print(metrics.f1_score(Y_train, train_predict))\n",
    "print(metrics.f1_score(Y_test, test_predict))"
   ]
  },
  {
   "cell_type": "markdown",
   "metadata": {},
   "source": [
    "* 混淆矩阵"
   ]
  },
  {
   "cell_type": "code",
   "execution_count": 27,
   "metadata": {},
   "outputs": [
    {
     "data": {
      "text/plain": [
       "array([[ 710226,  770590],\n",
       "       [ 610840, 1069962]])"
      ]
     },
     "execution_count": 27,
     "metadata": {},
     "output_type": "execute_result"
    }
   ],
   "source": [
    "metrics.confusion_matrix(Y_train, train_predict)"
   ]
  },
  {
   "cell_type": "code",
   "execution_count": 28,
   "metadata": {},
   "outputs": [
    {
     "data": {
      "text/plain": [
       "array([[324229, 406797],\n",
       "       [298942, 450446]])"
      ]
     },
     "execution_count": 28,
     "metadata": {},
     "output_type": "execute_result"
    }
   ],
   "source": [
    "metrics.confusion_matrix(Y_test, test_predict)"
   ]
  },
  {
   "cell_type": "markdown",
   "metadata": {},
   "source": [
    "* 显示主要分类指标"
   ]
  },
  {
   "cell_type": "code",
   "execution_count": 29,
   "metadata": {},
   "outputs": [
    {
     "name": "stdout",
     "output_type": "stream",
     "text": [
      "              precision    recall  f1-score   support\n",
      "\n",
      "         0.0       0.54      0.48      0.51   1480816\n",
      "         1.0       0.58      0.64      0.61   1680802\n",
      "\n",
      "    accuracy                           0.56   3161618\n",
      "   macro avg       0.56      0.56      0.56   3161618\n",
      "weighted avg       0.56      0.56      0.56   3161618\n",
      "\n"
     ]
    }
   ],
   "source": [
    "print(metrics.classification_report(Y_train,train_predict))"
   ]
  },
  {
   "cell_type": "code",
   "execution_count": 30,
   "metadata": {},
   "outputs": [
    {
     "name": "stdout",
     "output_type": "stream",
     "text": [
      "              precision    recall  f1-score   support\n",
      "\n",
      "         0.0       0.52      0.44      0.48    731026\n",
      "         1.0       0.53      0.60      0.56    749388\n",
      "\n",
      "    accuracy                           0.52   1480414\n",
      "   macro avg       0.52      0.52      0.52   1480414\n",
      "weighted avg       0.52      0.52      0.52   1480414\n",
      "\n"
     ]
    }
   ],
   "source": [
    "print(metrics.classification_report(Y_test,test_predict))"
   ]
  },
  {
   "cell_type": "markdown",
   "metadata": {},
   "source": [
    "## 5. 保存模型"
   ]
  },
  {
   "cell_type": "code",
   "execution_count": 31,
   "metadata": {},
   "outputs": [],
   "source": [
    "model.save('./models/lstm_model5_1.h5')"
   ]
  },
  {
   "cell_type": "markdown",
   "metadata": {},
   "source": [
    "## 6. 保存预测结果"
   ]
  },
  {
   "cell_type": "code",
   "execution_count": 32,
   "metadata": {},
   "outputs": [
    {
     "data": {
      "text/plain": [
       "(1480414, 6, 13)"
      ]
     },
     "execution_count": 32,
     "metadata": {},
     "output_type": "execute_result"
    }
   ],
   "source": [
    "testResult.shape"
   ]
  },
  {
   "cell_type": "code",
   "execution_count": 33,
   "metadata": {},
   "outputs": [
    {
     "data": {
      "text/plain": [
       "array([['2020-01-09', '000001.SZ'],\n",
       "       ['2020-01-10', '000001.SZ'],\n",
       "       ['2020-01-13', '000001.SZ'],\n",
       "       ...,\n",
       "       ['2021-07-28', '688981.SH'],\n",
       "       ['2021-07-29', '688981.SH'],\n",
       "       ['2021-07-30', '688981.SH']], dtype=object)"
      ]
     },
     "execution_count": 33,
     "metadata": {},
     "output_type": "execute_result"
    }
   ],
   "source": [
    "testResult[:,-1,:2]"
   ]
  },
  {
   "cell_type": "code",
   "execution_count": 34,
   "metadata": {},
   "outputs": [
    {
     "data": {
      "text/plain": [
       "1480414"
      ]
     },
     "execution_count": 34,
     "metadata": {},
     "output_type": "execute_result"
    }
   ],
   "source": [
    "len(Y_test_predict)"
   ]
  },
  {
   "cell_type": "code",
   "execution_count": 35,
   "metadata": {},
   "outputs": [],
   "source": [
    "pred_df = pd.DataFrame(testResult[:, -1, :2], columns = ['dt', 'kdcode'])"
   ]
  },
  {
   "cell_type": "code",
   "execution_count": 36,
   "metadata": {},
   "outputs": [
    {
     "data": {
      "text/html": [
       "<div>\n",
       "<style scoped>\n",
       "    .dataframe tbody tr th:only-of-type {\n",
       "        vertical-align: middle;\n",
       "    }\n",
       "\n",
       "    .dataframe tbody tr th {\n",
       "        vertical-align: top;\n",
       "    }\n",
       "\n",
       "    .dataframe thead th {\n",
       "        text-align: right;\n",
       "    }\n",
       "</style>\n",
       "<table border=\"1\" class=\"dataframe\">\n",
       "  <thead>\n",
       "    <tr style=\"text-align: right;\">\n",
       "      <th></th>\n",
       "      <th>dt</th>\n",
       "      <th>kdcode</th>\n",
       "    </tr>\n",
       "  </thead>\n",
       "  <tbody>\n",
       "    <tr>\n",
       "      <th>0</th>\n",
       "      <td>2020-01-09</td>\n",
       "      <td>000001.SZ</td>\n",
       "    </tr>\n",
       "    <tr>\n",
       "      <th>1</th>\n",
       "      <td>2020-01-10</td>\n",
       "      <td>000001.SZ</td>\n",
       "    </tr>\n",
       "    <tr>\n",
       "      <th>2</th>\n",
       "      <td>2020-01-13</td>\n",
       "      <td>000001.SZ</td>\n",
       "    </tr>\n",
       "    <tr>\n",
       "      <th>3</th>\n",
       "      <td>2020-01-14</td>\n",
       "      <td>000001.SZ</td>\n",
       "    </tr>\n",
       "    <tr>\n",
       "      <th>4</th>\n",
       "      <td>2020-01-15</td>\n",
       "      <td>000001.SZ</td>\n",
       "    </tr>\n",
       "    <tr>\n",
       "      <th>...</th>\n",
       "      <td>...</td>\n",
       "      <td>...</td>\n",
       "    </tr>\n",
       "    <tr>\n",
       "      <th>1480409</th>\n",
       "      <td>2021-07-26</td>\n",
       "      <td>688981.SH</td>\n",
       "    </tr>\n",
       "    <tr>\n",
       "      <th>1480410</th>\n",
       "      <td>2021-07-27</td>\n",
       "      <td>688981.SH</td>\n",
       "    </tr>\n",
       "    <tr>\n",
       "      <th>1480411</th>\n",
       "      <td>2021-07-28</td>\n",
       "      <td>688981.SH</td>\n",
       "    </tr>\n",
       "    <tr>\n",
       "      <th>1480412</th>\n",
       "      <td>2021-07-29</td>\n",
       "      <td>688981.SH</td>\n",
       "    </tr>\n",
       "    <tr>\n",
       "      <th>1480413</th>\n",
       "      <td>2021-07-30</td>\n",
       "      <td>688981.SH</td>\n",
       "    </tr>\n",
       "  </tbody>\n",
       "</table>\n",
       "<p>1480414 rows × 2 columns</p>\n",
       "</div>"
      ],
      "text/plain": [
       "                 dt     kdcode\n",
       "0        2020-01-09  000001.SZ\n",
       "1        2020-01-10  000001.SZ\n",
       "2        2020-01-13  000001.SZ\n",
       "3        2020-01-14  000001.SZ\n",
       "4        2020-01-15  000001.SZ\n",
       "...             ...        ...\n",
       "1480409  2021-07-26  688981.SH\n",
       "1480410  2021-07-27  688981.SH\n",
       "1480411  2021-07-28  688981.SH\n",
       "1480412  2021-07-29  688981.SH\n",
       "1480413  2021-07-30  688981.SH\n",
       "\n",
       "[1480414 rows x 2 columns]"
      ]
     },
     "execution_count": 36,
     "metadata": {},
     "output_type": "execute_result"
    }
   ],
   "source": [
    "pred_df"
   ]
  },
  {
   "cell_type": "code",
   "execution_count": 37,
   "metadata": {},
   "outputs": [],
   "source": [
    "pred_df['score'] = Y_test_predict"
   ]
  },
  {
   "cell_type": "code",
   "execution_count": 38,
   "metadata": {},
   "outputs": [
    {
     "data": {
      "text/html": [
       "<div>\n",
       "<style scoped>\n",
       "    .dataframe tbody tr th:only-of-type {\n",
       "        vertical-align: middle;\n",
       "    }\n",
       "\n",
       "    .dataframe tbody tr th {\n",
       "        vertical-align: top;\n",
       "    }\n",
       "\n",
       "    .dataframe thead th {\n",
       "        text-align: right;\n",
       "    }\n",
       "</style>\n",
       "<table border=\"1\" class=\"dataframe\">\n",
       "  <thead>\n",
       "    <tr style=\"text-align: right;\">\n",
       "      <th></th>\n",
       "      <th>dt</th>\n",
       "      <th>kdcode</th>\n",
       "      <th>score</th>\n",
       "    </tr>\n",
       "  </thead>\n",
       "  <tbody>\n",
       "    <tr>\n",
       "      <th>0</th>\n",
       "      <td>2020-01-09</td>\n",
       "      <td>000001.SZ</td>\n",
       "      <td>0.507469</td>\n",
       "    </tr>\n",
       "    <tr>\n",
       "      <th>1</th>\n",
       "      <td>2020-01-10</td>\n",
       "      <td>000001.SZ</td>\n",
       "      <td>0.480316</td>\n",
       "    </tr>\n",
       "    <tr>\n",
       "      <th>2</th>\n",
       "      <td>2020-01-13</td>\n",
       "      <td>000001.SZ</td>\n",
       "      <td>0.538022</td>\n",
       "    </tr>\n",
       "    <tr>\n",
       "      <th>3</th>\n",
       "      <td>2020-01-14</td>\n",
       "      <td>000001.SZ</td>\n",
       "      <td>0.499793</td>\n",
       "    </tr>\n",
       "    <tr>\n",
       "      <th>4</th>\n",
       "      <td>2020-01-15</td>\n",
       "      <td>000001.SZ</td>\n",
       "      <td>0.518457</td>\n",
       "    </tr>\n",
       "    <tr>\n",
       "      <th>...</th>\n",
       "      <td>...</td>\n",
       "      <td>...</td>\n",
       "      <td>...</td>\n",
       "    </tr>\n",
       "    <tr>\n",
       "      <th>1480409</th>\n",
       "      <td>2021-07-26</td>\n",
       "      <td>688981.SH</td>\n",
       "      <td>0.530302</td>\n",
       "    </tr>\n",
       "    <tr>\n",
       "      <th>1480410</th>\n",
       "      <td>2021-07-27</td>\n",
       "      <td>688981.SH</td>\n",
       "      <td>0.420009</td>\n",
       "    </tr>\n",
       "    <tr>\n",
       "      <th>1480411</th>\n",
       "      <td>2021-07-28</td>\n",
       "      <td>688981.SH</td>\n",
       "      <td>0.473088</td>\n",
       "    </tr>\n",
       "    <tr>\n",
       "      <th>1480412</th>\n",
       "      <td>2021-07-29</td>\n",
       "      <td>688981.SH</td>\n",
       "      <td>0.448630</td>\n",
       "    </tr>\n",
       "    <tr>\n",
       "      <th>1480413</th>\n",
       "      <td>2021-07-30</td>\n",
       "      <td>688981.SH</td>\n",
       "      <td>0.438406</td>\n",
       "    </tr>\n",
       "  </tbody>\n",
       "</table>\n",
       "<p>1480414 rows × 3 columns</p>\n",
       "</div>"
      ],
      "text/plain": [
       "                 dt     kdcode     score\n",
       "0        2020-01-09  000001.SZ  0.507469\n",
       "1        2020-01-10  000001.SZ  0.480316\n",
       "2        2020-01-13  000001.SZ  0.538022\n",
       "3        2020-01-14  000001.SZ  0.499793\n",
       "4        2020-01-15  000001.SZ  0.518457\n",
       "...             ...        ...       ...\n",
       "1480409  2021-07-26  688981.SH  0.530302\n",
       "1480410  2021-07-27  688981.SH  0.420009\n",
       "1480411  2021-07-28  688981.SH  0.473088\n",
       "1480412  2021-07-29  688981.SH  0.448630\n",
       "1480413  2021-07-30  688981.SH  0.438406\n",
       "\n",
       "[1480414 rows x 3 columns]"
      ]
     },
     "execution_count": 38,
     "metadata": {},
     "output_type": "execute_result"
    }
   ],
   "source": [
    "pred_df"
   ]
  },
  {
   "cell_type": "code",
   "execution_count": 39,
   "metadata": {},
   "outputs": [
    {
     "data": {
      "text/html": [
       "<div>\n",
       "<style scoped>\n",
       "    .dataframe tbody tr th:only-of-type {\n",
       "        vertical-align: middle;\n",
       "    }\n",
       "\n",
       "    .dataframe tbody tr th {\n",
       "        vertical-align: top;\n",
       "    }\n",
       "\n",
       "    .dataframe thead th {\n",
       "        text-align: right;\n",
       "    }\n",
       "</style>\n",
       "<table border=\"1\" class=\"dataframe\">\n",
       "  <thead>\n",
       "    <tr style=\"text-align: right;\">\n",
       "      <th></th>\n",
       "      <th>kdcode</th>\n",
       "      <th>dt</th>\n",
       "      <th>score</th>\n",
       "    </tr>\n",
       "  </thead>\n",
       "  <tbody>\n",
       "    <tr>\n",
       "      <th>0</th>\n",
       "      <td>000001.SZ</td>\n",
       "      <td>2020-01-09</td>\n",
       "      <td>0.507469</td>\n",
       "    </tr>\n",
       "    <tr>\n",
       "      <th>1</th>\n",
       "      <td>000001.SZ</td>\n",
       "      <td>2020-01-10</td>\n",
       "      <td>0.480316</td>\n",
       "    </tr>\n",
       "    <tr>\n",
       "      <th>2</th>\n",
       "      <td>000001.SZ</td>\n",
       "      <td>2020-01-13</td>\n",
       "      <td>0.538022</td>\n",
       "    </tr>\n",
       "    <tr>\n",
       "      <th>3</th>\n",
       "      <td>000001.SZ</td>\n",
       "      <td>2020-01-14</td>\n",
       "      <td>0.499793</td>\n",
       "    </tr>\n",
       "    <tr>\n",
       "      <th>4</th>\n",
       "      <td>000001.SZ</td>\n",
       "      <td>2020-01-15</td>\n",
       "      <td>0.518457</td>\n",
       "    </tr>\n",
       "    <tr>\n",
       "      <th>...</th>\n",
       "      <td>...</td>\n",
       "      <td>...</td>\n",
       "      <td>...</td>\n",
       "    </tr>\n",
       "    <tr>\n",
       "      <th>1480409</th>\n",
       "      <td>688981.SH</td>\n",
       "      <td>2021-07-26</td>\n",
       "      <td>0.530302</td>\n",
       "    </tr>\n",
       "    <tr>\n",
       "      <th>1480410</th>\n",
       "      <td>688981.SH</td>\n",
       "      <td>2021-07-27</td>\n",
       "      <td>0.420009</td>\n",
       "    </tr>\n",
       "    <tr>\n",
       "      <th>1480411</th>\n",
       "      <td>688981.SH</td>\n",
       "      <td>2021-07-28</td>\n",
       "      <td>0.473088</td>\n",
       "    </tr>\n",
       "    <tr>\n",
       "      <th>1480412</th>\n",
       "      <td>688981.SH</td>\n",
       "      <td>2021-07-29</td>\n",
       "      <td>0.448630</td>\n",
       "    </tr>\n",
       "    <tr>\n",
       "      <th>1480413</th>\n",
       "      <td>688981.SH</td>\n",
       "      <td>2021-07-30</td>\n",
       "      <td>0.438406</td>\n",
       "    </tr>\n",
       "  </tbody>\n",
       "</table>\n",
       "<p>1480414 rows × 3 columns</p>\n",
       "</div>"
      ],
      "text/plain": [
       "            kdcode          dt     score\n",
       "0        000001.SZ  2020-01-09  0.507469\n",
       "1        000001.SZ  2020-01-10  0.480316\n",
       "2        000001.SZ  2020-01-13  0.538022\n",
       "3        000001.SZ  2020-01-14  0.499793\n",
       "4        000001.SZ  2020-01-15  0.518457\n",
       "...            ...         ...       ...\n",
       "1480409  688981.SH  2021-07-26  0.530302\n",
       "1480410  688981.SH  2021-07-27  0.420009\n",
       "1480411  688981.SH  2021-07-28  0.473088\n",
       "1480412  688981.SH  2021-07-29  0.448630\n",
       "1480413  688981.SH  2021-07-30  0.438406\n",
       "\n",
       "[1480414 rows x 3 columns]"
      ]
     },
     "execution_count": 39,
     "metadata": {},
     "output_type": "execute_result"
    }
   ],
   "source": [
    "pred_df = pred_df[['kdcode', 'dt', 'score']]\n",
    "pred_df"
   ]
  },
  {
   "cell_type": "code",
   "execution_count": 40,
   "metadata": {},
   "outputs": [
    {
     "data": {
      "text/plain": [
       "378"
      ]
     },
     "execution_count": 40,
     "metadata": {},
     "output_type": "execute_result"
    }
   ],
   "source": [
    "all_date = pred_df[\"dt\"].unique()\n",
    "len(all_date)"
   ]
  },
  {
   "cell_type": "code",
   "execution_count": 41,
   "metadata": {},
   "outputs": [
    {
     "name": "stderr",
     "output_type": "stream",
     "text": [
      "100%|██████████| 378/378 [00:30<00:00, 12.21it/s]\n"
     ]
    }
   ],
   "source": [
    "for date_i in tqdm(all_date):\n",
    "    tmp_df = pred_df[pred_df['dt'] == date_i]\n",
    "    save_path = '../result4tiho/model5_1/prediction/' + str(date_i) + '.csv'\n",
    "    tmp_df.set_index(tmp_df['kdcode'])\n",
    "    tmp_df.to_csv(save_path, index = False)"
   ]
  }
 ],
 "metadata": {
  "kernelspec": {
   "display_name": "env4tiho_py36",
   "language": "python",
   "name": "env4tiho_py36"
  },
  "language_info": {
   "codemirror_mode": {
    "name": "ipython",
    "version": 3
   },
   "file_extension": ".py",
   "mimetype": "text/x-python",
   "name": "python",
   "nbconvert_exporter": "python",
   "pygments_lexer": "ipython3",
   "version": "3.6.5"
  }
 },
 "nbformat": 4,
 "nbformat_minor": 4
}
