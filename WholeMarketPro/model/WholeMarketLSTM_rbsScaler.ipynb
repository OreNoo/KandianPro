{
 "cells": [
  {
   "cell_type": "markdown",
   "metadata": {},
   "source": [
    "# 基于`LSTM模型`预测未来一个交易日`开盘价的涨跌`"
   ]
  },
  {
   "cell_type": "markdown",
   "metadata": {},
   "source": [
    "## 1. 数据预处理\n",
    "### 1.1 根据股票代码划分数据"
   ]
  },
  {
   "cell_type": "code",
   "execution_count": 5,
   "metadata": {},
   "outputs": [],
   "source": [
    "import pandas as pd\n",
    "from tqdm import tqdm\n",
    "import numpy as np\n",
    "\n",
    "# 全局变量\n",
    "cols = [0,1,2,3,4,6,7,9,10,20] # 选取属性\n",
    "feanum=7 # 特征数量\n",
    "window=5 # 时间窗设置"
   ]
  },
  {
   "cell_type": "markdown",
   "metadata": {},
   "source": [
    "* **训练集**"
   ]
  },
  {
   "cell_type": "code",
   "execution_count": 6,
   "metadata": {},
   "outputs": [
    {
     "data": {
      "text/plain": [
       "('训练集股票数量：', 3727)"
      ]
     },
     "execution_count": 6,
     "metadata": {},
     "output_type": "execute_result"
    }
   ],
   "source": [
    "train_df = pd.read_csv(\"../data/trainData3.csv\", usecols=cols)\n",
    "# train_df = pd.read_csv(\"../data/trainData.csv\")\n",
    "train_stocks_code = train_df[\"kdcode\"].unique()\n",
    "train_stocks_num = len(train_stocks_code)\n",
    "\n",
    "\"训练集股票数量：\",train_stocks_num"
   ]
  },
  {
   "cell_type": "code",
   "execution_count": 7,
   "metadata": {},
   "outputs": [
    {
     "data": {
      "text/html": [
       "<div>\n",
       "<style scoped>\n",
       "    .dataframe tbody tr th:only-of-type {\n",
       "        vertical-align: middle;\n",
       "    }\n",
       "\n",
       "    .dataframe tbody tr th {\n",
       "        vertical-align: top;\n",
       "    }\n",
       "\n",
       "    .dataframe thead th {\n",
       "        text-align: right;\n",
       "    }\n",
       "</style>\n",
       "<table border=\"1\" class=\"dataframe\">\n",
       "  <thead>\n",
       "    <tr style=\"text-align: right;\">\n",
       "      <th></th>\n",
       "      <th>dt</th>\n",
       "      <th>kdcode</th>\n",
       "      <th>vwap</th>\n",
       "      <th>vwap_mean5</th>\n",
       "      <th>vwap_mean10</th>\n",
       "      <th>chg_mean3</th>\n",
       "      <th>chg_mean5</th>\n",
       "      <th>open_mean3</th>\n",
       "      <th>open_mean5</th>\n",
       "      <th>label</th>\n",
       "    </tr>\n",
       "  </thead>\n",
       "  <tbody>\n",
       "    <tr>\n",
       "      <th>0</th>\n",
       "      <td>2016-01-04</td>\n",
       "      <td>000001.SZ</td>\n",
       "      <td>0.064829</td>\n",
       "      <td>0.064364</td>\n",
       "      <td>0.063323</td>\n",
       "      <td>-3.487342</td>\n",
       "      <td>-4.358281</td>\n",
       "      <td>19.009327</td>\n",
       "      <td>19.008069</td>\n",
       "      <td>0.0</td>\n",
       "    </tr>\n",
       "    <tr>\n",
       "      <th>1</th>\n",
       "      <td>2016-01-05</td>\n",
       "      <td>000001.SZ</td>\n",
       "      <td>0.040539</td>\n",
       "      <td>0.052203</td>\n",
       "      <td>0.051159</td>\n",
       "      <td>-1.550633</td>\n",
       "      <td>-1.937893</td>\n",
       "      <td>18.406972</td>\n",
       "      <td>18.405742</td>\n",
       "      <td>1.0</td>\n",
       "    </tr>\n",
       "    <tr>\n",
       "      <th>2</th>\n",
       "      <td>2016-01-06</td>\n",
       "      <td>000001.SZ</td>\n",
       "      <td>0.046648</td>\n",
       "      <td>0.050188</td>\n",
       "      <td>0.049143</td>\n",
       "      <td>-0.793249</td>\n",
       "      <td>-0.991357</td>\n",
       "      <td>18.288702</td>\n",
       "      <td>18.287477</td>\n",
       "      <td>0.0</td>\n",
       "    </tr>\n",
       "    <tr>\n",
       "      <th>3</th>\n",
       "      <td>2016-01-07</td>\n",
       "      <td>000001.SZ</td>\n",
       "      <td>0.022749</td>\n",
       "      <td>0.043198</td>\n",
       "      <td>0.042152</td>\n",
       "      <td>-0.710970</td>\n",
       "      <td>-1.755968</td>\n",
       "      <td>17.964145</td>\n",
       "      <td>18.224218</td>\n",
       "      <td>0.0</td>\n",
       "    </tr>\n",
       "    <tr>\n",
       "      <th>4</th>\n",
       "      <td>2016-01-08</td>\n",
       "      <td>000001.SZ</td>\n",
       "      <td>0.020566</td>\n",
       "      <td>0.038567</td>\n",
       "      <td>0.037519</td>\n",
       "      <td>-0.493671</td>\n",
       "      <td>-1.145334</td>\n",
       "      <td>17.931139</td>\n",
       "      <td>18.120255</td>\n",
       "      <td>0.0</td>\n",
       "    </tr>\n",
       "    <tr>\n",
       "      <th>...</th>\n",
       "      <td>...</td>\n",
       "      <td>...</td>\n",
       "      <td>...</td>\n",
       "      <td>...</td>\n",
       "      <td>...</td>\n",
       "      <td>...</td>\n",
       "      <td>...</td>\n",
       "      <td>...</td>\n",
       "      <td>...</td>\n",
       "      <td>...</td>\n",
       "    </tr>\n",
       "    <tr>\n",
       "      <th>3180235</th>\n",
       "      <td>2019-12-25</td>\n",
       "      <td>688399.SH</td>\n",
       "      <td>3.559136</td>\n",
       "      <td>3.565365</td>\n",
       "      <td>3.472481</td>\n",
       "      <td>0.067511</td>\n",
       "      <td>-0.966573</td>\n",
       "      <td>0.382484</td>\n",
       "      <td>0.390089</td>\n",
       "      <td>1.0</td>\n",
       "    </tr>\n",
       "    <tr>\n",
       "      <th>3180236</th>\n",
       "      <td>2019-12-26</td>\n",
       "      <td>688399.SH</td>\n",
       "      <td>3.606444</td>\n",
       "      <td>3.566195</td>\n",
       "      <td>3.497036</td>\n",
       "      <td>0.293249</td>\n",
       "      <td>0.196162</td>\n",
       "      <td>0.383017</td>\n",
       "      <td>0.382172</td>\n",
       "      <td>1.0</td>\n",
       "    </tr>\n",
       "    <tr>\n",
       "      <th>3180237</th>\n",
       "      <td>2019-12-27</td>\n",
       "      <td>688399.SH</td>\n",
       "      <td>3.524210</td>\n",
       "      <td>3.553826</td>\n",
       "      <td>3.521685</td>\n",
       "      <td>-0.632911</td>\n",
       "      <td>-0.447693</td>\n",
       "      <td>0.391481</td>\n",
       "      <td>0.387330</td>\n",
       "      <td>0.0</td>\n",
       "    </tr>\n",
       "    <tr>\n",
       "      <th>3180238</th>\n",
       "      <td>2019-12-30</td>\n",
       "      <td>688399.SH</td>\n",
       "      <td>3.346729</td>\n",
       "      <td>3.520275</td>\n",
       "      <td>3.522591</td>\n",
       "      <td>-0.886076</td>\n",
       "      <td>-0.590068</td>\n",
       "      <td>0.373553</td>\n",
       "      <td>0.376375</td>\n",
       "      <td>1.0</td>\n",
       "    </tr>\n",
       "    <tr>\n",
       "      <th>3180239</th>\n",
       "      <td>2019-12-31</td>\n",
       "      <td>688399.SH</td>\n",
       "      <td>3.491777</td>\n",
       "      <td>3.509773</td>\n",
       "      <td>3.538087</td>\n",
       "      <td>-0.510549</td>\n",
       "      <td>-0.213564</td>\n",
       "      <td>0.356092</td>\n",
       "      <td>0.367098</td>\n",
       "      <td>1.0</td>\n",
       "    </tr>\n",
       "  </tbody>\n",
       "</table>\n",
       "<p>3180240 rows × 10 columns</p>\n",
       "</div>"
      ],
      "text/plain": [
       "                 dt     kdcode      vwap  vwap_mean5  vwap_mean10  chg_mean3  \\\n",
       "0        2016-01-04  000001.SZ  0.064829    0.064364     0.063323  -3.487342   \n",
       "1        2016-01-05  000001.SZ  0.040539    0.052203     0.051159  -1.550633   \n",
       "2        2016-01-06  000001.SZ  0.046648    0.050188     0.049143  -0.793249   \n",
       "3        2016-01-07  000001.SZ  0.022749    0.043198     0.042152  -0.710970   \n",
       "4        2016-01-08  000001.SZ  0.020566    0.038567     0.037519  -0.493671   \n",
       "...             ...        ...       ...         ...          ...        ...   \n",
       "3180235  2019-12-25  688399.SH  3.559136    3.565365     3.472481   0.067511   \n",
       "3180236  2019-12-26  688399.SH  3.606444    3.566195     3.497036   0.293249   \n",
       "3180237  2019-12-27  688399.SH  3.524210    3.553826     3.521685  -0.632911   \n",
       "3180238  2019-12-30  688399.SH  3.346729    3.520275     3.522591  -0.886076   \n",
       "3180239  2019-12-31  688399.SH  3.491777    3.509773     3.538087  -0.510549   \n",
       "\n",
       "         chg_mean5  open_mean3  open_mean5  label  \n",
       "0        -4.358281   19.009327   19.008069    0.0  \n",
       "1        -1.937893   18.406972   18.405742    1.0  \n",
       "2        -0.991357   18.288702   18.287477    0.0  \n",
       "3        -1.755968   17.964145   18.224218    0.0  \n",
       "4        -1.145334   17.931139   18.120255    0.0  \n",
       "...            ...         ...         ...    ...  \n",
       "3180235  -0.966573    0.382484    0.390089    1.0  \n",
       "3180236   0.196162    0.383017    0.382172    1.0  \n",
       "3180237  -0.447693    0.391481    0.387330    0.0  \n",
       "3180238  -0.590068    0.373553    0.376375    1.0  \n",
       "3180239  -0.213564    0.356092    0.367098    1.0  \n",
       "\n",
       "[3180240 rows x 10 columns]"
      ]
     },
     "execution_count": 7,
     "metadata": {},
     "output_type": "execute_result"
    }
   ],
   "source": [
    "train_df"
   ]
  },
  {
   "cell_type": "code",
   "execution_count": 8,
   "metadata": {},
   "outputs": [
    {
     "name": "stderr",
     "output_type": "stream",
     "text": [
      "100%|██████████| 3727/3727 [02:34<00:00, 24.15it/s]\n"
     ]
    }
   ],
   "source": [
    "# 根据股票代码划分数据\n",
    "for i, stock_i in enumerate(tqdm(train_stocks_code)):\n",
    "    stock_i_data = train_df[train_df['kdcode'].isin([stock_i])]\n",
    "    exec(\"train_df%s = stock_i_data\" % i)"
   ]
  },
  {
   "cell_type": "markdown",
   "metadata": {},
   "source": [
    "* **测试集**"
   ]
  },
  {
   "cell_type": "code",
   "execution_count": 9,
   "metadata": {},
   "outputs": [
    {
     "data": {
      "text/plain": [
       "('测试集股票数量：', 4022)"
      ]
     },
     "execution_count": 9,
     "metadata": {},
     "output_type": "execute_result"
    }
   ],
   "source": [
    "test_df = pd.read_csv(\"../data/testData3.csv\", usecols=cols)\n",
    "# test_df = pd.read_csv(\"../data/testData.csv\")\n",
    "test_stocks_code = test_df[\"kdcode\"].unique()\n",
    "test_stocks_num = len(test_stocks_code)\n",
    "\n",
    "\"测试集股票数量：\",test_stocks_num"
   ]
  },
  {
   "cell_type": "code",
   "execution_count": 10,
   "metadata": {},
   "outputs": [
    {
     "name": "stderr",
     "output_type": "stream",
     "text": [
      "100%|██████████| 4022/4022 [01:25<00:00, 46.90it/s]\n"
     ]
    }
   ],
   "source": [
    "# 根据股票代码划分数据\n",
    "for i, stock_i in enumerate(tqdm(test_stocks_code)):\n",
    "    stock_i_data = test_df[test_df['kdcode'].isin([stock_i])]\n",
    "    exec(\"test_df%s = stock_i_data\" % i)"
   ]
  },
  {
   "cell_type": "markdown",
   "metadata": {},
   "source": [
    "### 1.2. 将原始数据改造为LSTM网络的输入\n",
    "分割出window个时间窗的数据为输入的`X`\n",
    "\n",
    "紧接着的那条数据为标签`Y`\n",
    "\n",
    "因此需要将每只股票的数据按照时间(日期)分割成`window + 1`长度的数据\n",
    "\n",
    "* **训练集**"
   ]
  },
  {
   "cell_type": "code",
   "execution_count": 11,
   "metadata": {},
   "outputs": [
    {
     "data": {
      "text/html": [
       "<div>\n",
       "<style scoped>\n",
       "    .dataframe tbody tr th:only-of-type {\n",
       "        vertical-align: middle;\n",
       "    }\n",
       "\n",
       "    .dataframe tbody tr th {\n",
       "        vertical-align: top;\n",
       "    }\n",
       "\n",
       "    .dataframe thead th {\n",
       "        text-align: right;\n",
       "    }\n",
       "</style>\n",
       "<table border=\"1\" class=\"dataframe\">\n",
       "  <thead>\n",
       "    <tr style=\"text-align: right;\">\n",
       "      <th></th>\n",
       "      <th>dt</th>\n",
       "      <th>kdcode</th>\n",
       "      <th>vwap</th>\n",
       "      <th>vwap_mean5</th>\n",
       "      <th>vwap_mean10</th>\n",
       "      <th>chg_mean3</th>\n",
       "      <th>chg_mean5</th>\n",
       "      <th>open_mean3</th>\n",
       "      <th>open_mean5</th>\n",
       "      <th>label</th>\n",
       "    </tr>\n",
       "  </thead>\n",
       "  <tbody>\n",
       "    <tr>\n",
       "      <th>0</th>\n",
       "      <td>2016-01-04</td>\n",
       "      <td>000001.SZ</td>\n",
       "      <td>0.064829</td>\n",
       "      <td>0.064364</td>\n",
       "      <td>0.063323</td>\n",
       "      <td>-3.487342</td>\n",
       "      <td>-4.358281</td>\n",
       "      <td>19.009327</td>\n",
       "      <td>19.008069</td>\n",
       "      <td>0.0</td>\n",
       "    </tr>\n",
       "    <tr>\n",
       "      <th>1</th>\n",
       "      <td>2016-01-05</td>\n",
       "      <td>000001.SZ</td>\n",
       "      <td>0.040539</td>\n",
       "      <td>0.052203</td>\n",
       "      <td>0.051159</td>\n",
       "      <td>-1.550633</td>\n",
       "      <td>-1.937893</td>\n",
       "      <td>18.406972</td>\n",
       "      <td>18.405742</td>\n",
       "      <td>1.0</td>\n",
       "    </tr>\n",
       "    <tr>\n",
       "      <th>2</th>\n",
       "      <td>2016-01-06</td>\n",
       "      <td>000001.SZ</td>\n",
       "      <td>0.046648</td>\n",
       "      <td>0.050188</td>\n",
       "      <td>0.049143</td>\n",
       "      <td>-0.793249</td>\n",
       "      <td>-0.991357</td>\n",
       "      <td>18.288702</td>\n",
       "      <td>18.287477</td>\n",
       "      <td>0.0</td>\n",
       "    </tr>\n",
       "    <tr>\n",
       "      <th>3</th>\n",
       "      <td>2016-01-07</td>\n",
       "      <td>000001.SZ</td>\n",
       "      <td>0.022749</td>\n",
       "      <td>0.043198</td>\n",
       "      <td>0.042152</td>\n",
       "      <td>-0.710970</td>\n",
       "      <td>-1.755968</td>\n",
       "      <td>17.964145</td>\n",
       "      <td>18.224218</td>\n",
       "      <td>0.0</td>\n",
       "    </tr>\n",
       "    <tr>\n",
       "      <th>4</th>\n",
       "      <td>2016-01-08</td>\n",
       "      <td>000001.SZ</td>\n",
       "      <td>0.020566</td>\n",
       "      <td>0.038567</td>\n",
       "      <td>0.037519</td>\n",
       "      <td>-0.493671</td>\n",
       "      <td>-1.145334</td>\n",
       "      <td>17.931139</td>\n",
       "      <td>18.120255</td>\n",
       "      <td>0.0</td>\n",
       "    </tr>\n",
       "    <tr>\n",
       "      <th>...</th>\n",
       "      <td>...</td>\n",
       "      <td>...</td>\n",
       "      <td>...</td>\n",
       "      <td>...</td>\n",
       "      <td>...</td>\n",
       "      <td>...</td>\n",
       "      <td>...</td>\n",
       "      <td>...</td>\n",
       "      <td>...</td>\n",
       "      <td>...</td>\n",
       "    </tr>\n",
       "    <tr>\n",
       "      <th>3180235</th>\n",
       "      <td>2019-12-25</td>\n",
       "      <td>688399.SH</td>\n",
       "      <td>3.559136</td>\n",
       "      <td>3.565365</td>\n",
       "      <td>3.472481</td>\n",
       "      <td>0.067511</td>\n",
       "      <td>-0.966573</td>\n",
       "      <td>0.382484</td>\n",
       "      <td>0.390089</td>\n",
       "      <td>1.0</td>\n",
       "    </tr>\n",
       "    <tr>\n",
       "      <th>3180236</th>\n",
       "      <td>2019-12-26</td>\n",
       "      <td>688399.SH</td>\n",
       "      <td>3.606444</td>\n",
       "      <td>3.566195</td>\n",
       "      <td>3.497036</td>\n",
       "      <td>0.293249</td>\n",
       "      <td>0.196162</td>\n",
       "      <td>0.383017</td>\n",
       "      <td>0.382172</td>\n",
       "      <td>1.0</td>\n",
       "    </tr>\n",
       "    <tr>\n",
       "      <th>3180237</th>\n",
       "      <td>2019-12-27</td>\n",
       "      <td>688399.SH</td>\n",
       "      <td>3.524210</td>\n",
       "      <td>3.553826</td>\n",
       "      <td>3.521685</td>\n",
       "      <td>-0.632911</td>\n",
       "      <td>-0.447693</td>\n",
       "      <td>0.391481</td>\n",
       "      <td>0.387330</td>\n",
       "      <td>0.0</td>\n",
       "    </tr>\n",
       "    <tr>\n",
       "      <th>3180238</th>\n",
       "      <td>2019-12-30</td>\n",
       "      <td>688399.SH</td>\n",
       "      <td>3.346729</td>\n",
       "      <td>3.520275</td>\n",
       "      <td>3.522591</td>\n",
       "      <td>-0.886076</td>\n",
       "      <td>-0.590068</td>\n",
       "      <td>0.373553</td>\n",
       "      <td>0.376375</td>\n",
       "      <td>1.0</td>\n",
       "    </tr>\n",
       "    <tr>\n",
       "      <th>3180239</th>\n",
       "      <td>2019-12-31</td>\n",
       "      <td>688399.SH</td>\n",
       "      <td>3.491777</td>\n",
       "      <td>3.509773</td>\n",
       "      <td>3.538087</td>\n",
       "      <td>-0.510549</td>\n",
       "      <td>-0.213564</td>\n",
       "      <td>0.356092</td>\n",
       "      <td>0.367098</td>\n",
       "      <td>1.0</td>\n",
       "    </tr>\n",
       "  </tbody>\n",
       "</table>\n",
       "<p>3180240 rows × 10 columns</p>\n",
       "</div>"
      ],
      "text/plain": [
       "                 dt     kdcode      vwap  vwap_mean5  vwap_mean10  chg_mean3  \\\n",
       "0        2016-01-04  000001.SZ  0.064829    0.064364     0.063323  -3.487342   \n",
       "1        2016-01-05  000001.SZ  0.040539    0.052203     0.051159  -1.550633   \n",
       "2        2016-01-06  000001.SZ  0.046648    0.050188     0.049143  -0.793249   \n",
       "3        2016-01-07  000001.SZ  0.022749    0.043198     0.042152  -0.710970   \n",
       "4        2016-01-08  000001.SZ  0.020566    0.038567     0.037519  -0.493671   \n",
       "...             ...        ...       ...         ...          ...        ...   \n",
       "3180235  2019-12-25  688399.SH  3.559136    3.565365     3.472481   0.067511   \n",
       "3180236  2019-12-26  688399.SH  3.606444    3.566195     3.497036   0.293249   \n",
       "3180237  2019-12-27  688399.SH  3.524210    3.553826     3.521685  -0.632911   \n",
       "3180238  2019-12-30  688399.SH  3.346729    3.520275     3.522591  -0.886076   \n",
       "3180239  2019-12-31  688399.SH  3.491777    3.509773     3.538087  -0.510549   \n",
       "\n",
       "         chg_mean5  open_mean3  open_mean5  label  \n",
       "0        -4.358281   19.009327   19.008069    0.0  \n",
       "1        -1.937893   18.406972   18.405742    1.0  \n",
       "2        -0.991357   18.288702   18.287477    0.0  \n",
       "3        -1.755968   17.964145   18.224218    0.0  \n",
       "4        -1.145334   17.931139   18.120255    0.0  \n",
       "...            ...         ...         ...    ...  \n",
       "3180235  -0.966573    0.382484    0.390089    1.0  \n",
       "3180236   0.196162    0.383017    0.382172    1.0  \n",
       "3180237  -0.447693    0.391481    0.387330    0.0  \n",
       "3180238  -0.590068    0.373553    0.376375    1.0  \n",
       "3180239  -0.213564    0.356092    0.367098    1.0  \n",
       "\n",
       "[3180240 rows x 10 columns]"
      ]
     },
     "execution_count": 11,
     "metadata": {},
     "output_type": "execute_result"
    }
   ],
   "source": [
    "train_df"
   ]
  },
  {
   "cell_type": "code",
   "execution_count": 12,
   "metadata": {},
   "outputs": [
    {
     "name": "stderr",
     "output_type": "stream",
     "text": [
      "100%|██████████| 3727/3727 [00:03<00:00, 1078.14it/s]\n"
     ]
    },
    {
     "data": {
      "text/plain": [
       "(3161618, 6, 10)"
      ]
     },
     "execution_count": 12,
     "metadata": {},
     "output_type": "execute_result"
    }
   ],
   "source": [
    "# 分割数据\n",
    "trainResult = []\n",
    "for i in tqdm(range(train_stocks_num)): # 遍历训练集所有股票的DataFrame\n",
    "    exec(\"trainData = train_df%s.values\" % i)\n",
    "    sequence_length = window + 1\n",
    "    for index in range(len(trainData) - sequence_length + 1):\n",
    "        trainResult.append(trainData[index: index + sequence_length])\n",
    "\n",
    "trainResult = np.array(trainResult)\n",
    "trainResult.shape"
   ]
  },
  {
   "cell_type": "code",
   "execution_count": 13,
   "metadata": {},
   "outputs": [
    {
     "data": {
      "text/plain": [
       "3161618"
      ]
     },
     "execution_count": 13,
     "metadata": {},
     "output_type": "execute_result"
    }
   ],
   "source": [
    "# 保存分割后每条数据的日期\n",
    "train_date = trainResult[:,-1,0]\n",
    "len(train_date)"
   ]
  },
  {
   "cell_type": "markdown",
   "metadata": {},
   "source": [
    "* **测试集**"
   ]
  },
  {
   "cell_type": "code",
   "execution_count": 14,
   "metadata": {},
   "outputs": [
    {
     "name": "stderr",
     "output_type": "stream",
     "text": [
      "100%|██████████| 4022/4022 [00:01<00:00, 2732.20it/s]\n"
     ]
    },
    {
     "data": {
      "text/plain": [
       "(1480414, 6, 10)"
      ]
     },
     "execution_count": 14,
     "metadata": {},
     "output_type": "execute_result"
    }
   ],
   "source": [
    "testResult = []\n",
    "for i in tqdm(range(test_stocks_num)): # 遍历训练集所有股票的DataFrame\n",
    "    exec(\"testData = test_df%s.values\" % i)\n",
    "    sequence_length = window + 1\n",
    "    for index in range(len(testData) - sequence_length + 1):\n",
    "        testResult.append(testData[index: index + sequence_length])\n",
    "\n",
    "testResult = np.array(testResult)\n",
    "testResult.shape"
   ]
  },
  {
   "cell_type": "code",
   "execution_count": 15,
   "metadata": {},
   "outputs": [
    {
     "data": {
      "text/plain": [
       "1480414"
      ]
     },
     "execution_count": 15,
     "metadata": {},
     "output_type": "execute_result"
    }
   ],
   "source": [
    "# 保存分割后每条数据的日期\n",
    "test_date = testResult[:,-1,0]\n",
    "len(test_date)"
   ]
  },
  {
   "cell_type": "markdown",
   "metadata": {},
   "source": [
    "**分割出X**"
   ]
  },
  {
   "cell_type": "code",
   "execution_count": 16,
   "metadata": {},
   "outputs": [
    {
     "name": "stdout",
     "output_type": "stream",
     "text": [
      "训练集X：(3161618, 5, 7)\n",
      "测试集X：(1480414, 5, 7)\n"
     ]
    }
   ],
   "source": [
    "X_train = trainResult[:, :-1, 2:-1]\n",
    "X_test = testResult[:, :-1, 2:-1]\n",
    "X_train = X_train.astype('float64')\n",
    "X_test = X_test.astype('float64')\n",
    "print(\"训练集X：\" + str(X_train.shape))\n",
    "print(\"测试集X：\" + str(X_test.shape))"
   ]
  },
  {
   "cell_type": "markdown",
   "metadata": {},
   "source": [
    "**分割出Y**"
   ]
  },
  {
   "cell_type": "code",
   "execution_count": 17,
   "metadata": {},
   "outputs": [
    {
     "data": {
      "text/plain": [
       "(3161618,)"
      ]
     },
     "execution_count": 17,
     "metadata": {},
     "output_type": "execute_result"
    }
   ],
   "source": [
    "Y_train = trainResult[:, window, -1]\n",
    "Y_train.shape"
   ]
  },
  {
   "cell_type": "code",
   "execution_count": 18,
   "metadata": {},
   "outputs": [
    {
     "data": {
      "text/plain": [
       "(1480414,)"
      ]
     },
     "execution_count": 18,
     "metadata": {},
     "output_type": "execute_result"
    }
   ],
   "source": [
    "Y_test = testResult[:, window, -1]\n",
    "Y_test.shape"
   ]
  },
  {
   "cell_type": "code",
   "execution_count": 19,
   "metadata": {},
   "outputs": [],
   "source": [
    "Y_train = Y_train.astype('float64')\n",
    "Y_test = Y_test.astype('float64')\n",
    "# Y_train[0:5]\n",
    "# Y_test[0:5]"
   ]
  },
  {
   "cell_type": "markdown",
   "metadata": {},
   "source": [
    "## 3. 模型构建与训练"
   ]
  },
  {
   "cell_type": "code",
   "execution_count": 20,
   "metadata": {},
   "outputs": [],
   "source": [
    "from sklearn.metrics import mean_squared_error\n",
    "from sklearn import metrics\n",
    "from math import sqrt\n",
    "from keras.models import Sequential\n",
    "from keras.layers.core import Dense, Dropout, Activation\n",
    "from keras.layers.recurrent import LSTM\n",
    "from keras.layers.recurrent import GRU\n",
    "from keras.callbacks import EarlyStopping\n",
    "import tensorflow as tf\n",
    "import os\n",
    "\n",
    "os.environ[\"CUDA_VISIBLE_DEVICES\"] = \"0\"\n",
    "for gpu in tf.config.experimental.list_physical_devices('GPU'):\n",
    "    tf.config.experimental.set_memory_growth(gpu, True)\n",
    "\n",
    "#建立、训练模型过程\n",
    "d = 0.001\n",
    "model = Sequential()#建立层次模型\n",
    "model.add(LSTM(64, input_shape=(window, feanum), return_sequences=True))#建立LSTM层\n",
    "model.add(Dropout(d))#建立的遗忘层\n",
    "model.add(LSTM(32, input_shape=(window, feanum), return_sequences=False))#建立LSTM层\n",
    "model.add(Dropout(d))#建立的遗忘层\n",
    "# model.add(LSTM(16, input_shape=(window, feanum), return_sequences=False))#建立LSTM层\n",
    "# model.add(Dropout(d))#建立的遗忘层\n",
    "\n",
    "model.add(Dense(16,kernel_initializer='uniform',activation='relu'))   #建立全连接层     \n",
    "model.add(Dense(1, kernel_initializer = \"uniform\", activation = \"sigmoid\"))\n",
    "model.compile(loss='binary_crossentropy',optimizer='adam',metrics=['accuracy'])"
   ]
  },
  {
   "cell_type": "code",
   "execution_count": 21,
   "metadata": {},
   "outputs": [
    {
     "name": "stdout",
     "output_type": "stream",
     "text": [
      "Epoch 1/5\n",
      "5558/5558 [==============================] - 229s 36ms/step - loss: 0.6714 - accuracy: 0.5427 - val_loss: 0.6781 - val_accuracy: 0.5400\n",
      "Epoch 2/5\n",
      "5558/5558 [==============================] - 203s 37ms/step - loss: 0.6628 - accuracy: 0.5573 - val_loss: 0.6765 - val_accuracy: 0.5483\n",
      "Epoch 3/5\n",
      "5558/5558 [==============================] - 210s 38ms/step - loss: 0.6600 - accuracy: 0.5644 - val_loss: 0.6740 - val_accuracy: 0.5550\n",
      "Epoch 4/5\n",
      "5558/5558 [==============================] - 211s 38ms/step - loss: 0.6574 - accuracy: 0.5692 - val_loss: 0.6729 - val_accuracy: 0.5570\n",
      "Epoch 5/5\n",
      "5558/5558 [==============================] - 210s 38ms/step - loss: 0.6554 - accuracy: 0.5738 - val_loss: 0.6716 - val_accuracy: 0.5604\n",
      "\n",
      "测试集正确率: 0.5227855181050706\n",
      "Epoch 1/5\n",
      "5558/5558 [==============================] - 214s 38ms/step - loss: 0.6523 - accuracy: 0.5788 - val_loss: 0.6692 - val_accuracy: 0.5641\n",
      "Epoch 2/5\n",
      "5558/5558 [==============================] - 208s 37ms/step - loss: 0.6503 - accuracy: 0.5820 - val_loss: 0.6684 - val_accuracy: 0.5657\n",
      "Epoch 3/5\n",
      "5558/5558 [==============================] - 207s 37ms/step - loss: 0.6486 - accuracy: 0.5848 - val_loss: 0.6668 - val_accuracy: 0.5686\n",
      "Epoch 4/5\n",
      "5558/5558 [==============================] - 206s 37ms/step - loss: 0.6472 - accuracy: 0.5870 - val_loss: 0.6660 - val_accuracy: 0.5695\n",
      "Epoch 5/5\n",
      "5558/5558 [==============================] - 207s 37ms/step - loss: 0.6459 - accuracy: 0.5893 - val_loss: 0.6654 - val_accuracy: 0.5703\n",
      "\n",
      "测试集正确率: 0.520695562187334\n",
      "Epoch 1/5\n",
      "5558/5558 [==============================] - 190s 34ms/step - loss: 0.6447 - accuracy: 0.5911 - val_loss: 0.6645 - val_accuracy: 0.5718\n",
      "Epoch 2/5\n",
      "5558/5558 [==============================] - 177s 32ms/step - loss: 0.6437 - accuracy: 0.5928 - val_loss: 0.6647 - val_accuracy: 0.5715\n",
      "Epoch 3/5\n",
      "5558/5558 [==============================] - 176s 32ms/step - loss: 0.6428 - accuracy: 0.5941 - val_loss: 0.6641 - val_accuracy: 0.5733\n",
      "Epoch 4/5\n",
      "5558/5558 [==============================] - 172s 31ms/step - loss: 0.6420 - accuracy: 0.5955 - val_loss: 0.6635 - val_accuracy: 0.5735\n",
      "Epoch 5/5\n",
      "5558/5558 [==============================] - 174s 31ms/step - loss: 0.6413 - accuracy: 0.5963 - val_loss: 0.6631 - val_accuracy: 0.5747\n",
      "\n",
      "测试集正确率: 0.5193526945840825\n",
      "Epoch 1/5\n",
      "5558/5558 [==============================] - 188s 34ms/step - loss: 0.6406 - accuracy: 0.5974 - val_loss: 0.6627 - val_accuracy: 0.5760\n",
      "Epoch 2/5\n",
      "5558/5558 [==============================] - 186s 34ms/step - loss: 0.6400 - accuracy: 0.5981 - val_loss: 0.6627 - val_accuracy: 0.5756\n",
      "Epoch 3/5\n",
      "5558/5558 [==============================] - 176s 32ms/step - loss: 0.6395 - accuracy: 0.5991 - val_loss: 0.6630 - val_accuracy: 0.5751\n",
      "Epoch 4/5\n",
      "5558/5558 [==============================] - 171s 31ms/step - loss: 0.6390 - accuracy: 0.5998 - val_loss: 0.6627 - val_accuracy: 0.5752\n",
      "Epoch 5/5\n",
      "5558/5558 [==============================] - 172s 31ms/step - loss: 0.6386 - accuracy: 0.6005 - val_loss: 0.6626 - val_accuracy: 0.5761\n",
      "\n",
      "测试集正确率: 0.5180381974231533\n",
      "Epoch 1/5\n",
      "5558/5558 [==============================] - 173s 31ms/step - loss: 0.6381 - accuracy: 0.6013 - val_loss: 0.6619 - val_accuracy: 0.5778\n",
      "Epoch 2/5\n",
      "5558/5558 [==============================] - 182s 33ms/step - loss: 0.6377 - accuracy: 0.6017 - val_loss: 0.6615 - val_accuracy: 0.5771\n",
      "Epoch 3/5\n",
      "5558/5558 [==============================] - 197s 35ms/step - loss: 0.6374 - accuracy: 0.6023 - val_loss: 0.6621 - val_accuracy: 0.5773\n",
      "Epoch 4/5\n",
      "5558/5558 [==============================] - 199s 36ms/step - loss: 0.6370 - accuracy: 0.6029 - val_loss: 0.6617 - val_accuracy: 0.5778\n",
      "Epoch 5/5\n",
      "5558/5558 [==============================] - 197s 36ms/step - loss: 0.6367 - accuracy: 0.6031 - val_loss: 0.6622 - val_accuracy: 0.5772\n",
      "\n",
      "测试集正确率: 0.5189575348517375\n",
      "Epoch 1/5\n",
      "5558/5558 [==============================] - 199s 36ms/step - loss: 0.6363 - accuracy: 0.6036 - val_loss: 0.6619 - val_accuracy: 0.5788\n",
      "Epoch 2/5\n",
      "5558/5558 [==============================] - 195s 35ms/step - loss: 0.6360 - accuracy: 0.6041 - val_loss: 0.6616 - val_accuracy: 0.5774\n",
      "Epoch 3/5\n",
      "5558/5558 [==============================] - 198s 36ms/step - loss: 0.6357 - accuracy: 0.6043 - val_loss: 0.6619 - val_accuracy: 0.5778\n",
      "Epoch 4/5\n",
      "5558/5558 [==============================] - 200s 36ms/step - loss: 0.6354 - accuracy: 0.6048 - val_loss: 0.6611 - val_accuracy: 0.5779\n",
      "Epoch 5/5\n",
      "5558/5558 [==============================] - 205s 37ms/step - loss: 0.6352 - accuracy: 0.6051 - val_loss: 0.6622 - val_accuracy: 0.5781\n",
      "\n",
      "测试集正确率: 0.5187629946758137\n"
     ]
    }
   ],
   "source": [
    "for i in range(6):\n",
    "    history = model.fit(X_train, Y_train, epochs = 5, batch_size = 512, validation_split = 0.1) #训练模型epochs次\n",
    "    #在测试集上的预测\n",
    "    Y_test_predict=model.predict(X_test)[:,0]\n",
    "    Y_test=Y_test\n",
    "    print()\n",
    "    test_predict = Y_test_predict.copy()\n",
    "    test_predict[Y_test_predict > 0.5] = 1\n",
    "    test_predict[Y_test_predict <= 0.5] = 0\n",
    "    result = metrics.accuracy_score(Y_test, test_predict)\n",
    "    print('测试集正确率:',result)"
   ]
  },
  {
   "cell_type": "code",
   "execution_count": 22,
   "metadata": {},
   "outputs": [
    {
     "name": "stdout",
     "output_type": "stream",
     "text": [
      "Model: \"sequential\"\n",
      "_________________________________________________________________\n",
      "Layer (type)                 Output Shape              Param #   \n",
      "=================================================================\n",
      "lstm (LSTM)                  (None, 5, 64)             18432     \n",
      "_________________________________________________________________\n",
      "dropout (Dropout)            (None, 5, 64)             0         \n",
      "_________________________________________________________________\n",
      "lstm_1 (LSTM)                (None, 32)                12416     \n",
      "_________________________________________________________________\n",
      "dropout_1 (Dropout)          (None, 32)                0         \n",
      "_________________________________________________________________\n",
      "dense (Dense)                (None, 16)                528       \n",
      "_________________________________________________________________\n",
      "dense_1 (Dense)              (None, 1)                 17        \n",
      "=================================================================\n",
      "Total params: 31,393\n",
      "Trainable params: 31,393\n",
      "Non-trainable params: 0\n",
      "_________________________________________________________________\n"
     ]
    }
   ],
   "source": [
    "#总结模型\n",
    "model.summary()"
   ]
  },
  {
   "cell_type": "markdown",
   "metadata": {},
   "source": [
    "## 4. 模型训练结果\n",
    "* 训练集"
   ]
  },
  {
   "cell_type": "code",
   "execution_count": 18,
   "metadata": {},
   "outputs": [],
   "source": [
    "#在训练集上的拟合结果\n",
    "Y_train_predict = model.predict(X_train)[:,0]\n",
    "Y_train = Y_train"
   ]
  },
  {
   "cell_type": "code",
   "execution_count": 19,
   "metadata": {},
   "outputs": [
    {
     "data": {
      "text/plain": [
       "Text(0.5, 1.0, 'Train Data')"
      ]
     },
     "execution_count": 19,
     "metadata": {},
     "output_type": "execute_result"
    },
    {
     "data": {
      "image/png": "[encoded data removed]",
      "text/plain": [
       "<Figure size 864x432 with 1 Axes>"
      ]
     },
     "metadata": {
      "needs_background": "light"
     },
     "output_type": "display_data"
    }
   ],
   "source": [
    "import matplotlib.pyplot as plt\n",
    "\n",
    "draw=pd.concat([pd.DataFrame(Y_train),pd.DataFrame(Y_train_predict)],axis=1)\n",
    "draw.iloc[:300,0].plot(figsize=(12,6))\n",
    "draw.iloc[:300,1].plot(figsize=(12,6))\n",
    "plt.legend(('real', 'predict'),loc='upper right',fontsize='15')\n",
    "plt.title(\"Train Data\",fontsize='30') #添加标题\n",
    "#展示在训练集上的表现"
   ]
  },
  {
   "cell_type": "markdown",
   "metadata": {},
   "source": [
    "* 测试集"
   ]
  },
  {
   "cell_type": "code",
   "execution_count": 20,
   "metadata": {},
   "outputs": [],
   "source": [
    "#在测试集上的预测\n",
    "Y_test_predict=model.predict(X_test)[:,0]\n",
    "Y_test=Y_test"
   ]
  },
  {
   "cell_type": "code",
   "execution_count": 21,
   "metadata": {},
   "outputs": [
    {
     "data": {
      "text/plain": [
       "Text(0.5, 1.0, 'Test Data')"
      ]
     },
     "execution_count": 21,
     "metadata": {},
     "output_type": "execute_result"
    },
    {
     "data": {
      "image/png": "[encoded data removed]",
      "text/plain": [
       "<Figure size 864x432 with 1 Axes>"
      ]
     },
     "metadata": {
      "needs_background": "light"
     },
     "output_type": "display_data"
    }
   ],
   "source": [
    "draw=pd.concat([pd.DataFrame(Y_test),pd.DataFrame(Y_test_predict)],axis=1);\n",
    "draw.iloc[:100,0].plot(figsize=(12,6))\n",
    "draw.iloc[:100,1].plot(figsize=(12,6))\n",
    "plt.legend(('real', 'predict'),loc='upper right',fontsize='15')\n",
    "plt.title(\"Test Data\",fontsize='30') #添加标题\n",
    "# 展示在测试集上的表现"
   ]
  },
  {
   "cell_type": "code",
   "execution_count": 22,
   "metadata": {},
   "outputs": [
    {
     "data": {
      "text/plain": [
       "('测试集正确率:', 0.5240263872133065)"
      ]
     },
     "execution_count": 22,
     "metadata": {},
     "output_type": "execute_result"
    }
   ],
   "source": [
    "txt = np.zeros(len(Y_test))\n",
    "test_predict = Y_test_predict.copy()\n",
    "test_predict[Y_test_predict > 0.5] = 1\n",
    "test_predict[Y_test_predict <= 0.5] = 0\n",
    "\n",
    "train_predict = Y_train_predict.copy()\n",
    "train_predict[Y_train_predict > 0.5] = 1\n",
    "train_predict[Y_train_predict <= 0.5] = 0\n",
    "\n",
    "result = metrics.accuracy_score(Y_test, test_predict)\n",
    "'测试集正确率:',result"
   ]
  },
  {
   "cell_type": "markdown",
   "metadata": {},
   "source": [
    "* 训练过程Loss,Accuracy的变化"
   ]
  },
  {
   "cell_type": "code",
   "execution_count": 23,
   "metadata": {},
   "outputs": [
    {
     "data": {
      "text/plain": [
       "<matplotlib.legend.Legend at 0x7f98f4848b70>"
      ]
     },
     "execution_count": 23,
     "metadata": {},
     "output_type": "execute_result"
    },
    {
     "data": {
      "image/png": "[encoded data removed]",
      "text/plain": [
       "<Figure size 432x288 with 1 Axes>"
      ]
     },
     "metadata": {
      "needs_background": "light"
     },
     "output_type": "display_data"
    }
   ],
   "source": [
    "acc = history.history['accuracy']\n",
    "loss = history.history['loss']\n",
    "epochs = range(1, len(acc) + 1)\n",
    "\n",
    "plt.plot(epochs, loss, 'g', label='Training loss')\n",
    "plt.plot(epochs, acc, 'r', label='Training acc')  \n",
    "plt.title('Training loss and  acc')\n",
    "plt.xlabel('Epochs')\n",
    "plt.ylabel('Acc/Loss')\n",
    "plt.legend()"
   ]
  },
  {
   "cell_type": "markdown",
   "metadata": {},
   "source": [
    "* ROC曲线以及AUC值"
   ]
  },
  {
   "cell_type": "code",
   "execution_count": 24,
   "metadata": {},
   "outputs": [
    {
     "data": {
      "image/png": "[encoded data removed]",
      "text/plain": [
       "<Figure size 432x288 with 1 Axes>"
      ]
     },
     "metadata": {
      "needs_background": "light"
     },
     "output_type": "display_data"
    }
   ],
   "source": [
    "# 测试集\n",
    "Y_test\n",
    "Y_test_predict\n",
    "fpr, tpr, thresholds = metrics.roc_curve(Y_test, Y_test_predict, pos_label=1)\n",
    "auc = metrics.auc(fpr, tpr)\n",
    "\n",
    "plt.figure()\n",
    "lw = 2\n",
    "plt.plot(fpr, tpr, color='darkorange',\n",
    "         lw=lw, label='ROC curve (area = %0.2f)' % auc)\n",
    "plt.plot([0, 1], [0, 1], color='navy', lw=lw, linestyle='--')\n",
    "plt.xlim([0.0, 1.0])\n",
    "plt.ylim([0.0, 1.05])\n",
    "plt.xlabel('False Positive Rate')\n",
    "plt.ylabel('True Positive Rate')\n",
    "plt.title('ROC of test set')\n",
    "plt.legend(loc=\"lower right\")\n",
    "plt.show()"
   ]
  },
  {
   "cell_type": "code",
   "execution_count": 25,
   "metadata": {},
   "outputs": [
    {
     "data": {
      "image/png": "[encoded data removed]",
      "text/plain": [
       "<Figure size 432x288 with 1 Axes>"
      ]
     },
     "metadata": {
      "needs_background": "light"
     },
     "output_type": "display_data"
    }
   ],
   "source": [
    "# 训练集\n",
    "fpr, tpr, thresholds = metrics.roc_curve(Y_train, Y_train_predict, pos_label=1)\n",
    "auc = metrics.auc(fpr, tpr)\n",
    "\n",
    "plt.figure()\n",
    "lw = 2\n",
    "plt.plot(fpr, tpr, color='darkorange',\n",
    "         lw=lw, label='ROC curve (auc = %0.2f)' % auc)\n",
    "plt.plot([0, 1], [0, 1], color='navy', lw=lw, linestyle='--')\n",
    "plt.xlim([0.0, 1.0])\n",
    "plt.ylim([0.0, 1.05])\n",
    "plt.xlabel('False Positive Rate')\n",
    "plt.ylabel('True Positive Rate')\n",
    "plt.title('ROC of train set')\n",
    "plt.legend(loc=\"lower right\")\n",
    "plt.show()"
   ]
  },
  {
   "cell_type": "markdown",
   "metadata": {},
   "source": [
    "* f1-score"
   ]
  },
  {
   "cell_type": "code",
   "execution_count": 26,
   "metadata": {},
   "outputs": [
    {
     "name": "stdout",
     "output_type": "stream",
     "text": [
      "0.5550279337361269\n",
      "0.5431601550293111\n"
     ]
    }
   ],
   "source": [
    "print(metrics.f1_score(Y_train, train_predict))\n",
    "print(metrics.f1_score(Y_test, test_predict))"
   ]
  },
  {
   "cell_type": "markdown",
   "metadata": {},
   "source": [
    "* 混淆矩阵"
   ]
  },
  {
   "cell_type": "code",
   "execution_count": 27,
   "metadata": {},
   "outputs": [
    {
     "data": {
      "text/plain": [
       "array([[818702, 662114],\n",
       "       [780865, 899937]])"
      ]
     },
     "execution_count": 27,
     "metadata": {},
     "output_type": "execute_result"
    }
   ],
   "source": [
    "metrics.confusion_matrix(Y_train, train_predict)"
   ]
  },
  {
   "cell_type": "code",
   "execution_count": 28,
   "metadata": {},
   "outputs": [
    {
     "data": {
      "text/plain": [
       "array([[356886, 374140],\n",
       "       [330498, 418890]])"
      ]
     },
     "execution_count": 28,
     "metadata": {},
     "output_type": "execute_result"
    }
   ],
   "source": [
    "metrics.confusion_matrix(Y_test, test_predict)"
   ]
  },
  {
   "cell_type": "markdown",
   "metadata": {},
   "source": [
    "* 显示主要分类指标"
   ]
  },
  {
   "cell_type": "code",
   "execution_count": 33,
   "metadata": {},
   "outputs": [
    {
     "name": "stdout",
     "output_type": "stream",
     "text": [
      "              precision    recall  f1-score   support\n",
      "\n",
      "         0.0       0.51      0.55      0.53   1480816\n",
      "         1.0       0.58      0.54      0.56   1680802\n",
      "\n",
      "    accuracy                           0.54   3161618\n",
      "   macro avg       0.54      0.54      0.54   3161618\n",
      "weighted avg       0.55      0.54      0.54   3161618\n",
      "\n"
     ]
    }
   ],
   "source": [
    "print(metrics.classification_report(Y_train,train_predict))"
   ]
  },
  {
   "cell_type": "code",
   "execution_count": 32,
   "metadata": {},
   "outputs": [
    {
     "name": "stdout",
     "output_type": "stream",
     "text": [
      "              precision    recall  f1-score   support\n",
      "\n",
      "         0.0       0.52      0.49      0.50    731026\n",
      "         1.0       0.53      0.56      0.54    749388\n",
      "\n",
      "    accuracy                           0.52   1480414\n",
      "   macro avg       0.52      0.52      0.52   1480414\n",
      "weighted avg       0.52      0.52      0.52   1480414\n",
      "\n"
     ]
    }
   ],
   "source": [
    "print(metrics.classification_report(Y_test,test_predict))"
   ]
  },
  {
   "cell_type": "markdown",
   "metadata": {},
   "source": [
    "## 5. 保存模型"
   ]
  },
  {
   "cell_type": "code",
   "execution_count": 31,
   "metadata": {},
   "outputs": [],
   "source": [
    "model.save('./models/model_rbsScaler.h5')"
   ]
  },
  {
   "cell_type": "markdown",
   "metadata": {},
   "source": [
    "## 6. 保存预测结果"
   ]
  },
  {
   "cell_type": "code",
   "execution_count": 34,
   "metadata": {},
   "outputs": [
    {
     "data": {
      "text/plain": [
       "(1480414, 6, 10)"
      ]
     },
     "execution_count": 34,
     "metadata": {},
     "output_type": "execute_result"
    }
   ],
   "source": [
    "testResult.shape"
   ]
  },
  {
   "cell_type": "code",
   "execution_count": 35,
   "metadata": {},
   "outputs": [
    {
     "data": {
      "text/plain": [
       "array([['2020-01-09', '000001.SZ'],\n",
       "       ['2020-01-10', '000001.SZ'],\n",
       "       ['2020-01-13', '000001.SZ'],\n",
       "       ...,\n",
       "       ['2021-07-28', '688981.SH'],\n",
       "       ['2021-07-29', '688981.SH'],\n",
       "       ['2021-07-30', '688981.SH']], dtype=object)"
      ]
     },
     "execution_count": 35,
     "metadata": {},
     "output_type": "execute_result"
    }
   ],
   "source": [
    "testResult[:,-1,:2]"
   ]
  },
  {
   "cell_type": "code",
   "execution_count": 36,
   "metadata": {},
   "outputs": [
    {
     "data": {
      "text/plain": [
       "1480414"
      ]
     },
     "execution_count": 36,
     "metadata": {},
     "output_type": "execute_result"
    }
   ],
   "source": [
    "len(Y_test_predict)"
   ]
  },
  {
   "cell_type": "code",
   "execution_count": 37,
   "metadata": {},
   "outputs": [],
   "source": [
    "pred_df = pd.DataFrame(testResult[:, -1, :2], columns = ['dt', 'kdcode'])"
   ]
  },
  {
   "cell_type": "code",
   "execution_count": 38,
   "metadata": {},
   "outputs": [
    {
     "data": {
      "text/html": [
       "<div>\n",
       "<style scoped>\n",
       "    .dataframe tbody tr th:only-of-type {\n",
       "        vertical-align: middle;\n",
       "    }\n",
       "\n",
       "    .dataframe tbody tr th {\n",
       "        vertical-align: top;\n",
       "    }\n",
       "\n",
       "    .dataframe thead th {\n",
       "        text-align: right;\n",
       "    }\n",
       "</style>\n",
       "<table border=\"1\" class=\"dataframe\">\n",
       "  <thead>\n",
       "    <tr style=\"text-align: right;\">\n",
       "      <th></th>\n",
       "      <th>dt</th>\n",
       "      <th>kdcode</th>\n",
       "    </tr>\n",
       "  </thead>\n",
       "  <tbody>\n",
       "    <tr>\n",
       "      <th>0</th>\n",
       "      <td>2020-01-09</td>\n",
       "      <td>000001.SZ</td>\n",
       "    </tr>\n",
       "    <tr>\n",
       "      <th>1</th>\n",
       "      <td>2020-01-10</td>\n",
       "      <td>000001.SZ</td>\n",
       "    </tr>\n",
       "    <tr>\n",
       "      <th>2</th>\n",
       "      <td>2020-01-13</td>\n",
       "      <td>000001.SZ</td>\n",
       "    </tr>\n",
       "    <tr>\n",
       "      <th>3</th>\n",
       "      <td>2020-01-14</td>\n",
       "      <td>000001.SZ</td>\n",
       "    </tr>\n",
       "    <tr>\n",
       "      <th>4</th>\n",
       "      <td>2020-01-15</td>\n",
       "      <td>000001.SZ</td>\n",
       "    </tr>\n",
       "    <tr>\n",
       "      <th>...</th>\n",
       "      <td>...</td>\n",
       "      <td>...</td>\n",
       "    </tr>\n",
       "    <tr>\n",
       "      <th>1480409</th>\n",
       "      <td>2021-07-26</td>\n",
       "      <td>688981.SH</td>\n",
       "    </tr>\n",
       "    <tr>\n",
       "      <th>1480410</th>\n",
       "      <td>2021-07-27</td>\n",
       "      <td>688981.SH</td>\n",
       "    </tr>\n",
       "    <tr>\n",
       "      <th>1480411</th>\n",
       "      <td>2021-07-28</td>\n",
       "      <td>688981.SH</td>\n",
       "    </tr>\n",
       "    <tr>\n",
       "      <th>1480412</th>\n",
       "      <td>2021-07-29</td>\n",
       "      <td>688981.SH</td>\n",
       "    </tr>\n",
       "    <tr>\n",
       "      <th>1480413</th>\n",
       "      <td>2021-07-30</td>\n",
       "      <td>688981.SH</td>\n",
       "    </tr>\n",
       "  </tbody>\n",
       "</table>\n",
       "<p>1480414 rows × 2 columns</p>\n",
       "</div>"
      ],
      "text/plain": [
       "                 dt     kdcode\n",
       "0        2020-01-09  000001.SZ\n",
       "1        2020-01-10  000001.SZ\n",
       "2        2020-01-13  000001.SZ\n",
       "3        2020-01-14  000001.SZ\n",
       "4        2020-01-15  000001.SZ\n",
       "...             ...        ...\n",
       "1480409  2021-07-26  688981.SH\n",
       "1480410  2021-07-27  688981.SH\n",
       "1480411  2021-07-28  688981.SH\n",
       "1480412  2021-07-29  688981.SH\n",
       "1480413  2021-07-30  688981.SH\n",
       "\n",
       "[1480414 rows x 2 columns]"
      ]
     },
     "execution_count": 38,
     "metadata": {},
     "output_type": "execute_result"
    }
   ],
   "source": [
    "pred_df"
   ]
  },
  {
   "cell_type": "code",
   "execution_count": 39,
   "metadata": {},
   "outputs": [],
   "source": [
    "pred_df['score'] = Y_test_predict"
   ]
  },
  {
   "cell_type": "code",
   "execution_count": 40,
   "metadata": {},
   "outputs": [
    {
     "data": {
      "text/html": [
       "<div>\n",
       "<style scoped>\n",
       "    .dataframe tbody tr th:only-of-type {\n",
       "        vertical-align: middle;\n",
       "    }\n",
       "\n",
       "    .dataframe tbody tr th {\n",
       "        vertical-align: top;\n",
       "    }\n",
       "\n",
       "    .dataframe thead th {\n",
       "        text-align: right;\n",
       "    }\n",
       "</style>\n",
       "<table border=\"1\" class=\"dataframe\">\n",
       "  <thead>\n",
       "    <tr style=\"text-align: right;\">\n",
       "      <th></th>\n",
       "      <th>dt</th>\n",
       "      <th>kdcode</th>\n",
       "      <th>score</th>\n",
       "    </tr>\n",
       "  </thead>\n",
       "  <tbody>\n",
       "    <tr>\n",
       "      <th>0</th>\n",
       "      <td>2020-01-09</td>\n",
       "      <td>000001.SZ</td>\n",
       "      <td>0.483715</td>\n",
       "    </tr>\n",
       "    <tr>\n",
       "      <th>1</th>\n",
       "      <td>2020-01-10</td>\n",
       "      <td>000001.SZ</td>\n",
       "      <td>0.471338</td>\n",
       "    </tr>\n",
       "    <tr>\n",
       "      <th>2</th>\n",
       "      <td>2020-01-13</td>\n",
       "      <td>000001.SZ</td>\n",
       "      <td>0.486802</td>\n",
       "    </tr>\n",
       "    <tr>\n",
       "      <th>3</th>\n",
       "      <td>2020-01-14</td>\n",
       "      <td>000001.SZ</td>\n",
       "      <td>0.474339</td>\n",
       "    </tr>\n",
       "    <tr>\n",
       "      <th>4</th>\n",
       "      <td>2020-01-15</td>\n",
       "      <td>000001.SZ</td>\n",
       "      <td>0.502819</td>\n",
       "    </tr>\n",
       "    <tr>\n",
       "      <th>...</th>\n",
       "      <td>...</td>\n",
       "      <td>...</td>\n",
       "      <td>...</td>\n",
       "    </tr>\n",
       "    <tr>\n",
       "      <th>1480409</th>\n",
       "      <td>2021-07-26</td>\n",
       "      <td>688981.SH</td>\n",
       "      <td>0.507319</td>\n",
       "    </tr>\n",
       "    <tr>\n",
       "      <th>1480410</th>\n",
       "      <td>2021-07-27</td>\n",
       "      <td>688981.SH</td>\n",
       "      <td>0.456499</td>\n",
       "    </tr>\n",
       "    <tr>\n",
       "      <th>1480411</th>\n",
       "      <td>2021-07-28</td>\n",
       "      <td>688981.SH</td>\n",
       "      <td>0.475377</td>\n",
       "    </tr>\n",
       "    <tr>\n",
       "      <th>1480412</th>\n",
       "      <td>2021-07-29</td>\n",
       "      <td>688981.SH</td>\n",
       "      <td>0.511370</td>\n",
       "    </tr>\n",
       "    <tr>\n",
       "      <th>1480413</th>\n",
       "      <td>2021-07-30</td>\n",
       "      <td>688981.SH</td>\n",
       "      <td>0.470994</td>\n",
       "    </tr>\n",
       "  </tbody>\n",
       "</table>\n",
       "<p>1480414 rows × 3 columns</p>\n",
       "</div>"
      ],
      "text/plain": [
       "                 dt     kdcode     score\n",
       "0        2020-01-09  000001.SZ  0.483715\n",
       "1        2020-01-10  000001.SZ  0.471338\n",
       "2        2020-01-13  000001.SZ  0.486802\n",
       "3        2020-01-14  000001.SZ  0.474339\n",
       "4        2020-01-15  000001.SZ  0.502819\n",
       "...             ...        ...       ...\n",
       "1480409  2021-07-26  688981.SH  0.507319\n",
       "1480410  2021-07-27  688981.SH  0.456499\n",
       "1480411  2021-07-28  688981.SH  0.475377\n",
       "1480412  2021-07-29  688981.SH  0.511370\n",
       "1480413  2021-07-30  688981.SH  0.470994\n",
       "\n",
       "[1480414 rows x 3 columns]"
      ]
     },
     "execution_count": 40,
     "metadata": {},
     "output_type": "execute_result"
    }
   ],
   "source": [
    "pred_df"
   ]
  },
  {
   "cell_type": "code",
   "execution_count": 41,
   "metadata": {},
   "outputs": [
    {
     "data": {
      "text/html": [
       "<div>\n",
       "<style scoped>\n",
       "    .dataframe tbody tr th:only-of-type {\n",
       "        vertical-align: middle;\n",
       "    }\n",
       "\n",
       "    .dataframe tbody tr th {\n",
       "        vertical-align: top;\n",
       "    }\n",
       "\n",
       "    .dataframe thead th {\n",
       "        text-align: right;\n",
       "    }\n",
       "</style>\n",
       "<table border=\"1\" class=\"dataframe\">\n",
       "  <thead>\n",
       "    <tr style=\"text-align: right;\">\n",
       "      <th></th>\n",
       "      <th>kdcode</th>\n",
       "      <th>dt</th>\n",
       "      <th>score</th>\n",
       "    </tr>\n",
       "  </thead>\n",
       "  <tbody>\n",
       "    <tr>\n",
       "      <th>0</th>\n",
       "      <td>000001.SZ</td>\n",
       "      <td>2020-01-09</td>\n",
       "      <td>0.483715</td>\n",
       "    </tr>\n",
       "    <tr>\n",
       "      <th>1</th>\n",
       "      <td>000001.SZ</td>\n",
       "      <td>2020-01-10</td>\n",
       "      <td>0.471338</td>\n",
       "    </tr>\n",
       "    <tr>\n",
       "      <th>2</th>\n",
       "      <td>000001.SZ</td>\n",
       "      <td>2020-01-13</td>\n",
       "      <td>0.486802</td>\n",
       "    </tr>\n",
       "    <tr>\n",
       "      <th>3</th>\n",
       "      <td>000001.SZ</td>\n",
       "      <td>2020-01-14</td>\n",
       "      <td>0.474339</td>\n",
       "    </tr>\n",
       "    <tr>\n",
       "      <th>4</th>\n",
       "      <td>000001.SZ</td>\n",
       "      <td>2020-01-15</td>\n",
       "      <td>0.502819</td>\n",
       "    </tr>\n",
       "    <tr>\n",
       "      <th>...</th>\n",
       "      <td>...</td>\n",
       "      <td>...</td>\n",
       "      <td>...</td>\n",
       "    </tr>\n",
       "    <tr>\n",
       "      <th>1480409</th>\n",
       "      <td>688981.SH</td>\n",
       "      <td>2021-07-26</td>\n",
       "      <td>0.507319</td>\n",
       "    </tr>\n",
       "    <tr>\n",
       "      <th>1480410</th>\n",
       "      <td>688981.SH</td>\n",
       "      <td>2021-07-27</td>\n",
       "      <td>0.456499</td>\n",
       "    </tr>\n",
       "    <tr>\n",
       "      <th>1480411</th>\n",
       "      <td>688981.SH</td>\n",
       "      <td>2021-07-28</td>\n",
       "      <td>0.475377</td>\n",
       "    </tr>\n",
       "    <tr>\n",
       "      <th>1480412</th>\n",
       "      <td>688981.SH</td>\n",
       "      <td>2021-07-29</td>\n",
       "      <td>0.511370</td>\n",
       "    </tr>\n",
       "    <tr>\n",
       "      <th>1480413</th>\n",
       "      <td>688981.SH</td>\n",
       "      <td>2021-07-30</td>\n",
       "      <td>0.470994</td>\n",
       "    </tr>\n",
       "  </tbody>\n",
       "</table>\n",
       "<p>1480414 rows × 3 columns</p>\n",
       "</div>"
      ],
      "text/plain": [
       "            kdcode          dt     score\n",
       "0        000001.SZ  2020-01-09  0.483715\n",
       "1        000001.SZ  2020-01-10  0.471338\n",
       "2        000001.SZ  2020-01-13  0.486802\n",
       "3        000001.SZ  2020-01-14  0.474339\n",
       "4        000001.SZ  2020-01-15  0.502819\n",
       "...            ...         ...       ...\n",
       "1480409  688981.SH  2021-07-26  0.507319\n",
       "1480410  688981.SH  2021-07-27  0.456499\n",
       "1480411  688981.SH  2021-07-28  0.475377\n",
       "1480412  688981.SH  2021-07-29  0.511370\n",
       "1480413  688981.SH  2021-07-30  0.470994\n",
       "\n",
       "[1480414 rows x 3 columns]"
      ]
     },
     "execution_count": 41,
     "metadata": {},
     "output_type": "execute_result"
    }
   ],
   "source": [
    "pred_df = pred_df[['kdcode', 'dt', 'score']]\n",
    "pred_df"
   ]
  },
  {
   "cell_type": "code",
   "execution_count": 42,
   "metadata": {},
   "outputs": [
    {
     "data": {
      "text/plain": [
       "378"
      ]
     },
     "execution_count": 42,
     "metadata": {},
     "output_type": "execute_result"
    }
   ],
   "source": [
    "all_date = pred_df[\"dt\"].unique()\n",
    "all_date = all_date[:-8]\n",
    "len(all_date)"
   ]
  },
  {
   "cell_type": "code",
   "execution_count": 44,
   "metadata": {},
   "outputs": [
    {
     "name": "stderr",
     "output_type": "stream",
     "text": [
      "100%|██████████| 378/378 [00:28<00:00, 13.46it/s]\n"
     ]
    }
   ],
   "source": [
    "for date_i in tqdm(all_date):\n",
    "    tmp_df = pred_df[pred_df['dt'] == date_i]\n",
    "    save_path = '../result4tiho/model_rbsScaler/prediction/' + str(date_i) + '.csv'\n",
    "    tmp_df.set_index(tmp_df['kdcode'])\n",
    "    tmp_df.to_csv(save_path, index = False)"
   ]
  }
 ],
 "metadata": {
  "kernelspec": {
   "display_name": "env4tiho_py36",
   "language": "python",
   "name": "env4tiho_py36"
  },
  "language_info": {
   "codemirror_mode": {
    "name": "ipython",
    "version": 3
   },
   "file_extension": ".py",
   "mimetype": "text/x-python",
   "name": "python",
   "nbconvert_exporter": "python",
   "pygments_lexer": "ipython3",
   "version": "3.6.5"
  }
 },
 "nbformat": 4,
 "nbformat_minor": 4
}
