{
 "cells": [
  {
   "cell_type": "markdown",
   "metadata": {},
   "source": [
    "# 基于`LSTM模型`预测未来一个交易日`开盘价的涨跌`"
   ]
  },
  {
   "cell_type": "markdown",
   "metadata": {},
   "source": [
    "## 1. 数据预处理\n",
    "### 1.1 根据股票代码划分数据"
   ]
  },
  {
   "cell_type": "code",
   "execution_count": 1,
   "metadata": {},
   "outputs": [
    {
     "name": "stderr",
     "output_type": "stream",
     "text": [
      "/home/tianhao/env4tiho_py36/lib/python3.6/site-packages/pandas/compat/__init__.py:85: UserWarning: Could not import the lzma module. Your installed Python is incomplete. Attempting to use lzma compression will result in a RuntimeError.\n",
      "  warnings.warn(msg)\n",
      "Duplicate key in file PosixPath('/home/tianhao/env4tiho_py36/lib/python3.6/site-packages/matplotlib/mpl-data/matplotlibrc'), line 400 ('axes.unicode_minus: True  # use Unicode for the minus symbol rather than hyphen.  See')\n",
      "/home/tianhao/env4tiho_py36/lib/python3.6/site-packages/pandas/compat/__init__.py:85: UserWarning: Could not import the lzma module. Your installed Python is incomplete. Attempting to use lzma compression will result in a RuntimeError.\n",
      "  warnings.warn(msg)\n"
     ]
    }
   ],
   "source": [
    "import pandas as pd\n",
    "from tqdm import tqdm\n",
    "import numpy as np\n",
    "\n",
    "# 全局变量\n",
    "cols = [0,1,2,3,4,5,6,7,8,9,10,11,12,13,14,15,16,17,18,19,20] # 选取属性\n",
    "feanum=len(cols) - 3 # 特征数量\n",
    "window=5 # 时间窗设置"
   ]
  },
  {
   "cell_type": "markdown",
   "metadata": {},
   "source": [
    "* **训练集**"
   ]
  },
  {
   "cell_type": "code",
   "execution_count": 2,
   "metadata": {},
   "outputs": [
    {
     "data": {
      "text/plain": [
       "('训练集股票数量：', 3604)"
      ]
     },
     "execution_count": 2,
     "metadata": {},
     "output_type": "execute_result"
    }
   ],
   "source": [
    "train_df = pd.read_csv(\"../data/biClsData/trainData.csv\", usecols=cols)\n",
    "# train_df = pd.read_csv(\"../data/trainData.csv\")\n",
    "train_stocks_code = train_df[\"kdcode\"].unique()\n",
    "train_stocks_num = len(train_stocks_code)\n",
    "\n",
    "\"训练集股票数量：\",train_stocks_num"
   ]
  },
  {
   "cell_type": "code",
   "execution_count": 3,
   "metadata": {},
   "outputs": [
    {
     "data": {
      "text/html": [
       "<div>\n",
       "<style scoped>\n",
       "    .dataframe tbody tr th:only-of-type {\n",
       "        vertical-align: middle;\n",
       "    }\n",
       "\n",
       "    .dataframe tbody tr th {\n",
       "        vertical-align: top;\n",
       "    }\n",
       "\n",
       "    .dataframe thead th {\n",
       "        text-align: right;\n",
       "    }\n",
       "</style>\n",
       "<table border=\"1\" class=\"dataframe\">\n",
       "  <thead>\n",
       "    <tr style=\"text-align: right;\">\n",
       "      <th></th>\n",
       "      <th>dt</th>\n",
       "      <th>kdcode</th>\n",
       "      <th>volume</th>\n",
       "      <th>turnover</th>\n",
       "      <th>turn</th>\n",
       "      <th>vwap</th>\n",
       "      <th>vwap_mean3</th>\n",
       "      <th>vwap_mean5</th>\n",
       "      <th>vwap_mean10</th>\n",
       "      <th>vwap_mean20</th>\n",
       "      <th>...</th>\n",
       "      <th>chg_mean3</th>\n",
       "      <th>chg_mean5</th>\n",
       "      <th>chg_mean10</th>\n",
       "      <th>adj_open</th>\n",
       "      <th>open_mean3</th>\n",
       "      <th>open_mean5</th>\n",
       "      <th>open_mean10</th>\n",
       "      <th>high_low</th>\n",
       "      <th>close_open</th>\n",
       "      <th>label</th>\n",
       "    </tr>\n",
       "  </thead>\n",
       "  <tbody>\n",
       "    <tr>\n",
       "      <th>0</th>\n",
       "      <td>2016-01-04</td>\n",
       "      <td>000004.SZ</td>\n",
       "      <td>0.032267</td>\n",
       "      <td>0.129146</td>\n",
       "      <td>0.031824</td>\n",
       "      <td>0.488994</td>\n",
       "      <td>0.488731</td>\n",
       "      <td>0.488527</td>\n",
       "      <td>0.488106</td>\n",
       "      <td>0.487706</td>\n",
       "      <td>...</td>\n",
       "      <td>0.025756</td>\n",
       "      <td>0.025756</td>\n",
       "      <td>0.025756</td>\n",
       "      <td>0.936769</td>\n",
       "      <td>0.936935</td>\n",
       "      <td>0.936933</td>\n",
       "      <td>0.936923</td>\n",
       "      <td>0.558879</td>\n",
       "      <td>0.299335</td>\n",
       "      <td>0.0</td>\n",
       "    </tr>\n",
       "    <tr>\n",
       "      <th>1</th>\n",
       "      <td>2016-01-05</td>\n",
       "      <td>000004.SZ</td>\n",
       "      <td>0.054882</td>\n",
       "      <td>0.199040</td>\n",
       "      <td>0.054132</td>\n",
       "      <td>0.442429</td>\n",
       "      <td>0.465433</td>\n",
       "      <td>0.465220</td>\n",
       "      <td>0.464779</td>\n",
       "      <td>0.464362</td>\n",
       "      <td>...</td>\n",
       "      <td>0.028880</td>\n",
       "      <td>0.028880</td>\n",
       "      <td>0.028880</td>\n",
       "      <td>0.764645</td>\n",
       "      <td>0.850856</td>\n",
       "      <td>0.850852</td>\n",
       "      <td>0.850829</td>\n",
       "      <td>0.391955</td>\n",
       "      <td>0.653598</td>\n",
       "      <td>1.0</td>\n",
       "    </tr>\n",
       "    <tr>\n",
       "      <th>2</th>\n",
       "      <td>2016-01-06</td>\n",
       "      <td>000004.SZ</td>\n",
       "      <td>0.029884</td>\n",
       "      <td>0.109187</td>\n",
       "      <td>0.029474</td>\n",
       "      <td>0.445773</td>\n",
       "      <td>0.458782</td>\n",
       "      <td>0.458567</td>\n",
       "      <td>0.458121</td>\n",
       "      <td>0.457698</td>\n",
       "      <td>...</td>\n",
       "      <td>0.034311</td>\n",
       "      <td>0.034311</td>\n",
       "      <td>0.034311</td>\n",
       "      <td>0.787185</td>\n",
       "      <td>0.829678</td>\n",
       "      <td>0.829673</td>\n",
       "      <td>0.829647</td>\n",
       "      <td>0.211296</td>\n",
       "      <td>0.616759</td>\n",
       "      <td>0.0</td>\n",
       "    </tr>\n",
       "    <tr>\n",
       "      <th>3</th>\n",
       "      <td>2016-01-07</td>\n",
       "      <td>000004.SZ</td>\n",
       "      <td>0.006455</td>\n",
       "      <td>0.021836</td>\n",
       "      <td>0.006364</td>\n",
       "      <td>0.412143</td>\n",
       "      <td>0.433148</td>\n",
       "      <td>0.446824</td>\n",
       "      <td>0.446368</td>\n",
       "      <td>0.445936</td>\n",
       "      <td>...</td>\n",
       "      <td>0.034308</td>\n",
       "      <td>0.032170</td>\n",
       "      <td>0.032170</td>\n",
       "      <td>0.785136</td>\n",
       "      <td>0.779124</td>\n",
       "      <td>0.818571</td>\n",
       "      <td>0.818544</td>\n",
       "      <td>0.342300</td>\n",
       "      <td>0.382222</td>\n",
       "      <td>0.0</td>\n",
       "    </tr>\n",
       "    <tr>\n",
       "      <th>4</th>\n",
       "      <td>2016-01-08</td>\n",
       "      <td>000004.SZ</td>\n",
       "      <td>0.043489</td>\n",
       "      <td>0.141737</td>\n",
       "      <td>0.042894</td>\n",
       "      <td>0.396876</td>\n",
       "      <td>0.417954</td>\n",
       "      <td>0.436721</td>\n",
       "      <td>0.436257</td>\n",
       "      <td>0.435817</td>\n",
       "      <td>...</td>\n",
       "      <td>0.038314</td>\n",
       "      <td>0.034540</td>\n",
       "      <td>0.034540</td>\n",
       "      <td>0.716081</td>\n",
       "      <td>0.762933</td>\n",
       "      <td>0.798096</td>\n",
       "      <td>0.798065</td>\n",
       "      <td>0.503942</td>\n",
       "      <td>0.602638</td>\n",
       "      <td>0.0</td>\n",
       "    </tr>\n",
       "    <tr>\n",
       "      <th>...</th>\n",
       "      <td>...</td>\n",
       "      <td>...</td>\n",
       "      <td>...</td>\n",
       "      <td>...</td>\n",
       "      <td>...</td>\n",
       "      <td>...</td>\n",
       "      <td>...</td>\n",
       "      <td>...</td>\n",
       "      <td>...</td>\n",
       "      <td>...</td>\n",
       "      <td>...</td>\n",
       "      <td>...</td>\n",
       "      <td>...</td>\n",
       "      <td>...</td>\n",
       "      <td>...</td>\n",
       "      <td>...</td>\n",
       "      <td>...</td>\n",
       "      <td>...</td>\n",
       "      <td>...</td>\n",
       "      <td>...</td>\n",
       "      <td>...</td>\n",
       "    </tr>\n",
       "    <tr>\n",
       "      <th>2822607</th>\n",
       "      <td>2019-12-25</td>\n",
       "      <td>688389.SH</td>\n",
       "      <td>0.048334</td>\n",
       "      <td>0.074939</td>\n",
       "      <td>0.115043</td>\n",
       "      <td>0.185098</td>\n",
       "      <td>0.181560</td>\n",
       "      <td>0.183117</td>\n",
       "      <td>0.180226</td>\n",
       "      <td>0.177183</td>\n",
       "      <td>...</td>\n",
       "      <td>0.042325</td>\n",
       "      <td>0.042269</td>\n",
       "      <td>0.043423</td>\n",
       "      <td>0.053311</td>\n",
       "      <td>0.053109</td>\n",
       "      <td>0.053716</td>\n",
       "      <td>0.052761</td>\n",
       "      <td>0.009690</td>\n",
       "      <td>0.581775</td>\n",
       "      <td>1.0</td>\n",
       "    </tr>\n",
       "    <tr>\n",
       "      <th>2822608</th>\n",
       "      <td>2019-12-26</td>\n",
       "      <td>688389.SH</td>\n",
       "      <td>0.049122</td>\n",
       "      <td>0.076895</td>\n",
       "      <td>0.116914</td>\n",
       "      <td>0.186948</td>\n",
       "      <td>0.183438</td>\n",
       "      <td>0.183236</td>\n",
       "      <td>0.180975</td>\n",
       "      <td>0.177456</td>\n",
       "      <td>...</td>\n",
       "      <td>0.046297</td>\n",
       "      <td>0.043617</td>\n",
       "      <td>0.044086</td>\n",
       "      <td>0.053833</td>\n",
       "      <td>0.052958</td>\n",
       "      <td>0.053416</td>\n",
       "      <td>0.052865</td>\n",
       "      <td>0.008972</td>\n",
       "      <td>0.584694</td>\n",
       "      <td>1.0</td>\n",
       "    </tr>\n",
       "    <tr>\n",
       "      <th>2822609</th>\n",
       "      <td>2019-12-27</td>\n",
       "      <td>688389.SH</td>\n",
       "      <td>0.042794</td>\n",
       "      <td>0.066764</td>\n",
       "      <td>0.101831</td>\n",
       "      <td>0.186296</td>\n",
       "      <td>0.185652</td>\n",
       "      <td>0.183075</td>\n",
       "      <td>0.182022</td>\n",
       "      <td>0.177687</td>\n",
       "      <td>...</td>\n",
       "      <td>0.043701</td>\n",
       "      <td>0.042475</td>\n",
       "      <td>0.043696</td>\n",
       "      <td>0.054877</td>\n",
       "      <td>0.054002</td>\n",
       "      <td>0.053577</td>\n",
       "      <td>0.053161</td>\n",
       "      <td>0.011664</td>\n",
       "      <td>0.576456</td>\n",
       "      <td>0.0</td>\n",
       "    </tr>\n",
       "    <tr>\n",
       "      <th>2822610</th>\n",
       "      <td>2019-12-30</td>\n",
       "      <td>688389.SH</td>\n",
       "      <td>0.027754</td>\n",
       "      <td>0.042335</td>\n",
       "      <td>0.066054</td>\n",
       "      <td>0.181994</td>\n",
       "      <td>0.184616</td>\n",
       "      <td>0.183210</td>\n",
       "      <td>0.182501</td>\n",
       "      <td>0.177728</td>\n",
       "      <td>...</td>\n",
       "      <td>0.042571</td>\n",
       "      <td>0.043833</td>\n",
       "      <td>0.043392</td>\n",
       "      <td>0.052789</td>\n",
       "      <td>0.053828</td>\n",
       "      <td>0.053277</td>\n",
       "      <td>0.053318</td>\n",
       "      <td>0.009331</td>\n",
       "      <td>0.582087</td>\n",
       "      <td>1.0</td>\n",
       "    </tr>\n",
       "    <tr>\n",
       "      <th>2822611</th>\n",
       "      <td>2019-12-31</td>\n",
       "      <td>688389.SH</td>\n",
       "      <td>0.021743</td>\n",
       "      <td>0.033367</td>\n",
       "      <td>0.051790</td>\n",
       "      <td>0.183131</td>\n",
       "      <td>0.183343</td>\n",
       "      <td>0.183905</td>\n",
       "      <td>0.182850</td>\n",
       "      <td>0.178115</td>\n",
       "      <td>...</td>\n",
       "      <td>0.041356</td>\n",
       "      <td>0.043441</td>\n",
       "      <td>0.043271</td>\n",
       "      <td>0.053102</td>\n",
       "      <td>0.053585</td>\n",
       "      <td>0.053549</td>\n",
       "      <td>0.053436</td>\n",
       "      <td>0.004845</td>\n",
       "      <td>0.581983</td>\n",
       "      <td>1.0</td>\n",
       "    </tr>\n",
       "  </tbody>\n",
       "</table>\n",
       "<p>2822612 rows × 21 columns</p>\n",
       "</div>"
      ],
      "text/plain": [
       "                 dt     kdcode    volume  turnover      turn      vwap  \\\n",
       "0        2016-01-04  000004.SZ  0.032267  0.129146  0.031824  0.488994   \n",
       "1        2016-01-05  000004.SZ  0.054882  0.199040  0.054132  0.442429   \n",
       "2        2016-01-06  000004.SZ  0.029884  0.109187  0.029474  0.445773   \n",
       "3        2016-01-07  000004.SZ  0.006455  0.021836  0.006364  0.412143   \n",
       "4        2016-01-08  000004.SZ  0.043489  0.141737  0.042894  0.396876   \n",
       "...             ...        ...       ...       ...       ...       ...   \n",
       "2822607  2019-12-25  688389.SH  0.048334  0.074939  0.115043  0.185098   \n",
       "2822608  2019-12-26  688389.SH  0.049122  0.076895  0.116914  0.186948   \n",
       "2822609  2019-12-27  688389.SH  0.042794  0.066764  0.101831  0.186296   \n",
       "2822610  2019-12-30  688389.SH  0.027754  0.042335  0.066054  0.181994   \n",
       "2822611  2019-12-31  688389.SH  0.021743  0.033367  0.051790  0.183131   \n",
       "\n",
       "         vwap_mean3  vwap_mean5  vwap_mean10  vwap_mean20  ...  chg_mean3  \\\n",
       "0          0.488731    0.488527     0.488106     0.487706  ...   0.025756   \n",
       "1          0.465433    0.465220     0.464779     0.464362  ...   0.028880   \n",
       "2          0.458782    0.458567     0.458121     0.457698  ...   0.034311   \n",
       "3          0.433148    0.446824     0.446368     0.445936  ...   0.034308   \n",
       "4          0.417954    0.436721     0.436257     0.435817  ...   0.038314   \n",
       "...             ...         ...          ...          ...  ...        ...   \n",
       "2822607    0.181560    0.183117     0.180226     0.177183  ...   0.042325   \n",
       "2822608    0.183438    0.183236     0.180975     0.177456  ...   0.046297   \n",
       "2822609    0.185652    0.183075     0.182022     0.177687  ...   0.043701   \n",
       "2822610    0.184616    0.183210     0.182501     0.177728  ...   0.042571   \n",
       "2822611    0.183343    0.183905     0.182850     0.178115  ...   0.041356   \n",
       "\n",
       "         chg_mean5  chg_mean10  adj_open  open_mean3  open_mean5  open_mean10  \\\n",
       "0         0.025756    0.025756  0.936769    0.936935    0.936933     0.936923   \n",
       "1         0.028880    0.028880  0.764645    0.850856    0.850852     0.850829   \n",
       "2         0.034311    0.034311  0.787185    0.829678    0.829673     0.829647   \n",
       "3         0.032170    0.032170  0.785136    0.779124    0.818571     0.818544   \n",
       "4         0.034540    0.034540  0.716081    0.762933    0.798096     0.798065   \n",
       "...            ...         ...       ...         ...         ...          ...   \n",
       "2822607   0.042269    0.043423  0.053311    0.053109    0.053716     0.052761   \n",
       "2822608   0.043617    0.044086  0.053833    0.052958    0.053416     0.052865   \n",
       "2822609   0.042475    0.043696  0.054877    0.054002    0.053577     0.053161   \n",
       "2822610   0.043833    0.043392  0.052789    0.053828    0.053277     0.053318   \n",
       "2822611   0.043441    0.043271  0.053102    0.053585    0.053549     0.053436   \n",
       "\n",
       "         high_low  close_open  label  \n",
       "0        0.558879    0.299335    0.0  \n",
       "1        0.391955    0.653598    1.0  \n",
       "2        0.211296    0.616759    0.0  \n",
       "3        0.342300    0.382222    0.0  \n",
       "4        0.503942    0.602638    0.0  \n",
       "...           ...         ...    ...  \n",
       "2822607  0.009690    0.581775    1.0  \n",
       "2822608  0.008972    0.584694    1.0  \n",
       "2822609  0.011664    0.576456    0.0  \n",
       "2822610  0.009331    0.582087    1.0  \n",
       "2822611  0.004845    0.581983    1.0  \n",
       "\n",
       "[2822612 rows x 21 columns]"
      ]
     },
     "execution_count": 3,
     "metadata": {},
     "output_type": "execute_result"
    }
   ],
   "source": [
    "train_df"
   ]
  },
  {
   "cell_type": "code",
   "execution_count": 4,
   "metadata": {},
   "outputs": [
    {
     "name": "stderr",
     "output_type": "stream",
     "text": [
      "100%|██████████| 3604/3604 [02:35<00:00, 23.13it/s]\n"
     ]
    }
   ],
   "source": [
    "# 根据股票代码划分数据\n",
    "for i, stock_i in enumerate(tqdm(train_stocks_code)):\n",
    "    stock_i_data = train_df[train_df['kdcode'].isin([stock_i])]\n",
    "    exec(\"train_df%s = stock_i_data\" % i)"
   ]
  },
  {
   "cell_type": "markdown",
   "metadata": {},
   "source": [
    "* **测试集**"
   ]
  },
  {
   "cell_type": "code",
   "execution_count": 5,
   "metadata": {},
   "outputs": [
    {
     "data": {
      "text/plain": [
       "('测试集股票数量：', 3790)"
      ]
     },
     "execution_count": 5,
     "metadata": {},
     "output_type": "execute_result"
    }
   ],
   "source": [
    "test_df = pd.read_csv(\"../data/biClsData/testData.csv\", usecols=cols)\n",
    "# test_df = pd.read_csv(\"../data/testData.csv\")\n",
    "test_stocks_code = test_df[\"kdcode\"].unique()\n",
    "test_stocks_num = len(test_stocks_code)\n",
    "\n",
    "\"测试集股票数量：\",test_stocks_num"
   ]
  },
  {
   "cell_type": "code",
   "execution_count": 6,
   "metadata": {},
   "outputs": [
    {
     "name": "stderr",
     "output_type": "stream",
     "text": [
      "100%|██████████| 3790/3790 [01:16<00:00, 49.31it/s]\n"
     ]
    }
   ],
   "source": [
    "# 根据股票代码划分数据\n",
    "for i, stock_i in enumerate(tqdm(test_stocks_code)):\n",
    "    stock_i_data = test_df[test_df['kdcode'].isin([stock_i])]\n",
    "    exec(\"test_df%s = stock_i_data\" % i)"
   ]
  },
  {
   "cell_type": "markdown",
   "metadata": {},
   "source": [
    "### 1.2. 将原始数据改造为LSTM网络的输入\n",
    "分割出window个时间窗的数据为输入的`X`\n",
    "\n",
    "紧接着的那条数据为标签`Y`\n",
    "\n",
    "因此需要将每只股票的数据按照时间(日期)分割成`window + 1`长度的数据\n",
    "\n",
    "* **训练集**"
   ]
  },
  {
   "cell_type": "code",
   "execution_count": 7,
   "metadata": {},
   "outputs": [
    {
     "data": {
      "text/html": [
       "<div>\n",
       "<style scoped>\n",
       "    .dataframe tbody tr th:only-of-type {\n",
       "        vertical-align: middle;\n",
       "    }\n",
       "\n",
       "    .dataframe tbody tr th {\n",
       "        vertical-align: top;\n",
       "    }\n",
       "\n",
       "    .dataframe thead th {\n",
       "        text-align: right;\n",
       "    }\n",
       "</style>\n",
       "<table border=\"1\" class=\"dataframe\">\n",
       "  <thead>\n",
       "    <tr style=\"text-align: right;\">\n",
       "      <th></th>\n",
       "      <th>dt</th>\n",
       "      <th>kdcode</th>\n",
       "      <th>volume</th>\n",
       "      <th>turnover</th>\n",
       "      <th>turn</th>\n",
       "      <th>vwap</th>\n",
       "      <th>vwap_mean3</th>\n",
       "      <th>vwap_mean5</th>\n",
       "      <th>vwap_mean10</th>\n",
       "      <th>vwap_mean20</th>\n",
       "      <th>...</th>\n",
       "      <th>chg_mean3</th>\n",
       "      <th>chg_mean5</th>\n",
       "      <th>chg_mean10</th>\n",
       "      <th>adj_open</th>\n",
       "      <th>open_mean3</th>\n",
       "      <th>open_mean5</th>\n",
       "      <th>open_mean10</th>\n",
       "      <th>high_low</th>\n",
       "      <th>close_open</th>\n",
       "      <th>label</th>\n",
       "    </tr>\n",
       "  </thead>\n",
       "  <tbody>\n",
       "    <tr>\n",
       "      <th>0</th>\n",
       "      <td>2016-01-04</td>\n",
       "      <td>000004.SZ</td>\n",
       "      <td>0.032267</td>\n",
       "      <td>0.129146</td>\n",
       "      <td>0.031824</td>\n",
       "      <td>0.488994</td>\n",
       "      <td>0.488731</td>\n",
       "      <td>0.488527</td>\n",
       "      <td>0.488106</td>\n",
       "      <td>0.487706</td>\n",
       "      <td>...</td>\n",
       "      <td>0.025756</td>\n",
       "      <td>0.025756</td>\n",
       "      <td>0.025756</td>\n",
       "      <td>0.936769</td>\n",
       "      <td>0.936935</td>\n",
       "      <td>0.936933</td>\n",
       "      <td>0.936923</td>\n",
       "      <td>0.558879</td>\n",
       "      <td>0.299335</td>\n",
       "      <td>0.0</td>\n",
       "    </tr>\n",
       "    <tr>\n",
       "      <th>1</th>\n",
       "      <td>2016-01-05</td>\n",
       "      <td>000004.SZ</td>\n",
       "      <td>0.054882</td>\n",
       "      <td>0.199040</td>\n",
       "      <td>0.054132</td>\n",
       "      <td>0.442429</td>\n",
       "      <td>0.465433</td>\n",
       "      <td>0.465220</td>\n",
       "      <td>0.464779</td>\n",
       "      <td>0.464362</td>\n",
       "      <td>...</td>\n",
       "      <td>0.028880</td>\n",
       "      <td>0.028880</td>\n",
       "      <td>0.028880</td>\n",
       "      <td>0.764645</td>\n",
       "      <td>0.850856</td>\n",
       "      <td>0.850852</td>\n",
       "      <td>0.850829</td>\n",
       "      <td>0.391955</td>\n",
       "      <td>0.653598</td>\n",
       "      <td>1.0</td>\n",
       "    </tr>\n",
       "    <tr>\n",
       "      <th>2</th>\n",
       "      <td>2016-01-06</td>\n",
       "      <td>000004.SZ</td>\n",
       "      <td>0.029884</td>\n",
       "      <td>0.109187</td>\n",
       "      <td>0.029474</td>\n",
       "      <td>0.445773</td>\n",
       "      <td>0.458782</td>\n",
       "      <td>0.458567</td>\n",
       "      <td>0.458121</td>\n",
       "      <td>0.457698</td>\n",
       "      <td>...</td>\n",
       "      <td>0.034311</td>\n",
       "      <td>0.034311</td>\n",
       "      <td>0.034311</td>\n",
       "      <td>0.787185</td>\n",
       "      <td>0.829678</td>\n",
       "      <td>0.829673</td>\n",
       "      <td>0.829647</td>\n",
       "      <td>0.211296</td>\n",
       "      <td>0.616759</td>\n",
       "      <td>0.0</td>\n",
       "    </tr>\n",
       "    <tr>\n",
       "      <th>3</th>\n",
       "      <td>2016-01-07</td>\n",
       "      <td>000004.SZ</td>\n",
       "      <td>0.006455</td>\n",
       "      <td>0.021836</td>\n",
       "      <td>0.006364</td>\n",
       "      <td>0.412143</td>\n",
       "      <td>0.433148</td>\n",
       "      <td>0.446824</td>\n",
       "      <td>0.446368</td>\n",
       "      <td>0.445936</td>\n",
       "      <td>...</td>\n",
       "      <td>0.034308</td>\n",
       "      <td>0.032170</td>\n",
       "      <td>0.032170</td>\n",
       "      <td>0.785136</td>\n",
       "      <td>0.779124</td>\n",
       "      <td>0.818571</td>\n",
       "      <td>0.818544</td>\n",
       "      <td>0.342300</td>\n",
       "      <td>0.382222</td>\n",
       "      <td>0.0</td>\n",
       "    </tr>\n",
       "    <tr>\n",
       "      <th>4</th>\n",
       "      <td>2016-01-08</td>\n",
       "      <td>000004.SZ</td>\n",
       "      <td>0.043489</td>\n",
       "      <td>0.141737</td>\n",
       "      <td>0.042894</td>\n",
       "      <td>0.396876</td>\n",
       "      <td>0.417954</td>\n",
       "      <td>0.436721</td>\n",
       "      <td>0.436257</td>\n",
       "      <td>0.435817</td>\n",
       "      <td>...</td>\n",
       "      <td>0.038314</td>\n",
       "      <td>0.034540</td>\n",
       "      <td>0.034540</td>\n",
       "      <td>0.716081</td>\n",
       "      <td>0.762933</td>\n",
       "      <td>0.798096</td>\n",
       "      <td>0.798065</td>\n",
       "      <td>0.503942</td>\n",
       "      <td>0.602638</td>\n",
       "      <td>0.0</td>\n",
       "    </tr>\n",
       "    <tr>\n",
       "      <th>...</th>\n",
       "      <td>...</td>\n",
       "      <td>...</td>\n",
       "      <td>...</td>\n",
       "      <td>...</td>\n",
       "      <td>...</td>\n",
       "      <td>...</td>\n",
       "      <td>...</td>\n",
       "      <td>...</td>\n",
       "      <td>...</td>\n",
       "      <td>...</td>\n",
       "      <td>...</td>\n",
       "      <td>...</td>\n",
       "      <td>...</td>\n",
       "      <td>...</td>\n",
       "      <td>...</td>\n",
       "      <td>...</td>\n",
       "      <td>...</td>\n",
       "      <td>...</td>\n",
       "      <td>...</td>\n",
       "      <td>...</td>\n",
       "      <td>...</td>\n",
       "    </tr>\n",
       "    <tr>\n",
       "      <th>2822607</th>\n",
       "      <td>2019-12-25</td>\n",
       "      <td>688389.SH</td>\n",
       "      <td>0.048334</td>\n",
       "      <td>0.074939</td>\n",
       "      <td>0.115043</td>\n",
       "      <td>0.185098</td>\n",
       "      <td>0.181560</td>\n",
       "      <td>0.183117</td>\n",
       "      <td>0.180226</td>\n",
       "      <td>0.177183</td>\n",
       "      <td>...</td>\n",
       "      <td>0.042325</td>\n",
       "      <td>0.042269</td>\n",
       "      <td>0.043423</td>\n",
       "      <td>0.053311</td>\n",
       "      <td>0.053109</td>\n",
       "      <td>0.053716</td>\n",
       "      <td>0.052761</td>\n",
       "      <td>0.009690</td>\n",
       "      <td>0.581775</td>\n",
       "      <td>1.0</td>\n",
       "    </tr>\n",
       "    <tr>\n",
       "      <th>2822608</th>\n",
       "      <td>2019-12-26</td>\n",
       "      <td>688389.SH</td>\n",
       "      <td>0.049122</td>\n",
       "      <td>0.076895</td>\n",
       "      <td>0.116914</td>\n",
       "      <td>0.186948</td>\n",
       "      <td>0.183438</td>\n",
       "      <td>0.183236</td>\n",
       "      <td>0.180975</td>\n",
       "      <td>0.177456</td>\n",
       "      <td>...</td>\n",
       "      <td>0.046297</td>\n",
       "      <td>0.043617</td>\n",
       "      <td>0.044086</td>\n",
       "      <td>0.053833</td>\n",
       "      <td>0.052958</td>\n",
       "      <td>0.053416</td>\n",
       "      <td>0.052865</td>\n",
       "      <td>0.008972</td>\n",
       "      <td>0.584694</td>\n",
       "      <td>1.0</td>\n",
       "    </tr>\n",
       "    <tr>\n",
       "      <th>2822609</th>\n",
       "      <td>2019-12-27</td>\n",
       "      <td>688389.SH</td>\n",
       "      <td>0.042794</td>\n",
       "      <td>0.066764</td>\n",
       "      <td>0.101831</td>\n",
       "      <td>0.186296</td>\n",
       "      <td>0.185652</td>\n",
       "      <td>0.183075</td>\n",
       "      <td>0.182022</td>\n",
       "      <td>0.177687</td>\n",
       "      <td>...</td>\n",
       "      <td>0.043701</td>\n",
       "      <td>0.042475</td>\n",
       "      <td>0.043696</td>\n",
       "      <td>0.054877</td>\n",
       "      <td>0.054002</td>\n",
       "      <td>0.053577</td>\n",
       "      <td>0.053161</td>\n",
       "      <td>0.011664</td>\n",
       "      <td>0.576456</td>\n",
       "      <td>0.0</td>\n",
       "    </tr>\n",
       "    <tr>\n",
       "      <th>2822610</th>\n",
       "      <td>2019-12-30</td>\n",
       "      <td>688389.SH</td>\n",
       "      <td>0.027754</td>\n",
       "      <td>0.042335</td>\n",
       "      <td>0.066054</td>\n",
       "      <td>0.181994</td>\n",
       "      <td>0.184616</td>\n",
       "      <td>0.183210</td>\n",
       "      <td>0.182501</td>\n",
       "      <td>0.177728</td>\n",
       "      <td>...</td>\n",
       "      <td>0.042571</td>\n",
       "      <td>0.043833</td>\n",
       "      <td>0.043392</td>\n",
       "      <td>0.052789</td>\n",
       "      <td>0.053828</td>\n",
       "      <td>0.053277</td>\n",
       "      <td>0.053318</td>\n",
       "      <td>0.009331</td>\n",
       "      <td>0.582087</td>\n",
       "      <td>1.0</td>\n",
       "    </tr>\n",
       "    <tr>\n",
       "      <th>2822611</th>\n",
       "      <td>2019-12-31</td>\n",
       "      <td>688389.SH</td>\n",
       "      <td>0.021743</td>\n",
       "      <td>0.033367</td>\n",
       "      <td>0.051790</td>\n",
       "      <td>0.183131</td>\n",
       "      <td>0.183343</td>\n",
       "      <td>0.183905</td>\n",
       "      <td>0.182850</td>\n",
       "      <td>0.178115</td>\n",
       "      <td>...</td>\n",
       "      <td>0.041356</td>\n",
       "      <td>0.043441</td>\n",
       "      <td>0.043271</td>\n",
       "      <td>0.053102</td>\n",
       "      <td>0.053585</td>\n",
       "      <td>0.053549</td>\n",
       "      <td>0.053436</td>\n",
       "      <td>0.004845</td>\n",
       "      <td>0.581983</td>\n",
       "      <td>1.0</td>\n",
       "    </tr>\n",
       "  </tbody>\n",
       "</table>\n",
       "<p>2822612 rows × 21 columns</p>\n",
       "</div>"
      ],
      "text/plain": [
       "                 dt     kdcode    volume  turnover      turn      vwap  \\\n",
       "0        2016-01-04  000004.SZ  0.032267  0.129146  0.031824  0.488994   \n",
       "1        2016-01-05  000004.SZ  0.054882  0.199040  0.054132  0.442429   \n",
       "2        2016-01-06  000004.SZ  0.029884  0.109187  0.029474  0.445773   \n",
       "3        2016-01-07  000004.SZ  0.006455  0.021836  0.006364  0.412143   \n",
       "4        2016-01-08  000004.SZ  0.043489  0.141737  0.042894  0.396876   \n",
       "...             ...        ...       ...       ...       ...       ...   \n",
       "2822607  2019-12-25  688389.SH  0.048334  0.074939  0.115043  0.185098   \n",
       "2822608  2019-12-26  688389.SH  0.049122  0.076895  0.116914  0.186948   \n",
       "2822609  2019-12-27  688389.SH  0.042794  0.066764  0.101831  0.186296   \n",
       "2822610  2019-12-30  688389.SH  0.027754  0.042335  0.066054  0.181994   \n",
       "2822611  2019-12-31  688389.SH  0.021743  0.033367  0.051790  0.183131   \n",
       "\n",
       "         vwap_mean3  vwap_mean5  vwap_mean10  vwap_mean20  ...  chg_mean3  \\\n",
       "0          0.488731    0.488527     0.488106     0.487706  ...   0.025756   \n",
       "1          0.465433    0.465220     0.464779     0.464362  ...   0.028880   \n",
       "2          0.458782    0.458567     0.458121     0.457698  ...   0.034311   \n",
       "3          0.433148    0.446824     0.446368     0.445936  ...   0.034308   \n",
       "4          0.417954    0.436721     0.436257     0.435817  ...   0.038314   \n",
       "...             ...         ...          ...          ...  ...        ...   \n",
       "2822607    0.181560    0.183117     0.180226     0.177183  ...   0.042325   \n",
       "2822608    0.183438    0.183236     0.180975     0.177456  ...   0.046297   \n",
       "2822609    0.185652    0.183075     0.182022     0.177687  ...   0.043701   \n",
       "2822610    0.184616    0.183210     0.182501     0.177728  ...   0.042571   \n",
       "2822611    0.183343    0.183905     0.182850     0.178115  ...   0.041356   \n",
       "\n",
       "         chg_mean5  chg_mean10  adj_open  open_mean3  open_mean5  open_mean10  \\\n",
       "0         0.025756    0.025756  0.936769    0.936935    0.936933     0.936923   \n",
       "1         0.028880    0.028880  0.764645    0.850856    0.850852     0.850829   \n",
       "2         0.034311    0.034311  0.787185    0.829678    0.829673     0.829647   \n",
       "3         0.032170    0.032170  0.785136    0.779124    0.818571     0.818544   \n",
       "4         0.034540    0.034540  0.716081    0.762933    0.798096     0.798065   \n",
       "...            ...         ...       ...         ...         ...          ...   \n",
       "2822607   0.042269    0.043423  0.053311    0.053109    0.053716     0.052761   \n",
       "2822608   0.043617    0.044086  0.053833    0.052958    0.053416     0.052865   \n",
       "2822609   0.042475    0.043696  0.054877    0.054002    0.053577     0.053161   \n",
       "2822610   0.043833    0.043392  0.052789    0.053828    0.053277     0.053318   \n",
       "2822611   0.043441    0.043271  0.053102    0.053585    0.053549     0.053436   \n",
       "\n",
       "         high_low  close_open  label  \n",
       "0        0.558879    0.299335    0.0  \n",
       "1        0.391955    0.653598    1.0  \n",
       "2        0.211296    0.616759    0.0  \n",
       "3        0.342300    0.382222    0.0  \n",
       "4        0.503942    0.602638    0.0  \n",
       "...           ...         ...    ...  \n",
       "2822607  0.009690    0.581775    1.0  \n",
       "2822608  0.008972    0.584694    1.0  \n",
       "2822609  0.011664    0.576456    0.0  \n",
       "2822610  0.009331    0.582087    1.0  \n",
       "2822611  0.004845    0.581983    1.0  \n",
       "\n",
       "[2822612 rows x 21 columns]"
      ]
     },
     "execution_count": 7,
     "metadata": {},
     "output_type": "execute_result"
    }
   ],
   "source": [
    "train_df"
   ]
  },
  {
   "cell_type": "code",
   "execution_count": 8,
   "metadata": {},
   "outputs": [
    {
     "name": "stderr",
     "output_type": "stream",
     "text": [
      "100%|██████████| 3604/3604 [00:04<00:00, 841.22it/s] \n"
     ]
    },
    {
     "data": {
      "text/plain": [
       "(2804607, 6, 21)"
      ]
     },
     "execution_count": 8,
     "metadata": {},
     "output_type": "execute_result"
    }
   ],
   "source": [
    "# 分割数据\n",
    "trainResult = []\n",
    "for i in tqdm(range(train_stocks_num)): # 遍历训练集所有股票的DataFrame\n",
    "    exec(\"trainData = train_df%s.values\" % i)\n",
    "    sequence_length = window + 1\n",
    "    for index in range(len(trainData) - sequence_length + 1):\n",
    "        trainResult.append(trainData[index: index + sequence_length])\n",
    "\n",
    "trainResult = np.array(trainResult)\n",
    "trainResult.shape"
   ]
  },
  {
   "cell_type": "code",
   "execution_count": 9,
   "metadata": {},
   "outputs": [
    {
     "data": {
      "text/plain": [
       "2804607"
      ]
     },
     "execution_count": 9,
     "metadata": {},
     "output_type": "execute_result"
    }
   ],
   "source": [
    "# 保存分割后每条数据的日期\n",
    "train_date = trainResult[:,-1,0]\n",
    "len(train_date)"
   ]
  },
  {
   "cell_type": "markdown",
   "metadata": {},
   "source": [
    "* **测试集**"
   ]
  },
  {
   "cell_type": "code",
   "execution_count": 10,
   "metadata": {},
   "outputs": [
    {
     "name": "stderr",
     "output_type": "stream",
     "text": [
      "100%|██████████| 3790/3790 [00:01<00:00, 2091.78it/s]\n"
     ]
    },
    {
     "data": {
      "text/plain": [
       "(1280967, 6, 21)"
      ]
     },
     "execution_count": 10,
     "metadata": {},
     "output_type": "execute_result"
    }
   ],
   "source": [
    "testResult = []\n",
    "for i in tqdm(range(test_stocks_num)): # 遍历训练集所有股票的DataFrame\n",
    "    exec(\"testData = test_df%s.values\" % i)\n",
    "    sequence_length = window + 1\n",
    "    for index in range(len(testData) - sequence_length + 1):\n",
    "        testResult.append(testData[index: index + sequence_length])\n",
    "\n",
    "testResult = np.array(testResult)\n",
    "testResult.shape"
   ]
  },
  {
   "cell_type": "code",
   "execution_count": 11,
   "metadata": {},
   "outputs": [
    {
     "data": {
      "text/plain": [
       "1280967"
      ]
     },
     "execution_count": 11,
     "metadata": {},
     "output_type": "execute_result"
    }
   ],
   "source": [
    "# 保存分割后每条数据的日期\n",
    "test_date = testResult[:,-1,0]\n",
    "len(test_date)"
   ]
  },
  {
   "cell_type": "markdown",
   "metadata": {},
   "source": [
    "**分割出X**"
   ]
  },
  {
   "cell_type": "code",
   "execution_count": 12,
   "metadata": {},
   "outputs": [
    {
     "name": "stdout",
     "output_type": "stream",
     "text": [
      "训练集X：(2804607, 5, 18)\n",
      "测试集X：(1280967, 5, 18)\n"
     ]
    }
   ],
   "source": [
    "X_train = trainResult[:, :-1, 2:-1]\n",
    "X_test = testResult[:, :-1, 2:-1]\n",
    "X_train = X_train.astype('float64')\n",
    "X_test = X_test.astype('float64')\n",
    "print(\"训练集X：\" + str(X_train.shape))\n",
    "print(\"测试集X：\" + str(X_test.shape))"
   ]
  },
  {
   "cell_type": "markdown",
   "metadata": {},
   "source": [
    "**分割出Y**"
   ]
  },
  {
   "cell_type": "code",
   "execution_count": 13,
   "metadata": {},
   "outputs": [
    {
     "data": {
      "text/plain": [
       "(2804607,)"
      ]
     },
     "execution_count": 13,
     "metadata": {},
     "output_type": "execute_result"
    }
   ],
   "source": [
    "Y_train = trainResult[:, window, -1]\n",
    "Y_train.shape"
   ]
  },
  {
   "cell_type": "code",
   "execution_count": 14,
   "metadata": {},
   "outputs": [
    {
     "data": {
      "text/plain": [
       "(1280967,)"
      ]
     },
     "execution_count": 14,
     "metadata": {},
     "output_type": "execute_result"
    }
   ],
   "source": [
    "Y_test = testResult[:, window, -1]\n",
    "Y_test.shape"
   ]
  },
  {
   "cell_type": "code",
   "execution_count": 15,
   "metadata": {},
   "outputs": [],
   "source": [
    "Y_train = Y_train.astype('float64')\n",
    "Y_test = Y_test.astype('float64')\n",
    "# Y_train[0:5]\n",
    "# Y_test[0:5]"
   ]
  },
  {
   "cell_type": "markdown",
   "metadata": {},
   "source": [
    "## 3. 模型构建与训练"
   ]
  },
  {
   "cell_type": "code",
   "execution_count": 16,
   "metadata": {},
   "outputs": [],
   "source": [
    "from sklearn.metrics import mean_squared_error\n",
    "from sklearn import metrics\n",
    "from math import sqrt\n",
    "from keras.models import Sequential\n",
    "from keras.layers.core import Dense, Dropout, Activation\n",
    "from keras.layers.recurrent import LSTM\n",
    "from keras.layers.recurrent import GRU\n",
    "from keras.callbacks import EarlyStopping\n",
    "import tensorflow as tf\n",
    "import os\n",
    "\n",
    "os.environ[\"CUDA_VISIBLE_DEVICES\"] = \"0\"\n",
    "for gpu in tf.config.experimental.list_physical_devices('GPU'):\n",
    "    tf.config.experimental.set_memory_growth(gpu, True)\n",
    "\n",
    "#建立、训练模型过程\n",
    "d = 0.001\n",
    "model = Sequential()#建立层次模型\n",
    "model.add(LSTM(64, input_shape=(window, feanum), return_sequences=True))#建立LSTM层\n",
    "model.add(Dropout(d))#建立的遗忘层\n",
    "model.add(LSTM(32, input_shape=(window, feanum), return_sequences=False))#建立LSTM层\n",
    "model.add(Dropout(d))#建立的遗忘层\n",
    "\n",
    "model.add(Dense(16,kernel_initializer='uniform',activation='relu'))   #建立全连接层     \n",
    "model.add(Dense(1, kernel_initializer = \"uniform\", activation = \"sigmoid\"))\n",
    "model.compile(loss='binary_crossentropy',optimizer='adam',metrics=['accuracy'])"
   ]
  },
  {
   "cell_type": "code",
   "execution_count": 17,
   "metadata": {},
   "outputs": [
    {
     "name": "stdout",
     "output_type": "stream",
     "text": [
      "Epoch 1/5\n",
      "4930/4930 [==============================] - 251s 45ms/step - loss: 0.6920 - accuracy: 0.5189 - val_loss: 0.6914 - val_accuracy: 0.5242\n",
      "Epoch 2/5\n",
      "4930/4930 [==============================] - 237s 48ms/step - loss: 0.6910 - accuracy: 0.5257 - val_loss: 0.6881 - val_accuracy: 0.5315\n",
      "Epoch 3/5\n",
      "4930/4930 [==============================] - 309s 63ms/step - loss: 0.6884 - accuracy: 0.5320 - val_loss: 0.6875 - val_accuracy: 0.5343\n",
      "Epoch 4/5\n",
      "4930/4930 [==============================] - 270s 55ms/step - loss: 0.6872 - accuracy: 0.5345 - val_loss: 0.6867 - val_accuracy: 0.5344\n",
      "Epoch 5/5\n",
      "4930/4930 [==============================] - 216s 44ms/step - loss: 0.6858 - accuracy: 0.5383 - val_loss: 0.6862 - val_accuracy: 0.5375\n"
     ]
    }
   ],
   "source": [
    "history = model.fit(X_train, Y_train, epochs = 5, batch_size = 512, validation_split = 0.1) #训练模型epochs次"
   ]
  },
  {
   "cell_type": "code",
   "execution_count": 18,
   "metadata": {},
   "outputs": [
    {
     "name": "stdout",
     "output_type": "stream",
     "text": [
      "Model: \"sequential\"\n",
      "_________________________________________________________________\n",
      "Layer (type)                 Output Shape              Param #   \n",
      "=================================================================\n",
      "lstm (LSTM)                  (None, 5, 64)             21248     \n",
      "_________________________________________________________________\n",
      "dropout (Dropout)            (None, 5, 64)             0         \n",
      "_________________________________________________________________\n",
      "lstm_1 (LSTM)                (None, 32)                12416     \n",
      "_________________________________________________________________\n",
      "dropout_1 (Dropout)          (None, 32)                0         \n",
      "_________________________________________________________________\n",
      "dense (Dense)                (None, 16)                528       \n",
      "_________________________________________________________________\n",
      "dense_1 (Dense)              (None, 1)                 17        \n",
      "=================================================================\n",
      "Total params: 34,209\n",
      "Trainable params: 34,209\n",
      "Non-trainable params: 0\n",
      "_________________________________________________________________\n"
     ]
    }
   ],
   "source": [
    "#总结模型\n",
    "model.summary()"
   ]
  },
  {
   "cell_type": "markdown",
   "metadata": {},
   "source": [
    "## 4. 模型训练结果\n",
    "* 训练集"
   ]
  },
  {
   "cell_type": "code",
   "execution_count": 19,
   "metadata": {},
   "outputs": [],
   "source": [
    "#在训练集上的拟合结果\n",
    "Y_train_predict = model.predict(X_train)[:,0]\n",
    "Y_train = Y_train"
   ]
  },
  {
   "cell_type": "code",
   "execution_count": 20,
   "metadata": {},
   "outputs": [
    {
     "data": {
      "text/plain": [
       "Text(0.5, 1.0, 'Train Data')"
      ]
     },
     "execution_count": 20,
     "metadata": {},
     "output_type": "execute_result"
    },
    {
     "data": {
      "image/png": "[encoded data removed]",
      "text/plain": [
       "<Figure size 864x432 with 1 Axes>"
      ]
     },
     "metadata": {
      "needs_background": "light"
     },
     "output_type": "display_data"
    }
   ],
   "source": [
    "import matplotlib.pyplot as plt\n",
    "\n",
    "draw=pd.concat([pd.DataFrame(Y_train),pd.DataFrame(Y_train_predict)],axis=1)\n",
    "draw.iloc[:300,0].plot(figsize=(12,6))\n",
    "draw.iloc[:300,1].plot(figsize=(12,6))\n",
    "plt.legend(('real', 'predict'),loc='upper right',fontsize='15')\n",
    "plt.title(\"Train Data\",fontsize='30') #添加标题\n",
    "#展示在训练集上的表现"
   ]
  },
  {
   "cell_type": "markdown",
   "metadata": {},
   "source": [
    "* 测试集"
   ]
  },
  {
   "cell_type": "code",
   "execution_count": 21,
   "metadata": {},
   "outputs": [],
   "source": [
    "#在测试集上的预测\n",
    "Y_test_predict=model.predict(X_test)[:,0]\n",
    "Y_test=Y_test"
   ]
  },
  {
   "cell_type": "code",
   "execution_count": 22,
   "metadata": {},
   "outputs": [
    {
     "data": {
      "text/plain": [
       "Text(0.5, 1.0, 'Test Data')"
      ]
     },
     "execution_count": 22,
     "metadata": {},
     "output_type": "execute_result"
    },
    {
     "data": {
      "image/png": "[encoded data removed]",
      "text/plain": [
       "<Figure size 864x432 with 1 Axes>"
      ]
     },
     "metadata": {
      "needs_background": "light"
     },
     "output_type": "display_data"
    }
   ],
   "source": [
    "draw=pd.concat([pd.DataFrame(Y_test),pd.DataFrame(Y_test_predict)],axis=1);\n",
    "draw.iloc[:100,0].plot(figsize=(12,6))\n",
    "draw.iloc[:100,1].plot(figsize=(12,6))\n",
    "plt.legend(('real', 'predict'),loc='upper right',fontsize='15')\n",
    "plt.title(\"Test Data\",fontsize='30') #添加标题\n",
    "# 展示在测试集上的表现"
   ]
  },
  {
   "cell_type": "code",
   "execution_count": 23,
   "metadata": {},
   "outputs": [
    {
     "data": {
      "text/plain": [
       "('测试集正确率:', 0.5207761011798118)"
      ]
     },
     "execution_count": 23,
     "metadata": {},
     "output_type": "execute_result"
    }
   ],
   "source": [
    "txt = np.zeros(len(Y_test))\n",
    "test_predict = Y_test_predict.copy()\n",
    "test_predict[Y_test_predict > 0.5] = 1\n",
    "test_predict[Y_test_predict <= 0.5] = 0\n",
    "\n",
    "train_predict = Y_train_predict.copy()\n",
    "train_predict[Y_train_predict > 0.5] = 1\n",
    "train_predict[Y_train_predict <= 0.5] = 0\n",
    "\n",
    "result = metrics.accuracy_score(Y_test, test_predict)\n",
    "'测试集正确率:',result"
   ]
  },
  {
   "cell_type": "markdown",
   "metadata": {},
   "source": [
    "* 训练过程Loss,Accuracy的变化"
   ]
  },
  {
   "cell_type": "code",
   "execution_count": 24,
   "metadata": {},
   "outputs": [
    {
     "data": {
      "text/plain": [
       "<matplotlib.legend.Legend at 0x7fdffd8ce940>"
      ]
     },
     "execution_count": 24,
     "metadata": {},
     "output_type": "execute_result"
    },
    {
     "data": {
      "image/png": "[encoded data removed]",
      "text/plain": [
       "<Figure size 432x288 with 1 Axes>"
      ]
     },
     "metadata": {
      "needs_background": "light"
     },
     "output_type": "display_data"
    }
   ],
   "source": [
    "acc = history.history['accuracy']\n",
    "loss = history.history['loss']\n",
    "epochs = range(1, len(acc) + 1)\n",
    "\n",
    "plt.plot(epochs, loss, 'g', label='Training loss')\n",
    "plt.plot(epochs, acc, 'r', label='Training acc')  \n",
    "plt.title('Training loss and  acc')\n",
    "plt.xlabel('Epochs')\n",
    "plt.ylabel('Acc/Loss')\n",
    "plt.legend()"
   ]
  },
  {
   "cell_type": "markdown",
   "metadata": {},
   "source": [
    "* ROC曲线以及AUC值"
   ]
  },
  {
   "cell_type": "code",
   "execution_count": 25,
   "metadata": {},
   "outputs": [
    {
     "data": {
      "image/png": "[encoded data removed]",
      "text/plain": [
       "<Figure size 432x288 with 1 Axes>"
      ]
     },
     "metadata": {
      "needs_background": "light"
     },
     "output_type": "display_data"
    }
   ],
   "source": [
    "# 测试集\n",
    "Y_test\n",
    "Y_test_predict\n",
    "fpr, tpr, thresholds = metrics.roc_curve(Y_test, Y_test_predict, pos_label=1)\n",
    "auc = metrics.auc(fpr, tpr)\n",
    "\n",
    "plt.figure()\n",
    "lw = 2\n",
    "plt.plot(fpr, tpr, color='darkorange',\n",
    "         lw=lw, label='ROC curve (area = %0.2f)' % auc)\n",
    "plt.plot([0, 1], [0, 1], color='navy', lw=lw, linestyle='--')\n",
    "plt.xlim([0.0, 1.0])\n",
    "plt.ylim([0.0, 1.05])\n",
    "plt.xlabel('False Positive Rate')\n",
    "plt.ylabel('True Positive Rate')\n",
    "plt.title('ROC of test set')\n",
    "plt.legend(loc=\"lower right\")\n",
    "plt.show()"
   ]
  },
  {
   "cell_type": "code",
   "execution_count": 26,
   "metadata": {},
   "outputs": [
    {
     "data": {
      "image/png": "[encoded data removed]",
      "text/plain": [
       "<Figure size 432x288 with 1 Axes>"
      ]
     },
     "metadata": {
      "needs_background": "light"
     },
     "output_type": "display_data"
    }
   ],
   "source": [
    "# 训练集\n",
    "fpr, tpr, thresholds = metrics.roc_curve(Y_train, Y_train_predict, pos_label=1)\n",
    "auc = metrics.auc(fpr, tpr)\n",
    "\n",
    "plt.figure()\n",
    "lw = 2\n",
    "plt.plot(fpr, tpr, color='darkorange',\n",
    "         lw=lw, label='ROC curve (auc = %0.2f)' % auc)\n",
    "plt.plot([0, 1], [0, 1], color='navy', lw=lw, linestyle='--')\n",
    "plt.xlim([0.0, 1.0])\n",
    "plt.ylim([0.0, 1.05])\n",
    "plt.xlabel('False Positive Rate')\n",
    "plt.ylabel('True Positive Rate')\n",
    "plt.title('ROC of train set')\n",
    "plt.legend(loc=\"lower right\")\n",
    "plt.show()"
   ]
  },
  {
   "cell_type": "markdown",
   "metadata": {},
   "source": [
    "* f1-score"
   ]
  },
  {
   "cell_type": "code",
   "execution_count": 27,
   "metadata": {},
   "outputs": [
    {
     "name": "stdout",
     "output_type": "stream",
     "text": [
      "0.6062621609694623\n",
      "0.6026227275434294\n"
     ]
    }
   ],
   "source": [
    "print(metrics.f1_score(Y_train, train_predict))\n",
    "print(metrics.f1_score(Y_test, test_predict))"
   ]
  },
  {
   "cell_type": "markdown",
   "metadata": {},
   "source": [
    "* 混淆矩阵"
   ]
  },
  {
   "cell_type": "code",
   "execution_count": 28,
   "metadata": {},
   "outputs": [
    {
     "data": {
      "text/plain": [
       "array([[527500, 842476],\n",
       "       [444112, 990519]])"
      ]
     },
     "execution_count": 28,
     "metadata": {},
     "output_type": "execute_result"
    }
   ],
   "source": [
    "metrics.confusion_matrix(Y_train, train_predict)"
   ]
  },
  {
   "cell_type": "code",
   "execution_count": 29,
   "metadata": {},
   "outputs": [
    {
     "data": {
      "text/plain": [
       "array([[201630, 434849],\n",
       "       [179021, 465467]])"
      ]
     },
     "execution_count": 29,
     "metadata": {},
     "output_type": "execute_result"
    }
   ],
   "source": [
    "metrics.confusion_matrix(Y_test, test_predict)"
   ]
  },
  {
   "cell_type": "markdown",
   "metadata": {},
   "source": [
    "* 显示主要分类指标"
   ]
  },
  {
   "cell_type": "code",
   "execution_count": 30,
   "metadata": {},
   "outputs": [
    {
     "name": "stdout",
     "output_type": "stream",
     "text": [
      "              precision    recall  f1-score   support\n",
      "\n",
      "         0.0       0.54      0.39      0.45   1369976\n",
      "         1.0       0.54      0.69      0.61   1434631\n",
      "\n",
      "    accuracy                           0.54   2804607\n",
      "   macro avg       0.54      0.54      0.53   2804607\n",
      "weighted avg       0.54      0.54      0.53   2804607\n",
      "\n"
     ]
    }
   ],
   "source": [
    "print(metrics.classification_report(Y_train,train_predict))"
   ]
  },
  {
   "cell_type": "code",
   "execution_count": 31,
   "metadata": {},
   "outputs": [
    {
     "name": "stdout",
     "output_type": "stream",
     "text": [
      "              precision    recall  f1-score   support\n",
      "\n",
      "         0.0       0.53      0.32      0.40    636479\n",
      "         1.0       0.52      0.72      0.60    644488\n",
      "\n",
      "    accuracy                           0.52   1280967\n",
      "   macro avg       0.52      0.52      0.50   1280967\n",
      "weighted avg       0.52      0.52      0.50   1280967\n",
      "\n"
     ]
    }
   ],
   "source": [
    "print(metrics.classification_report(Y_test,test_predict))"
   ]
  },
  {
   "cell_type": "markdown",
   "metadata": {},
   "source": [
    "## 5. 保存模型"
   ]
  },
  {
   "cell_type": "code",
   "execution_count": 32,
   "metadata": {},
   "outputs": [],
   "source": [
    "model.save('./models/biClsModel_D1.h5')"
   ]
  },
  {
   "cell_type": "markdown",
   "metadata": {},
   "source": [
    "## 6. 保存预测结果"
   ]
  },
  {
   "cell_type": "code",
   "execution_count": 33,
   "metadata": {},
   "outputs": [
    {
     "data": {
      "text/plain": [
       "(1280967, 6, 21)"
      ]
     },
     "execution_count": 33,
     "metadata": {},
     "output_type": "execute_result"
    }
   ],
   "source": [
    "testResult.shape"
   ]
  },
  {
   "cell_type": "code",
   "execution_count": 34,
   "metadata": {},
   "outputs": [
    {
     "data": {
      "text/plain": [
       "array([['2020-01-09', '000004.SZ'],\n",
       "       ['2020-01-10', '000004.SZ'],\n",
       "       ['2020-01-13', '000004.SZ'],\n",
       "       ...,\n",
       "       ['2021-07-28', '688600.SH'],\n",
       "       ['2021-07-29', '688600.SH'],\n",
       "       ['2021-07-30', '688600.SH']], dtype=object)"
      ]
     },
     "execution_count": 34,
     "metadata": {},
     "output_type": "execute_result"
    }
   ],
   "source": [
    "testResult[:,-1,:2]"
   ]
  },
  {
   "cell_type": "code",
   "execution_count": 35,
   "metadata": {},
   "outputs": [
    {
     "data": {
      "text/plain": [
       "1280967"
      ]
     },
     "execution_count": 35,
     "metadata": {},
     "output_type": "execute_result"
    }
   ],
   "source": [
    "len(Y_test_predict)"
   ]
  },
  {
   "cell_type": "code",
   "execution_count": 36,
   "metadata": {},
   "outputs": [],
   "source": [
    "pred_df = pd.DataFrame(testResult[:, -1, :2], columns = ['dt', 'kdcode'])"
   ]
  },
  {
   "cell_type": "code",
   "execution_count": 37,
   "metadata": {},
   "outputs": [
    {
     "data": {
      "text/html": [
       "<div>\n",
       "<style scoped>\n",
       "    .dataframe tbody tr th:only-of-type {\n",
       "        vertical-align: middle;\n",
       "    }\n",
       "\n",
       "    .dataframe tbody tr th {\n",
       "        vertical-align: top;\n",
       "    }\n",
       "\n",
       "    .dataframe thead th {\n",
       "        text-align: right;\n",
       "    }\n",
       "</style>\n",
       "<table border=\"1\" class=\"dataframe\">\n",
       "  <thead>\n",
       "    <tr style=\"text-align: right;\">\n",
       "      <th></th>\n",
       "      <th>dt</th>\n",
       "      <th>kdcode</th>\n",
       "    </tr>\n",
       "  </thead>\n",
       "  <tbody>\n",
       "    <tr>\n",
       "      <th>0</th>\n",
       "      <td>2020-01-09</td>\n",
       "      <td>000004.SZ</td>\n",
       "    </tr>\n",
       "    <tr>\n",
       "      <th>1</th>\n",
       "      <td>2020-01-10</td>\n",
       "      <td>000004.SZ</td>\n",
       "    </tr>\n",
       "    <tr>\n",
       "      <th>2</th>\n",
       "      <td>2020-01-13</td>\n",
       "      <td>000004.SZ</td>\n",
       "    </tr>\n",
       "    <tr>\n",
       "      <th>3</th>\n",
       "      <td>2020-01-14</td>\n",
       "      <td>000004.SZ</td>\n",
       "    </tr>\n",
       "    <tr>\n",
       "      <th>4</th>\n",
       "      <td>2020-01-15</td>\n",
       "      <td>000004.SZ</td>\n",
       "    </tr>\n",
       "    <tr>\n",
       "      <th>...</th>\n",
       "      <td>...</td>\n",
       "      <td>...</td>\n",
       "    </tr>\n",
       "    <tr>\n",
       "      <th>1280962</th>\n",
       "      <td>2021-07-26</td>\n",
       "      <td>688600.SH</td>\n",
       "    </tr>\n",
       "    <tr>\n",
       "      <th>1280963</th>\n",
       "      <td>2021-07-27</td>\n",
       "      <td>688600.SH</td>\n",
       "    </tr>\n",
       "    <tr>\n",
       "      <th>1280964</th>\n",
       "      <td>2021-07-28</td>\n",
       "      <td>688600.SH</td>\n",
       "    </tr>\n",
       "    <tr>\n",
       "      <th>1280965</th>\n",
       "      <td>2021-07-29</td>\n",
       "      <td>688600.SH</td>\n",
       "    </tr>\n",
       "    <tr>\n",
       "      <th>1280966</th>\n",
       "      <td>2021-07-30</td>\n",
       "      <td>688600.SH</td>\n",
       "    </tr>\n",
       "  </tbody>\n",
       "</table>\n",
       "<p>1280967 rows × 2 columns</p>\n",
       "</div>"
      ],
      "text/plain": [
       "                 dt     kdcode\n",
       "0        2020-01-09  000004.SZ\n",
       "1        2020-01-10  000004.SZ\n",
       "2        2020-01-13  000004.SZ\n",
       "3        2020-01-14  000004.SZ\n",
       "4        2020-01-15  000004.SZ\n",
       "...             ...        ...\n",
       "1280962  2021-07-26  688600.SH\n",
       "1280963  2021-07-27  688600.SH\n",
       "1280964  2021-07-28  688600.SH\n",
       "1280965  2021-07-29  688600.SH\n",
       "1280966  2021-07-30  688600.SH\n",
       "\n",
       "[1280967 rows x 2 columns]"
      ]
     },
     "execution_count": 37,
     "metadata": {},
     "output_type": "execute_result"
    }
   ],
   "source": [
    "pred_df"
   ]
  },
  {
   "cell_type": "code",
   "execution_count": 38,
   "metadata": {},
   "outputs": [],
   "source": [
    "pred_df['score'] = Y_test_predict"
   ]
  },
  {
   "cell_type": "code",
   "execution_count": 39,
   "metadata": {},
   "outputs": [
    {
     "data": {
      "text/html": [
       "<div>\n",
       "<style scoped>\n",
       "    .dataframe tbody tr th:only-of-type {\n",
       "        vertical-align: middle;\n",
       "    }\n",
       "\n",
       "    .dataframe tbody tr th {\n",
       "        vertical-align: top;\n",
       "    }\n",
       "\n",
       "    .dataframe thead th {\n",
       "        text-align: right;\n",
       "    }\n",
       "</style>\n",
       "<table border=\"1\" class=\"dataframe\">\n",
       "  <thead>\n",
       "    <tr style=\"text-align: right;\">\n",
       "      <th></th>\n",
       "      <th>dt</th>\n",
       "      <th>kdcode</th>\n",
       "      <th>score</th>\n",
       "    </tr>\n",
       "  </thead>\n",
       "  <tbody>\n",
       "    <tr>\n",
       "      <th>0</th>\n",
       "      <td>2020-01-09</td>\n",
       "      <td>000004.SZ</td>\n",
       "      <td>0.503981</td>\n",
       "    </tr>\n",
       "    <tr>\n",
       "      <th>1</th>\n",
       "      <td>2020-01-10</td>\n",
       "      <td>000004.SZ</td>\n",
       "      <td>0.500596</td>\n",
       "    </tr>\n",
       "    <tr>\n",
       "      <th>2</th>\n",
       "      <td>2020-01-13</td>\n",
       "      <td>000004.SZ</td>\n",
       "      <td>0.484224</td>\n",
       "    </tr>\n",
       "    <tr>\n",
       "      <th>3</th>\n",
       "      <td>2020-01-14</td>\n",
       "      <td>000004.SZ</td>\n",
       "      <td>0.495291</td>\n",
       "    </tr>\n",
       "    <tr>\n",
       "      <th>4</th>\n",
       "      <td>2020-01-15</td>\n",
       "      <td>000004.SZ</td>\n",
       "      <td>0.478414</td>\n",
       "    </tr>\n",
       "    <tr>\n",
       "      <th>...</th>\n",
       "      <td>...</td>\n",
       "      <td>...</td>\n",
       "      <td>...</td>\n",
       "    </tr>\n",
       "    <tr>\n",
       "      <th>1280962</th>\n",
       "      <td>2021-07-26</td>\n",
       "      <td>688600.SH</td>\n",
       "      <td>0.566106</td>\n",
       "    </tr>\n",
       "    <tr>\n",
       "      <th>1280963</th>\n",
       "      <td>2021-07-27</td>\n",
       "      <td>688600.SH</td>\n",
       "      <td>0.546640</td>\n",
       "    </tr>\n",
       "    <tr>\n",
       "      <th>1280964</th>\n",
       "      <td>2021-07-28</td>\n",
       "      <td>688600.SH</td>\n",
       "      <td>0.504673</td>\n",
       "    </tr>\n",
       "    <tr>\n",
       "      <th>1280965</th>\n",
       "      <td>2021-07-29</td>\n",
       "      <td>688600.SH</td>\n",
       "      <td>0.538943</td>\n",
       "    </tr>\n",
       "    <tr>\n",
       "      <th>1280966</th>\n",
       "      <td>2021-07-30</td>\n",
       "      <td>688600.SH</td>\n",
       "      <td>0.504581</td>\n",
       "    </tr>\n",
       "  </tbody>\n",
       "</table>\n",
       "<p>1280967 rows × 3 columns</p>\n",
       "</div>"
      ],
      "text/plain": [
       "                 dt     kdcode     score\n",
       "0        2020-01-09  000004.SZ  0.503981\n",
       "1        2020-01-10  000004.SZ  0.500596\n",
       "2        2020-01-13  000004.SZ  0.484224\n",
       "3        2020-01-14  000004.SZ  0.495291\n",
       "4        2020-01-15  000004.SZ  0.478414\n",
       "...             ...        ...       ...\n",
       "1280962  2021-07-26  688600.SH  0.566106\n",
       "1280963  2021-07-27  688600.SH  0.546640\n",
       "1280964  2021-07-28  688600.SH  0.504673\n",
       "1280965  2021-07-29  688600.SH  0.538943\n",
       "1280966  2021-07-30  688600.SH  0.504581\n",
       "\n",
       "[1280967 rows x 3 columns]"
      ]
     },
     "execution_count": 39,
     "metadata": {},
     "output_type": "execute_result"
    }
   ],
   "source": [
    "pred_df"
   ]
  },
  {
   "cell_type": "code",
   "execution_count": 40,
   "metadata": {},
   "outputs": [
    {
     "data": {
      "text/plain": [
       "'2020-01-09'"
      ]
     },
     "execution_count": 40,
     "metadata": {},
     "output_type": "execute_result"
    }
   ],
   "source": [
    "st_date = pred_df['dt'].min()\n",
    "st_date"
   ]
  },
  {
   "cell_type": "code",
   "execution_count": 41,
   "metadata": {},
   "outputs": [
    {
     "data": {
      "text/plain": [
       "DatetimeIndex(['2020-01-09', '2020-01-10', '2020-01-13', '2020-01-14',\n",
       "               '2020-01-15', '2020-01-16', '2020-01-17', '2020-01-20',\n",
       "               '2020-01-21', '2020-01-22',\n",
       "               ...\n",
       "               '2021-07-07', '2021-07-08', '2021-07-09', '2021-07-12',\n",
       "               '2021-07-13', '2021-07-14', '2021-07-15', '2021-07-16',\n",
       "               '2021-07-19', '2021-07-20'],\n",
       "              dtype='datetime64[ns]', length=399, freq='B')"
      ]
     },
     "execution_count": 41,
     "metadata": {},
     "output_type": "execute_result"
    }
   ],
   "source": [
    "dr = pd.date_range(st_date,'2021-7-20',freq='B') # 工作日\n",
    "dr"
   ]
  },
  {
   "cell_type": "code",
   "execution_count": 42,
   "metadata": {},
   "outputs": [
    {
     "name": "stderr",
     "output_type": "stream",
     "text": [
      "100%|██████████| 399/399 [00:28<00:00, 14.02it/s]\n"
     ]
    }
   ],
   "source": [
    "for date_i in tqdm(dr):\n",
    "    dt = str(date_i.date())\n",
    "    tmp_df = pred_df[pred_df['dt'] == dt]\n",
    "    save_path = '../result4tiho/biClsModel_D1/prediction/' + dt + '.csv'\n",
    "    tmp_df.set_index(tmp_df['kdcode'])\n",
    "    tmp_df.to_csv(save_path, index = False)"
   ]
  }
 ],
 "metadata": {
  "kernelspec": {
   "display_name": "env4tiho_py36",
   "language": "python",
   "name": "env4tiho_py36"
  },
  "language_info": {
   "codemirror_mode": {
    "name": "ipython",
    "version": 3
   },
   "file_extension": ".py",
   "mimetype": "text/x-python",
   "name": "python",
   "nbconvert_exporter": "python",
   "pygments_lexer": "ipython3",
   "version": "3.6.5"
  }
 },
 "nbformat": 4,
 "nbformat_minor": 4
}
