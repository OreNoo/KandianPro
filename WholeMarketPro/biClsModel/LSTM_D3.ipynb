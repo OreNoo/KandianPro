{
 "cells": [
  {
   "cell_type": "markdown",
   "metadata": {},
   "source": [
    "# 基于`LSTM模型`预测未来一个交易日`开盘价的涨跌`"
   ]
  },
  {
   "cell_type": "markdown",
   "metadata": {},
   "source": [
    "## 1. 数据预处理\n",
    "### 1.1 根据股票代码划分数据"
   ]
  },
  {
   "cell_type": "code",
   "execution_count": 1,
   "metadata": {},
   "outputs": [
    {
     "name": "stderr",
     "output_type": "stream",
     "text": [
      "/home/tianhao/env4tiho_py36/lib/python3.6/site-packages/pandas/compat/__init__.py:85: UserWarning: Could not import the lzma module. Your installed Python is incomplete. Attempting to use lzma compression will result in a RuntimeError.\n",
      "  warnings.warn(msg)\n",
      "Duplicate key in file PosixPath('/home/tianhao/env4tiho_py36/lib/python3.6/site-packages/matplotlib/mpl-data/matplotlibrc'), line 400 ('axes.unicode_minus: True  # use Unicode for the minus symbol rather than hyphen.  See')\n",
      "/home/tianhao/env4tiho_py36/lib/python3.6/site-packages/pandas/compat/__init__.py:85: UserWarning: Could not import the lzma module. Your installed Python is incomplete. Attempting to use lzma compression will result in a RuntimeError.\n",
      "  warnings.warn(msg)\n"
     ]
    }
   ],
   "source": [
    "import pandas as pd\n",
    "from tqdm import tqdm\n",
    "import numpy as np\n",
    "\n",
    "# 全局变量\n",
    "cols = [0,1,2,3,4,5,6,7,8,9,10,11,12,13,14,15,16,17,18,19,20] # 选取属性\n",
    "feanum=len(cols) - 3 # 特征数量\n",
    "window=5 # 时间窗设置"
   ]
  },
  {
   "cell_type": "markdown",
   "metadata": {},
   "source": [
    "* **训练集**"
   ]
  },
  {
   "cell_type": "code",
   "execution_count": 2,
   "metadata": {},
   "outputs": [
    {
     "data": {
      "text/plain": [
       "('训练集股票数量：', 3604)"
      ]
     },
     "execution_count": 2,
     "metadata": {},
     "output_type": "execute_result"
    }
   ],
   "source": [
    "train_df = pd.read_csv(\"../data/biClsData/trainData3.csv\", usecols=cols)\n",
    "# train_df = pd.read_csv(\"../data/trainData.csv\")\n",
    "train_stocks_code = train_df[\"kdcode\"].unique()\n",
    "train_stocks_num = len(train_stocks_code)\n",
    "\n",
    "\"训练集股票数量：\",train_stocks_num"
   ]
  },
  {
   "cell_type": "code",
   "execution_count": 3,
   "metadata": {},
   "outputs": [
    {
     "data": {
      "text/html": [
       "<div>\n",
       "<style scoped>\n",
       "    .dataframe tbody tr th:only-of-type {\n",
       "        vertical-align: middle;\n",
       "    }\n",
       "\n",
       "    .dataframe tbody tr th {\n",
       "        vertical-align: top;\n",
       "    }\n",
       "\n",
       "    .dataframe thead th {\n",
       "        text-align: right;\n",
       "    }\n",
       "</style>\n",
       "<table border=\"1\" class=\"dataframe\">\n",
       "  <thead>\n",
       "    <tr style=\"text-align: right;\">\n",
       "      <th></th>\n",
       "      <th>dt</th>\n",
       "      <th>kdcode</th>\n",
       "      <th>volume</th>\n",
       "      <th>turnover</th>\n",
       "      <th>turn</th>\n",
       "      <th>vwap</th>\n",
       "      <th>vwap_mean3</th>\n",
       "      <th>vwap_mean5</th>\n",
       "      <th>vwap_mean10</th>\n",
       "      <th>vwap_mean20</th>\n",
       "      <th>...</th>\n",
       "      <th>chg_mean3</th>\n",
       "      <th>chg_mean5</th>\n",
       "      <th>chg_mean10</th>\n",
       "      <th>adj_open</th>\n",
       "      <th>open_mean3</th>\n",
       "      <th>open_mean5</th>\n",
       "      <th>open_mean10</th>\n",
       "      <th>high_low</th>\n",
       "      <th>close_open</th>\n",
       "      <th>label</th>\n",
       "    </tr>\n",
       "  </thead>\n",
       "  <tbody>\n",
       "    <tr>\n",
       "      <th>0</th>\n",
       "      <td>2016-01-04</td>\n",
       "      <td>000004.SZ</td>\n",
       "      <td>-0.318858</td>\n",
       "      <td>0.370754</td>\n",
       "      <td>0.653958</td>\n",
       "      <td>2.613770</td>\n",
       "      <td>2.611377</td>\n",
       "      <td>2.608712</td>\n",
       "      <td>2.603021</td>\n",
       "      <td>2.590021</td>\n",
       "      <td>...</td>\n",
       "      <td>-6.304462</td>\n",
       "      <td>-7.924825</td>\n",
       "      <td>-11.048206</td>\n",
       "      <td>5.644867</td>\n",
       "      <td>5.642966</td>\n",
       "      <td>5.642830</td>\n",
       "      <td>5.642189</td>\n",
       "      <td>17.540759</td>\n",
       "      <td>-31.322711</td>\n",
       "      <td>0.0</td>\n",
       "    </tr>\n",
       "    <tr>\n",
       "      <th>1</th>\n",
       "      <td>2016-01-05</td>\n",
       "      <td>000004.SZ</td>\n",
       "      <td>-0.152829</td>\n",
       "      <td>0.877918</td>\n",
       "      <td>1.548724</td>\n",
       "      <td>2.285711</td>\n",
       "      <td>2.447453</td>\n",
       "      <td>2.444911</td>\n",
       "      <td>2.439473</td>\n",
       "      <td>2.427068</td>\n",
       "      <td>...</td>\n",
       "      <td>-5.154499</td>\n",
       "      <td>-6.480507</td>\n",
       "      <td>-9.033513</td>\n",
       "      <td>4.448680</td>\n",
       "      <td>5.045024</td>\n",
       "      <td>5.044872</td>\n",
       "      <td>5.044218</td>\n",
       "      <td>12.102352</td>\n",
       "      <td>8.052462</td>\n",
       "      <td>1.0</td>\n",
       "    </tr>\n",
       "    <tr>\n",
       "      <th>2</th>\n",
       "      <td>2016-01-06</td>\n",
       "      <td>000004.SZ</td>\n",
       "      <td>-0.336353</td>\n",
       "      <td>0.225927</td>\n",
       "      <td>0.559698</td>\n",
       "      <td>2.309269</td>\n",
       "      <td>2.400660</td>\n",
       "      <td>2.398153</td>\n",
       "      <td>2.392787</td>\n",
       "      <td>2.380552</td>\n",
       "      <td>...</td>\n",
       "      <td>-3.155143</td>\n",
       "      <td>-3.969377</td>\n",
       "      <td>-5.530713</td>\n",
       "      <td>4.605324</td>\n",
       "      <td>4.897912</td>\n",
       "      <td>4.897756</td>\n",
       "      <td>4.897098</td>\n",
       "      <td>6.216480</td>\n",
       "      <td>3.957990</td>\n",
       "      <td>0.0</td>\n",
       "    </tr>\n",
       "    <tr>\n",
       "      <th>3</th>\n",
       "      <td>2016-01-07</td>\n",
       "      <td>000004.SZ</td>\n",
       "      <td>-0.508355</td>\n",
       "      <td>-0.407915</td>\n",
       "      <td>-0.367239</td>\n",
       "      <td>2.072347</td>\n",
       "      <td>2.220303</td>\n",
       "      <td>2.315626</td>\n",
       "      <td>2.310387</td>\n",
       "      <td>2.298452</td>\n",
       "      <td>...</td>\n",
       "      <td>-3.156219</td>\n",
       "      <td>-4.959252</td>\n",
       "      <td>-6.911500</td>\n",
       "      <td>4.591084</td>\n",
       "      <td>4.546739</td>\n",
       "      <td>4.820638</td>\n",
       "      <td>4.819979</td>\n",
       "      <td>10.484598</td>\n",
       "      <td>-22.110149</td>\n",
       "      <td>0.0</td>\n",
       "    </tr>\n",
       "    <tr>\n",
       "      <th>4</th>\n",
       "      <td>2016-01-08</td>\n",
       "      <td>000004.SZ</td>\n",
       "      <td>-0.236472</td>\n",
       "      <td>0.462116</td>\n",
       "      <td>1.097965</td>\n",
       "      <td>1.964784</td>\n",
       "      <td>2.113396</td>\n",
       "      <td>2.244627</td>\n",
       "      <td>2.239497</td>\n",
       "      <td>2.227821</td>\n",
       "      <td>...</td>\n",
       "      <td>-1.681295</td>\n",
       "      <td>-3.863164</td>\n",
       "      <td>-5.382556</td>\n",
       "      <td>4.111185</td>\n",
       "      <td>4.434269</td>\n",
       "      <td>4.678409</td>\n",
       "      <td>4.677747</td>\n",
       "      <td>15.750904</td>\n",
       "      <td>2.388442</td>\n",
       "      <td>0.0</td>\n",
       "    </tr>\n",
       "    <tr>\n",
       "      <th>...</th>\n",
       "      <td>...</td>\n",
       "      <td>...</td>\n",
       "      <td>...</td>\n",
       "      <td>...</td>\n",
       "      <td>...</td>\n",
       "      <td>...</td>\n",
       "      <td>...</td>\n",
       "      <td>...</td>\n",
       "      <td>...</td>\n",
       "      <td>...</td>\n",
       "      <td>...</td>\n",
       "      <td>...</td>\n",
       "      <td>...</td>\n",
       "      <td>...</td>\n",
       "      <td>...</td>\n",
       "      <td>...</td>\n",
       "      <td>...</td>\n",
       "      <td>...</td>\n",
       "      <td>...</td>\n",
       "      <td>...</td>\n",
       "      <td>...</td>\n",
       "    </tr>\n",
       "    <tr>\n",
       "      <th>2822607</th>\n",
       "      <td>2019-12-25</td>\n",
       "      <td>688389.SH</td>\n",
       "      <td>-0.200903</td>\n",
       "      <td>-0.022585</td>\n",
       "      <td>3.991840</td>\n",
       "      <td>0.472788</td>\n",
       "      <td>0.450142</td>\n",
       "      <td>0.462327</td>\n",
       "      <td>0.444396</td>\n",
       "      <td>0.422474</td>\n",
       "      <td>...</td>\n",
       "      <td>-0.204663</td>\n",
       "      <td>-0.289635</td>\n",
       "      <td>0.346304</td>\n",
       "      <td>-0.494769</td>\n",
       "      <td>-0.496485</td>\n",
       "      <td>-0.492371</td>\n",
       "      <td>-0.498781</td>\n",
       "      <td>-0.351881</td>\n",
       "      <td>0.069544</td>\n",
       "      <td>1.0</td>\n",
       "    </tr>\n",
       "    <tr>\n",
       "      <th>2822608</th>\n",
       "      <td>2019-12-26</td>\n",
       "      <td>688389.SH</td>\n",
       "      <td>-0.195114</td>\n",
       "      <td>-0.008392</td>\n",
       "      <td>4.066873</td>\n",
       "      <td>0.485824</td>\n",
       "      <td>0.463357</td>\n",
       "      <td>0.463166</td>\n",
       "      <td>0.449648</td>\n",
       "      <td>0.424384</td>\n",
       "      <td>...</td>\n",
       "      <td>1.257517</td>\n",
       "      <td>0.333646</td>\n",
       "      <td>0.774361</td>\n",
       "      <td>-0.491141</td>\n",
       "      <td>-0.497533</td>\n",
       "      <td>-0.494451</td>\n",
       "      <td>-0.498056</td>\n",
       "      <td>-0.375266</td>\n",
       "      <td>0.394085</td>\n",
       "      <td>1.0</td>\n",
       "    </tr>\n",
       "    <tr>\n",
       "      <th>2822609</th>\n",
       "      <td>2019-12-27</td>\n",
       "      <td>688389.SH</td>\n",
       "      <td>-0.241573</td>\n",
       "      <td>-0.081909</td>\n",
       "      <td>3.461921</td>\n",
       "      <td>0.481226</td>\n",
       "      <td>0.478934</td>\n",
       "      <td>0.462034</td>\n",
       "      <td>0.456986</td>\n",
       "      <td>0.425995</td>\n",
       "      <td>...</td>\n",
       "      <td>0.301720</td>\n",
       "      <td>-0.194235</td>\n",
       "      <td>0.522628</td>\n",
       "      <td>-0.483885</td>\n",
       "      <td>-0.490279</td>\n",
       "      <td>-0.493338</td>\n",
       "      <td>-0.496000</td>\n",
       "      <td>-0.287572</td>\n",
       "      <td>-0.521583</td>\n",
       "      <td>0.0</td>\n",
       "    </tr>\n",
       "    <tr>\n",
       "      <th>2822610</th>\n",
       "      <td>2019-12-30</td>\n",
       "      <td>688389.SH</td>\n",
       "      <td>-0.351994</td>\n",
       "      <td>-0.259168</td>\n",
       "      <td>2.026918</td>\n",
       "      <td>0.450919</td>\n",
       "      <td>0.471649</td>\n",
       "      <td>0.462986</td>\n",
       "      <td>0.460345</td>\n",
       "      <td>0.426283</td>\n",
       "      <td>...</td>\n",
       "      <td>-0.113936</td>\n",
       "      <td>0.433816</td>\n",
       "      <td>0.326343</td>\n",
       "      <td>-0.498398</td>\n",
       "      <td>-0.491488</td>\n",
       "      <td>-0.495418</td>\n",
       "      <td>-0.494912</td>\n",
       "      <td>-0.363573</td>\n",
       "      <td>0.104317</td>\n",
       "      <td>1.0</td>\n",
       "    </tr>\n",
       "    <tr>\n",
       "      <th>2822611</th>\n",
       "      <td>2019-12-31</td>\n",
       "      <td>688389.SH</td>\n",
       "      <td>-0.396119</td>\n",
       "      <td>-0.324248</td>\n",
       "      <td>1.454793</td>\n",
       "      <td>0.458930</td>\n",
       "      <td>0.462690</td>\n",
       "      <td>0.467871</td>\n",
       "      <td>0.462796</td>\n",
       "      <td>0.428984</td>\n",
       "      <td>...</td>\n",
       "      <td>-0.561241</td>\n",
       "      <td>0.252556</td>\n",
       "      <td>0.248716</td>\n",
       "      <td>-0.496221</td>\n",
       "      <td>-0.493181</td>\n",
       "      <td>-0.493532</td>\n",
       "      <td>-0.494090</td>\n",
       "      <td>-0.509730</td>\n",
       "      <td>0.092726</td>\n",
       "      <td>1.0</td>\n",
       "    </tr>\n",
       "  </tbody>\n",
       "</table>\n",
       "<p>2822612 rows × 21 columns</p>\n",
       "</div>"
      ],
      "text/plain": [
       "                 dt     kdcode    volume  turnover      turn      vwap  \\\n",
       "0        2016-01-04  000004.SZ -0.318858  0.370754  0.653958  2.613770   \n",
       "1        2016-01-05  000004.SZ -0.152829  0.877918  1.548724  2.285711   \n",
       "2        2016-01-06  000004.SZ -0.336353  0.225927  0.559698  2.309269   \n",
       "3        2016-01-07  000004.SZ -0.508355 -0.407915 -0.367239  2.072347   \n",
       "4        2016-01-08  000004.SZ -0.236472  0.462116  1.097965  1.964784   \n",
       "...             ...        ...       ...       ...       ...       ...   \n",
       "2822607  2019-12-25  688389.SH -0.200903 -0.022585  3.991840  0.472788   \n",
       "2822608  2019-12-26  688389.SH -0.195114 -0.008392  4.066873  0.485824   \n",
       "2822609  2019-12-27  688389.SH -0.241573 -0.081909  3.461921  0.481226   \n",
       "2822610  2019-12-30  688389.SH -0.351994 -0.259168  2.026918  0.450919   \n",
       "2822611  2019-12-31  688389.SH -0.396119 -0.324248  1.454793  0.458930   \n",
       "\n",
       "         vwap_mean3  vwap_mean5  vwap_mean10  vwap_mean20  ...  chg_mean3  \\\n",
       "0          2.611377    2.608712     2.603021     2.590021  ...  -6.304462   \n",
       "1          2.447453    2.444911     2.439473     2.427068  ...  -5.154499   \n",
       "2          2.400660    2.398153     2.392787     2.380552  ...  -3.155143   \n",
       "3          2.220303    2.315626     2.310387     2.298452  ...  -3.156219   \n",
       "4          2.113396    2.244627     2.239497     2.227821  ...  -1.681295   \n",
       "...             ...         ...          ...          ...  ...        ...   \n",
       "2822607    0.450142    0.462327     0.444396     0.422474  ...  -0.204663   \n",
       "2822608    0.463357    0.463166     0.449648     0.424384  ...   1.257517   \n",
       "2822609    0.478934    0.462034     0.456986     0.425995  ...   0.301720   \n",
       "2822610    0.471649    0.462986     0.460345     0.426283  ...  -0.113936   \n",
       "2822611    0.462690    0.467871     0.462796     0.428984  ...  -0.561241   \n",
       "\n",
       "         chg_mean5  chg_mean10  adj_open  open_mean3  open_mean5  open_mean10  \\\n",
       "0        -7.924825  -11.048206  5.644867    5.642966    5.642830     5.642189   \n",
       "1        -6.480507   -9.033513  4.448680    5.045024    5.044872     5.044218   \n",
       "2        -3.969377   -5.530713  4.605324    4.897912    4.897756     4.897098   \n",
       "3        -4.959252   -6.911500  4.591084    4.546739    4.820638     4.819979   \n",
       "4        -3.863164   -5.382556  4.111185    4.434269    4.678409     4.677747   \n",
       "...            ...         ...       ...         ...         ...          ...   \n",
       "2822607  -0.289635    0.346304 -0.494769   -0.496485   -0.492371    -0.498781   \n",
       "2822608   0.333646    0.774361 -0.491141   -0.497533   -0.494451    -0.498056   \n",
       "2822609  -0.194235    0.522628 -0.483885   -0.490279   -0.493338    -0.496000   \n",
       "2822610   0.433816    0.326343 -0.498398   -0.491488   -0.495418    -0.494912   \n",
       "2822611   0.252556    0.248716 -0.496221   -0.493181   -0.493532    -0.494090   \n",
       "\n",
       "          high_low  close_open  label  \n",
       "0        17.540759  -31.322711    0.0  \n",
       "1        12.102352    8.052462    1.0  \n",
       "2         6.216480    3.957990    0.0  \n",
       "3        10.484598  -22.110149    0.0  \n",
       "4        15.750904    2.388442    0.0  \n",
       "...            ...         ...    ...  \n",
       "2822607  -0.351881    0.069544    1.0  \n",
       "2822608  -0.375266    0.394085    1.0  \n",
       "2822609  -0.287572   -0.521583    0.0  \n",
       "2822610  -0.363573    0.104317    1.0  \n",
       "2822611  -0.509730    0.092726    1.0  \n",
       "\n",
       "[2822612 rows x 21 columns]"
      ]
     },
     "execution_count": 3,
     "metadata": {},
     "output_type": "execute_result"
    }
   ],
   "source": [
    "train_df"
   ]
  },
  {
   "cell_type": "code",
   "execution_count": 4,
   "metadata": {},
   "outputs": [
    {
     "name": "stderr",
     "output_type": "stream",
     "text": [
      "100%|██████████| 3604/3604 [02:34<00:00, 23.39it/s]\n"
     ]
    }
   ],
   "source": [
    "# 根据股票代码划分数据\n",
    "for i, stock_i in enumerate(tqdm(train_stocks_code)):\n",
    "    stock_i_data = train_df[train_df['kdcode'].isin([stock_i])]\n",
    "    exec(\"train_df%s = stock_i_data\" % i)"
   ]
  },
  {
   "cell_type": "markdown",
   "metadata": {},
   "source": [
    "* **测试集**"
   ]
  },
  {
   "cell_type": "code",
   "execution_count": 5,
   "metadata": {},
   "outputs": [
    {
     "data": {
      "text/plain": [
       "('测试集股票数量：', 3790)"
      ]
     },
     "execution_count": 5,
     "metadata": {},
     "output_type": "execute_result"
    }
   ],
   "source": [
    "test_df = pd.read_csv(\"../data/biClsData/testData3.csv\", usecols=cols)\n",
    "# test_df = pd.read_csv(\"../data/testData.csv\")\n",
    "test_stocks_code = test_df[\"kdcode\"].unique()\n",
    "test_stocks_num = len(test_stocks_code)\n",
    "\n",
    "\"测试集股票数量：\",test_stocks_num"
   ]
  },
  {
   "cell_type": "code",
   "execution_count": 6,
   "metadata": {},
   "outputs": [
    {
     "name": "stderr",
     "output_type": "stream",
     "text": [
      "100%|██████████| 3790/3790 [01:15<00:00, 50.08it/s]\n"
     ]
    }
   ],
   "source": [
    "# 根据股票代码划分数据\n",
    "for i, stock_i in enumerate(tqdm(test_stocks_code)):\n",
    "    stock_i_data = test_df[test_df['kdcode'].isin([stock_i])]\n",
    "    exec(\"test_df%s = stock_i_data\" % i)"
   ]
  },
  {
   "cell_type": "markdown",
   "metadata": {},
   "source": [
    "### 1.2. 将原始数据改造为LSTM网络的输入\n",
    "分割出window个时间窗的数据为输入的`X`\n",
    "\n",
    "紧接着的那条数据为标签`Y`\n",
    "\n",
    "因此需要将每只股票的数据按照时间(日期)分割成`window + 1`长度的数据\n",
    "\n",
    "* **训练集**"
   ]
  },
  {
   "cell_type": "code",
   "execution_count": 7,
   "metadata": {},
   "outputs": [
    {
     "data": {
      "text/html": [
       "<div>\n",
       "<style scoped>\n",
       "    .dataframe tbody tr th:only-of-type {\n",
       "        vertical-align: middle;\n",
       "    }\n",
       "\n",
       "    .dataframe tbody tr th {\n",
       "        vertical-align: top;\n",
       "    }\n",
       "\n",
       "    .dataframe thead th {\n",
       "        text-align: right;\n",
       "    }\n",
       "</style>\n",
       "<table border=\"1\" class=\"dataframe\">\n",
       "  <thead>\n",
       "    <tr style=\"text-align: right;\">\n",
       "      <th></th>\n",
       "      <th>dt</th>\n",
       "      <th>kdcode</th>\n",
       "      <th>volume</th>\n",
       "      <th>turnover</th>\n",
       "      <th>turn</th>\n",
       "      <th>vwap</th>\n",
       "      <th>vwap_mean3</th>\n",
       "      <th>vwap_mean5</th>\n",
       "      <th>vwap_mean10</th>\n",
       "      <th>vwap_mean20</th>\n",
       "      <th>...</th>\n",
       "      <th>chg_mean3</th>\n",
       "      <th>chg_mean5</th>\n",
       "      <th>chg_mean10</th>\n",
       "      <th>adj_open</th>\n",
       "      <th>open_mean3</th>\n",
       "      <th>open_mean5</th>\n",
       "      <th>open_mean10</th>\n",
       "      <th>high_low</th>\n",
       "      <th>close_open</th>\n",
       "      <th>label</th>\n",
       "    </tr>\n",
       "  </thead>\n",
       "  <tbody>\n",
       "    <tr>\n",
       "      <th>0</th>\n",
       "      <td>2016-01-04</td>\n",
       "      <td>000004.SZ</td>\n",
       "      <td>-0.318858</td>\n",
       "      <td>0.370754</td>\n",
       "      <td>0.653958</td>\n",
       "      <td>2.613770</td>\n",
       "      <td>2.611377</td>\n",
       "      <td>2.608712</td>\n",
       "      <td>2.603021</td>\n",
       "      <td>2.590021</td>\n",
       "      <td>...</td>\n",
       "      <td>-6.304462</td>\n",
       "      <td>-7.924825</td>\n",
       "      <td>-11.048206</td>\n",
       "      <td>5.644867</td>\n",
       "      <td>5.642966</td>\n",
       "      <td>5.642830</td>\n",
       "      <td>5.642189</td>\n",
       "      <td>17.540759</td>\n",
       "      <td>-31.322711</td>\n",
       "      <td>0.0</td>\n",
       "    </tr>\n",
       "    <tr>\n",
       "      <th>1</th>\n",
       "      <td>2016-01-05</td>\n",
       "      <td>000004.SZ</td>\n",
       "      <td>-0.152829</td>\n",
       "      <td>0.877918</td>\n",
       "      <td>1.548724</td>\n",
       "      <td>2.285711</td>\n",
       "      <td>2.447453</td>\n",
       "      <td>2.444911</td>\n",
       "      <td>2.439473</td>\n",
       "      <td>2.427068</td>\n",
       "      <td>...</td>\n",
       "      <td>-5.154499</td>\n",
       "      <td>-6.480507</td>\n",
       "      <td>-9.033513</td>\n",
       "      <td>4.448680</td>\n",
       "      <td>5.045024</td>\n",
       "      <td>5.044872</td>\n",
       "      <td>5.044218</td>\n",
       "      <td>12.102352</td>\n",
       "      <td>8.052462</td>\n",
       "      <td>1.0</td>\n",
       "    </tr>\n",
       "    <tr>\n",
       "      <th>2</th>\n",
       "      <td>2016-01-06</td>\n",
       "      <td>000004.SZ</td>\n",
       "      <td>-0.336353</td>\n",
       "      <td>0.225927</td>\n",
       "      <td>0.559698</td>\n",
       "      <td>2.309269</td>\n",
       "      <td>2.400660</td>\n",
       "      <td>2.398153</td>\n",
       "      <td>2.392787</td>\n",
       "      <td>2.380552</td>\n",
       "      <td>...</td>\n",
       "      <td>-3.155143</td>\n",
       "      <td>-3.969377</td>\n",
       "      <td>-5.530713</td>\n",
       "      <td>4.605324</td>\n",
       "      <td>4.897912</td>\n",
       "      <td>4.897756</td>\n",
       "      <td>4.897098</td>\n",
       "      <td>6.216480</td>\n",
       "      <td>3.957990</td>\n",
       "      <td>0.0</td>\n",
       "    </tr>\n",
       "    <tr>\n",
       "      <th>3</th>\n",
       "      <td>2016-01-07</td>\n",
       "      <td>000004.SZ</td>\n",
       "      <td>-0.508355</td>\n",
       "      <td>-0.407915</td>\n",
       "      <td>-0.367239</td>\n",
       "      <td>2.072347</td>\n",
       "      <td>2.220303</td>\n",
       "      <td>2.315626</td>\n",
       "      <td>2.310387</td>\n",
       "      <td>2.298452</td>\n",
       "      <td>...</td>\n",
       "      <td>-3.156219</td>\n",
       "      <td>-4.959252</td>\n",
       "      <td>-6.911500</td>\n",
       "      <td>4.591084</td>\n",
       "      <td>4.546739</td>\n",
       "      <td>4.820638</td>\n",
       "      <td>4.819979</td>\n",
       "      <td>10.484598</td>\n",
       "      <td>-22.110149</td>\n",
       "      <td>0.0</td>\n",
       "    </tr>\n",
       "    <tr>\n",
       "      <th>4</th>\n",
       "      <td>2016-01-08</td>\n",
       "      <td>000004.SZ</td>\n",
       "      <td>-0.236472</td>\n",
       "      <td>0.462116</td>\n",
       "      <td>1.097965</td>\n",
       "      <td>1.964784</td>\n",
       "      <td>2.113396</td>\n",
       "      <td>2.244627</td>\n",
       "      <td>2.239497</td>\n",
       "      <td>2.227821</td>\n",
       "      <td>...</td>\n",
       "      <td>-1.681295</td>\n",
       "      <td>-3.863164</td>\n",
       "      <td>-5.382556</td>\n",
       "      <td>4.111185</td>\n",
       "      <td>4.434269</td>\n",
       "      <td>4.678409</td>\n",
       "      <td>4.677747</td>\n",
       "      <td>15.750904</td>\n",
       "      <td>2.388442</td>\n",
       "      <td>0.0</td>\n",
       "    </tr>\n",
       "    <tr>\n",
       "      <th>...</th>\n",
       "      <td>...</td>\n",
       "      <td>...</td>\n",
       "      <td>...</td>\n",
       "      <td>...</td>\n",
       "      <td>...</td>\n",
       "      <td>...</td>\n",
       "      <td>...</td>\n",
       "      <td>...</td>\n",
       "      <td>...</td>\n",
       "      <td>...</td>\n",
       "      <td>...</td>\n",
       "      <td>...</td>\n",
       "      <td>...</td>\n",
       "      <td>...</td>\n",
       "      <td>...</td>\n",
       "      <td>...</td>\n",
       "      <td>...</td>\n",
       "      <td>...</td>\n",
       "      <td>...</td>\n",
       "      <td>...</td>\n",
       "      <td>...</td>\n",
       "    </tr>\n",
       "    <tr>\n",
       "      <th>2822607</th>\n",
       "      <td>2019-12-25</td>\n",
       "      <td>688389.SH</td>\n",
       "      <td>-0.200903</td>\n",
       "      <td>-0.022585</td>\n",
       "      <td>3.991840</td>\n",
       "      <td>0.472788</td>\n",
       "      <td>0.450142</td>\n",
       "      <td>0.462327</td>\n",
       "      <td>0.444396</td>\n",
       "      <td>0.422474</td>\n",
       "      <td>...</td>\n",
       "      <td>-0.204663</td>\n",
       "      <td>-0.289635</td>\n",
       "      <td>0.346304</td>\n",
       "      <td>-0.494769</td>\n",
       "      <td>-0.496485</td>\n",
       "      <td>-0.492371</td>\n",
       "      <td>-0.498781</td>\n",
       "      <td>-0.351881</td>\n",
       "      <td>0.069544</td>\n",
       "      <td>1.0</td>\n",
       "    </tr>\n",
       "    <tr>\n",
       "      <th>2822608</th>\n",
       "      <td>2019-12-26</td>\n",
       "      <td>688389.SH</td>\n",
       "      <td>-0.195114</td>\n",
       "      <td>-0.008392</td>\n",
       "      <td>4.066873</td>\n",
       "      <td>0.485824</td>\n",
       "      <td>0.463357</td>\n",
       "      <td>0.463166</td>\n",
       "      <td>0.449648</td>\n",
       "      <td>0.424384</td>\n",
       "      <td>...</td>\n",
       "      <td>1.257517</td>\n",
       "      <td>0.333646</td>\n",
       "      <td>0.774361</td>\n",
       "      <td>-0.491141</td>\n",
       "      <td>-0.497533</td>\n",
       "      <td>-0.494451</td>\n",
       "      <td>-0.498056</td>\n",
       "      <td>-0.375266</td>\n",
       "      <td>0.394085</td>\n",
       "      <td>1.0</td>\n",
       "    </tr>\n",
       "    <tr>\n",
       "      <th>2822609</th>\n",
       "      <td>2019-12-27</td>\n",
       "      <td>688389.SH</td>\n",
       "      <td>-0.241573</td>\n",
       "      <td>-0.081909</td>\n",
       "      <td>3.461921</td>\n",
       "      <td>0.481226</td>\n",
       "      <td>0.478934</td>\n",
       "      <td>0.462034</td>\n",
       "      <td>0.456986</td>\n",
       "      <td>0.425995</td>\n",
       "      <td>...</td>\n",
       "      <td>0.301720</td>\n",
       "      <td>-0.194235</td>\n",
       "      <td>0.522628</td>\n",
       "      <td>-0.483885</td>\n",
       "      <td>-0.490279</td>\n",
       "      <td>-0.493338</td>\n",
       "      <td>-0.496000</td>\n",
       "      <td>-0.287572</td>\n",
       "      <td>-0.521583</td>\n",
       "      <td>0.0</td>\n",
       "    </tr>\n",
       "    <tr>\n",
       "      <th>2822610</th>\n",
       "      <td>2019-12-30</td>\n",
       "      <td>688389.SH</td>\n",
       "      <td>-0.351994</td>\n",
       "      <td>-0.259168</td>\n",
       "      <td>2.026918</td>\n",
       "      <td>0.450919</td>\n",
       "      <td>0.471649</td>\n",
       "      <td>0.462986</td>\n",
       "      <td>0.460345</td>\n",
       "      <td>0.426283</td>\n",
       "      <td>...</td>\n",
       "      <td>-0.113936</td>\n",
       "      <td>0.433816</td>\n",
       "      <td>0.326343</td>\n",
       "      <td>-0.498398</td>\n",
       "      <td>-0.491488</td>\n",
       "      <td>-0.495418</td>\n",
       "      <td>-0.494912</td>\n",
       "      <td>-0.363573</td>\n",
       "      <td>0.104317</td>\n",
       "      <td>1.0</td>\n",
       "    </tr>\n",
       "    <tr>\n",
       "      <th>2822611</th>\n",
       "      <td>2019-12-31</td>\n",
       "      <td>688389.SH</td>\n",
       "      <td>-0.396119</td>\n",
       "      <td>-0.324248</td>\n",
       "      <td>1.454793</td>\n",
       "      <td>0.458930</td>\n",
       "      <td>0.462690</td>\n",
       "      <td>0.467871</td>\n",
       "      <td>0.462796</td>\n",
       "      <td>0.428984</td>\n",
       "      <td>...</td>\n",
       "      <td>-0.561241</td>\n",
       "      <td>0.252556</td>\n",
       "      <td>0.248716</td>\n",
       "      <td>-0.496221</td>\n",
       "      <td>-0.493181</td>\n",
       "      <td>-0.493532</td>\n",
       "      <td>-0.494090</td>\n",
       "      <td>-0.509730</td>\n",
       "      <td>0.092726</td>\n",
       "      <td>1.0</td>\n",
       "    </tr>\n",
       "  </tbody>\n",
       "</table>\n",
       "<p>2822612 rows × 21 columns</p>\n",
       "</div>"
      ],
      "text/plain": [
       "                 dt     kdcode    volume  turnover      turn      vwap  \\\n",
       "0        2016-01-04  000004.SZ -0.318858  0.370754  0.653958  2.613770   \n",
       "1        2016-01-05  000004.SZ -0.152829  0.877918  1.548724  2.285711   \n",
       "2        2016-01-06  000004.SZ -0.336353  0.225927  0.559698  2.309269   \n",
       "3        2016-01-07  000004.SZ -0.508355 -0.407915 -0.367239  2.072347   \n",
       "4        2016-01-08  000004.SZ -0.236472  0.462116  1.097965  1.964784   \n",
       "...             ...        ...       ...       ...       ...       ...   \n",
       "2822607  2019-12-25  688389.SH -0.200903 -0.022585  3.991840  0.472788   \n",
       "2822608  2019-12-26  688389.SH -0.195114 -0.008392  4.066873  0.485824   \n",
       "2822609  2019-12-27  688389.SH -0.241573 -0.081909  3.461921  0.481226   \n",
       "2822610  2019-12-30  688389.SH -0.351994 -0.259168  2.026918  0.450919   \n",
       "2822611  2019-12-31  688389.SH -0.396119 -0.324248  1.454793  0.458930   \n",
       "\n",
       "         vwap_mean3  vwap_mean5  vwap_mean10  vwap_mean20  ...  chg_mean3  \\\n",
       "0          2.611377    2.608712     2.603021     2.590021  ...  -6.304462   \n",
       "1          2.447453    2.444911     2.439473     2.427068  ...  -5.154499   \n",
       "2          2.400660    2.398153     2.392787     2.380552  ...  -3.155143   \n",
       "3          2.220303    2.315626     2.310387     2.298452  ...  -3.156219   \n",
       "4          2.113396    2.244627     2.239497     2.227821  ...  -1.681295   \n",
       "...             ...         ...          ...          ...  ...        ...   \n",
       "2822607    0.450142    0.462327     0.444396     0.422474  ...  -0.204663   \n",
       "2822608    0.463357    0.463166     0.449648     0.424384  ...   1.257517   \n",
       "2822609    0.478934    0.462034     0.456986     0.425995  ...   0.301720   \n",
       "2822610    0.471649    0.462986     0.460345     0.426283  ...  -0.113936   \n",
       "2822611    0.462690    0.467871     0.462796     0.428984  ...  -0.561241   \n",
       "\n",
       "         chg_mean5  chg_mean10  adj_open  open_mean3  open_mean5  open_mean10  \\\n",
       "0        -7.924825  -11.048206  5.644867    5.642966    5.642830     5.642189   \n",
       "1        -6.480507   -9.033513  4.448680    5.045024    5.044872     5.044218   \n",
       "2        -3.969377   -5.530713  4.605324    4.897912    4.897756     4.897098   \n",
       "3        -4.959252   -6.911500  4.591084    4.546739    4.820638     4.819979   \n",
       "4        -3.863164   -5.382556  4.111185    4.434269    4.678409     4.677747   \n",
       "...            ...         ...       ...         ...         ...          ...   \n",
       "2822607  -0.289635    0.346304 -0.494769   -0.496485   -0.492371    -0.498781   \n",
       "2822608   0.333646    0.774361 -0.491141   -0.497533   -0.494451    -0.498056   \n",
       "2822609  -0.194235    0.522628 -0.483885   -0.490279   -0.493338    -0.496000   \n",
       "2822610   0.433816    0.326343 -0.498398   -0.491488   -0.495418    -0.494912   \n",
       "2822611   0.252556    0.248716 -0.496221   -0.493181   -0.493532    -0.494090   \n",
       "\n",
       "          high_low  close_open  label  \n",
       "0        17.540759  -31.322711    0.0  \n",
       "1        12.102352    8.052462    1.0  \n",
       "2         6.216480    3.957990    0.0  \n",
       "3        10.484598  -22.110149    0.0  \n",
       "4        15.750904    2.388442    0.0  \n",
       "...            ...         ...    ...  \n",
       "2822607  -0.351881    0.069544    1.0  \n",
       "2822608  -0.375266    0.394085    1.0  \n",
       "2822609  -0.287572   -0.521583    0.0  \n",
       "2822610  -0.363573    0.104317    1.0  \n",
       "2822611  -0.509730    0.092726    1.0  \n",
       "\n",
       "[2822612 rows x 21 columns]"
      ]
     },
     "execution_count": 7,
     "metadata": {},
     "output_type": "execute_result"
    }
   ],
   "source": [
    "train_df"
   ]
  },
  {
   "cell_type": "code",
   "execution_count": 8,
   "metadata": {},
   "outputs": [
    {
     "name": "stderr",
     "output_type": "stream",
     "text": [
      "100%|██████████| 3604/3604 [00:04<00:00, 870.78it/s] \n"
     ]
    },
    {
     "data": {
      "text/plain": [
       "(2804607, 6, 21)"
      ]
     },
     "execution_count": 8,
     "metadata": {},
     "output_type": "execute_result"
    }
   ],
   "source": [
    "# 分割数据\n",
    "trainResult = []\n",
    "for i in tqdm(range(train_stocks_num)): # 遍历训练集所有股票的DataFrame\n",
    "    exec(\"trainData = train_df%s.values\" % i)\n",
    "    sequence_length = window + 1\n",
    "    for index in range(len(trainData) - sequence_length + 1):\n",
    "        trainResult.append(trainData[index: index + sequence_length])\n",
    "\n",
    "trainResult = np.array(trainResult)\n",
    "trainResult.shape"
   ]
  },
  {
   "cell_type": "code",
   "execution_count": 9,
   "metadata": {},
   "outputs": [
    {
     "data": {
      "text/plain": [
       "2804607"
      ]
     },
     "execution_count": 9,
     "metadata": {},
     "output_type": "execute_result"
    }
   ],
   "source": [
    "# 保存分割后每条数据的日期\n",
    "train_date = trainResult[:,-1,0]\n",
    "len(train_date)"
   ]
  },
  {
   "cell_type": "markdown",
   "metadata": {},
   "source": [
    "* **测试集**"
   ]
  },
  {
   "cell_type": "code",
   "execution_count": 10,
   "metadata": {},
   "outputs": [
    {
     "name": "stderr",
     "output_type": "stream",
     "text": [
      "100%|██████████| 3790/3790 [00:01<00:00, 2143.71it/s]\n"
     ]
    },
    {
     "data": {
      "text/plain": [
       "(1280967, 6, 21)"
      ]
     },
     "execution_count": 10,
     "metadata": {},
     "output_type": "execute_result"
    }
   ],
   "source": [
    "testResult = []\n",
    "for i in tqdm(range(test_stocks_num)): # 遍历训练集所有股票的DataFrame\n",
    "    exec(\"testData = test_df%s.values\" % i)\n",
    "    sequence_length = window + 1\n",
    "    for index in range(len(testData) - sequence_length + 1):\n",
    "        testResult.append(testData[index: index + sequence_length])\n",
    "\n",
    "testResult = np.array(testResult)\n",
    "testResult.shape"
   ]
  },
  {
   "cell_type": "code",
   "execution_count": 11,
   "metadata": {},
   "outputs": [
    {
     "data": {
      "text/plain": [
       "1280967"
      ]
     },
     "execution_count": 11,
     "metadata": {},
     "output_type": "execute_result"
    }
   ],
   "source": [
    "# 保存分割后每条数据的日期\n",
    "test_date = testResult[:,-1,0]\n",
    "len(test_date)"
   ]
  },
  {
   "cell_type": "markdown",
   "metadata": {},
   "source": [
    "**分割出X**"
   ]
  },
  {
   "cell_type": "code",
   "execution_count": 12,
   "metadata": {},
   "outputs": [
    {
     "name": "stdout",
     "output_type": "stream",
     "text": [
      "训练集X：(2804607, 5, 18)\n",
      "测试集X：(1280967, 5, 18)\n"
     ]
    }
   ],
   "source": [
    "X_train = trainResult[:, :-1, 2:-1]\n",
    "X_test = testResult[:, :-1, 2:-1]\n",
    "X_train = X_train.astype('float64')\n",
    "X_test = X_test.astype('float64')\n",
    "print(\"训练集X：\" + str(X_train.shape))\n",
    "print(\"测试集X：\" + str(X_test.shape))"
   ]
  },
  {
   "cell_type": "markdown",
   "metadata": {},
   "source": [
    "**分割出Y**"
   ]
  },
  {
   "cell_type": "code",
   "execution_count": 13,
   "metadata": {},
   "outputs": [
    {
     "data": {
      "text/plain": [
       "(2804607,)"
      ]
     },
     "execution_count": 13,
     "metadata": {},
     "output_type": "execute_result"
    }
   ],
   "source": [
    "Y_train = trainResult[:, window, -1]\n",
    "Y_train.shape"
   ]
  },
  {
   "cell_type": "code",
   "execution_count": 14,
   "metadata": {},
   "outputs": [
    {
     "data": {
      "text/plain": [
       "(1280967,)"
      ]
     },
     "execution_count": 14,
     "metadata": {},
     "output_type": "execute_result"
    }
   ],
   "source": [
    "Y_test = testResult[:, window, -1]\n",
    "Y_test.shape"
   ]
  },
  {
   "cell_type": "code",
   "execution_count": 15,
   "metadata": {},
   "outputs": [],
   "source": [
    "Y_train = Y_train.astype('float64')\n",
    "Y_test = Y_test.astype('float64')\n",
    "# Y_train[0:5]\n",
    "# Y_test[0:5]"
   ]
  },
  {
   "cell_type": "markdown",
   "metadata": {},
   "source": [
    "## 3. 模型构建与训练"
   ]
  },
  {
   "cell_type": "code",
   "execution_count": 16,
   "metadata": {},
   "outputs": [],
   "source": [
    "from sklearn.metrics import mean_squared_error\n",
    "from sklearn import metrics\n",
    "from math import sqrt\n",
    "from keras.models import Sequential\n",
    "from keras.layers.core import Dense, Dropout, Activation\n",
    "from keras.layers.recurrent import LSTM\n",
    "from keras.layers.recurrent import GRU\n",
    "from keras.callbacks import EarlyStopping\n",
    "import tensorflow as tf\n",
    "import os\n",
    "\n",
    "os.environ[\"CUDA_VISIBLE_DEVICES\"] = \"0\"\n",
    "for gpu in tf.config.experimental.list_physical_devices('GPU'):\n",
    "    tf.config.experimental.set_memory_growth(gpu, True)\n",
    "\n",
    "#建立、训练模型过程\n",
    "d = 0.01\n",
    "model = Sequential()#建立层次模型\n",
    "model.add(LSTM(64, input_shape=(window, feanum), return_sequences=True))#建立LSTM层\n",
    "model.add(Dropout(d))#建立的遗忘层\n",
    "model.add(LSTM(32, input_shape=(window, feanum), return_sequences=False))#建立LSTM层\n",
    "model.add(Dropout(d))#建立的遗忘层\n",
    "\n",
    "model.add(Dense(16,kernel_initializer='uniform',activation='relu'))   #建立全连接层     \n",
    "model.add(Dense(1, kernel_initializer = \"uniform\", activation = \"sigmoid\"))\n",
    "model.compile(loss='binary_crossentropy',optimizer='adam',metrics=['accuracy'])"
   ]
  },
  {
   "cell_type": "code",
   "execution_count": 17,
   "metadata": {},
   "outputs": [
    {
     "name": "stdout",
     "output_type": "stream",
     "text": [
      "Epoch 1/5\n",
      "4930/4930 [==============================] - 267s 48ms/step - loss: 0.6867 - accuracy: 0.5366 - val_loss: 0.6779 - val_accuracy: 0.5590\n",
      "Epoch 2/5\n",
      "4930/4930 [==============================] - 258s 52ms/step - loss: 0.6726 - accuracy: 0.5676 - val_loss: 0.6712 - val_accuracy: 0.5714\n",
      "Epoch 3/5\n",
      "4930/4930 [==============================] - 336s 68ms/step - loss: 0.6648 - accuracy: 0.5793 - val_loss: 0.6666 - val_accuracy: 0.5787\n",
      "Epoch 4/5\n",
      "4930/4930 [==============================] - 257s 52ms/step - loss: 0.6593 - accuracy: 0.5867 - val_loss: 0.6629 - val_accuracy: 0.5830\n",
      "Epoch 5/5\n",
      "4930/4930 [==============================] - 229s 46ms/step - loss: 0.6555 - accuracy: 0.5921 - val_loss: 0.6616 - val_accuracy: 0.5860\n"
     ]
    }
   ],
   "source": [
    "history = model.fit(X_train, Y_train, epochs = 5, batch_size = 512, validation_split = 0.1) #训练模型epochs次"
   ]
  },
  {
   "cell_type": "code",
   "execution_count": 18,
   "metadata": {},
   "outputs": [
    {
     "name": "stdout",
     "output_type": "stream",
     "text": [
      "Model: \"sequential\"\n",
      "_________________________________________________________________\n",
      "Layer (type)                 Output Shape              Param #   \n",
      "=================================================================\n",
      "lstm (LSTM)                  (None, 5, 64)             21248     \n",
      "_________________________________________________________________\n",
      "dropout (Dropout)            (None, 5, 64)             0         \n",
      "_________________________________________________________________\n",
      "lstm_1 (LSTM)                (None, 32)                12416     \n",
      "_________________________________________________________________\n",
      "dropout_1 (Dropout)          (None, 32)                0         \n",
      "_________________________________________________________________\n",
      "dense (Dense)                (None, 16)                528       \n",
      "_________________________________________________________________\n",
      "dense_1 (Dense)              (None, 1)                 17        \n",
      "=================================================================\n",
      "Total params: 34,209\n",
      "Trainable params: 34,209\n",
      "Non-trainable params: 0\n",
      "_________________________________________________________________\n"
     ]
    }
   ],
   "source": [
    "#总结模型\n",
    "model.summary()"
   ]
  },
  {
   "cell_type": "markdown",
   "metadata": {},
   "source": [
    "## 4. 模型训练结果\n",
    "* 训练集"
   ]
  },
  {
   "cell_type": "code",
   "execution_count": 19,
   "metadata": {},
   "outputs": [],
   "source": [
    "#在训练集上的拟合结果\n",
    "Y_train_predict = model.predict(X_train)[:,0]\n",
    "Y_train = Y_train"
   ]
  },
  {
   "cell_type": "code",
   "execution_count": 20,
   "metadata": {},
   "outputs": [
    {
     "data": {
      "text/plain": [
       "Text(0.5, 1.0, 'Train Data')"
      ]
     },
     "execution_count": 20,
     "metadata": {},
     "output_type": "execute_result"
    },
    {
     "data": {
      "image/png": "[encoded data removed]",
      "text/plain": [
       "<Figure size 864x432 with 1 Axes>"
      ]
     },
     "metadata": {
      "needs_background": "light"
     },
     "output_type": "display_data"
    }
   ],
   "source": [
    "import matplotlib.pyplot as plt\n",
    "\n",
    "draw=pd.concat([pd.DataFrame(Y_train),pd.DataFrame(Y_train_predict)],axis=1)\n",
    "draw.iloc[:300,0].plot(figsize=(12,6))\n",
    "draw.iloc[:300,1].plot(figsize=(12,6))\n",
    "plt.legend(('real', 'predict'),loc='upper right',fontsize='15')\n",
    "plt.title(\"Train Data\",fontsize='30') #添加标题\n",
    "#展示在训练集上的表现"
   ]
  },
  {
   "cell_type": "markdown",
   "metadata": {},
   "source": [
    "* 测试集"
   ]
  },
  {
   "cell_type": "code",
   "execution_count": 21,
   "metadata": {},
   "outputs": [],
   "source": [
    "#在测试集上的预测\n",
    "Y_test_predict=model.predict(X_test)[:,0]\n",
    "Y_test=Y_test"
   ]
  },
  {
   "cell_type": "code",
   "execution_count": 22,
   "metadata": {},
   "outputs": [
    {
     "data": {
      "text/plain": [
       "Text(0.5, 1.0, 'Test Data')"
      ]
     },
     "execution_count": 22,
     "metadata": {},
     "output_type": "execute_result"
    },
    {
     "data": {
      "image/png": "[encoded data removed]",
      "text/plain": [
       "<Figure size 864x432 with 1 Axes>"
      ]
     },
     "metadata": {
      "needs_background": "light"
     },
     "output_type": "display_data"
    }
   ],
   "source": [
    "draw=pd.concat([pd.DataFrame(Y_test),pd.DataFrame(Y_test_predict)],axis=1);\n",
    "draw.iloc[:100,0].plot(figsize=(12,6))\n",
    "draw.iloc[:100,1].plot(figsize=(12,6))\n",
    "plt.legend(('real', 'predict'),loc='upper right',fontsize='15')\n",
    "plt.title(\"Test Data\",fontsize='30') #添加标题\n",
    "# 展示在测试集上的表现"
   ]
  },
  {
   "cell_type": "code",
   "execution_count": 23,
   "metadata": {},
   "outputs": [
    {
     "data": {
      "text/plain": [
       "('测试集正确率:', 0.5228019144911618)"
      ]
     },
     "execution_count": 23,
     "metadata": {},
     "output_type": "execute_result"
    }
   ],
   "source": [
    "txt = np.zeros(len(Y_test))\n",
    "test_predict = Y_test_predict.copy()\n",
    "test_predict[Y_test_predict > 0.5] = 1\n",
    "test_predict[Y_test_predict <= 0.5] = 0\n",
    "\n",
    "train_predict = Y_train_predict.copy()\n",
    "train_predict[Y_train_predict > 0.5] = 1\n",
    "train_predict[Y_train_predict <= 0.5] = 0\n",
    "\n",
    "result = metrics.accuracy_score(Y_test, test_predict)\n",
    "'测试集正确率:',result"
   ]
  },
  {
   "cell_type": "markdown",
   "metadata": {},
   "source": [
    "* 训练过程Loss,Accuracy的变化"
   ]
  },
  {
   "cell_type": "code",
   "execution_count": 24,
   "metadata": {},
   "outputs": [
    {
     "data": {
      "text/plain": [
       "<matplotlib.legend.Legend at 0x7efb04223978>"
      ]
     },
     "execution_count": 24,
     "metadata": {},
     "output_type": "execute_result"
    },
    {
     "data": {
      "image/png": "[encoded data removed]",
      "text/plain": [
       "<Figure size 432x288 with 1 Axes>"
      ]
     },
     "metadata": {
      "needs_background": "light"
     },
     "output_type": "display_data"
    }
   ],
   "source": [
    "acc = history.history['accuracy']\n",
    "loss = history.history['loss']\n",
    "epochs = range(1, len(acc) + 1)\n",
    "\n",
    "plt.plot(epochs, loss, 'g', label='Training loss')\n",
    "plt.plot(epochs, acc, 'r', label='Training acc')  \n",
    "plt.title('Training loss and  acc')\n",
    "plt.xlabel('Epochs')\n",
    "plt.ylabel('Acc/Loss')\n",
    "plt.legend()"
   ]
  },
  {
   "cell_type": "markdown",
   "metadata": {},
   "source": [
    "* ROC曲线以及AUC值"
   ]
  },
  {
   "cell_type": "code",
   "execution_count": 25,
   "metadata": {},
   "outputs": [
    {
     "data": {
      "image/png": "[encoded data removed]",
      "text/plain": [
       "<Figure size 432x288 with 1 Axes>"
      ]
     },
     "metadata": {
      "needs_background": "light"
     },
     "output_type": "display_data"
    }
   ],
   "source": [
    "# 测试集\n",
    "Y_test\n",
    "Y_test_predict\n",
    "fpr, tpr, thresholds = metrics.roc_curve(Y_test, Y_test_predict, pos_label=1)\n",
    "auc = metrics.auc(fpr, tpr)\n",
    "\n",
    "plt.figure()\n",
    "lw = 2\n",
    "plt.plot(fpr, tpr, color='darkorange',\n",
    "         lw=lw, label='ROC curve (area = %0.2f)' % auc)\n",
    "plt.plot([0, 1], [0, 1], color='navy', lw=lw, linestyle='--')\n",
    "plt.xlim([0.0, 1.0])\n",
    "plt.ylim([0.0, 1.05])\n",
    "plt.xlabel('False Positive Rate')\n",
    "plt.ylabel('True Positive Rate')\n",
    "plt.title('ROC of test set')\n",
    "plt.legend(loc=\"lower right\")\n",
    "plt.show()"
   ]
  },
  {
   "cell_type": "code",
   "execution_count": 26,
   "metadata": {},
   "outputs": [
    {
     "data": {
      "image/png": "[encoded data removed]",
      "text/plain": [
       "<Figure size 432x288 with 1 Axes>"
      ]
     },
     "metadata": {
      "needs_background": "light"
     },
     "output_type": "display_data"
    }
   ],
   "source": [
    "# 训练集\n",
    "fpr, tpr, thresholds = metrics.roc_curve(Y_train, Y_train_predict, pos_label=1)\n",
    "auc = metrics.auc(fpr, tpr)\n",
    "\n",
    "plt.figure()\n",
    "lw = 2\n",
    "plt.plot(fpr, tpr, color='darkorange',\n",
    "         lw=lw, label='ROC curve (auc = %0.2f)' % auc)\n",
    "plt.plot([0, 1], [0, 1], color='navy', lw=lw, linestyle='--')\n",
    "plt.xlim([0.0, 1.0])\n",
    "plt.ylim([0.0, 1.05])\n",
    "plt.xlabel('False Positive Rate')\n",
    "plt.ylabel('True Positive Rate')\n",
    "plt.title('ROC of train set')\n",
    "plt.legend(loc=\"lower right\")\n",
    "plt.show()"
   ]
  },
  {
   "cell_type": "markdown",
   "metadata": {},
   "source": [
    "* f1-score"
   ]
  },
  {
   "cell_type": "code",
   "execution_count": 27,
   "metadata": {},
   "outputs": [
    {
     "name": "stdout",
     "output_type": "stream",
     "text": [
      "0.5897682194684665\n",
      "0.5069460296360705\n"
     ]
    }
   ],
   "source": [
    "print(metrics.f1_score(Y_train, train_predict))\n",
    "print(metrics.f1_score(Y_test, test_predict))"
   ]
  },
  {
   "cell_type": "markdown",
   "metadata": {},
   "source": [
    "* 混淆矩阵"
   ]
  },
  {
   "cell_type": "code",
   "execution_count": 28,
   "metadata": {},
   "outputs": [
    {
     "data": {
      "text/plain": [
       "array([[852720, 517256],\n",
       "       [618339, 816292]])"
      ]
     },
     "execution_count": 28,
     "metadata": {},
     "output_type": "execute_result"
    }
   ],
   "source": [
    "metrics.confusion_matrix(Y_train, train_predict)"
   ]
  },
  {
   "cell_type": "code",
   "execution_count": 29,
   "metadata": {},
   "outputs": [
    {
     "data": {
      "text/plain": [
       "array([[355443, 281036],\n",
       "       [330239, 314249]])"
      ]
     },
     "execution_count": 29,
     "metadata": {},
     "output_type": "execute_result"
    }
   ],
   "source": [
    "metrics.confusion_matrix(Y_test, test_predict)"
   ]
  },
  {
   "cell_type": "markdown",
   "metadata": {},
   "source": [
    "* 显示主要分类指标"
   ]
  },
  {
   "cell_type": "code",
   "execution_count": 30,
   "metadata": {},
   "outputs": [
    {
     "name": "stdout",
     "output_type": "stream",
     "text": [
      "              precision    recall  f1-score   support\n",
      "\n",
      "         0.0       0.58      0.62      0.60   1369976\n",
      "         1.0       0.61      0.57      0.59   1434631\n",
      "\n",
      "    accuracy                           0.60   2804607\n",
      "   macro avg       0.60      0.60      0.60   2804607\n",
      "weighted avg       0.60      0.60      0.59   2804607\n",
      "\n"
     ]
    }
   ],
   "source": [
    "print(metrics.classification_report(Y_train,train_predict))"
   ]
  },
  {
   "cell_type": "code",
   "execution_count": 31,
   "metadata": {},
   "outputs": [
    {
     "name": "stdout",
     "output_type": "stream",
     "text": [
      "              precision    recall  f1-score   support\n",
      "\n",
      "         0.0       0.52      0.56      0.54    636479\n",
      "         1.0       0.53      0.49      0.51    644488\n",
      "\n",
      "    accuracy                           0.52   1280967\n",
      "   macro avg       0.52      0.52      0.52   1280967\n",
      "weighted avg       0.52      0.52      0.52   1280967\n",
      "\n"
     ]
    }
   ],
   "source": [
    "print(metrics.classification_report(Y_test,test_predict))"
   ]
  },
  {
   "cell_type": "markdown",
   "metadata": {},
   "source": [
    "## 5. 保存模型"
   ]
  },
  {
   "cell_type": "code",
   "execution_count": 32,
   "metadata": {},
   "outputs": [],
   "source": [
    "model.save('./models/biClsModel_D3.h5')"
   ]
  },
  {
   "cell_type": "markdown",
   "metadata": {},
   "source": [
    "## 6. 保存预测结果"
   ]
  },
  {
   "cell_type": "code",
   "execution_count": 33,
   "metadata": {},
   "outputs": [
    {
     "data": {
      "text/plain": [
       "(1280967, 6, 21)"
      ]
     },
     "execution_count": 33,
     "metadata": {},
     "output_type": "execute_result"
    }
   ],
   "source": [
    "testResult.shape"
   ]
  },
  {
   "cell_type": "code",
   "execution_count": 34,
   "metadata": {},
   "outputs": [
    {
     "data": {
      "text/plain": [
       "array([['2020-01-09', '000004.SZ'],\n",
       "       ['2020-01-10', '000004.SZ'],\n",
       "       ['2020-01-13', '000004.SZ'],\n",
       "       ...,\n",
       "       ['2021-07-28', '688600.SH'],\n",
       "       ['2021-07-29', '688600.SH'],\n",
       "       ['2021-07-30', '688600.SH']], dtype=object)"
      ]
     },
     "execution_count": 34,
     "metadata": {},
     "output_type": "execute_result"
    }
   ],
   "source": [
    "testResult[:,-1,:2]"
   ]
  },
  {
   "cell_type": "code",
   "execution_count": 35,
   "metadata": {},
   "outputs": [
    {
     "data": {
      "text/plain": [
       "1280967"
      ]
     },
     "execution_count": 35,
     "metadata": {},
     "output_type": "execute_result"
    }
   ],
   "source": [
    "len(Y_test_predict)"
   ]
  },
  {
   "cell_type": "code",
   "execution_count": 36,
   "metadata": {},
   "outputs": [],
   "source": [
    "pred_df = pd.DataFrame(testResult[:, -1, :2], columns = ['dt', 'kdcode'])"
   ]
  },
  {
   "cell_type": "code",
   "execution_count": 37,
   "metadata": {},
   "outputs": [
    {
     "data": {
      "text/html": [
       "<div>\n",
       "<style scoped>\n",
       "    .dataframe tbody tr th:only-of-type {\n",
       "        vertical-align: middle;\n",
       "    }\n",
       "\n",
       "    .dataframe tbody tr th {\n",
       "        vertical-align: top;\n",
       "    }\n",
       "\n",
       "    .dataframe thead th {\n",
       "        text-align: right;\n",
       "    }\n",
       "</style>\n",
       "<table border=\"1\" class=\"dataframe\">\n",
       "  <thead>\n",
       "    <tr style=\"text-align: right;\">\n",
       "      <th></th>\n",
       "      <th>dt</th>\n",
       "      <th>kdcode</th>\n",
       "    </tr>\n",
       "  </thead>\n",
       "  <tbody>\n",
       "    <tr>\n",
       "      <th>0</th>\n",
       "      <td>2020-01-09</td>\n",
       "      <td>000004.SZ</td>\n",
       "    </tr>\n",
       "    <tr>\n",
       "      <th>1</th>\n",
       "      <td>2020-01-10</td>\n",
       "      <td>000004.SZ</td>\n",
       "    </tr>\n",
       "    <tr>\n",
       "      <th>2</th>\n",
       "      <td>2020-01-13</td>\n",
       "      <td>000004.SZ</td>\n",
       "    </tr>\n",
       "    <tr>\n",
       "      <th>3</th>\n",
       "      <td>2020-01-14</td>\n",
       "      <td>000004.SZ</td>\n",
       "    </tr>\n",
       "    <tr>\n",
       "      <th>4</th>\n",
       "      <td>2020-01-15</td>\n",
       "      <td>000004.SZ</td>\n",
       "    </tr>\n",
       "    <tr>\n",
       "      <th>...</th>\n",
       "      <td>...</td>\n",
       "      <td>...</td>\n",
       "    </tr>\n",
       "    <tr>\n",
       "      <th>1280962</th>\n",
       "      <td>2021-07-26</td>\n",
       "      <td>688600.SH</td>\n",
       "    </tr>\n",
       "    <tr>\n",
       "      <th>1280963</th>\n",
       "      <td>2021-07-27</td>\n",
       "      <td>688600.SH</td>\n",
       "    </tr>\n",
       "    <tr>\n",
       "      <th>1280964</th>\n",
       "      <td>2021-07-28</td>\n",
       "      <td>688600.SH</td>\n",
       "    </tr>\n",
       "    <tr>\n",
       "      <th>1280965</th>\n",
       "      <td>2021-07-29</td>\n",
       "      <td>688600.SH</td>\n",
       "    </tr>\n",
       "    <tr>\n",
       "      <th>1280966</th>\n",
       "      <td>2021-07-30</td>\n",
       "      <td>688600.SH</td>\n",
       "    </tr>\n",
       "  </tbody>\n",
       "</table>\n",
       "<p>1280967 rows × 2 columns</p>\n",
       "</div>"
      ],
      "text/plain": [
       "                 dt     kdcode\n",
       "0        2020-01-09  000004.SZ\n",
       "1        2020-01-10  000004.SZ\n",
       "2        2020-01-13  000004.SZ\n",
       "3        2020-01-14  000004.SZ\n",
       "4        2020-01-15  000004.SZ\n",
       "...             ...        ...\n",
       "1280962  2021-07-26  688600.SH\n",
       "1280963  2021-07-27  688600.SH\n",
       "1280964  2021-07-28  688600.SH\n",
       "1280965  2021-07-29  688600.SH\n",
       "1280966  2021-07-30  688600.SH\n",
       "\n",
       "[1280967 rows x 2 columns]"
      ]
     },
     "execution_count": 37,
     "metadata": {},
     "output_type": "execute_result"
    }
   ],
   "source": [
    "pred_df"
   ]
  },
  {
   "cell_type": "code",
   "execution_count": 38,
   "metadata": {},
   "outputs": [],
   "source": [
    "pred_df['score'] = Y_test_predict"
   ]
  },
  {
   "cell_type": "code",
   "execution_count": 39,
   "metadata": {},
   "outputs": [
    {
     "data": {
      "text/html": [
       "<div>\n",
       "<style scoped>\n",
       "    .dataframe tbody tr th:only-of-type {\n",
       "        vertical-align: middle;\n",
       "    }\n",
       "\n",
       "    .dataframe tbody tr th {\n",
       "        vertical-align: top;\n",
       "    }\n",
       "\n",
       "    .dataframe thead th {\n",
       "        text-align: right;\n",
       "    }\n",
       "</style>\n",
       "<table border=\"1\" class=\"dataframe\">\n",
       "  <thead>\n",
       "    <tr style=\"text-align: right;\">\n",
       "      <th></th>\n",
       "      <th>dt</th>\n",
       "      <th>kdcode</th>\n",
       "      <th>score</th>\n",
       "    </tr>\n",
       "  </thead>\n",
       "  <tbody>\n",
       "    <tr>\n",
       "      <th>0</th>\n",
       "      <td>2020-01-09</td>\n",
       "      <td>000004.SZ</td>\n",
       "      <td>0.479650</td>\n",
       "    </tr>\n",
       "    <tr>\n",
       "      <th>1</th>\n",
       "      <td>2020-01-10</td>\n",
       "      <td>000004.SZ</td>\n",
       "      <td>0.465059</td>\n",
       "    </tr>\n",
       "    <tr>\n",
       "      <th>2</th>\n",
       "      <td>2020-01-13</td>\n",
       "      <td>000004.SZ</td>\n",
       "      <td>0.474171</td>\n",
       "    </tr>\n",
       "    <tr>\n",
       "      <th>3</th>\n",
       "      <td>2020-01-14</td>\n",
       "      <td>000004.SZ</td>\n",
       "      <td>0.526859</td>\n",
       "    </tr>\n",
       "    <tr>\n",
       "      <th>4</th>\n",
       "      <td>2020-01-15</td>\n",
       "      <td>000004.SZ</td>\n",
       "      <td>0.482281</td>\n",
       "    </tr>\n",
       "    <tr>\n",
       "      <th>...</th>\n",
       "      <td>...</td>\n",
       "      <td>...</td>\n",
       "      <td>...</td>\n",
       "    </tr>\n",
       "    <tr>\n",
       "      <th>1280962</th>\n",
       "      <td>2021-07-26</td>\n",
       "      <td>688600.SH</td>\n",
       "      <td>0.503448</td>\n",
       "    </tr>\n",
       "    <tr>\n",
       "      <th>1280963</th>\n",
       "      <td>2021-07-27</td>\n",
       "      <td>688600.SH</td>\n",
       "      <td>0.562646</td>\n",
       "    </tr>\n",
       "    <tr>\n",
       "      <th>1280964</th>\n",
       "      <td>2021-07-28</td>\n",
       "      <td>688600.SH</td>\n",
       "      <td>0.538602</td>\n",
       "    </tr>\n",
       "    <tr>\n",
       "      <th>1280965</th>\n",
       "      <td>2021-07-29</td>\n",
       "      <td>688600.SH</td>\n",
       "      <td>0.556052</td>\n",
       "    </tr>\n",
       "    <tr>\n",
       "      <th>1280966</th>\n",
       "      <td>2021-07-30</td>\n",
       "      <td>688600.SH</td>\n",
       "      <td>0.422820</td>\n",
       "    </tr>\n",
       "  </tbody>\n",
       "</table>\n",
       "<p>1280967 rows × 3 columns</p>\n",
       "</div>"
      ],
      "text/plain": [
       "                 dt     kdcode     score\n",
       "0        2020-01-09  000004.SZ  0.479650\n",
       "1        2020-01-10  000004.SZ  0.465059\n",
       "2        2020-01-13  000004.SZ  0.474171\n",
       "3        2020-01-14  000004.SZ  0.526859\n",
       "4        2020-01-15  000004.SZ  0.482281\n",
       "...             ...        ...       ...\n",
       "1280962  2021-07-26  688600.SH  0.503448\n",
       "1280963  2021-07-27  688600.SH  0.562646\n",
       "1280964  2021-07-28  688600.SH  0.538602\n",
       "1280965  2021-07-29  688600.SH  0.556052\n",
       "1280966  2021-07-30  688600.SH  0.422820\n",
       "\n",
       "[1280967 rows x 3 columns]"
      ]
     },
     "execution_count": 39,
     "metadata": {},
     "output_type": "execute_result"
    }
   ],
   "source": [
    "pred_df"
   ]
  },
  {
   "cell_type": "code",
   "execution_count": 40,
   "metadata": {},
   "outputs": [
    {
     "data": {
      "text/plain": [
       "'2020-01-09'"
      ]
     },
     "execution_count": 40,
     "metadata": {},
     "output_type": "execute_result"
    }
   ],
   "source": [
    "st_date = pred_df['dt'].min()\n",
    "st_date"
   ]
  },
  {
   "cell_type": "code",
   "execution_count": 41,
   "metadata": {},
   "outputs": [
    {
     "data": {
      "text/plain": [
       "DatetimeIndex(['2020-01-09', '2020-01-10', '2020-01-13', '2020-01-14',\n",
       "               '2020-01-15', '2020-01-16', '2020-01-17', '2020-01-20',\n",
       "               '2020-01-21', '2020-01-22',\n",
       "               ...\n",
       "               '2021-07-07', '2021-07-08', '2021-07-09', '2021-07-12',\n",
       "               '2021-07-13', '2021-07-14', '2021-07-15', '2021-07-16',\n",
       "               '2021-07-19', '2021-07-20'],\n",
       "              dtype='datetime64[ns]', length=399, freq='B')"
      ]
     },
     "execution_count": 41,
     "metadata": {},
     "output_type": "execute_result"
    }
   ],
   "source": [
    "dr = pd.date_range(st_date,'2021-7-20',freq='B') # 工作日\n",
    "dr"
   ]
  },
  {
   "cell_type": "code",
   "execution_count": 42,
   "metadata": {},
   "outputs": [
    {
     "name": "stderr",
     "output_type": "stream",
     "text": [
      "100%|██████████| 399/399 [00:36<00:00, 11.04it/s]\n"
     ]
    }
   ],
   "source": [
    "for date_i in tqdm(dr):\n",
    "    dt = str(date_i.date())\n",
    "    tmp_df = pred_df[pred_df['dt'] == dt]\n",
    "    save_path = '../result4tiho/biClsModel_D3/prediction/' + dt + '.csv'\n",
    "    tmp_df.set_index(tmp_df['kdcode'])\n",
    "    tmp_df.to_csv(save_path, index = False)"
   ]
  },
  {
   "cell_type": "markdown",
   "metadata": {},
   "source": [
    "## 7. 实验记录\n",
    "* 属性：全部\n",
    "* d = 0.001\n",
    "| epochs | 训练集准确率 | 测试集准确率       |\n",
    "| ------ | ------------ | ------------------ |\n",
    "| 5      | 0.5846       | 0.5221880443091748 |\n",
    "| 10     | 0.5961       | 0.5201698126342925 |\n",
    "| 15     | 0.5995       | 0.5204259780076281 |\n",
    "| 20     | 0.6012       | 0.5212553049550764 |\n",
    "| 25     | 0.6015       | 0.5205253350257821 |\n",
    "| 30     | 0.6022       | 0.5203076958431592 |\n",
    "\n",
    "* 属性：全部\n",
    "* d = 0.01\n"
   ]
  }
 ],
 "metadata": {
  "kernelspec": {
   "display_name": "env4tiho_py36",
   "language": "python",
   "name": "env4tiho_py36"
  },
  "language_info": {
   "codemirror_mode": {
    "name": "ipython",
    "version": 3
   },
   "file_extension": ".py",
   "mimetype": "text/x-python",
   "name": "python",
   "nbconvert_exporter": "python",
   "pygments_lexer": "ipython3",
   "version": "3.6.5"
  }
 },
 "nbformat": 4,
 "nbformat_minor": 4
}
