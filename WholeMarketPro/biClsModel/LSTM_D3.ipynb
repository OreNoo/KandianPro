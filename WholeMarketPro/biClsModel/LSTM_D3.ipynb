{
 "cells": [
  {
   "cell_type": "markdown",
   "metadata": {},
   "source": [
    "# 基于`LSTM模型`预测未来一个交易日`开盘价的涨跌`"
   ]
  },
  {
   "cell_type": "markdown",
   "metadata": {},
   "source": [
    "## 1. 数据预处理\n",
    "### 1.1 根据股票代码划分数据"
   ]
  },
  {
   "cell_type": "code",
   "execution_count": 1,
   "metadata": {},
   "outputs": [
    {
     "name": "stderr",
     "output_type": "stream",
     "text": [
      "/home/tianhao/env4tiho_py36/lib/python3.6/site-packages/pandas/compat/__init__.py:85: UserWarning: Could not import the lzma module. Your installed Python is incomplete. Attempting to use lzma compression will result in a RuntimeError.\n",
      "  warnings.warn(msg)\n",
      "Duplicate key in file PosixPath('/home/tianhao/env4tiho_py36/lib/python3.6/site-packages/matplotlib/mpl-data/matplotlibrc'), line 400 ('axes.unicode_minus: True  # use Unicode for the minus symbol rather than hyphen.  See')\n",
      "/home/tianhao/env4tiho_py36/lib/python3.6/site-packages/pandas/compat/__init__.py:85: UserWarning: Could not import the lzma module. Your installed Python is incomplete. Attempting to use lzma compression will result in a RuntimeError.\n",
      "  warnings.warn(msg)\n"
     ]
    }
   ],
   "source": [
    "import pandas as pd\n",
    "from tqdm import tqdm\n",
    "import numpy as np\n",
    "\n",
    "# 全局变量\n",
    "cols = [0,1,2,3,4,5,6,7,8,9,10,11,12,13,14,15,16,17] # 选取属性\n",
    "feanum=len(cols) - 3 # 特征数量\n",
    "window=5 # 时间窗设置"
   ]
  },
  {
   "cell_type": "markdown",
   "metadata": {},
   "source": [
    "* **训练集**"
   ]
  },
  {
   "cell_type": "code",
   "execution_count": 2,
   "metadata": {},
   "outputs": [
    {
     "data": {
      "text/plain": [
       "('训练集股票数量：', 3723)"
      ]
     },
     "execution_count": 2,
     "metadata": {},
     "output_type": "execute_result"
    }
   ],
   "source": [
    "train_df = pd.read_csv(\"../data/trainData3.csv\", usecols=cols)\n",
    "# train_df = pd.read_csv(\"../data/trainData.csv\")\n",
    "train_stocks_code = train_df[\"kdcode\"].unique()\n",
    "train_stocks_num = len(train_stocks_code)\n",
    "\n",
    "\"训练集股票数量：\",train_stocks_num"
   ]
  },
  {
   "cell_type": "code",
   "execution_count": 3,
   "metadata": {},
   "outputs": [
    {
     "data": {
      "text/html": [
       "<div>\n",
       "<style scoped>\n",
       "    .dataframe tbody tr th:only-of-type {\n",
       "        vertical-align: middle;\n",
       "    }\n",
       "\n",
       "    .dataframe tbody tr th {\n",
       "        vertical-align: top;\n",
       "    }\n",
       "\n",
       "    .dataframe thead th {\n",
       "        text-align: right;\n",
       "    }\n",
       "</style>\n",
       "<table border=\"1\" class=\"dataframe\">\n",
       "  <thead>\n",
       "    <tr style=\"text-align: right;\">\n",
       "      <th></th>\n",
       "      <th>dt</th>\n",
       "      <th>kdcode</th>\n",
       "      <th>volume</th>\n",
       "      <th>turnover</th>\n",
       "      <th>turn</th>\n",
       "      <th>vwap</th>\n",
       "      <th>vwap_mean3</th>\n",
       "      <th>vwap_mean5</th>\n",
       "      <th>vwap_mean10</th>\n",
       "      <th>pct_chg</th>\n",
       "      <th>chg_mean3</th>\n",
       "      <th>chg_mean5</th>\n",
       "      <th>chg_mean10</th>\n",
       "      <th>adj_open</th>\n",
       "      <th>open_mean3</th>\n",
       "      <th>open_mean5</th>\n",
       "      <th>open_mean10</th>\n",
       "      <th>label</th>\n",
       "    </tr>\n",
       "  </thead>\n",
       "  <tbody>\n",
       "    <tr>\n",
       "      <th>0</th>\n",
       "      <td>2016-01-04</td>\n",
       "      <td>000001.SZ</td>\n",
       "      <td>4.523495</td>\n",
       "      <td>4.509965</td>\n",
       "      <td>-0.370305</td>\n",
       "      <td>0.064544</td>\n",
       "      <td>0.064377</td>\n",
       "      <td>0.064083</td>\n",
       "      <td>0.063036</td>\n",
       "      <td>-2.155881</td>\n",
       "      <td>-3.487342</td>\n",
       "      <td>-4.358350</td>\n",
       "      <td>-6.033728</td>\n",
       "      <td>18.997222</td>\n",
       "      <td>18.994527</td>\n",
       "      <td>18.993194</td>\n",
       "      <td>18.989172</td>\n",
       "      <td>0.0</td>\n",
       "    </tr>\n",
       "    <tr>\n",
       "      <th>1</th>\n",
       "      <td>2016-01-05</td>\n",
       "      <td>000001.SZ</td>\n",
       "      <td>5.411601</td>\n",
       "      <td>5.229687</td>\n",
       "      <td>-0.333054</td>\n",
       "      <td>0.040246</td>\n",
       "      <td>0.052216</td>\n",
       "      <td>0.051918</td>\n",
       "      <td>0.050869</td>\n",
       "      <td>0.238673</td>\n",
       "      <td>-1.550633</td>\n",
       "      <td>-1.937923</td>\n",
       "      <td>-2.682873</td>\n",
       "      <td>17.793307</td>\n",
       "      <td>18.392643</td>\n",
       "      <td>18.391340</td>\n",
       "      <td>18.387424</td>\n",
       "      <td>1.0</td>\n",
       "    </tr>\n",
       "    <tr>\n",
       "      <th>2</th>\n",
       "      <td>2016-01-06</td>\n",
       "      <td>000001.SZ</td>\n",
       "      <td>4.098086</td>\n",
       "      <td>3.990511</td>\n",
       "      <td>-0.388159</td>\n",
       "      <td>0.046357</td>\n",
       "      <td>0.050202</td>\n",
       "      <td>0.049903</td>\n",
       "      <td>0.048853</td>\n",
       "      <td>0.446044</td>\n",
       "      <td>-0.793249</td>\n",
       "      <td>-0.991373</td>\n",
       "      <td>-1.372463</td>\n",
       "      <td>18.040687</td>\n",
       "      <td>18.274465</td>\n",
       "      <td>18.273168</td>\n",
       "      <td>18.269272</td>\n",
       "      <td>0.0</td>\n",
       "    </tr>\n",
       "    <tr>\n",
       "      <th>3</th>\n",
       "      <td>2016-01-07</td>\n",
       "      <td>000001.SZ</td>\n",
       "      <td>1.063213</td>\n",
       "      <td>0.989032</td>\n",
       "      <td>-0.515473</td>\n",
       "      <td>0.022451</td>\n",
       "      <td>0.036157</td>\n",
       "      <td>0.042911</td>\n",
       "      <td>0.041859</td>\n",
       "      <td>-2.003287</td>\n",
       "      <td>-0.710970</td>\n",
       "      <td>-1.755996</td>\n",
       "      <td>-2.431012</td>\n",
       "      <td>18.024195</td>\n",
       "      <td>17.950162</td>\n",
       "      <td>18.209960</td>\n",
       "      <td>18.206075</td>\n",
       "      <td>0.0</td>\n",
       "    </tr>\n",
       "    <tr>\n",
       "      <th>4</th>\n",
       "      <td>2016-01-08</td>\n",
       "      <td>000001.SZ</td>\n",
       "      <td>6.161607</td>\n",
       "      <td>5.803036</td>\n",
       "      <td>-0.301578</td>\n",
       "      <td>0.020267</td>\n",
       "      <td>0.029490</td>\n",
       "      <td>0.038279</td>\n",
       "      <td>0.037226</td>\n",
       "      <td>0.641678</td>\n",
       "      <td>-0.493671</td>\n",
       "      <td>-1.145352</td>\n",
       "      <td>-1.585633</td>\n",
       "      <td>17.694355</td>\n",
       "      <td>17.917182</td>\n",
       "      <td>18.106078</td>\n",
       "      <td>18.102212</td>\n",
       "      <td>0.0</td>\n",
       "    </tr>\n",
       "    <tr>\n",
       "      <th>...</th>\n",
       "      <td>...</td>\n",
       "      <td>...</td>\n",
       "      <td>...</td>\n",
       "      <td>...</td>\n",
       "      <td>...</td>\n",
       "      <td>...</td>\n",
       "      <td>...</td>\n",
       "      <td>...</td>\n",
       "      <td>...</td>\n",
       "      <td>...</td>\n",
       "      <td>...</td>\n",
       "      <td>...</td>\n",
       "      <td>...</td>\n",
       "      <td>...</td>\n",
       "      <td>...</td>\n",
       "      <td>...</td>\n",
       "      <td>...</td>\n",
       "      <td>...</td>\n",
       "    </tr>\n",
       "    <tr>\n",
       "      <th>3176828</th>\n",
       "      <td>2019-12-25</td>\n",
       "      <td>688399.SH</td>\n",
       "      <td>-0.362615</td>\n",
       "      <td>0.165046</td>\n",
       "      <td>4.237612</td>\n",
       "      <td>3.559949</td>\n",
       "      <td>3.543289</td>\n",
       "      <td>3.566013</td>\n",
       "      <td>3.473073</td>\n",
       "      <td>0.058690</td>\n",
       "      <td>0.067511</td>\n",
       "      <td>-0.966589</td>\n",
       "      <td>1.046868</td>\n",
       "      <td>0.383472</td>\n",
       "      <td>0.382254</td>\n",
       "      <td>0.389854</td>\n",
       "      <td>0.355136</td>\n",
       "      <td>1.0</td>\n",
       "    </tr>\n",
       "    <tr>\n",
       "      <th>3176829</th>\n",
       "      <td>2019-12-26</td>\n",
       "      <td>688399.SH</td>\n",
       "      <td>-0.341554</td>\n",
       "      <td>0.278710</td>\n",
       "      <td>5.017898</td>\n",
       "      <td>3.607271</td>\n",
       "      <td>3.574056</td>\n",
       "      <td>3.566844</td>\n",
       "      <td>3.497635</td>\n",
       "      <td>0.359966</td>\n",
       "      <td>0.293249</td>\n",
       "      <td>0.196165</td>\n",
       "      <td>0.759965</td>\n",
       "      <td>0.386069</td>\n",
       "      <td>0.382787</td>\n",
       "      <td>0.381943</td>\n",
       "      <td>0.363784</td>\n",
       "      <td>1.0</td>\n",
       "    </tr>\n",
       "    <tr>\n",
       "      <th>3176830</th>\n",
       "      <td>2019-12-27</td>\n",
       "      <td>688399.SH</td>\n",
       "      <td>-0.275756</td>\n",
       "      <td>0.591346</td>\n",
       "      <td>7.464557</td>\n",
       "      <td>3.525012</td>\n",
       "      <td>3.567378</td>\n",
       "      <td>3.554471</td>\n",
       "      <td>3.522290</td>\n",
       "      <td>-1.592456</td>\n",
       "      <td>-0.632911</td>\n",
       "      <td>-0.447700</td>\n",
       "      <td>0.347131</td>\n",
       "      <td>0.405450</td>\n",
       "      <td>0.391244</td>\n",
       "      <td>0.387097</td>\n",
       "      <td>0.372732</td>\n",
       "      <td>0.0</td>\n",
       "    </tr>\n",
       "    <tr>\n",
       "      <th>3176831</th>\n",
       "      <td>2019-12-30</td>\n",
       "      <td>688399.SH</td>\n",
       "      <td>-0.383364</td>\n",
       "      <td>0.034544</td>\n",
       "      <td>3.466144</td>\n",
       "      <td>3.347475</td>\n",
       "      <td>3.496483</td>\n",
       "      <td>3.520911</td>\n",
       "      <td>3.523196</td>\n",
       "      <td>-0.410830</td>\n",
       "      <td>-0.886076</td>\n",
       "      <td>-0.590078</td>\n",
       "      <td>0.108410</td>\n",
       "      <td>0.329725</td>\n",
       "      <td>0.373331</td>\n",
       "      <td>0.376150</td>\n",
       "      <td>0.372772</td>\n",
       "      <td>1.0</td>\n",
       "    </tr>\n",
       "    <tr>\n",
       "      <th>3176832</th>\n",
       "      <td>2019-12-31</td>\n",
       "      <td>688399.SH</td>\n",
       "      <td>-0.327366</td>\n",
       "      <td>0.328809</td>\n",
       "      <td>5.546905</td>\n",
       "      <td>3.492569</td>\n",
       "      <td>3.458211</td>\n",
       "      <td>3.510406</td>\n",
       "      <td>3.538696</td>\n",
       "      <td>1.056421</td>\n",
       "      <td>-0.510549</td>\n",
       "      <td>-0.213567</td>\n",
       "      <td>0.454446</td>\n",
       "      <td>0.333721</td>\n",
       "      <td>0.355884</td>\n",
       "      <td>0.366881</td>\n",
       "      <td>0.372972</td>\n",
       "      <td>1.0</td>\n",
       "    </tr>\n",
       "  </tbody>\n",
       "</table>\n",
       "<p>3176833 rows × 18 columns</p>\n",
       "</div>"
      ],
      "text/plain": [
       "                 dt     kdcode    volume  turnover      turn      vwap  \\\n",
       "0        2016-01-04  000001.SZ  4.523495  4.509965 -0.370305  0.064544   \n",
       "1        2016-01-05  000001.SZ  5.411601  5.229687 -0.333054  0.040246   \n",
       "2        2016-01-06  000001.SZ  4.098086  3.990511 -0.388159  0.046357   \n",
       "3        2016-01-07  000001.SZ  1.063213  0.989032 -0.515473  0.022451   \n",
       "4        2016-01-08  000001.SZ  6.161607  5.803036 -0.301578  0.020267   \n",
       "...             ...        ...       ...       ...       ...       ...   \n",
       "3176828  2019-12-25  688399.SH -0.362615  0.165046  4.237612  3.559949   \n",
       "3176829  2019-12-26  688399.SH -0.341554  0.278710  5.017898  3.607271   \n",
       "3176830  2019-12-27  688399.SH -0.275756  0.591346  7.464557  3.525012   \n",
       "3176831  2019-12-30  688399.SH -0.383364  0.034544  3.466144  3.347475   \n",
       "3176832  2019-12-31  688399.SH -0.327366  0.328809  5.546905  3.492569   \n",
       "\n",
       "         vwap_mean3  vwap_mean5  vwap_mean10   pct_chg  chg_mean3  chg_mean5  \\\n",
       "0          0.064377    0.064083     0.063036 -2.155881  -3.487342  -4.358350   \n",
       "1          0.052216    0.051918     0.050869  0.238673  -1.550633  -1.937923   \n",
       "2          0.050202    0.049903     0.048853  0.446044  -0.793249  -0.991373   \n",
       "3          0.036157    0.042911     0.041859 -2.003287  -0.710970  -1.755996   \n",
       "4          0.029490    0.038279     0.037226  0.641678  -0.493671  -1.145352   \n",
       "...             ...         ...          ...       ...        ...        ...   \n",
       "3176828    3.543289    3.566013     3.473073  0.058690   0.067511  -0.966589   \n",
       "3176829    3.574056    3.566844     3.497635  0.359966   0.293249   0.196165   \n",
       "3176830    3.567378    3.554471     3.522290 -1.592456  -0.632911  -0.447700   \n",
       "3176831    3.496483    3.520911     3.523196 -0.410830  -0.886076  -0.590078   \n",
       "3176832    3.458211    3.510406     3.538696  1.056421  -0.510549  -0.213567   \n",
       "\n",
       "         chg_mean10   adj_open  open_mean3  open_mean5  open_mean10  label  \n",
       "0         -6.033728  18.997222   18.994527   18.993194    18.989172    0.0  \n",
       "1         -2.682873  17.793307   18.392643   18.391340    18.387424    1.0  \n",
       "2         -1.372463  18.040687   18.274465   18.273168    18.269272    0.0  \n",
       "3         -2.431012  18.024195   17.950162   18.209960    18.206075    0.0  \n",
       "4         -1.585633  17.694355   17.917182   18.106078    18.102212    0.0  \n",
       "...             ...        ...         ...         ...          ...    ...  \n",
       "3176828    1.046868   0.383472    0.382254    0.389854     0.355136    1.0  \n",
       "3176829    0.759965   0.386069    0.382787    0.381943     0.363784    1.0  \n",
       "3176830    0.347131   0.405450    0.391244    0.387097     0.372732    0.0  \n",
       "3176831    0.108410   0.329725    0.373331    0.376150     0.372772    1.0  \n",
       "3176832    0.454446   0.333721    0.355884    0.366881     0.372972    1.0  \n",
       "\n",
       "[3176833 rows x 18 columns]"
      ]
     },
     "execution_count": 3,
     "metadata": {},
     "output_type": "execute_result"
    }
   ],
   "source": [
    "train_df"
   ]
  },
  {
   "cell_type": "code",
   "execution_count": 4,
   "metadata": {},
   "outputs": [
    {
     "name": "stderr",
     "output_type": "stream",
     "text": [
      "100%|██████████| 3723/3723 [02:41<00:00, 23.04it/s]\n"
     ]
    }
   ],
   "source": [
    "# 根据股票代码划分数据\n",
    "for i, stock_i in enumerate(tqdm(train_stocks_code)):\n",
    "    stock_i_data = train_df[train_df['kdcode'].isin([stock_i])]\n",
    "    exec(\"train_df%s = stock_i_data\" % i)"
   ]
  },
  {
   "cell_type": "markdown",
   "metadata": {},
   "source": [
    "* **测试集**"
   ]
  },
  {
   "cell_type": "code",
   "execution_count": 5,
   "metadata": {},
   "outputs": [
    {
     "data": {
      "text/plain": [
       "('测试集股票数量：', 4018)"
      ]
     },
     "execution_count": 5,
     "metadata": {},
     "output_type": "execute_result"
    }
   ],
   "source": [
    "test_df = pd.read_csv(\"../data/testData3.csv\", usecols=cols)\n",
    "# test_df = pd.read_csv(\"../data/testData.csv\")\n",
    "test_stocks_code = test_df[\"kdcode\"].unique()\n",
    "test_stocks_num = len(test_stocks_code)\n",
    "\n",
    "\"测试集股票数量：\",test_stocks_num"
   ]
  },
  {
   "cell_type": "code",
   "execution_count": 6,
   "metadata": {},
   "outputs": [
    {
     "name": "stderr",
     "output_type": "stream",
     "text": [
      "100%|██████████| 4018/4018 [01:17<00:00, 51.81it/s]\n"
     ]
    }
   ],
   "source": [
    "# 根据股票代码划分数据\n",
    "for i, stock_i in enumerate(tqdm(test_stocks_code)):\n",
    "    stock_i_data = test_df[test_df['kdcode'].isin([stock_i])]\n",
    "    exec(\"test_df%s = stock_i_data\" % i)"
   ]
  },
  {
   "cell_type": "markdown",
   "metadata": {},
   "source": [
    "### 1.2. 将原始数据改造为LSTM网络的输入\n",
    "分割出window个时间窗的数据为输入的`X`\n",
    "\n",
    "紧接着的那条数据为标签`Y`\n",
    "\n",
    "因此需要将每只股票的数据按照时间(日期)分割成`window + 1`长度的数据\n",
    "\n",
    "* **训练集**"
   ]
  },
  {
   "cell_type": "code",
   "execution_count": 7,
   "metadata": {},
   "outputs": [
    {
     "data": {
      "text/html": [
       "<div>\n",
       "<style scoped>\n",
       "    .dataframe tbody tr th:only-of-type {\n",
       "        vertical-align: middle;\n",
       "    }\n",
       "\n",
       "    .dataframe tbody tr th {\n",
       "        vertical-align: top;\n",
       "    }\n",
       "\n",
       "    .dataframe thead th {\n",
       "        text-align: right;\n",
       "    }\n",
       "</style>\n",
       "<table border=\"1\" class=\"dataframe\">\n",
       "  <thead>\n",
       "    <tr style=\"text-align: right;\">\n",
       "      <th></th>\n",
       "      <th>dt</th>\n",
       "      <th>kdcode</th>\n",
       "      <th>volume</th>\n",
       "      <th>turnover</th>\n",
       "      <th>turn</th>\n",
       "      <th>vwap</th>\n",
       "      <th>vwap_mean3</th>\n",
       "      <th>vwap_mean5</th>\n",
       "      <th>vwap_mean10</th>\n",
       "      <th>pct_chg</th>\n",
       "      <th>chg_mean3</th>\n",
       "      <th>chg_mean5</th>\n",
       "      <th>chg_mean10</th>\n",
       "      <th>adj_open</th>\n",
       "      <th>open_mean3</th>\n",
       "      <th>open_mean5</th>\n",
       "      <th>open_mean10</th>\n",
       "      <th>label</th>\n",
       "    </tr>\n",
       "  </thead>\n",
       "  <tbody>\n",
       "    <tr>\n",
       "      <th>0</th>\n",
       "      <td>2016-01-04</td>\n",
       "      <td>000001.SZ</td>\n",
       "      <td>4.523495</td>\n",
       "      <td>4.509965</td>\n",
       "      <td>-0.370305</td>\n",
       "      <td>0.064544</td>\n",
       "      <td>0.064377</td>\n",
       "      <td>0.064083</td>\n",
       "      <td>0.063036</td>\n",
       "      <td>-2.155881</td>\n",
       "      <td>-3.487342</td>\n",
       "      <td>-4.358350</td>\n",
       "      <td>-6.033728</td>\n",
       "      <td>18.997222</td>\n",
       "      <td>18.994527</td>\n",
       "      <td>18.993194</td>\n",
       "      <td>18.989172</td>\n",
       "      <td>0.0</td>\n",
       "    </tr>\n",
       "    <tr>\n",
       "      <th>1</th>\n",
       "      <td>2016-01-05</td>\n",
       "      <td>000001.SZ</td>\n",
       "      <td>5.411601</td>\n",
       "      <td>5.229687</td>\n",
       "      <td>-0.333054</td>\n",
       "      <td>0.040246</td>\n",
       "      <td>0.052216</td>\n",
       "      <td>0.051918</td>\n",
       "      <td>0.050869</td>\n",
       "      <td>0.238673</td>\n",
       "      <td>-1.550633</td>\n",
       "      <td>-1.937923</td>\n",
       "      <td>-2.682873</td>\n",
       "      <td>17.793307</td>\n",
       "      <td>18.392643</td>\n",
       "      <td>18.391340</td>\n",
       "      <td>18.387424</td>\n",
       "      <td>1.0</td>\n",
       "    </tr>\n",
       "    <tr>\n",
       "      <th>2</th>\n",
       "      <td>2016-01-06</td>\n",
       "      <td>000001.SZ</td>\n",
       "      <td>4.098086</td>\n",
       "      <td>3.990511</td>\n",
       "      <td>-0.388159</td>\n",
       "      <td>0.046357</td>\n",
       "      <td>0.050202</td>\n",
       "      <td>0.049903</td>\n",
       "      <td>0.048853</td>\n",
       "      <td>0.446044</td>\n",
       "      <td>-0.793249</td>\n",
       "      <td>-0.991373</td>\n",
       "      <td>-1.372463</td>\n",
       "      <td>18.040687</td>\n",
       "      <td>18.274465</td>\n",
       "      <td>18.273168</td>\n",
       "      <td>18.269272</td>\n",
       "      <td>0.0</td>\n",
       "    </tr>\n",
       "    <tr>\n",
       "      <th>3</th>\n",
       "      <td>2016-01-07</td>\n",
       "      <td>000001.SZ</td>\n",
       "      <td>1.063213</td>\n",
       "      <td>0.989032</td>\n",
       "      <td>-0.515473</td>\n",
       "      <td>0.022451</td>\n",
       "      <td>0.036157</td>\n",
       "      <td>0.042911</td>\n",
       "      <td>0.041859</td>\n",
       "      <td>-2.003287</td>\n",
       "      <td>-0.710970</td>\n",
       "      <td>-1.755996</td>\n",
       "      <td>-2.431012</td>\n",
       "      <td>18.024195</td>\n",
       "      <td>17.950162</td>\n",
       "      <td>18.209960</td>\n",
       "      <td>18.206075</td>\n",
       "      <td>0.0</td>\n",
       "    </tr>\n",
       "    <tr>\n",
       "      <th>4</th>\n",
       "      <td>2016-01-08</td>\n",
       "      <td>000001.SZ</td>\n",
       "      <td>6.161607</td>\n",
       "      <td>5.803036</td>\n",
       "      <td>-0.301578</td>\n",
       "      <td>0.020267</td>\n",
       "      <td>0.029490</td>\n",
       "      <td>0.038279</td>\n",
       "      <td>0.037226</td>\n",
       "      <td>0.641678</td>\n",
       "      <td>-0.493671</td>\n",
       "      <td>-1.145352</td>\n",
       "      <td>-1.585633</td>\n",
       "      <td>17.694355</td>\n",
       "      <td>17.917182</td>\n",
       "      <td>18.106078</td>\n",
       "      <td>18.102212</td>\n",
       "      <td>0.0</td>\n",
       "    </tr>\n",
       "    <tr>\n",
       "      <th>...</th>\n",
       "      <td>...</td>\n",
       "      <td>...</td>\n",
       "      <td>...</td>\n",
       "      <td>...</td>\n",
       "      <td>...</td>\n",
       "      <td>...</td>\n",
       "      <td>...</td>\n",
       "      <td>...</td>\n",
       "      <td>...</td>\n",
       "      <td>...</td>\n",
       "      <td>...</td>\n",
       "      <td>...</td>\n",
       "      <td>...</td>\n",
       "      <td>...</td>\n",
       "      <td>...</td>\n",
       "      <td>...</td>\n",
       "      <td>...</td>\n",
       "      <td>...</td>\n",
       "    </tr>\n",
       "    <tr>\n",
       "      <th>3176828</th>\n",
       "      <td>2019-12-25</td>\n",
       "      <td>688399.SH</td>\n",
       "      <td>-0.362615</td>\n",
       "      <td>0.165046</td>\n",
       "      <td>4.237612</td>\n",
       "      <td>3.559949</td>\n",
       "      <td>3.543289</td>\n",
       "      <td>3.566013</td>\n",
       "      <td>3.473073</td>\n",
       "      <td>0.058690</td>\n",
       "      <td>0.067511</td>\n",
       "      <td>-0.966589</td>\n",
       "      <td>1.046868</td>\n",
       "      <td>0.383472</td>\n",
       "      <td>0.382254</td>\n",
       "      <td>0.389854</td>\n",
       "      <td>0.355136</td>\n",
       "      <td>1.0</td>\n",
       "    </tr>\n",
       "    <tr>\n",
       "      <th>3176829</th>\n",
       "      <td>2019-12-26</td>\n",
       "      <td>688399.SH</td>\n",
       "      <td>-0.341554</td>\n",
       "      <td>0.278710</td>\n",
       "      <td>5.017898</td>\n",
       "      <td>3.607271</td>\n",
       "      <td>3.574056</td>\n",
       "      <td>3.566844</td>\n",
       "      <td>3.497635</td>\n",
       "      <td>0.359966</td>\n",
       "      <td>0.293249</td>\n",
       "      <td>0.196165</td>\n",
       "      <td>0.759965</td>\n",
       "      <td>0.386069</td>\n",
       "      <td>0.382787</td>\n",
       "      <td>0.381943</td>\n",
       "      <td>0.363784</td>\n",
       "      <td>1.0</td>\n",
       "    </tr>\n",
       "    <tr>\n",
       "      <th>3176830</th>\n",
       "      <td>2019-12-27</td>\n",
       "      <td>688399.SH</td>\n",
       "      <td>-0.275756</td>\n",
       "      <td>0.591346</td>\n",
       "      <td>7.464557</td>\n",
       "      <td>3.525012</td>\n",
       "      <td>3.567378</td>\n",
       "      <td>3.554471</td>\n",
       "      <td>3.522290</td>\n",
       "      <td>-1.592456</td>\n",
       "      <td>-0.632911</td>\n",
       "      <td>-0.447700</td>\n",
       "      <td>0.347131</td>\n",
       "      <td>0.405450</td>\n",
       "      <td>0.391244</td>\n",
       "      <td>0.387097</td>\n",
       "      <td>0.372732</td>\n",
       "      <td>0.0</td>\n",
       "    </tr>\n",
       "    <tr>\n",
       "      <th>3176831</th>\n",
       "      <td>2019-12-30</td>\n",
       "      <td>688399.SH</td>\n",
       "      <td>-0.383364</td>\n",
       "      <td>0.034544</td>\n",
       "      <td>3.466144</td>\n",
       "      <td>3.347475</td>\n",
       "      <td>3.496483</td>\n",
       "      <td>3.520911</td>\n",
       "      <td>3.523196</td>\n",
       "      <td>-0.410830</td>\n",
       "      <td>-0.886076</td>\n",
       "      <td>-0.590078</td>\n",
       "      <td>0.108410</td>\n",
       "      <td>0.329725</td>\n",
       "      <td>0.373331</td>\n",
       "      <td>0.376150</td>\n",
       "      <td>0.372772</td>\n",
       "      <td>1.0</td>\n",
       "    </tr>\n",
       "    <tr>\n",
       "      <th>3176832</th>\n",
       "      <td>2019-12-31</td>\n",
       "      <td>688399.SH</td>\n",
       "      <td>-0.327366</td>\n",
       "      <td>0.328809</td>\n",
       "      <td>5.546905</td>\n",
       "      <td>3.492569</td>\n",
       "      <td>3.458211</td>\n",
       "      <td>3.510406</td>\n",
       "      <td>3.538696</td>\n",
       "      <td>1.056421</td>\n",
       "      <td>-0.510549</td>\n",
       "      <td>-0.213567</td>\n",
       "      <td>0.454446</td>\n",
       "      <td>0.333721</td>\n",
       "      <td>0.355884</td>\n",
       "      <td>0.366881</td>\n",
       "      <td>0.372972</td>\n",
       "      <td>1.0</td>\n",
       "    </tr>\n",
       "  </tbody>\n",
       "</table>\n",
       "<p>3176833 rows × 18 columns</p>\n",
       "</div>"
      ],
      "text/plain": [
       "                 dt     kdcode    volume  turnover      turn      vwap  \\\n",
       "0        2016-01-04  000001.SZ  4.523495  4.509965 -0.370305  0.064544   \n",
       "1        2016-01-05  000001.SZ  5.411601  5.229687 -0.333054  0.040246   \n",
       "2        2016-01-06  000001.SZ  4.098086  3.990511 -0.388159  0.046357   \n",
       "3        2016-01-07  000001.SZ  1.063213  0.989032 -0.515473  0.022451   \n",
       "4        2016-01-08  000001.SZ  6.161607  5.803036 -0.301578  0.020267   \n",
       "...             ...        ...       ...       ...       ...       ...   \n",
       "3176828  2019-12-25  688399.SH -0.362615  0.165046  4.237612  3.559949   \n",
       "3176829  2019-12-26  688399.SH -0.341554  0.278710  5.017898  3.607271   \n",
       "3176830  2019-12-27  688399.SH -0.275756  0.591346  7.464557  3.525012   \n",
       "3176831  2019-12-30  688399.SH -0.383364  0.034544  3.466144  3.347475   \n",
       "3176832  2019-12-31  688399.SH -0.327366  0.328809  5.546905  3.492569   \n",
       "\n",
       "         vwap_mean3  vwap_mean5  vwap_mean10   pct_chg  chg_mean3  chg_mean5  \\\n",
       "0          0.064377    0.064083     0.063036 -2.155881  -3.487342  -4.358350   \n",
       "1          0.052216    0.051918     0.050869  0.238673  -1.550633  -1.937923   \n",
       "2          0.050202    0.049903     0.048853  0.446044  -0.793249  -0.991373   \n",
       "3          0.036157    0.042911     0.041859 -2.003287  -0.710970  -1.755996   \n",
       "4          0.029490    0.038279     0.037226  0.641678  -0.493671  -1.145352   \n",
       "...             ...         ...          ...       ...        ...        ...   \n",
       "3176828    3.543289    3.566013     3.473073  0.058690   0.067511  -0.966589   \n",
       "3176829    3.574056    3.566844     3.497635  0.359966   0.293249   0.196165   \n",
       "3176830    3.567378    3.554471     3.522290 -1.592456  -0.632911  -0.447700   \n",
       "3176831    3.496483    3.520911     3.523196 -0.410830  -0.886076  -0.590078   \n",
       "3176832    3.458211    3.510406     3.538696  1.056421  -0.510549  -0.213567   \n",
       "\n",
       "         chg_mean10   adj_open  open_mean3  open_mean5  open_mean10  label  \n",
       "0         -6.033728  18.997222   18.994527   18.993194    18.989172    0.0  \n",
       "1         -2.682873  17.793307   18.392643   18.391340    18.387424    1.0  \n",
       "2         -1.372463  18.040687   18.274465   18.273168    18.269272    0.0  \n",
       "3         -2.431012  18.024195   17.950162   18.209960    18.206075    0.0  \n",
       "4         -1.585633  17.694355   17.917182   18.106078    18.102212    0.0  \n",
       "...             ...        ...         ...         ...          ...    ...  \n",
       "3176828    1.046868   0.383472    0.382254    0.389854     0.355136    1.0  \n",
       "3176829    0.759965   0.386069    0.382787    0.381943     0.363784    1.0  \n",
       "3176830    0.347131   0.405450    0.391244    0.387097     0.372732    0.0  \n",
       "3176831    0.108410   0.329725    0.373331    0.376150     0.372772    1.0  \n",
       "3176832    0.454446   0.333721    0.355884    0.366881     0.372972    1.0  \n",
       "\n",
       "[3176833 rows x 18 columns]"
      ]
     },
     "execution_count": 7,
     "metadata": {},
     "output_type": "execute_result"
    }
   ],
   "source": [
    "train_df"
   ]
  },
  {
   "cell_type": "code",
   "execution_count": 8,
   "metadata": {},
   "outputs": [
    {
     "name": "stderr",
     "output_type": "stream",
     "text": [
      "100%|██████████| 3723/3723 [00:03<00:00, 1048.73it/s]\n"
     ]
    },
    {
     "data": {
      "text/plain": [
       "(3158231, 6, 18)"
      ]
     },
     "execution_count": 8,
     "metadata": {},
     "output_type": "execute_result"
    }
   ],
   "source": [
    "# 分割数据\n",
    "trainResult = []\n",
    "for i in tqdm(range(train_stocks_num)): # 遍历训练集所有股票的DataFrame\n",
    "    exec(\"trainData = train_df%s.values\" % i)\n",
    "    sequence_length = window + 1\n",
    "    for index in range(len(trainData) - sequence_length + 1):\n",
    "        trainResult.append(trainData[index: index + sequence_length])\n",
    "\n",
    "trainResult = np.array(trainResult)\n",
    "trainResult.shape"
   ]
  },
  {
   "cell_type": "code",
   "execution_count": 9,
   "metadata": {},
   "outputs": [
    {
     "data": {
      "text/plain": [
       "3158231"
      ]
     },
     "execution_count": 9,
     "metadata": {},
     "output_type": "execute_result"
    }
   ],
   "source": [
    "# 保存分割后每条数据的日期\n",
    "train_date = trainResult[:,-1,0]\n",
    "len(train_date)"
   ]
  },
  {
   "cell_type": "markdown",
   "metadata": {},
   "source": [
    "* **测试集**"
   ]
  },
  {
   "cell_type": "code",
   "execution_count": 10,
   "metadata": {},
   "outputs": [
    {
     "name": "stderr",
     "output_type": "stream",
     "text": [
      "100%|██████████| 4018/4018 [00:01<00:00, 2655.15it/s]\n"
     ]
    },
    {
     "data": {
      "text/plain": [
       "(1479513, 6, 18)"
      ]
     },
     "execution_count": 10,
     "metadata": {},
     "output_type": "execute_result"
    }
   ],
   "source": [
    "testResult = []\n",
    "for i in tqdm(range(test_stocks_num)): # 遍历训练集所有股票的DataFrame\n",
    "    exec(\"testData = test_df%s.values\" % i)\n",
    "    sequence_length = window + 1\n",
    "    for index in range(len(testData) - sequence_length + 1):\n",
    "        testResult.append(testData[index: index + sequence_length])\n",
    "\n",
    "testResult = np.array(testResult)\n",
    "testResult.shape"
   ]
  },
  {
   "cell_type": "code",
   "execution_count": 11,
   "metadata": {},
   "outputs": [
    {
     "data": {
      "text/plain": [
       "1479513"
      ]
     },
     "execution_count": 11,
     "metadata": {},
     "output_type": "execute_result"
    }
   ],
   "source": [
    "# 保存分割后每条数据的日期\n",
    "test_date = testResult[:,-1,0]\n",
    "len(test_date)"
   ]
  },
  {
   "cell_type": "markdown",
   "metadata": {},
   "source": [
    "**分割出X**"
   ]
  },
  {
   "cell_type": "code",
   "execution_count": 12,
   "metadata": {},
   "outputs": [
    {
     "name": "stdout",
     "output_type": "stream",
     "text": [
      "训练集X：(3158231, 5, 15)\n",
      "测试集X：(1479513, 5, 15)\n"
     ]
    }
   ],
   "source": [
    "X_train = trainResult[:, :-1, 2:-1]\n",
    "X_test = testResult[:, :-1, 2:-1]\n",
    "X_train = X_train.astype('float64')\n",
    "X_test = X_test.astype('float64')\n",
    "print(\"训练集X：\" + str(X_train.shape))\n",
    "print(\"测试集X：\" + str(X_test.shape))"
   ]
  },
  {
   "cell_type": "markdown",
   "metadata": {},
   "source": [
    "**分割出Y**"
   ]
  },
  {
   "cell_type": "code",
   "execution_count": 13,
   "metadata": {},
   "outputs": [
    {
     "data": {
      "text/plain": [
       "(3158231,)"
      ]
     },
     "execution_count": 13,
     "metadata": {},
     "output_type": "execute_result"
    }
   ],
   "source": [
    "Y_train = trainResult[:, window, -1]\n",
    "Y_train.shape"
   ]
  },
  {
   "cell_type": "code",
   "execution_count": 14,
   "metadata": {},
   "outputs": [
    {
     "data": {
      "text/plain": [
       "(1479513,)"
      ]
     },
     "execution_count": 14,
     "metadata": {},
     "output_type": "execute_result"
    }
   ],
   "source": [
    "Y_test = testResult[:, window, -1]\n",
    "Y_test.shape"
   ]
  },
  {
   "cell_type": "code",
   "execution_count": 15,
   "metadata": {},
   "outputs": [],
   "source": [
    "Y_train = Y_train.astype('float64')\n",
    "Y_test = Y_test.astype('float64')\n",
    "# Y_train[0:5]\n",
    "# Y_test[0:5]"
   ]
  },
  {
   "cell_type": "markdown",
   "metadata": {},
   "source": [
    "## 3. 模型构建与训练"
   ]
  },
  {
   "cell_type": "code",
   "execution_count": 32,
   "metadata": {},
   "outputs": [],
   "source": [
    "from sklearn.metrics import mean_squared_error\n",
    "from sklearn import metrics\n",
    "from math import sqrt\n",
    "from keras.models import Sequential\n",
    "from keras.layers.core import Dense, Dropout, Activation\n",
    "from keras.layers.recurrent import LSTM\n",
    "from keras.layers.recurrent import GRU\n",
    "from keras.callbacks import EarlyStopping\n",
    "import tensorflow as tf\n",
    "import os\n",
    "\n",
    "os.environ[\"CUDA_VISIBLE_DEVICES\"] = \"0\"\n",
    "for gpu in tf.config.experimental.list_physical_devices('GPU'):\n",
    "    tf.config.experimental.set_memory_growth(gpu, True)\n",
    "\n",
    "#建立、训练模型过程\n",
    "d = 0.01\n",
    "model = Sequential()#建立层次模型\n",
    "model.add(LSTM(64, input_shape=(window, feanum), return_sequences=True))#建立LSTM层\n",
    "model.add(Dropout(d))#建立的遗忘层\n",
    "model.add(LSTM(32, input_shape=(window, feanum), return_sequences=False))#建立LSTM层\n",
    "model.add(Dropout(d))#建立的遗忘层\n",
    "\n",
    "model.add(Dense(16,kernel_initializer='uniform',activation='relu'))   #建立全连接层     \n",
    "model.add(Dense(1, kernel_initializer = \"uniform\", activation = \"sigmoid\"))\n",
    "model.compile(loss='binary_crossentropy',optimizer='adam',metrics=['accuracy'])"
   ]
  },
  {
   "cell_type": "code",
   "execution_count": 33,
   "metadata": {},
   "outputs": [
    {
     "name": "stdout",
     "output_type": "stream",
     "text": [
      "Epoch 1/5\n",
      "5552/5552 [==============================] - 214s 38ms/step - loss: 0.6677 - accuracy: 0.5501 - val_loss: 0.6730 - val_accuracy: 0.5542\n",
      "Epoch 2/5\n",
      "5552/5552 [==============================] - 208s 37ms/step - loss: 0.6554 - accuracy: 0.5729 - val_loss: 0.6679 - val_accuracy: 0.5659\n",
      "Epoch 3/5\n",
      "5552/5552 [==============================] - 212s 38ms/step - loss: 0.6488 - accuracy: 0.5856 - val_loss: 0.6624 - val_accuracy: 0.5755\n",
      "Epoch 4/5\n",
      "5552/5552 [==============================] - 214s 39ms/step - loss: 0.6433 - accuracy: 0.5941 - val_loss: 0.6583 - val_accuracy: 0.5828\n",
      "Epoch 5/5\n",
      "5552/5552 [==============================] - 213s 38ms/step - loss: 0.6391 - accuracy: 0.5999 - val_loss: 0.6563 - val_accuracy: 0.5848\n",
      "测试集正确率: 0.5200623448391464\n",
      "Epoch 1/5\n",
      "5552/5552 [==============================] - 222s 40ms/step - loss: 0.6359 - accuracy: 0.6044 - val_loss: 0.6544 - val_accuracy: 0.5883\n",
      "Epoch 2/5\n",
      "5552/5552 [==============================] - 215s 39ms/step - loss: 0.6334 - accuracy: 0.6076 - val_loss: 0.6531 - val_accuracy: 0.5896\n",
      "Epoch 3/5\n",
      "5552/5552 [==============================] - 214s 39ms/step - loss: 0.6314 - accuracy: 0.6099 - val_loss: 0.6521 - val_accuracy: 0.5915\n",
      "Epoch 4/5\n",
      "5552/5552 [==============================] - 214s 39ms/step - loss: 0.6296 - accuracy: 0.6123 - val_loss: 0.6506 - val_accuracy: 0.5938\n",
      "Epoch 5/5\n",
      "5552/5552 [==============================] - 215s 39ms/step - loss: 0.6280 - accuracy: 0.6142 - val_loss: 0.6498 - val_accuracy: 0.5947\n",
      "测试集正确率: 0.5209450677351264\n",
      "Epoch 1/5\n",
      "5552/5552 [==============================] - 229s 41ms/step - loss: 0.6268 - accuracy: 0.6157 - val_loss: 0.6492 - val_accuracy: 0.5965\n",
      "Epoch 2/5\n",
      "5552/5552 [==============================] - 215s 39ms/step - loss: 0.6256 - accuracy: 0.6164 - val_loss: 0.6483 - val_accuracy: 0.5973\n",
      "Epoch 3/5\n",
      "5552/5552 [==============================] - 208s 38ms/step - loss: 0.6246 - accuracy: 0.6178 - val_loss: 0.6484 - val_accuracy: 0.5976\n",
      "Epoch 4/5\n",
      "5552/5552 [==============================] - 207s 37ms/step - loss: 0.6235 - accuracy: 0.6190 - val_loss: 0.6482 - val_accuracy: 0.5978\n",
      "Epoch 5/5\n",
      "5552/5552 [==============================] - 208s 38ms/step - loss: 0.6227 - accuracy: 0.6201 - val_loss: 0.6469 - val_accuracy: 0.5983\n",
      "测试集正确率: 0.5194472775839076\n",
      "Epoch 1/5\n",
      "5552/5552 [==============================] - 207s 37ms/step - loss: 0.6219 - accuracy: 0.6209 - val_loss: 0.6477 - val_accuracy: 0.5994\n",
      "Epoch 2/5\n",
      "5552/5552 [==============================] - 210s 38ms/step - loss: 0.6212 - accuracy: 0.6214 - val_loss: 0.6465 - val_accuracy: 0.6009\n",
      "Epoch 3/5\n",
      "5552/5552 [==============================] - 209s 38ms/step - loss: 0.6207 - accuracy: 0.6220 - val_loss: 0.6464 - val_accuracy: 0.5991\n",
      "Epoch 4/5\n",
      "5552/5552 [==============================] - 209s 38ms/step - loss: 0.6200 - accuracy: 0.6231 - val_loss: 0.6460 - val_accuracy: 0.6006\n",
      "Epoch 5/5\n",
      "5552/5552 [==============================] - 210s 38ms/step - loss: 0.6195 - accuracy: 0.6233 - val_loss: 0.6455 - val_accuracy: 0.5991\n",
      "测试集正确率: 0.5205124929622112\n",
      "Epoch 1/5\n",
      "5552/5552 [==============================] - 219s 39ms/step - loss: 0.6190 - accuracy: 0.6241 - val_loss: 0.6461 - val_accuracy: 0.5983\n",
      "Epoch 2/5\n",
      "5552/5552 [==============================] - 207s 37ms/step - loss: 0.6183 - accuracy: 0.6245 - val_loss: 0.6463 - val_accuracy: 0.6004\n",
      "Epoch 3/5\n",
      "5552/5552 [==============================] - 206s 37ms/step - loss: 0.6179 - accuracy: 0.6252 - val_loss: 0.6454 - val_accuracy: 0.6006\n",
      "Epoch 4/5\n",
      "5552/5552 [==============================] - 199s 36ms/step - loss: 0.6175 - accuracy: 0.6254 - val_loss: 0.6448 - val_accuracy: 0.6007\n",
      "Epoch 5/5\n",
      "5552/5552 [==============================] - 189s 34ms/step - loss: 0.6172 - accuracy: 0.6258 - val_loss: 0.6448 - val_accuracy: 0.6003\n",
      "测试集正确率: 0.5210038708683196\n",
      "Epoch 1/5\n",
      "5552/5552 [==============================] - 193s 35ms/step - loss: 0.6167 - accuracy: 0.6260 - val_loss: 0.6451 - val_accuracy: 0.6005\n",
      "Epoch 2/5\n",
      "5552/5552 [==============================] - 193s 35ms/step - loss: 0.6164 - accuracy: 0.6269 - val_loss: 0.6448 - val_accuracy: 0.6007\n",
      "Epoch 3/5\n",
      "5552/5552 [==============================] - 191s 34ms/step - loss: 0.6160 - accuracy: 0.6273 - val_loss: 0.6446 - val_accuracy: 0.6003\n",
      "Epoch 4/5\n",
      "5552/5552 [==============================] - 194s 35ms/step - loss: 0.6157 - accuracy: 0.6275 - val_loss: 0.6444 - val_accuracy: 0.6014\n",
      "Epoch 5/5\n",
      "5552/5552 [==============================] - 185s 33ms/step - loss: 0.6155 - accuracy: 0.6277 - val_loss: 0.6449 - val_accuracy: 0.6019\n",
      "测试集正确率: 0.5211775766755683\n"
     ]
    }
   ],
   "source": [
    "for i in range(6):\n",
    "    history = model.fit(X_train, Y_train, epochs = 5, batch_size = 512, validation_split = 0.1) #训练模型epochs次\n",
    "    # 在测试集上的预测\n",
    "    Y_test_predict=model.predict(X_test)[:,0]\n",
    "    Y_test=Y_test\n",
    "    # 计算测试集的准确率\n",
    "    test_predict = Y_test_predict.copy()\n",
    "    test_predict[Y_test_predict > 0.5] = 1\n",
    "    test_predict[Y_test_predict <= 0.5] = 0\n",
    "    result = metrics.accuracy_score(Y_test, test_predict)\n",
    "    print('测试集正确率:',result)"
   ]
  },
  {
   "cell_type": "code",
   "execution_count": 18,
   "metadata": {},
   "outputs": [
    {
     "name": "stdout",
     "output_type": "stream",
     "text": [
      "Model: \"sequential\"\n",
      "_________________________________________________________________\n",
      "Layer (type)                 Output Shape              Param #   \n",
      "=================================================================\n",
      "lstm (LSTM)                  (None, 5, 64)             20480     \n",
      "_________________________________________________________________\n",
      "dropout (Dropout)            (None, 5, 64)             0         \n",
      "_________________________________________________________________\n",
      "lstm_1 (LSTM)                (None, 32)                12416     \n",
      "_________________________________________________________________\n",
      "dropout_1 (Dropout)          (None, 32)                0         \n",
      "_________________________________________________________________\n",
      "dense (Dense)                (None, 16)                528       \n",
      "_________________________________________________________________\n",
      "dense_1 (Dense)              (None, 1)                 17        \n",
      "=================================================================\n",
      "Total params: 33,441\n",
      "Trainable params: 33,441\n",
      "Non-trainable params: 0\n",
      "_________________________________________________________________\n"
     ]
    }
   ],
   "source": [
    "#总结模型\n",
    "model.summary()"
   ]
  },
  {
   "cell_type": "markdown",
   "metadata": {},
   "source": [
    "## 4. 模型训练结果\n",
    "* 训练集"
   ]
  },
  {
   "cell_type": "code",
   "execution_count": 19,
   "metadata": {},
   "outputs": [],
   "source": [
    "#在训练集上的拟合结果\n",
    "Y_train_predict = model.predict(X_train)[:,0]\n",
    "Y_train = Y_train"
   ]
  },
  {
   "cell_type": "code",
   "execution_count": 20,
   "metadata": {},
   "outputs": [
    {
     "data": {
      "text/plain": [
       "Text(0.5, 1.0, 'Train Data')"
      ]
     },
     "execution_count": 20,
     "metadata": {},
     "output_type": "execute_result"
    },
    {
     "data": {
      "image/png": "[encoded data removed]",
      "text/plain": [
       "<Figure size 864x432 with 1 Axes>"
      ]
     },
     "metadata": {
      "needs_background": "light"
     },
     "output_type": "display_data"
    }
   ],
   "source": [
    "import matplotlib.pyplot as plt\n",
    "\n",
    "draw=pd.concat([pd.DataFrame(Y_train),pd.DataFrame(Y_train_predict)],axis=1)\n",
    "draw.iloc[:300,0].plot(figsize=(12,6))\n",
    "draw.iloc[:300,1].plot(figsize=(12,6))\n",
    "plt.legend(('real', 'predict'),loc='upper right',fontsize='15')\n",
    "plt.title(\"Train Data\",fontsize='30') #添加标题\n",
    "#展示在训练集上的表现"
   ]
  },
  {
   "cell_type": "markdown",
   "metadata": {},
   "source": [
    "* 测试集"
   ]
  },
  {
   "cell_type": "code",
   "execution_count": 21,
   "metadata": {},
   "outputs": [],
   "source": [
    "#在测试集上的预测\n",
    "Y_test_predict=model.predict(X_test)[:,0]\n",
    "Y_test=Y_test"
   ]
  },
  {
   "cell_type": "code",
   "execution_count": 22,
   "metadata": {},
   "outputs": [
    {
     "data": {
      "text/plain": [
       "Text(0.5, 1.0, 'Test Data')"
      ]
     },
     "execution_count": 22,
     "metadata": {},
     "output_type": "execute_result"
    },
    {
     "data": {
      "image/png": "[encoded data removed]",
      "text/plain": [
       "<Figure size 864x432 with 1 Axes>"
      ]
     },
     "metadata": {
      "needs_background": "light"
     },
     "output_type": "display_data"
    }
   ],
   "source": [
    "draw=pd.concat([pd.DataFrame(Y_test),pd.DataFrame(Y_test_predict)],axis=1);\n",
    "draw.iloc[:100,0].plot(figsize=(12,6))\n",
    "draw.iloc[:100,1].plot(figsize=(12,6))\n",
    "plt.legend(('real', 'predict'),loc='upper right',fontsize='15')\n",
    "plt.title(\"Test Data\",fontsize='30') #添加标题\n",
    "# 展示在测试集上的表现"
   ]
  },
  {
   "cell_type": "code",
   "execution_count": 23,
   "metadata": {},
   "outputs": [
    {
     "data": {
      "text/plain": [
       "('测试集正确率:', 0.5203076958431592)"
      ]
     },
     "execution_count": 23,
     "metadata": {},
     "output_type": "execute_result"
    }
   ],
   "source": [
    "txt = np.zeros(len(Y_test))\n",
    "test_predict = Y_test_predict.copy()\n",
    "test_predict[Y_test_predict > 0.5] = 1\n",
    "test_predict[Y_test_predict <= 0.5] = 0\n",
    "\n",
    "train_predict = Y_train_predict.copy()\n",
    "train_predict[Y_train_predict > 0.5] = 1\n",
    "train_predict[Y_train_predict <= 0.5] = 0\n",
    "\n",
    "result = metrics.accuracy_score(Y_test, test_predict)\n",
    "'测试集正确率:',result"
   ]
  },
  {
   "cell_type": "markdown",
   "metadata": {},
   "source": [
    "* 训练过程Loss,Accuracy的变化"
   ]
  },
  {
   "cell_type": "code",
   "execution_count": 24,
   "metadata": {},
   "outputs": [
    {
     "data": {
      "text/plain": [
       "<matplotlib.legend.Legend at 0x7faa45611208>"
      ]
     },
     "execution_count": 24,
     "metadata": {},
     "output_type": "execute_result"
    },
    {
     "data": {
      "image/png": "[encoded data removed]",
      "text/plain": [
       "<Figure size 432x288 with 1 Axes>"
      ]
     },
     "metadata": {
      "needs_background": "light"
     },
     "output_type": "display_data"
    }
   ],
   "source": [
    "acc = history.history['accuracy']\n",
    "loss = history.history['loss']\n",
    "epochs = range(1, len(acc) + 1)\n",
    "\n",
    "plt.plot(epochs, loss, 'g', label='Training loss')\n",
    "plt.plot(epochs, acc, 'r', label='Training acc')  \n",
    "plt.title('Training loss and  acc')\n",
    "plt.xlabel('Epochs')\n",
    "plt.ylabel('Acc/Loss')\n",
    "plt.legend()"
   ]
  },
  {
   "cell_type": "markdown",
   "metadata": {},
   "source": [
    "* ROC曲线以及AUC值"
   ]
  },
  {
   "cell_type": "code",
   "execution_count": 25,
   "metadata": {},
   "outputs": [
    {
     "data": {
      "image/png": "[encoded data removed]",
      "text/plain": [
       "<Figure size 432x288 with 1 Axes>"
      ]
     },
     "metadata": {
      "needs_background": "light"
     },
     "output_type": "display_data"
    }
   ],
   "source": [
    "# 测试集\n",
    "Y_test\n",
    "Y_test_predict\n",
    "fpr, tpr, thresholds = metrics.roc_curve(Y_test, Y_test_predict, pos_label=1)\n",
    "auc = metrics.auc(fpr, tpr)\n",
    "\n",
    "plt.figure()\n",
    "lw = 2\n",
    "plt.plot(fpr, tpr, color='darkorange',\n",
    "         lw=lw, label='ROC curve (area = %0.2f)' % auc)\n",
    "plt.plot([0, 1], [0, 1], color='navy', lw=lw, linestyle='--')\n",
    "plt.xlim([0.0, 1.0])\n",
    "plt.ylim([0.0, 1.05])\n",
    "plt.xlabel('False Positive Rate')\n",
    "plt.ylabel('True Positive Rate')\n",
    "plt.title('ROC of test set')\n",
    "plt.legend(loc=\"lower right\")\n",
    "plt.show()"
   ]
  },
  {
   "cell_type": "code",
   "execution_count": 26,
   "metadata": {},
   "outputs": [
    {
     "data": {
      "image/png": "[encoded data removed]",
      "text/plain": [
       "<Figure size 432x288 with 1 Axes>"
      ]
     },
     "metadata": {
      "needs_background": "light"
     },
     "output_type": "display_data"
    }
   ],
   "source": [
    "# 训练集\n",
    "fpr, tpr, thresholds = metrics.roc_curve(Y_train, Y_train_predict, pos_label=1)\n",
    "auc = metrics.auc(fpr, tpr)\n",
    "\n",
    "plt.figure()\n",
    "lw = 2\n",
    "plt.plot(fpr, tpr, color='darkorange',\n",
    "         lw=lw, label='ROC curve (auc = %0.2f)' % auc)\n",
    "plt.plot([0, 1], [0, 1], color='navy', lw=lw, linestyle='--')\n",
    "plt.xlim([0.0, 1.0])\n",
    "plt.ylim([0.0, 1.05])\n",
    "plt.xlabel('False Positive Rate')\n",
    "plt.ylabel('True Positive Rate')\n",
    "plt.title('ROC of train set')\n",
    "plt.legend(loc=\"lower right\")\n",
    "plt.show()"
   ]
  },
  {
   "cell_type": "markdown",
   "metadata": {},
   "source": [
    "* f1-score"
   ]
  },
  {
   "cell_type": "code",
   "execution_count": 27,
   "metadata": {},
   "outputs": [
    {
     "name": "stdout",
     "output_type": "stream",
     "text": [
      "0.6495067622014026\n",
      "0.5244788745794782\n"
     ]
    }
   ],
   "source": [
    "print(metrics.f1_score(Y_train, train_predict))\n",
    "print(metrics.f1_score(Y_test, test_predict))"
   ]
  },
  {
   "cell_type": "markdown",
   "metadata": {},
   "source": [
    "* 混淆矩阵"
   ]
  },
  {
   "cell_type": "code",
   "execution_count": 28,
   "metadata": {},
   "outputs": [
    {
     "data": {
      "text/plain": [
       "array([[ 911620,  567677],\n",
       "       [ 598448, 1080486]])"
      ]
     },
     "execution_count": 28,
     "metadata": {},
     "output_type": "execute_result"
    }
   ],
   "source": [
    "metrics.confusion_matrix(Y_train, train_predict)"
   ]
  },
  {
   "cell_type": "code",
   "execution_count": 29,
   "metadata": {},
   "outputs": [
    {
     "data": {
      "text/plain": [
       "array([[378412, 352227],\n",
       "       [357484, 391390]])"
      ]
     },
     "execution_count": 29,
     "metadata": {},
     "output_type": "execute_result"
    }
   ],
   "source": [
    "metrics.confusion_matrix(Y_test, test_predict)"
   ]
  },
  {
   "cell_type": "markdown",
   "metadata": {},
   "source": [
    "* 显示主要分类指标"
   ]
  },
  {
   "cell_type": "code",
   "execution_count": 30,
   "metadata": {},
   "outputs": [
    {
     "name": "stdout",
     "output_type": "stream",
     "text": [
      "              precision    recall  f1-score   support\n",
      "\n",
      "         0.0       0.60      0.62      0.61   1479297\n",
      "         1.0       0.66      0.64      0.65   1678934\n",
      "\n",
      "    accuracy                           0.63   3158231\n",
      "   macro avg       0.63      0.63      0.63   3158231\n",
      "weighted avg       0.63      0.63      0.63   3158231\n",
      "\n"
     ]
    }
   ],
   "source": [
    "print(metrics.classification_report(Y_train,train_predict))"
   ]
  },
  {
   "cell_type": "code",
   "execution_count": 31,
   "metadata": {},
   "outputs": [
    {
     "name": "stdout",
     "output_type": "stream",
     "text": [
      "              precision    recall  f1-score   support\n",
      "\n",
      "         0.0       0.51      0.52      0.52    730639\n",
      "         1.0       0.53      0.52      0.52    748874\n",
      "\n",
      "    accuracy                           0.52   1479513\n",
      "   macro avg       0.52      0.52      0.52   1479513\n",
      "weighted avg       0.52      0.52      0.52   1479513\n",
      "\n"
     ]
    }
   ],
   "source": [
    "print(metrics.classification_report(Y_test,test_predict))"
   ]
  },
  {
   "cell_type": "markdown",
   "metadata": {},
   "source": [
    "## 5. 保存模型"
   ]
  },
  {
   "cell_type": "code",
   "execution_count": 31,
   "metadata": {},
   "outputs": [],
   "source": [
    "model.save('./models/biClsModel_D3.h5')"
   ]
  },
  {
   "cell_type": "markdown",
   "metadata": {},
   "source": [
    "## 6. 保存预测结果"
   ]
  },
  {
   "cell_type": "code",
   "execution_count": 34,
   "metadata": {},
   "outputs": [
    {
     "data": {
      "text/plain": [
       "(1480414, 6, 10)"
      ]
     },
     "execution_count": 34,
     "metadata": {},
     "output_type": "execute_result"
    }
   ],
   "source": [
    "testResult.shape"
   ]
  },
  {
   "cell_type": "code",
   "execution_count": 35,
   "metadata": {},
   "outputs": [
    {
     "data": {
      "text/plain": [
       "array([['2020-01-09', '000001.SZ'],\n",
       "       ['2020-01-10', '000001.SZ'],\n",
       "       ['2020-01-13', '000001.SZ'],\n",
       "       ...,\n",
       "       ['2021-07-28', '688981.SH'],\n",
       "       ['2021-07-29', '688981.SH'],\n",
       "       ['2021-07-30', '688981.SH']], dtype=object)"
      ]
     },
     "execution_count": 35,
     "metadata": {},
     "output_type": "execute_result"
    }
   ],
   "source": [
    "testResult[:,-1,:2]"
   ]
  },
  {
   "cell_type": "code",
   "execution_count": 36,
   "metadata": {},
   "outputs": [
    {
     "data": {
      "text/plain": [
       "1480414"
      ]
     },
     "execution_count": 36,
     "metadata": {},
     "output_type": "execute_result"
    }
   ],
   "source": [
    "len(Y_test_predict)"
   ]
  },
  {
   "cell_type": "code",
   "execution_count": 37,
   "metadata": {},
   "outputs": [],
   "source": [
    "pred_df = pd.DataFrame(testResult[:, -1, :2], columns = ['dt', 'kdcode'])"
   ]
  },
  {
   "cell_type": "code",
   "execution_count": 38,
   "metadata": {},
   "outputs": [
    {
     "data": {
      "text/html": [
       "<div>\n",
       "<style scoped>\n",
       "    .dataframe tbody tr th:only-of-type {\n",
       "        vertical-align: middle;\n",
       "    }\n",
       "\n",
       "    .dataframe tbody tr th {\n",
       "        vertical-align: top;\n",
       "    }\n",
       "\n",
       "    .dataframe thead th {\n",
       "        text-align: right;\n",
       "    }\n",
       "</style>\n",
       "<table border=\"1\" class=\"dataframe\">\n",
       "  <thead>\n",
       "    <tr style=\"text-align: right;\">\n",
       "      <th></th>\n",
       "      <th>dt</th>\n",
       "      <th>kdcode</th>\n",
       "    </tr>\n",
       "  </thead>\n",
       "  <tbody>\n",
       "    <tr>\n",
       "      <th>0</th>\n",
       "      <td>2020-01-09</td>\n",
       "      <td>000001.SZ</td>\n",
       "    </tr>\n",
       "    <tr>\n",
       "      <th>1</th>\n",
       "      <td>2020-01-10</td>\n",
       "      <td>000001.SZ</td>\n",
       "    </tr>\n",
       "    <tr>\n",
       "      <th>2</th>\n",
       "      <td>2020-01-13</td>\n",
       "      <td>000001.SZ</td>\n",
       "    </tr>\n",
       "    <tr>\n",
       "      <th>3</th>\n",
       "      <td>2020-01-14</td>\n",
       "      <td>000001.SZ</td>\n",
       "    </tr>\n",
       "    <tr>\n",
       "      <th>4</th>\n",
       "      <td>2020-01-15</td>\n",
       "      <td>000001.SZ</td>\n",
       "    </tr>\n",
       "    <tr>\n",
       "      <th>...</th>\n",
       "      <td>...</td>\n",
       "      <td>...</td>\n",
       "    </tr>\n",
       "    <tr>\n",
       "      <th>1480409</th>\n",
       "      <td>2021-07-26</td>\n",
       "      <td>688981.SH</td>\n",
       "    </tr>\n",
       "    <tr>\n",
       "      <th>1480410</th>\n",
       "      <td>2021-07-27</td>\n",
       "      <td>688981.SH</td>\n",
       "    </tr>\n",
       "    <tr>\n",
       "      <th>1480411</th>\n",
       "      <td>2021-07-28</td>\n",
       "      <td>688981.SH</td>\n",
       "    </tr>\n",
       "    <tr>\n",
       "      <th>1480412</th>\n",
       "      <td>2021-07-29</td>\n",
       "      <td>688981.SH</td>\n",
       "    </tr>\n",
       "    <tr>\n",
       "      <th>1480413</th>\n",
       "      <td>2021-07-30</td>\n",
       "      <td>688981.SH</td>\n",
       "    </tr>\n",
       "  </tbody>\n",
       "</table>\n",
       "<p>1480414 rows × 2 columns</p>\n",
       "</div>"
      ],
      "text/plain": [
       "                 dt     kdcode\n",
       "0        2020-01-09  000001.SZ\n",
       "1        2020-01-10  000001.SZ\n",
       "2        2020-01-13  000001.SZ\n",
       "3        2020-01-14  000001.SZ\n",
       "4        2020-01-15  000001.SZ\n",
       "...             ...        ...\n",
       "1480409  2021-07-26  688981.SH\n",
       "1480410  2021-07-27  688981.SH\n",
       "1480411  2021-07-28  688981.SH\n",
       "1480412  2021-07-29  688981.SH\n",
       "1480413  2021-07-30  688981.SH\n",
       "\n",
       "[1480414 rows x 2 columns]"
      ]
     },
     "execution_count": 38,
     "metadata": {},
     "output_type": "execute_result"
    }
   ],
   "source": [
    "pred_df"
   ]
  },
  {
   "cell_type": "code",
   "execution_count": 39,
   "metadata": {},
   "outputs": [],
   "source": [
    "pred_df['score'] = Y_test_predict"
   ]
  },
  {
   "cell_type": "code",
   "execution_count": 40,
   "metadata": {},
   "outputs": [
    {
     "data": {
      "text/html": [
       "<div>\n",
       "<style scoped>\n",
       "    .dataframe tbody tr th:only-of-type {\n",
       "        vertical-align: middle;\n",
       "    }\n",
       "\n",
       "    .dataframe tbody tr th {\n",
       "        vertical-align: top;\n",
       "    }\n",
       "\n",
       "    .dataframe thead th {\n",
       "        text-align: right;\n",
       "    }\n",
       "</style>\n",
       "<table border=\"1\" class=\"dataframe\">\n",
       "  <thead>\n",
       "    <tr style=\"text-align: right;\">\n",
       "      <th></th>\n",
       "      <th>dt</th>\n",
       "      <th>kdcode</th>\n",
       "      <th>score</th>\n",
       "    </tr>\n",
       "  </thead>\n",
       "  <tbody>\n",
       "    <tr>\n",
       "      <th>0</th>\n",
       "      <td>2020-01-09</td>\n",
       "      <td>000001.SZ</td>\n",
       "      <td>0.483715</td>\n",
       "    </tr>\n",
       "    <tr>\n",
       "      <th>1</th>\n",
       "      <td>2020-01-10</td>\n",
       "      <td>000001.SZ</td>\n",
       "      <td>0.471338</td>\n",
       "    </tr>\n",
       "    <tr>\n",
       "      <th>2</th>\n",
       "      <td>2020-01-13</td>\n",
       "      <td>000001.SZ</td>\n",
       "      <td>0.486802</td>\n",
       "    </tr>\n",
       "    <tr>\n",
       "      <th>3</th>\n",
       "      <td>2020-01-14</td>\n",
       "      <td>000001.SZ</td>\n",
       "      <td>0.474339</td>\n",
       "    </tr>\n",
       "    <tr>\n",
       "      <th>4</th>\n",
       "      <td>2020-01-15</td>\n",
       "      <td>000001.SZ</td>\n",
       "      <td>0.502819</td>\n",
       "    </tr>\n",
       "    <tr>\n",
       "      <th>...</th>\n",
       "      <td>...</td>\n",
       "      <td>...</td>\n",
       "      <td>...</td>\n",
       "    </tr>\n",
       "    <tr>\n",
       "      <th>1480409</th>\n",
       "      <td>2021-07-26</td>\n",
       "      <td>688981.SH</td>\n",
       "      <td>0.507319</td>\n",
       "    </tr>\n",
       "    <tr>\n",
       "      <th>1480410</th>\n",
       "      <td>2021-07-27</td>\n",
       "      <td>688981.SH</td>\n",
       "      <td>0.456499</td>\n",
       "    </tr>\n",
       "    <tr>\n",
       "      <th>1480411</th>\n",
       "      <td>2021-07-28</td>\n",
       "      <td>688981.SH</td>\n",
       "      <td>0.475377</td>\n",
       "    </tr>\n",
       "    <tr>\n",
       "      <th>1480412</th>\n",
       "      <td>2021-07-29</td>\n",
       "      <td>688981.SH</td>\n",
       "      <td>0.511370</td>\n",
       "    </tr>\n",
       "    <tr>\n",
       "      <th>1480413</th>\n",
       "      <td>2021-07-30</td>\n",
       "      <td>688981.SH</td>\n",
       "      <td>0.470994</td>\n",
       "    </tr>\n",
       "  </tbody>\n",
       "</table>\n",
       "<p>1480414 rows × 3 columns</p>\n",
       "</div>"
      ],
      "text/plain": [
       "                 dt     kdcode     score\n",
       "0        2020-01-09  000001.SZ  0.483715\n",
       "1        2020-01-10  000001.SZ  0.471338\n",
       "2        2020-01-13  000001.SZ  0.486802\n",
       "3        2020-01-14  000001.SZ  0.474339\n",
       "4        2020-01-15  000001.SZ  0.502819\n",
       "...             ...        ...       ...\n",
       "1480409  2021-07-26  688981.SH  0.507319\n",
       "1480410  2021-07-27  688981.SH  0.456499\n",
       "1480411  2021-07-28  688981.SH  0.475377\n",
       "1480412  2021-07-29  688981.SH  0.511370\n",
       "1480413  2021-07-30  688981.SH  0.470994\n",
       "\n",
       "[1480414 rows x 3 columns]"
      ]
     },
     "execution_count": 40,
     "metadata": {},
     "output_type": "execute_result"
    }
   ],
   "source": [
    "pred_df"
   ]
  },
  {
   "cell_type": "code",
   "execution_count": 41,
   "metadata": {},
   "outputs": [
    {
     "data": {
      "text/html": [
       "<div>\n",
       "<style scoped>\n",
       "    .dataframe tbody tr th:only-of-type {\n",
       "        vertical-align: middle;\n",
       "    }\n",
       "\n",
       "    .dataframe tbody tr th {\n",
       "        vertical-align: top;\n",
       "    }\n",
       "\n",
       "    .dataframe thead th {\n",
       "        text-align: right;\n",
       "    }\n",
       "</style>\n",
       "<table border=\"1\" class=\"dataframe\">\n",
       "  <thead>\n",
       "    <tr style=\"text-align: right;\">\n",
       "      <th></th>\n",
       "      <th>kdcode</th>\n",
       "      <th>dt</th>\n",
       "      <th>score</th>\n",
       "    </tr>\n",
       "  </thead>\n",
       "  <tbody>\n",
       "    <tr>\n",
       "      <th>0</th>\n",
       "      <td>000001.SZ</td>\n",
       "      <td>2020-01-09</td>\n",
       "      <td>0.483715</td>\n",
       "    </tr>\n",
       "    <tr>\n",
       "      <th>1</th>\n",
       "      <td>000001.SZ</td>\n",
       "      <td>2020-01-10</td>\n",
       "      <td>0.471338</td>\n",
       "    </tr>\n",
       "    <tr>\n",
       "      <th>2</th>\n",
       "      <td>000001.SZ</td>\n",
       "      <td>2020-01-13</td>\n",
       "      <td>0.486802</td>\n",
       "    </tr>\n",
       "    <tr>\n",
       "      <th>3</th>\n",
       "      <td>000001.SZ</td>\n",
       "      <td>2020-01-14</td>\n",
       "      <td>0.474339</td>\n",
       "    </tr>\n",
       "    <tr>\n",
       "      <th>4</th>\n",
       "      <td>000001.SZ</td>\n",
       "      <td>2020-01-15</td>\n",
       "      <td>0.502819</td>\n",
       "    </tr>\n",
       "    <tr>\n",
       "      <th>...</th>\n",
       "      <td>...</td>\n",
       "      <td>...</td>\n",
       "      <td>...</td>\n",
       "    </tr>\n",
       "    <tr>\n",
       "      <th>1480409</th>\n",
       "      <td>688981.SH</td>\n",
       "      <td>2021-07-26</td>\n",
       "      <td>0.507319</td>\n",
       "    </tr>\n",
       "    <tr>\n",
       "      <th>1480410</th>\n",
       "      <td>688981.SH</td>\n",
       "      <td>2021-07-27</td>\n",
       "      <td>0.456499</td>\n",
       "    </tr>\n",
       "    <tr>\n",
       "      <th>1480411</th>\n",
       "      <td>688981.SH</td>\n",
       "      <td>2021-07-28</td>\n",
       "      <td>0.475377</td>\n",
       "    </tr>\n",
       "    <tr>\n",
       "      <th>1480412</th>\n",
       "      <td>688981.SH</td>\n",
       "      <td>2021-07-29</td>\n",
       "      <td>0.511370</td>\n",
       "    </tr>\n",
       "    <tr>\n",
       "      <th>1480413</th>\n",
       "      <td>688981.SH</td>\n",
       "      <td>2021-07-30</td>\n",
       "      <td>0.470994</td>\n",
       "    </tr>\n",
       "  </tbody>\n",
       "</table>\n",
       "<p>1480414 rows × 3 columns</p>\n",
       "</div>"
      ],
      "text/plain": [
       "            kdcode          dt     score\n",
       "0        000001.SZ  2020-01-09  0.483715\n",
       "1        000001.SZ  2020-01-10  0.471338\n",
       "2        000001.SZ  2020-01-13  0.486802\n",
       "3        000001.SZ  2020-01-14  0.474339\n",
       "4        000001.SZ  2020-01-15  0.502819\n",
       "...            ...         ...       ...\n",
       "1480409  688981.SH  2021-07-26  0.507319\n",
       "1480410  688981.SH  2021-07-27  0.456499\n",
       "1480411  688981.SH  2021-07-28  0.475377\n",
       "1480412  688981.SH  2021-07-29  0.511370\n",
       "1480413  688981.SH  2021-07-30  0.470994\n",
       "\n",
       "[1480414 rows x 3 columns]"
      ]
     },
     "execution_count": 41,
     "metadata": {},
     "output_type": "execute_result"
    }
   ],
   "source": [
    "pred_df = pred_df[['kdcode', 'dt', 'score']]\n",
    "pred_df"
   ]
  },
  {
   "cell_type": "code",
   "execution_count": 42,
   "metadata": {},
   "outputs": [
    {
     "data": {
      "text/plain": [
       "378"
      ]
     },
     "execution_count": 42,
     "metadata": {},
     "output_type": "execute_result"
    }
   ],
   "source": [
    "all_date = pred_df[\"dt\"].unique()\n",
    "all_date = all_date[:-8]\n",
    "len(all_date)"
   ]
  },
  {
   "cell_type": "code",
   "execution_count": 44,
   "metadata": {},
   "outputs": [
    {
     "name": "stderr",
     "output_type": "stream",
     "text": [
      "100%|██████████| 378/378 [00:28<00:00, 13.46it/s]\n"
     ]
    }
   ],
   "source": [
    "for date_i in tqdm(all_date):\n",
    "    tmp_df = pred_df[pred_df['dt'] == date_i]\n",
    "    save_path = '../result4tiho/biClsModel_D3/prediction/' + str(date_i) + '.csv'\n",
    "    tmp_df.set_index(tmp_df['kdcode'])\n",
    "    tmp_df.to_csv(save_path, index = False)"
   ]
  },
  {
   "cell_type": "markdown",
   "metadata": {},
   "source": [
    "## 7. 实验记录\n",
    "* 属性：全部\n",
    "* d = 0.001\n",
    "| epochs | 训练集准确率 | 测试集准确率       |\n",
    "| ------ | ------------ | ------------------ |\n",
    "| 5      | 0.5846       | 0.5221880443091748 |\n",
    "| 10     | 0.5961       | 0.5201698126342925 |\n",
    "| 15     | 0.5995       | 0.5204259780076281 |\n",
    "| 20     | 0.6012       | 0.5212553049550764 |\n",
    "| 25     | 0.6015       | 0.5205253350257821 |\n",
    "| 30     | 0.6022       | 0.5203076958431592 |\n",
    "\n",
    "* 属性：全部\n",
    "* d = 0.01\n"
   ]
  }
 ],
 "metadata": {
  "kernelspec": {
   "display_name": "env4tiho_py36",
   "language": "python",
   "name": "env4tiho_py36"
  },
  "language_info": {
   "codemirror_mode": {
    "name": "ipython",
    "version": 3
   },
   "file_extension": ".py",
   "mimetype": "text/x-python",
   "name": "python",
   "nbconvert_exporter": "python",
   "pygments_lexer": "ipython3",
   "version": "3.6.5"
  }
 },
 "nbformat": 4,
 "nbformat_minor": 4
}
